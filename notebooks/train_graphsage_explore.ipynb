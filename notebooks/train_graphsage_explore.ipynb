{
 "cells": [
  {
   "cell_type": "code",
   "execution_count": 80,
   "metadata": {},
   "outputs": [],
   "source": [
    "import argparse\n",
    "import os\n",
    "import sys\n",
    "from functools import partial\n",
    "from tqdm import tqdm\n",
    "\n",
    "# Simulate having cfg available by loading in hydra config as dict\n",
    "import yaml\n",
    "try:\n",
    "    from yaml import CLoader as Loader, CDumper as Dumper\n",
    "except ImportError:\n",
    "    from yaml import Loader, Dumper\n",
    "\n",
    "import dgl\n",
    "import dgl.function as fn\n",
    "import hydra\n",
    "import numpy as np\n",
    "import torch\n",
    "import torch.nn as nn\n",
    "import torch.nn.functional as F\n",
    "from torchmetrics import MeanMetric\n",
    "from pytorch_lightning import LightningDataModule, LightningModule, Trainer\n",
    "from pytorch_lightning.callbacks import ModelCheckpoint\n",
    "\n",
    "user_net_id = os.getlogin()\n",
    "home_path = '/scratch/' + user_net_id + '/projects/NYU-Zillow-Capstone-2022-Team-A'\n",
    "if home_path not in sys.path:\n",
    "    sys.path.append('/scratch/' + user_net_id + '/projects/NYU-Zillow-Capstone-2022-Team-A')\n",
    "\n",
    "from src.datamodules.negative_sampler import NegativeSampler\n",
    "from src.model.SAGE import SAGE\n"
   ]
  },
  {
   "cell_type": "code",
   "execution_count": 10,
   "metadata": {},
   "outputs": [],
   "source": [
    "# Simulate having cfg available by loading in hydra config as dict\n",
    "from types import SimpleNamespace\n",
    "\n",
    "class NestedNamespace(SimpleNamespace):\n",
    "    def __init__(self, dictionary, **kwargs):\n",
    "        super().__init__(**kwargs)\n",
    "        for key, value in dictionary.items():\n",
    "            if isinstance(value, dict):\n",
    "                self.__setattr__(key, NestedNamespace(value))\n",
    "            else:\n",
    "                self.__setattr__(key, value)\n",
    "\n",
    "cfg = NestedNamespace(yaml.load(open('../conf/config.yaml'), Loader=Loader))\n",
    "\n",
    "import json\n",
    "csv_dataset_root = '../' + cfg.data.zillow_root\n",
    "modal_node_ids = json.load(open(f'{csv_dataset_root}/modal_node_ids.json', 'r'))"
   ]
  },
  {
   "cell_type": "markdown",
   "metadata": {},
   "source": [
    "## NOTEBOOK ORGANIZATION:\n",
    "This notebook is for exploring and understanding train_graphsage.py. Given that main() runs train(cfg), where cfg is passed from Hydra, we can explore the notebook by deep diving into each function, class, and procedure that goes into train(). The train() function is provided below, and subsequent cells investigate intermediate outputs of its function calls and other important code blocks."
   ]
  },
  {
   "cell_type": "markdown",
   "metadata": {},
   "source": [
    "## Step 1: Exploring DataModule Class\n",
    "\n",
    "Below we show the DataModule class definition and dependencies, then execute lines of DataModule, step by step, and examine outputs to understand intermediate values and what's going on overall."
   ]
  },
  {
   "cell_type": "code",
   "execution_count": 101,
   "metadata": {},
   "outputs": [],
   "source": [
    "def to_bidirected_with_reverse_mapping(g):\n",
    "    \"\"\"Makes a graph bidirectional, and returns a mapping array ``mapping`` where ``mapping[i]``\n",
    "    is the reverse edge of edge ID ``i``. Does not work with graphs that have self-loops.\n",
    "    \"\"\"\n",
    "    g_simple, mapping = dgl.to_simple(\n",
    "        dgl.add_reverse_edges(g), return_counts=\"count\", writeback_mapping=True\n",
    "    )\n",
    "    c = g_simple.edata[\"count\"]\n",
    "    num_edges = g.num_edges()\n",
    "    mapping_offset = torch.zeros(g_simple.num_edges() + 1, dtype=g_simple.idtype)\n",
    "    mapping_offset[1:] = c.cumsum(0)\n",
    "    idx = mapping.argsort()\n",
    "    idx_uniq = idx[mapping_offset[:-1]]\n",
    "    reverse_idx = torch.where(\n",
    "        idx_uniq >= num_edges, idx_uniq - num_edges, idx_uniq + num_edges\n",
    "    )\n",
    "    reverse_mapping = mapping[reverse_idx]\n",
    "    # sanity check\n",
    "    src1, dst1 = g_simple.edges()\n",
    "    src2, dst2 = g_simple.find_edges(reverse_mapping)\n",
    "    assert torch.equal(src1, dst2)\n",
    "    assert torch.equal(src2, dst1)\n",
    "    return g_simple, reverse_mapping\n",
    "\n",
    "# def exclude_edges(eids, reverse_eids, g, max_img_id, device):\n",
    "#     src, dst = g.find_edges(eids)\n",
    "#     eids_exclude = []\n",
    "#     for i in range(len(eids)):\n",
    "#         if (src[i]>max_img_id):\n",
    "#             eids_exclude.append(eids[i])\n",
    "#     eids_exclude = torch.cat((reverse_eids, torch.Tensor(eids_exclude).type(torch.LongTensor).to(device)))\n",
    "    \n",
    "#     return(eids_exclude)\n",
    "\n",
    "class NegativeSamplerTest(object):\n",
    "    def __init__(self, g, k, max_img_id, neg_share=False):\n",
    "        self.weights = g.in_degrees().float() ** 0.75\n",
    "        self.k = k\n",
    "        self.neg_share = neg_share\n",
    "        self.max_img_id = max_img_id\n",
    "\n",
    "    def __call__(self, g, eids):\n",
    "        src, _ = g.find_edges(eids)\n",
    "        img_node_mask = src <= self.max_img_id\n",
    "        src = src[img_node_mask]\n",
    "        n = len(src)\n",
    "\n",
    "        if self.neg_share and n % self.k == 0:\n",
    "            dst = self.weights.multinomial(n, replacement=True)\n",
    "            dst = dst.view(-1, 1, self.k).expand(-1, self.k, -1).flatten()\n",
    "        else:\n",
    "            dst = self.weights.multinomial(n * self.k, replacement=True)\n",
    "            \n",
    "        src = src.repeat_interleave(self.k)\n",
    "        return src, dst\n",
    "\n",
    "class DataModule(LightningDataModule):\n",
    "    def __init__(\n",
    "        self,\n",
    "        csv_dataset_root,\n",
    "        modal_node_ids_file,\n",
    "        data_cpu=False,\n",
    "        fan_out=[10, 25],\n",
    "        device=\"cpu\",\n",
    "        batch_size=1024,\n",
    "        num_workers=4,\n",
    "        force_reload=False,\n",
    "    ):\n",
    "        super().__init__()\n",
    "        self.save_hyperparameters()\n",
    "        dataset = dgl.data.CSVDataset(csv_dataset_root, force_reload=force_reload)\n",
    "        g = dataset[0]\n",
    "        g_bid, reverse_eids = to_bidirected_with_reverse_mapping(g)\n",
    "        # g = g.formats([\"csc\"])\n",
    "        g_bid = g_bid.to(device)\n",
    "        g = g.to(device)\n",
    "        reverse_eids = reverse_eids.to(device)\n",
    "        # seed_edges = torch.arange(g.num_edges()).to(device)\n",
    "\n",
    "        max_img_id = max(json.load(open(modal_node_ids_file, 'r'))['images'])\n",
    "\n",
    "        train_nid = torch.nonzero(g_bid.ndata[\"train_mask\"], as_tuple=True)[0].to(device)\n",
    "        val_nid = torch.nonzero(g_bid.ndata[\"val_mask\"], as_tuple=True)[0].to(device)\n",
    "        test_nid = torch.nonzero(\n",
    "            ~(g_bid.ndata[\"train_mask\"] | g_bid.ndata[\"val_mask\"]), as_tuple=True\n",
    "        )[0].to(device)\n",
    "\n",
    "        sampler = dgl.dataloading.MultiLayerNeighborSampler(\n",
    "            [int(_) for _ in fan_out], prefetch_node_feats=[\"feat\"]\n",
    "        )\n",
    "\n",
    "        self.g = g\n",
    "        self.g_bid = g_bid\n",
    "        self.train_nid, self.val_nid, self.test_nid = train_nid, val_nid, test_nid\n",
    "        self.sampler = sampler\n",
    "        self.device = device\n",
    "        self.batch_size = batch_size\n",
    "        self.num_workers = num_workers\n",
    "        self.in_dim = g_bid.ndata[\"feat\"].shape[1]\n",
    "        self.reverse_eids = reverse_eids\n",
    "        self.max_img_id = max_img_id\n",
    "\n",
    "\n",
    "    def train_dataloader(self):\n",
    "        #exclude_edges_func = partial(exclude_edges, reverse_eids=self.reverse_eids, g=self.g_bid, max_img_id=self.max_img_id, device=self.device)\n",
    "        \n",
    "        sampler = dgl.dataloading.as_edge_prediction_sampler(\n",
    "            self.sampler,\n",
    "            #exclude=exclude_edges_func,\n",
    "            exclude='reverse_id',\n",
    "            reverse_eids=self.reverse_eids,\n",
    "            negative_sampler=NegativeSampler(self.g, 5, self.max_img_id)\n",
    "            # negative_sampler=dgl.dataloading.negative_sampler.PerSourceUniform(5),\n",
    "        )\n",
    "\n",
    "        return dgl.dataloading.DataLoader(\n",
    "            self.g_bid,\n",
    "            self.train_nid,\n",
    "            sampler,\n",
    "            device=self.device,\n",
    "            batch_size=self.batch_size,\n",
    "            shuffle=True,\n",
    "            drop_last=False,\n",
    "            # num_workers=self.num_workers,\n",
    "        )\n",
    "\n",
    "    def val_dataloader(self):\n",
    "        #exclude_edges_func = partial(exclude_edges, reverse_eids=self.reverse_eids, g=self.g_bid, max_img_id=self.max_img_id, device=self.device)\n",
    "        \n",
    "        sampler = dgl.dataloading.as_edge_prediction_sampler(\n",
    "            self.sampler,\n",
    "            #exclude=exclude_edges_func,\n",
    "            exclude='reverse_id',\n",
    "            reverse_eids=self.reverse_eids,\n",
    "            negative_sampler=NegativeSampler(self.g, 3, self.max_img_id)\n",
    "            # negative_sampler=dgl.dataloading.negative_sampler.PerSourceUniform(5),\n",
    "        )\n",
    "\n",
    "        return dgl.dataloading.DataLoader(\n",
    "            self.g_bid,\n",
    "            self.val_nid,\n",
    "            sampler,\n",
    "            device=self.device,\n",
    "            batch_size=self.batch_size,\n",
    "            shuffle=True,\n",
    "            drop_last=False,\n",
    "            # num_workers=self.num_workers,\n",
    "        )\n",
    "    \n",
    "    def test_dataloader(self):\n",
    "        sampler = dgl.dataloading.as_edge_prediction_sampler(\n",
    "            self.sampler,\n",
    "            #exclude=exclude_edges_func,\n",
    "            exclude='reverse_id',\n",
    "            reverse_eids=self.reverse_eids,\n",
    "            negative_sampler=NegativeSampler(self.g, 2, self.max_img_id)\n",
    "            # negative_sampler=dgl.dataloading.negative_sampler.PerSourceUniform(5),\n",
    "        )\n",
    "\n",
    "        return dgl.dataloading.DataLoader(\n",
    "            self.g_bid,\n",
    "            self.test_nid,\n",
    "            sampler,\n",
    "            device=self.device,\n",
    "            batch_size=self.batch_size,\n",
    "            shuffle=True,\n",
    "            drop_last=False,\n",
    "            # num_workers=self.num_workers,\n",
    "        )\n"
   ]
  },
  {
   "cell_type": "code",
   "execution_count": 65,
   "metadata": {},
   "outputs": [
    {
     "name": "stdout",
     "output_type": "stream",
     "text": [
      "Done loading data from cached files.\n"
     ]
    }
   ],
   "source": [
    "# Exploring DataModule class\n",
    "csv_dataset_root = '../' + cfg.data.zillow_root\n",
    "force_reload=False\n",
    "dataset = dgl.data.CSVDataset(csv_dataset_root, force_reload=force_reload)\n",
    "g = dataset[0]"
   ]
  },
  {
   "cell_type": "markdown",
   "metadata": {},
   "source": [
    "## Step 2: Exploring SAGELightning Class\n",
    "\n",
    "This is our model that we will train on graph data"
   ]
  },
  {
   "cell_type": "code",
   "execution_count": 92,
   "metadata": {},
   "outputs": [],
   "source": [
    "class ScorePredictor(nn.Module):\n",
    "    def forward(self, edge_subgraph, x):\n",
    "        with edge_subgraph.local_scope():\n",
    "            edge_subgraph.ndata[\"h\"] = x\n",
    "            edge_subgraph.apply_edges(fn.u_dot_v(\"h\", \"h\", \"score\"))\n",
    "            return edge_subgraph.edata[\"score\"]\n",
    "\n",
    "\n",
    "class SAGELightning(LightningModule):\n",
    "    def __init__(\n",
    "        self,\n",
    "        in_dim,\n",
    "        h_dim,\n",
    "        n_layers=3,\n",
    "        activation=F.relu,\n",
    "        dropout=0,\n",
    "        sage_conv_method=\"mean\",\n",
    "        lr=0.0005,\n",
    "        batch_size=1024,\n",
    "    ):\n",
    "        super().__init__()\n",
    "        self.module = SAGE(\n",
    "            in_dim, h_dim, n_layers, activation, dropout, sage_conv_method\n",
    "        )\n",
    "        self.lr = lr\n",
    "        self.predictor = ScorePredictor()\n",
    "        self.batch_size = batch_size\n",
    "        self.save_hyperparameters() # specify that the module should save hyperparameters on each training loop\n",
    "\n",
    "        self.train_loss = MeanMetric() # aggregate loss per batch using mean\n",
    "        self.val_positive_distance = MeanMetric()\n",
    "        self.val_negative_distance = MeanMetric()\n",
    "\n",
    "    def forward(self, graph, blocks, x):\n",
    "        self.module(graph, blocks, x) # Just runs SAGE() model defined in SAGE.py\n",
    "\n",
    "    def training_step(self, batch, batch_idx):\n",
    "        input_nodes, pos_graph, neg_graph, blocks = batch\n",
    "        x = blocks[0].srcdata[\"feat\"]\n",
    "        logits = self.module(blocks, x)\n",
    "        pos_score = self.predictor(pos_graph, logits)\n",
    "        neg_score = self.predictor(neg_graph, logits)\n",
    "\n",
    "        score = torch.cat([pos_score, neg_score])\n",
    "        pos_label = torch.ones_like(pos_score)\n",
    "        neg_label = torch.zeros_like(neg_score)\n",
    "        labels = torch.cat([pos_label, neg_label])\n",
    "        loss = F.binary_cross_entropy_with_logits(score, labels)\n",
    "        self.train_loss(loss)\n",
    "        self.log(\n",
    "            \"train_loss\",\n",
    "            self.train_loss,\n",
    "            prog_bar=True,\n",
    "            on_step=True,\n",
    "            on_epoch=False,\n",
    "            batch_size=self.batch_size,\n",
    "        )\n",
    "\n",
    "        return loss\n",
    "\n",
    "    def validation_step(self, batch, batch_idx):\n",
    "        input_nodes, pos_graph, neg_graph, blocks = batch\n",
    "        x = blocks[0].srcdata[\"feat\"]\n",
    "        logits = self.module(blocks, x)\n",
    "        pos_score = self.predictor(pos_graph, logits)\n",
    "        neg_score = self.predictor(neg_graph, logits)\n",
    "\n",
    "        self.val_positive_distance(pos_score)\n",
    "        self.val_negative_distance(neg_score)\n",
    "\n",
    "        self.log(\n",
    "            \"mean_val_posititve_distance\",\n",
    "            self.val_positive_distance,\n",
    "            prog_bar=True,\n",
    "            on_step=False,\n",
    "            on_epoch=True,\n",
    "            batch_size=self.batch_size,\n",
    "        )\n",
    "        self.log(\n",
    "            \"mean_val_negative_distance\",\n",
    "            self.val_negative_distance,\n",
    "            prog_bar=True,\n",
    "            on_step=False,\n",
    "            on_epoch=True,\n",
    "            batch_size=self.batch_size,\n",
    "        )\n",
    "\n",
    "    def configure_optimizers(self):\n",
    "        optimizer = torch.optim.Adam(self.parameters(), lr=self.lr)\n",
    "        return optimizer"
   ]
  },
  {
   "cell_type": "code",
   "execution_count": 93,
   "metadata": {},
   "outputs": [],
   "source": [
    "if not torch.cuda.is_available():\n",
    "    device = \"cpu\"\n",
    "else:\n",
    "    device = \"cuda\""
   ]
  },
  {
   "cell_type": "code",
   "execution_count": 102,
   "metadata": {},
   "outputs": [
    {
     "name": "stdout",
     "output_type": "stream",
     "text": [
      "Done loading data from cached files.\n"
     ]
    },
    {
     "name": "stderr",
     "output_type": "stream",
     "text": [
      "GPU available: True (cuda), used: True\n",
      "TPU available: False, using: 0 TPU cores\n",
      "IPU available: False, using: 0 IPUs\n",
      "HPU available: False, using: 0 HPUs\n",
      "LOCAL_RANK: 0 - CUDA_VISIBLE_DEVICES: [0]\n",
      "\n",
      "  | Name                  | Type           | Params\n",
      "---------------------------------------------------------\n",
      "0 | module                | SAGE           | 1.6 M \n",
      "1 | predictor             | ScorePredictor | 0     \n",
      "2 | train_loss            | MeanMetric     | 0     \n",
      "3 | val_positive_distance | MeanMetric     | 0     \n",
      "4 | val_negative_distance | MeanMetric     | 0     \n",
      "---------------------------------------------------------\n",
      "1.6 M     Trainable params\n",
      "0         Non-trainable params\n",
      "1.6 M     Total params\n",
      "6.298     Total estimated model params size (MB)\n"
     ]
    },
    {
     "name": "stdout",
     "output_type": "stream",
     "text": [
      "Sanity Checking:   0%|          | 0/2 [00:00<?, ?it/s]"
     ]
    },
    {
     "name": "stderr",
     "output_type": "stream",
     "text": [
      "/ext3/conda/zillow_MMKG/lib/python3.8/site-packages/pytorch_lightning/trainer/connectors/data_connector.py:488: PossibleUserWarning: Your `val_dataloader`'s sampler has shuffling enabled, it is strongly recommended that you turn shuffling off for val/test/predict dataloaders.\n",
      "  rank_zero_warn(\n",
      "/ext3/conda/zillow_MMKG/lib/python3.8/site-packages/pytorch_lightning/utilities/data.py:135: UserWarning: Your `IterableDataset` has `__len__` defined. In combination with multi-process data loading (when num_workers > 1), `__len__` could be inaccurate if each worker is not configured independently to avoid having duplicate data.\n",
      "  rank_zero_warn(\n",
      "/ext3/conda/zillow_MMKG/lib/python3.8/site-packages/pytorch_lightning/trainer/connectors/data_connector.py:224: PossibleUserWarning: The dataloader, val_dataloader 0, does not have many workers which may be a bottleneck. Consider increasing the value of the `num_workers` argument` (try 48 which is the number of cpus on this machine) in the `DataLoader` init to improve performance.\n",
      "  rank_zero_warn(\n",
      "/ext3/conda/zillow_MMKG/lib/python3.8/site-packages/lightning_lite/utilities/data.py:63: UserWarning: Your `IterableDataset` has `__len__` defined. In combination with multi-process data loading (when num_workers > 1), `__len__` could be inaccurate if each worker is not configured independently to avoid having duplicate data.\n",
      "  rank_zero_warn(\n"
     ]
    },
    {
     "name": "stdout",
     "output_type": "stream",
     "text": [
      "                                                                           \r"
     ]
    },
    {
     "name": "stderr",
     "output_type": "stream",
     "text": [
      "/ext3/conda/zillow_MMKG/lib/python3.8/site-packages/pytorch_lightning/trainer/connectors/data_connector.py:224: PossibleUserWarning: The dataloader, train_dataloader, does not have many workers which may be a bottleneck. Consider increasing the value of the `num_workers` argument` (try 48 which is the number of cpus on this machine) in the `DataLoader` init to improve performance.\n",
      "  rank_zero_warn(\n"
     ]
    },
    {
     "name": "stdout",
     "output_type": "stream",
     "text": [
      "Epoch 19: 100%|██████████| 71/71 [00:01<00:00, 53.91it/s, loss=0.664, v_num=15, train_loss=0.665, mean_val_posititve_distance=0.789, mean_val_negative_distance=0.0449] "
     ]
    },
    {
     "name": "stderr",
     "output_type": "stream",
     "text": [
      "`Trainer.fit` stopped: `max_epochs=20` reached.\n"
     ]
    },
    {
     "name": "stdout",
     "output_type": "stream",
     "text": [
      "Epoch 19: 100%|██████████| 71/71 [00:01<00:00, 53.82it/s, loss=0.664, v_num=15, train_loss=0.665, mean_val_posititve_distance=0.789, mean_val_negative_distance=0.0449]\n"
     ]
    }
   ],
   "source": [
    "modal_node_ids_file = '../'+cfg.data.zillow_root+'/modal_node_ids.json'\n",
    "datamodule = DataModule(\n",
    "    '../'+cfg.data.zillow_root, modal_node_ids_file, device=device, batch_size=cfg.training.batch_size\n",
    ")\n",
    "\n",
    "model = SAGELightning(\n",
    "    datamodule.in_dim,\n",
    "    cfg.model.hidden_dim,\n",
    "    n_layers=cfg.model.n_layers,\n",
    "    batch_size=cfg.training.batch_size,\n",
    ")\n",
    "\n",
    "checkpoint_callback = ModelCheckpoint(\n",
    "    monitor=\"mean_val_negative_distance\", save_top_k=1, mode=\"max\"\n",
    ")\n",
    "trainer = Trainer(accelerator=\"gpu\", max_epochs=20, callbacks=[checkpoint_callback])\n",
    "\n",
    "trainer.fit(model, datamodule=datamodule)"
   ]
  },
  {
   "cell_type": "code",
   "execution_count": 88,
   "metadata": {},
   "outputs": [
    {
     "name": "stdout",
     "output_type": "stream",
     "text": [
      "Done loading data from cached files.\n"
     ]
    }
   ],
   "source": [
    "modal_node_ids_file = '../'+cfg.data.zillow_root+'/modal_node_ids.json'\n",
    "datamodule = DataModule(\n",
    "    '../'+cfg.data.zillow_root, modal_node_ids_file, device=device, batch_size=cfg.training.batch_size\n",
    ")\n",
    "val_dataloader = datamodule.val_dataloader()"
   ]
  },
  {
   "cell_type": "code",
   "execution_count": 89,
   "metadata": {},
   "outputs": [
    {
     "name": "stdout",
     "output_type": "stream",
     "text": [
      "0\n",
      "0\n",
      "383\n",
      "1355\n"
     ]
    }
   ],
   "source": [
    "i = 0\n",
    "end = 58\n",
    "max_img_id = max(modal_node_ids['images'])\n",
    "min_kw_id = min(modal_node_ids['keywords'])\n",
    "\n",
    "same_node_connect_pos_subgraph = []\n",
    "same_node_connect_neg_subgraph = []\n",
    "\n",
    "for batch in val_dataloader:\n",
    "    input_nodes, pos_graph, neg_graph, blocks = batch\n",
    "    pos_mapper = dict(zip(pos_graph.nodes().detach().cpu().numpy(), \n",
    "                pos_graph.ndata['_ID'].detach().cpu().numpy()))\n",
    "\n",
    "    neg_mapper = dict(zip(neg_graph.nodes().detach().cpu().numpy(), \n",
    "                neg_graph.ndata['_ID'].detach().cpu().numpy()))\n",
    "\n",
    "    src_pos, dst_pos = [x.detach().cpu().numpy() for x in pos_graph.edges()]\n",
    "    src_neg, dst_neg = [x.detach().cpu().numpy() for x in neg_graph.edges()]\n",
    "    \n",
    "    src_pos = [pos_mapper[src] for src in src_pos]\n",
    "    dst_pos = [pos_mapper[dst] for dst in dst_pos]\n",
    "\n",
    "    src_neg = [neg_mapper[src] for src in src_neg]\n",
    "    dst_neg = [neg_mapper[dst] for dst in dst_neg]\n",
    "\n",
    "    src_dst_pos, src_dst_neg = list(zip(src_pos, dst_pos)), list(zip(src_neg, dst_neg))\n",
    "\n",
    "    for pair in src_dst_pos:\n",
    "        if (pair[0]<max_img_id and pair[1]<max_img_id) or (pair[0]>min_kw_id and pair[1]>min_kw_id):\n",
    "            same_node_connect_pos_subgraph.append(pair)\n",
    "    \n",
    "    for pair in src_dst_neg:\n",
    "        if (pair[0]<max_img_id and pair[1]<max_img_id) or (pair[0]>min_kw_id and pair[1]>min_kw_id):\n",
    "            same_node_connect_neg_subgraph.append(pair)\n",
    "    \n",
    "    i += 1\n",
    "    if i == end:\n",
    "        break\n",
    "\n",
    "print(len(same_node_connect_pos_subgraph))\n",
    "print(len(same_node_connect_neg_subgraph))\n",
    "print(len(src_dst_pos))\n",
    "print(len(src_dst_neg))"
   ]
  },
  {
   "cell_type": "markdown",
   "metadata": {},
   "source": [
    "## UMAP Plotting"
   ]
  },
  {
   "cell_type": "code",
   "execution_count": 103,
   "metadata": {},
   "outputs": [],
   "source": [
    "# This cell grabs a sample of 10 edges and gets feature embeddings for incident nodes before ('feat') and after ('h') graphSAGE updates\n",
    "\n",
    "test_dataloader = datamodule.test_dataloader()\n",
    "new_old_node_id_mapping = json.load(open(f'../{cfg.data.zillow_root}/new_old_node_id_mapping.json', 'r'))\n",
    "\n",
    "for batch in test_dataloader:\n",
    "    inputs, pos_graph, neg_graph, blocks = batch\n",
    "    pos_mapper = dict(zip(pos_graph.nodes().detach().cpu().numpy(), \n",
    "                pos_graph.ndata['_ID'].detach().cpu().numpy()))\n",
    "    \n",
    "    # update pos_graph node embeddings\n",
    "    blocks = [block.to(device) for block in blocks]\n",
    "    model = model.to(device)\n",
    "    x = blocks[0].srcdata[\"feat\"]\n",
    "    logits = model.module(blocks, x)\n",
    "    pos_graph.ndata[\"h\"] = logits\n",
    "\n",
    "    src_premap, dst_premap = [x.detach().cpu().numpy() for x in pos_graph.edges()]\n",
    "    src = [pos_mapper[x] for x in src_premap]\n",
    "    dst = [pos_mapper[x] for x in dst_premap]\n",
    "    nodes = [pos_mapper[x] for x in pos_graph.nodes().detach().cpu().tolist()]\n",
    "\n",
    "    sample_size = 10\n",
    "    sample_src = src[:sample_size]\n",
    "    sample_dst = dst[:sample_size]\n",
    "\n",
    "    src_node_indices = torch.LongTensor([nodes.index(node_id) for node_id in sample_src]).to(device)\n",
    "    dst_node_indices = torch.LongTensor([nodes.index(node_id) for node_id in sample_dst]).to(device)\n",
    "\n",
    "\n",
    "    # Embeddings of source and destination nodes in positive graph before and after GraphSAGE updates\n",
    "    sample_src_embeds_pre = pos_graph.ndata['feat'][src_node_indices]\n",
    "    sample_dst_embeds_pre = pos_graph.ndata['feat'][dst_node_indices]\n",
    "    sample_src_embeds_post = pos_graph.ndata['h'][src_node_indices]\n",
    "    sample_dst_embeds_post = pos_graph.ndata['h'][dst_node_indices]\n",
    "\n",
    "    break"
   ]
  },
  {
   "cell_type": "code",
   "execution_count": 104,
   "metadata": {},
   "outputs": [
    {
     "name": "stdout",
     "output_type": "stream",
     "text": [
      "Looking in indexes: https://pypi.org/simple, https://pypi.ngc.nvidia.com\n",
      "Requirement already satisfied: umap-learn in /ext3/conda/zillow_MMKG/lib/python3.8/site-packages (0.5.3)\n",
      "Requirement already satisfied: numba>=0.49 in /ext3/conda/zillow_MMKG/lib/python3.8/site-packages (from umap-learn) (0.56.0)\n",
      "Requirement already satisfied: numpy>=1.17 in /ext3/conda/zillow_MMKG/lib/python3.8/site-packages (from umap-learn) (1.22.4)\n",
      "Requirement already satisfied: scipy>=1.0 in /ext3/conda/zillow_MMKG/lib/python3.8/site-packages (from umap-learn) (1.6.3)\n",
      "Requirement already satisfied: pynndescent>=0.5 in /ext3/conda/zillow_MMKG/lib/python3.8/site-packages (from umap-learn) (0.5.8)\n",
      "Requirement already satisfied: tqdm in /ext3/conda/zillow_MMKG/lib/python3.8/site-packages (from umap-learn) (4.64.0)\n",
      "Requirement already satisfied: scikit-learn>=0.22 in /ext3/conda/zillow_MMKG/lib/python3.8/site-packages (from umap-learn) (0.24.2)\n",
      "Requirement already satisfied: importlib-metadata in /ext3/conda/zillow_MMKG/lib/python3.8/site-packages (from numba>=0.49->umap-learn) (4.12.0)\n",
      "Requirement already satisfied: setuptools in /ext3/conda/zillow_MMKG/lib/python3.8/site-packages (from numba>=0.49->umap-learn) (59.5.0)\n",
      "Requirement already satisfied: llvmlite<0.40,>=0.39.0dev0 in /ext3/conda/zillow_MMKG/lib/python3.8/site-packages (from numba>=0.49->umap-learn) (0.39.0)\n",
      "Requirement already satisfied: joblib>=0.11 in /ext3/conda/zillow_MMKG/lib/python3.8/site-packages (from pynndescent>=0.5->umap-learn) (1.1.0)\n",
      "Requirement already satisfied: threadpoolctl>=2.0.0 in /ext3/conda/zillow_MMKG/lib/python3.8/site-packages (from scikit-learn>=0.22->umap-learn) (3.1.0)\n",
      "Requirement already satisfied: zipp>=0.5 in /ext3/conda/zillow_MMKG/lib/python3.8/site-packages (from importlib-metadata->numba>=0.49->umap-learn) (3.10.0)\n"
     ]
    }
   ],
   "source": [
    "!pip install umap-learn"
   ]
  },
  {
   "cell_type": "code",
   "execution_count": 105,
   "metadata": {},
   "outputs": [
    {
     "name": "stdout",
     "output_type": "stream",
     "text": [
      "%pylab is deprecated, use %matplotlib inline and import the required libraries.\n",
      "Populating the interactive namespace from numpy and matplotlib\n"
     ]
    }
   ],
   "source": [
    "%pylab inline \n",
    "import umap\n",
    "import matplotlib.pyplot as plt\n",
    "\n",
    "def umap_plot(weight_matrix, pair_ids, title):\n",
    "    \"\"\"Run UMAP on the entire Vxd `weight_matrix` (e.g. model.lookup.weight or model.projection.weight),\n",
    "    And plot the points corresponding to the given `word_ids`. \"\"\"\n",
    "    reduced = umap.UMAP(min_dist=0.0001).fit_transform(weight_matrix.detach().cpu().numpy())\n",
    "    plt.figure(figsize=(5,5))\n",
    "\n",
    "    plt.scatter(reduced[:, 0], reduced[:, 1], c=pair_ids)\n",
    "    for i, pair_id in enumerate(pair_ids):\n",
    "        current_point = reduced[i]\n",
    "        plt.annotate(pair_ids[i], (current_point[0], current_point[1]))\n",
    "\n",
    "    plt.grid()\n",
    "    plt.title(title)\n",
    "    plt.show()"
   ]
  },
  {
   "cell_type": "code",
   "execution_count": 106,
   "metadata": {},
   "outputs": [
    {
     "data": {
      "image/png": "[encoded data removed]",
      "text/plain": [
       "<Figure size 360x360 with 1 Axes>"
      ]
     },
     "metadata": {
      "needs_background": "light"
     },
     "output_type": "display_data"
    },
    {
     "data": {
      "image/png": "[encoded data removed]",
      "text/plain": [
       "<Figure size 360x360 with 1 Axes>"
      ]
     },
     "metadata": {
      "needs_background": "light"
     },
     "output_type": "display_data"
    }
   ],
   "source": [
    "# Plot 2D projections of node embeddings from 10 sampled edges before and after graphSAGE updates\n",
    "\n",
    "pair_ids = list(range(sample_src_embeds_pre.size(0)))*2\n",
    "weight_matrix_pre = torch.cat((sample_src_embeds_pre, sample_dst_embeds_pre))\n",
    "weight_matrix_post = torch.cat((sample_src_embeds_post, sample_dst_embeds_post))\n",
    "\n",
    "umap_plot(weight_matrix_pre, pair_ids, title='2D-projected node embeddings before GraphSAGE')\n",
    "umap_plot(weight_matrix_post, pair_ids, title='2D-projected node embeddings after GraphSAGE')"
   ]
  },
  {
   "cell_type": "code",
   "execution_count": 109,
   "metadata": {},
   "outputs": [
    {
     "data": {
      "text/html": [
       "<div>\n",
       "<style scoped>\n",
       "    .dataframe tbody tr th:only-of-type {\n",
       "        vertical-align: middle;\n",
       "    }\n",
       "\n",
       "    .dataframe tbody tr th {\n",
       "        vertical-align: top;\n",
       "    }\n",
       "\n",
       "    .dataframe thead th {\n",
       "        text-align: right;\n",
       "    }\n",
       "</style>\n",
       "<table border=\"1\" class=\"dataframe\">\n",
       "  <thead>\n",
       "    <tr style=\"text-align: right;\">\n",
       "      <th></th>\n",
       "      <th>pair_id</th>\n",
       "      <th>src_dst_sim_CLIP</th>\n",
       "      <th>non_pair_sim_CLIP</th>\n",
       "      <th>src_dst_sim_SAGE</th>\n",
       "      <th>non_pair_sim_SAGE</th>\n",
       "      <th>pair similarity change</th>\n",
       "      <th>non-pair similarity change</th>\n",
       "    </tr>\n",
       "  </thead>\n",
       "  <tbody>\n",
       "    <tr>\n",
       "      <th>0</th>\n",
       "      <td>0</td>\n",
       "      <td>0.404855</td>\n",
       "      <td>0.688261</td>\n",
       "      <td>0.561160</td>\n",
       "      <td>0.057893</td>\n",
       "      <td>38.607727</td>\n",
       "      <td>-91.588545</td>\n",
       "    </tr>\n",
       "    <tr>\n",
       "      <th>1</th>\n",
       "      <td>1</td>\n",
       "      <td>0.436929</td>\n",
       "      <td>0.549036</td>\n",
       "      <td>0.000000</td>\n",
       "      <td>0.094273</td>\n",
       "      <td>-100.000000</td>\n",
       "      <td>-82.829312</td>\n",
       "    </tr>\n",
       "    <tr>\n",
       "      <th>2</th>\n",
       "      <td>2</td>\n",
       "      <td>0.407360</td>\n",
       "      <td>0.568621</td>\n",
       "      <td>0.000000</td>\n",
       "      <td>0.284938</td>\n",
       "      <td>-100.000000</td>\n",
       "      <td>-49.889582</td>\n",
       "    </tr>\n",
       "    <tr>\n",
       "      <th>3</th>\n",
       "      <td>3</td>\n",
       "      <td>0.440279</td>\n",
       "      <td>0.542635</td>\n",
       "      <td>0.755267</td>\n",
       "      <td>0.140376</td>\n",
       "      <td>71.542778</td>\n",
       "      <td>-74.130744</td>\n",
       "    </tr>\n",
       "    <tr>\n",
       "      <th>4</th>\n",
       "      <td>4</td>\n",
       "      <td>0.409799</td>\n",
       "      <td>0.538657</td>\n",
       "      <td>0.593837</td>\n",
       "      <td>0.064267</td>\n",
       "      <td>44.909576</td>\n",
       "      <td>-88.069074</td>\n",
       "    </tr>\n",
       "    <tr>\n",
       "      <th>5</th>\n",
       "      <td>5</td>\n",
       "      <td>0.423925</td>\n",
       "      <td>0.546162</td>\n",
       "      <td>0.000000</td>\n",
       "      <td>0.089577</td>\n",
       "      <td>-100.000000</td>\n",
       "      <td>-83.598783</td>\n",
       "    </tr>\n",
       "    <tr>\n",
       "      <th>6</th>\n",
       "      <td>6</td>\n",
       "      <td>0.402524</td>\n",
       "      <td>0.692793</td>\n",
       "      <td>0.361423</td>\n",
       "      <td>0.048716</td>\n",
       "      <td>-10.210768</td>\n",
       "      <td>-92.968148</td>\n",
       "    </tr>\n",
       "    <tr>\n",
       "      <th>7</th>\n",
       "      <td>7</td>\n",
       "      <td>0.397216</td>\n",
       "      <td>0.667734</td>\n",
       "      <td>0.000000</td>\n",
       "      <td>0.060076</td>\n",
       "      <td>-100.000000</td>\n",
       "      <td>-91.002943</td>\n",
       "    </tr>\n",
       "    <tr>\n",
       "      <th>8</th>\n",
       "      <td>8</td>\n",
       "      <td>0.417009</td>\n",
       "      <td>0.564513</td>\n",
       "      <td>0.286131</td>\n",
       "      <td>0.232500</td>\n",
       "      <td>-31.384859</td>\n",
       "      <td>-58.814134</td>\n",
       "    </tr>\n",
       "    <tr>\n",
       "      <th>9</th>\n",
       "      <td>9</td>\n",
       "      <td>0.410430</td>\n",
       "      <td>0.691050</td>\n",
       "      <td>0.000000</td>\n",
       "      <td>0.220335</td>\n",
       "      <td>-100.000000</td>\n",
       "      <td>-68.115842</td>\n",
       "    </tr>\n",
       "  </tbody>\n",
       "</table>\n",
       "</div>"
      ],
      "text/plain": [
       "   pair_id  src_dst_sim_CLIP  non_pair_sim_CLIP  src_dst_sim_SAGE  \\\n",
       "0        0          0.404855           0.688261          0.561160   \n",
       "1        1          0.436929           0.549036          0.000000   \n",
       "2        2          0.407360           0.568621          0.000000   \n",
       "3        3          0.440279           0.542635          0.755267   \n",
       "4        4          0.409799           0.538657          0.593837   \n",
       "5        5          0.423925           0.546162          0.000000   \n",
       "6        6          0.402524           0.692793          0.361423   \n",
       "7        7          0.397216           0.667734          0.000000   \n",
       "8        8          0.417009           0.564513          0.286131   \n",
       "9        9          0.410430           0.691050          0.000000   \n",
       "\n",
       "   non_pair_sim_SAGE  pair similarity change  non-pair similarity change  \n",
       "0           0.057893               38.607727                  -91.588545  \n",
       "1           0.094273             -100.000000                  -82.829312  \n",
       "2           0.284938             -100.000000                  -49.889582  \n",
       "3           0.140376               71.542778                  -74.130744  \n",
       "4           0.064267               44.909576                  -88.069074  \n",
       "5           0.089577             -100.000000                  -83.598783  \n",
       "6           0.048716              -10.210768                  -92.968148  \n",
       "7           0.060076             -100.000000                  -91.002943  \n",
       "8           0.232500              -31.384859                  -58.814134  \n",
       "9           0.220335             -100.000000                  -68.115842  "
      ]
     },
     "execution_count": 109,
     "metadata": {},
     "output_type": "execute_result"
    }
   ],
   "source": [
    "# For 10 samples, get pct change in pairwise cosine similarity for true src-dst pairs and negative pairs\n",
    "\n",
    "import pandas as pd\n",
    "from sklearn import metrics\n",
    "\n",
    "cos_similarities = pd.DataFrame()\n",
    "\n",
    "pre_sims = metrics.pairwise.cosine_similarity(sample_src_embeds_pre.cpu().detach().numpy(), sample_dst_embeds_pre.cpu().detach().numpy())\n",
    "post_sims = metrics.pairwise.cosine_similarity(sample_src_embeds_post.cpu().detach().numpy(), sample_dst_embeds_post.cpu().detach().numpy())\n",
    "\n",
    "for i in range(pre_sims.shape[0]):\n",
    "    src_dst_sim_pre = pre_sims[i,i]\n",
    "    non_pair_sims_pre = np.sum(np.concatenate((pre_sims[i,:i],pre_sims[i,i+1:]))) / (len(pre_sims[i])-1)\n",
    "\n",
    "    src_dst_sim_post = post_sims[i,i]\n",
    "    non_pair_sims_pos = np.sum(np.concatenate((post_sims[i,:i],post_sims[i,i+1:]))) / (len(post_sims[i])-1)\n",
    "\n",
    "    cos_similarities = pd.concat([cos_similarities, pd.DataFrame([{'pair_id': i,\n",
    "                                                                   'src_dst_sim_CLIP': src_dst_sim_pre,\n",
    "                                                                   'non_pair_sim_CLIP': non_pair_sims_pre,\n",
    "                                                                   'src_dst_sim_SAGE': src_dst_sim_post,\n",
    "                                                                   'non_pair_sim_SAGE': non_pair_sims_pos}])])\n",
    "cos_similarities.reset_index(inplace=True, drop=True)\n",
    "cos_similarities['pair similarity change'] = (cos_similarities['src_dst_sim_SAGE'] - cos_similarities['src_dst_sim_CLIP']) / cos_similarities['src_dst_sim_CLIP'] * 100\n",
    "cos_similarities['non-pair similarity change'] = (cos_similarities['non_pair_sim_SAGE'] - cos_similarities['non_pair_sim_CLIP']) / cos_similarities['non_pair_sim_CLIP'] * 100\n",
    "\n",
    "cos_similarities"
   ]
  },
  {
   "cell_type": "code",
   "execution_count": 70,
   "metadata": {},
   "outputs": [
    {
     "name": "stdout",
     "output_type": "stream",
     "text": [
      "Looking in indexes: https://pypi.org/simple, https://pypi.ngc.nvidia.com\n",
      "Collecting seaborn\n",
      "  Downloading seaborn-0.12.1-py3-none-any.whl (288 kB)\n",
      "\u001b[K     |████████████████████████████████| 288 kB 24.4 MB/s eta 0:00:01\n",
      "\u001b[?25hRequirement already satisfied: matplotlib!=3.6.1,>=3.1 in /ext3/conda/zillow_MMKG/lib/python3.8/site-packages (from seaborn) (3.5.2)\n",
      "Requirement already satisfied: numpy>=1.17 in /ext3/conda/zillow_MMKG/lib/python3.8/site-packages (from seaborn) (1.22.4)\n",
      "Requirement already satisfied: pandas>=0.25 in /ext3/conda/zillow_MMKG/lib/python3.8/site-packages (from seaborn) (1.4.3)\n",
      "Requirement already satisfied: packaging>=20.0 in /ext3/conda/zillow_MMKG/lib/python3.8/site-packages (from matplotlib!=3.6.1,>=3.1->seaborn) (21.3)\n",
      "Requirement already satisfied: python-dateutil>=2.7 in /ext3/conda/zillow_MMKG/lib/python3.8/site-packages (from matplotlib!=3.6.1,>=3.1->seaborn) (2.8.2)\n",
      "Requirement already satisfied: pillow>=6.2.0 in /ext3/conda/zillow_MMKG/lib/python3.8/site-packages (from matplotlib!=3.6.1,>=3.1->seaborn) (9.0.1)\n",
      "Requirement already satisfied: pyparsing>=2.2.1 in /ext3/conda/zillow_MMKG/lib/python3.8/site-packages (from matplotlib!=3.6.1,>=3.1->seaborn) (3.0.9)\n",
      "Requirement already satisfied: fonttools>=4.22.0 in /ext3/conda/zillow_MMKG/lib/python3.8/site-packages (from matplotlib!=3.6.1,>=3.1->seaborn) (4.34.4)\n",
      "Requirement already satisfied: cycler>=0.10 in /ext3/conda/zillow_MMKG/lib/python3.8/site-packages (from matplotlib!=3.6.1,>=3.1->seaborn) (0.11.0)\n",
      "Requirement already satisfied: kiwisolver>=1.0.1 in /ext3/conda/zillow_MMKG/lib/python3.8/site-packages (from matplotlib!=3.6.1,>=3.1->seaborn) (1.4.4)\n",
      "Requirement already satisfied: pytz>=2020.1 in /ext3/conda/zillow_MMKG/lib/python3.8/site-packages (from pandas>=0.25->seaborn) (2022.1)\n",
      "Requirement already satisfied: six>=1.5 in /ext3/conda/zillow_MMKG/lib/python3.8/site-packages (from python-dateutil>=2.7->matplotlib!=3.6.1,>=3.1->seaborn) (1.16.0)\n",
      "Installing collected packages: seaborn\n",
      "Successfully installed seaborn-0.12.1\n"
     ]
    }
   ],
   "source": [
    "!pip install seaborn"
   ]
  },
  {
   "cell_type": "code",
   "execution_count": 108,
   "metadata": {},
   "outputs": [
    {
     "data": {
      "image/png": "[encoded data removed]",
      "text/plain": [
       "<Figure size 544.85x360 with 1 Axes>"
      ]
     },
     "metadata": {},
     "output_type": "display_data"
    },
    {
     "name": "stdout",
     "output_type": "stream",
     "text": [
      "Average pair similarity change: -38.653557\n",
      "Average non-pair similarity change: -78.10071075362406\n"
     ]
    }
   ],
   "source": [
    "import seaborn as sns\n",
    "sns.set_theme(style='whitegrid')\n",
    "cos_similarities_tp = pd.melt(cos_similarities, id_vars='pair_id', value_vars=['pair similarity change', 'non-pair similarity change'])\n",
    "\n",
    "g = sns.catplot(data=cos_similarities_tp, kind='bar', x='pair_id', y='value', hue='variable', errorbar='sd')\n",
    "\n",
    "g.set_axis_labels('', 'pct change in cosine similarity')\n",
    "g.legend.set_title('')\n",
    "plt.title('Percent Changes in Cosine Similarity within pair and outside pairs')\n",
    "plt.show()\n",
    "\n",
    "print('Average pair similarity change:', cos_similarities['pair similarity change'].mean())\n",
    "print('Average non-pair similarity change:', cos_similarities['non-pair similarity change'].mean())\n"
   ]
  },
  {
   "cell_type": "code",
   "execution_count": 100,
   "metadata": {},
   "outputs": [
    {
     "name": "stderr",
     "output_type": "stream",
     "text": [
      "computing pre-post cosine sims: 100%|██████████| 13/13 [00:00<00:00, 48.31it/s]"
     ]
    },
    {
     "name": "stdout",
     "output_type": "stream",
     "text": [
      "Average pair similarity change: -36.124657\n",
      "Average non-pair similarity change: -74.51740947307698\n"
     ]
    },
    {
     "name": "stderr",
     "output_type": "stream",
     "text": [
      "\n"
     ]
    }
   ],
   "source": [
    "# Run the same analysis as above for all edges in the test dataset and compute average change in cosine similarity for positive pairs and negative pairs\n",
    "\n",
    "test_dataloader = datamodule.test_dataloader()\n",
    "val_dataloader = datamodule.val_dataloader()\n",
    "new_old_node_id_mapping = json.load(open(f'../{cfg.data.zillow_root}/new_old_node_id_mapping.json', 'r'))\n",
    "cos_similarities = pd.DataFrame()\n",
    "\n",
    "for batch in tqdm(val_dataloader, desc='computing pre-post cosine sims'):\n",
    "    inputs, pos_graph, neg_graph, blocks = batch\n",
    "    pos_mapper = dict(zip(pos_graph.nodes().detach().cpu().numpy(), \n",
    "                pos_graph.ndata['_ID'].detach().cpu().numpy()))\n",
    "    \n",
    "    # update pos_graph node embeddings\n",
    "    blocks = [block.to(device) for block in blocks]\n",
    "    model = model.to(device)\n",
    "    x = blocks[0].srcdata[\"feat\"]\n",
    "    logits = model.module(blocks, x)\n",
    "    pos_graph.ndata[\"h\"] = logits\n",
    "\n",
    "    src_premap, dst_premap = [x.detach().cpu().numpy() for x in pos_graph.edges()]\n",
    "    src = [pos_mapper[x] for x in src_premap]\n",
    "    dst = [pos_mapper[x] for x in dst_premap]\n",
    "    nodes = [pos_mapper[x] for x in pos_graph.nodes().detach().cpu().tolist()]\n",
    "\n",
    "    sample_size = 10\n",
    "    sample_src = src[:sample_size]\n",
    "    sample_dst = dst[:sample_size]\n",
    "\n",
    "    src_node_indices = torch.LongTensor([nodes.index(node_id) for node_id in sample_src]).to(device)\n",
    "    dst_node_indices = torch.LongTensor([nodes.index(node_id) for node_id in sample_dst]).to(device)\n",
    "\n",
    "\n",
    "    # Embeddings of source and destination nodes in positive graph before and after GraphSAGE updates\n",
    "    sample_src_embeds_pre = pos_graph.ndata['feat'][src_node_indices]\n",
    "    sample_dst_embeds_pre = pos_graph.ndata['feat'][dst_node_indices]\n",
    "    sample_src_embeds_post = pos_graph.ndata['h'][src_node_indices]\n",
    "    sample_dst_embeds_post = pos_graph.ndata['h'][dst_node_indices]\n",
    "\n",
    "    pre_sims = metrics.pairwise.cosine_similarity(sample_src_embeds_pre.cpu().detach().numpy(), sample_dst_embeds_pre.cpu().detach().numpy())\n",
    "    post_sims = metrics.pairwise.cosine_similarity(sample_src_embeds_post.cpu().detach().numpy(), sample_dst_embeds_post.cpu().detach().numpy())\n",
    "\n",
    "    for i in range(pre_sims.shape[0]):\n",
    "        src_dst_sim_pre = pre_sims[i,i]\n",
    "        non_pair_sims_pre = np.sum(np.concatenate((pre_sims[i,:i],pre_sims[i,i+1:]))) / (len(pre_sims[i])-1)\n",
    "\n",
    "        src_dst_sim_post = post_sims[i,i]\n",
    "        non_pair_sims_pos = np.sum(np.concatenate((post_sims[i,:i],post_sims[i,i+1:]))) / (len(post_sims[i])-1)\n",
    "\n",
    "        cos_similarities = pd.concat([cos_similarities, pd.DataFrame([{'pair_id': i,\n",
    "                                                                    'src_dst_sim_CLIP': src_dst_sim_pre,\n",
    "                                                                    'non_pair_sim_CLIP': non_pair_sims_pre,\n",
    "                                                                    'src_dst_sim_SAGE': src_dst_sim_post,\n",
    "                                                                    'non_pair_sim_SAGE': non_pair_sims_pos}])])\n",
    "\n",
    "cos_similarities.reset_index(inplace=True, drop=True)\n",
    "cos_similarities['pair similarity change'] = (cos_similarities['src_dst_sim_SAGE'] - cos_similarities['src_dst_sim_CLIP']) / cos_similarities['src_dst_sim_CLIP'] * 100\n",
    "cos_similarities['non-pair similarity change'] = (cos_similarities['non_pair_sim_SAGE'] - cos_similarities['non_pair_sim_CLIP']) / cos_similarities['non_pair_sim_CLIP'] * 100\n",
    "\n",
    "cos_similarities.head()\n",
    "print('Average pair similarity change:', cos_similarities['pair similarity change'].mean())\n",
    "print('Average non-pair similarity change:', cos_similarities['non-pair similarity change'].mean())"
   ]
  },
  {
   "cell_type": "code",
   "execution_count": null,
   "metadata": {},
   "outputs": [],
   "source": []
  }
 ],
 "metadata": {
  "kernelspec": {
   "display_name": "Python 3.8.13",
   "language": "python",
   "name": "python3"
  },
  "language_info": {
   "codemirror_mode": {
    "name": "ipython",
    "version": 3
   },
   "file_extension": ".py",
   "mimetype": "text/x-python",
   "name": "python",
   "nbconvert_exporter": "python",
   "pygments_lexer": "ipython3",
   "version": "3.8.13"
  },
  "orig_nbformat": 4,
  "vscode": {
   "interpreter": {
    "hash": "b8a98180768ec50653acfbae9679ecd2014a1d8366e4dd2cee9bea05835201d8"
   }
  }
 },
 "nbformat": 4,
 "nbformat_minor": 2
}
