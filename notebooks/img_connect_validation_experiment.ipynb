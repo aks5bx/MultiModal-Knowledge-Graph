{
 "cells": [
  {
   "cell_type": "code",
   "execution_count": 22,
   "metadata": {},
   "outputs": [],
   "source": [
    "import argparse\n",
    "import os\n",
    "import sys\n",
    "from functools import partial\n",
    "from tqdm import tqdm\n",
    "import json\n",
    "from types import SimpleNamespace\n",
    "\n",
    "# Simulate having cfg available by loading in hydra config as dict\n",
    "import yaml\n",
    "try:\n",
    "    from yaml import CLoader as Loader, CDumper as Dumper\n",
    "except ImportError:\n",
    "    from yaml import Loader, Dumper\n",
    "\n",
    "import pyrootutils\n",
    "import dgl\n",
    "import dgl.function as fn\n",
    "import hydra\n",
    "import numpy as np\n",
    "import torch\n",
    "import torch.nn as nn\n",
    "import torch.nn.functional as F\n",
    "from torchmetrics import MeanMetric\n",
    "from pytorch_lightning import LightningDataModule, LightningModule, Trainer\n",
    "from pytorch_lightning.callbacks import ModelCheckpoint\n",
    "from torchmetrics.classification import BinaryAUROC, BinaryAveragePrecision\n",
    "from sklearn import metrics\n",
    "\n",
    "import pandas as pd\n",
    "import scipy.stats as st\n",
    "from IPython.display import clear_output\n",
    "\n",
    "user_net_id = os.getlogin()\n",
    "home_path = '/scratch/' + user_net_id + '/projects/NYU-Zillow-Capstone-2022-Team-A'\n",
    "if home_path not in sys.path:\n",
    "    sys.path.append('/scratch/' + user_net_id + '/projects/NYU-Zillow-Capstone-2022-Team-A')\n",
    "\n",
    "from src.datamodules.negative_sampler import NegativeSampler\n",
    "from src.model.SAGE import SAGE"
   ]
  },
  {
   "cell_type": "code",
   "execution_count": 23,
   "metadata": {},
   "outputs": [],
   "source": [
    "def to_bidirected_with_reverse_mapping(g):\n",
    "    \"\"\"Makes a graph bidirectional, and returns a mapping array ``mapping`` where ``mapping[i]``\n",
    "    is the reverse edge of edge ID ``i``. Does not work with graphs that have self-loops.\n",
    "    \"\"\"\n",
    "    g_simple, mapping = dgl.to_simple(\n",
    "        dgl.add_reverse_edges(g), return_counts=\"count\", writeback_mapping=True\n",
    "    )\n",
    "    c = g_simple.edata[\"count\"]\n",
    "    num_edges = g.num_edges()\n",
    "    mapping_offset = torch.zeros(g_simple.num_edges() + 1, dtype=g_simple.idtype)\n",
    "    mapping_offset[1:] = c.cumsum(0)\n",
    "    idx = mapping.argsort()\n",
    "    idx_uniq = idx[mapping_offset[:-1]]\n",
    "    reverse_idx = torch.where(\n",
    "        idx_uniq >= num_edges, idx_uniq - num_edges, idx_uniq + num_edges\n",
    "    )\n",
    "    reverse_mapping = mapping[reverse_idx]\n",
    "    # sanity check\n",
    "    src1, dst1 = g_simple.edges()\n",
    "    src2, dst2 = g_simple.find_edges(reverse_mapping)\n",
    "    assert torch.equal(src1, dst2)\n",
    "    assert torch.equal(src2, dst1)\n",
    "    return g_simple, reverse_mapping\n",
    "\n",
    "\n",
    "class NegativeSamplerTest(object):\n",
    "    def __init__(self, g, k, max_img_id, keyword_as_src, neg_share=False):\n",
    "        self.weights = g.in_degrees().float() ** 0.75\n",
    "        self.k = k\n",
    "        self.neg_share = neg_share\n",
    "        self.max_img_id = max_img_id\n",
    "        self.keyword_as_src = keyword_as_src\n",
    "\n",
    "    def __call__(self, g, eids):\n",
    "        src, _ = g.find_edges(eids)\n",
    "        if self.keyword_as_src == False:\n",
    "            img_node_mask = src <= self.max_img_id\n",
    "            src = src[img_node_mask]\n",
    "        n = len(src)\n",
    "\n",
    "        if self.neg_share and n % self.k == 0:\n",
    "            dst = self.weights.multinomial(n, replacement=True)\n",
    "            dst = dst.view(-1, 1, self.k).expand(-1, self.k, -1).flatten()\n",
    "        else:\n",
    "            dst = self.weights.multinomial(n * self.k, replacement=True)\n",
    "            \n",
    "        src = src.repeat_interleave(self.k)\n",
    "        return src, dst\n",
    "\n",
    "class DataModule(LightningDataModule):\n",
    "    def __init__(\n",
    "        self,\n",
    "        csv_dataset_root,\n",
    "        modal_node_ids_file,\n",
    "        keyword_as_src=False,\n",
    "        data_cpu=False,\n",
    "        fan_out=[10, 25],\n",
    "        device=\"cpu\",\n",
    "        batch_size=1024,\n",
    "        num_workers=4,\n",
    "        force_reload=False,\n",
    "    ):\n",
    "        super().__init__()\n",
    "        self.save_hyperparameters()\n",
    "        dataset = dgl.data.CSVDataset(csv_dataset_root, force_reload=force_reload)\n",
    "        g = dataset[0]\n",
    "        g_bid, reverse_eids = to_bidirected_with_reverse_mapping(g)\n",
    "        g_bid = g_bid.to(device)\n",
    "        g = g.to(device)\n",
    "        reverse_eids = reverse_eids.to(device)\n",
    "\n",
    "        max_img_id = max(json.load(open(modal_node_ids_file, 'r'))['images'])\n",
    "\n",
    "        train_nid = torch.nonzero(g_bid.ndata[\"train_mask\"], as_tuple=True)[0].to(device)\n",
    "        val_nid = torch.nonzero(g_bid.ndata[\"val_mask\"], as_tuple=True)[0].to(device)\n",
    "        test_nid = torch.nonzero(\n",
    "            ~(g_bid.ndata[\"train_mask\"] | g_bid.ndata[\"val_mask\"]), as_tuple=True\n",
    "        )[0].to(device)\n",
    "\n",
    "        sampler = dgl.dataloading.MultiLayerNeighborSampler(\n",
    "            [int(_) for _ in fan_out], prefetch_node_feats=[\"feat\"]\n",
    "        )\n",
    "\n",
    "        self.g = g\n",
    "        self.g_bid = g_bid\n",
    "        self.train_nid, self.val_nid, self.test_nid = train_nid, val_nid, test_nid\n",
    "        self.sampler = sampler\n",
    "        self.device = device\n",
    "        self.batch_size = batch_size\n",
    "        self.num_workers = num_workers\n",
    "        self.in_dim = g_bid.ndata[\"feat\"].shape[1]\n",
    "        self.reverse_eids = reverse_eids\n",
    "        self.max_img_id = max_img_id\n",
    "        self.keyword_as_src = keyword_as_src\n",
    "\n",
    "\n",
    "    def train_dataloader(self):\n",
    "        edge_sampler = dgl.dataloading.as_edge_prediction_sampler(\n",
    "            self.sampler,\n",
    "            exclude='reverse_id',\n",
    "            reverse_eids=self.reverse_eids,\n",
    "            negative_sampler=NegativeSamplerTest(self.g, 1, self.max_img_id, self.keyword_as_src)\n",
    "        )\n",
    "\n",
    "        train_subgraph = self.g_bid.subgraph(self.train_nid)\n",
    "        train_u, train_v = train_subgraph.edges()\n",
    "        train_eids = train_subgraph.edata['_ID'][train_subgraph.edge_ids(train_u, train_v)]\n",
    "\n",
    "        return dgl.dataloading.DataLoader(\n",
    "            self.g_bid,\n",
    "            train_eids,\n",
    "            edge_sampler,\n",
    "            device=self.device,\n",
    "            batch_size=self.batch_size,\n",
    "            shuffle=True,\n",
    "            drop_last=False\n",
    "        )\n",
    "\n",
    "    def val_dataloader(self):\n",
    "        edge_sampler = dgl.dataloading.as_edge_prediction_sampler(\n",
    "            self.sampler,\n",
    "        )\n",
    "\n",
    "        val_subgraph = self.g_bid.subgraph(self.val_nid)\n",
    "        val_u, val_v = val_subgraph.edges()\n",
    "        val_eids = val_subgraph.edata['_ID'][val_subgraph.edge_ids(val_u, val_v)]\n",
    "\n",
    "        return dgl.dataloading.DataLoader(\n",
    "            self.g_bid,\n",
    "            val_eids,\n",
    "            edge_sampler,\n",
    "            device=self.device,\n",
    "            batch_size=self.batch_size,\n",
    "            shuffle=False,\n",
    "            drop_last=False\n",
    "        )\n",
    "    \n",
    "    def test_dataloader(self):\n",
    "        edge_sampler = dgl.dataloading.as_edge_prediction_sampler(\n",
    "            self.sampler,\n",
    "        )\n",
    "\n",
    "        test_subgraph = self.g_bid.subgraph(self.test_nid)\n",
    "        test_u, test_v = test_subgraph.edges()\n",
    "        test_eids = test_subgraph.edata['_ID'][test_subgraph.edge_ids(test_u, test_v)]\n",
    "\n",
    "        return dgl.dataloading.DataLoader(\n",
    "            self.g_bid,\n",
    "            test_eids,\n",
    "            edge_sampler,\n",
    "            device=self.device,\n",
    "            batch_size=self.batch_size,\n",
    "            shuffle=True,\n",
    "            drop_last=False,\n",
    "        )\n",
    "\n",
    "class ScorePredictor(nn.Module):\n",
    "    def forward(self, edge_subgraph, x):\n",
    "        with edge_subgraph.local_scope():\n",
    "            edge_subgraph.ndata[\"h\"] = x\n",
    "            edge_subgraph.ndata['h_norm'] = F.normalize(x, p=2, dim=-1)\n",
    "            edge_subgraph.apply_edges(fn.u_dot_v(\"h_norm\", \"h_norm\", \"score\"))\n",
    "            return edge_subgraph.edata[\"score\"]\n",
    "\n",
    "class SAGELightning(LightningModule):\n",
    "    def __init__(\n",
    "        self,\n",
    "        in_dim,\n",
    "        h_dim,\n",
    "        n_layers=3,\n",
    "        activation=F.relu,\n",
    "        dropout=0,\n",
    "        sage_conv_method=\"mean\",\n",
    "        lr=0.0005,\n",
    "        batch_size=1024,\n",
    "    ):\n",
    "        super().__init__()\n",
    "        self.module = SAGE(\n",
    "            in_dim, h_dim, n_layers, activation, dropout, sage_conv_method\n",
    "        )\n",
    "        self.lr = lr\n",
    "        self.predictor = ScorePredictor()\n",
    "        self.batch_size = batch_size\n",
    "        self.save_hyperparameters()\n",
    "\n",
    "        self.train_loss = MeanMetric()\n",
    "        self.mean_val_positive_score = MeanMetric()\n",
    "    \n",
    "    def forward(self, graph, blocks, x):\n",
    "        self.module(graph, blocks, x)\n",
    "\n",
    "    def training_step(self, batch, batch_idx):\n",
    "        input_nodes, pos_graph, neg_graph, blocks = batch\n",
    "        x = blocks[0].srcdata[\"feat\"]\n",
    "        logits = self.module(blocks, x)\n",
    "        pos_score = self.predictor(pos_graph, logits)\n",
    "        neg_score = self.predictor(neg_graph, logits)\n",
    "\n",
    "        score = torch.cat([pos_score, neg_score])\n",
    "        pos_label = torch.ones_like(pos_score)\n",
    "        neg_label = torch.zeros_like(neg_score)\n",
    "        labels = torch.cat([pos_label, neg_label])\n",
    "        loss = F.binary_cross_entropy_with_logits(score, labels)\n",
    "\n",
    "        return loss\n",
    "\n",
    "    def validation_step(self, batch, batch_idx):\n",
    "        input_nodes, pos_graph, blocks = batch\n",
    "        x = blocks[0].srcdata[\"feat\"]\n",
    "        logits = self.module(blocks, x)\n",
    "        pos_score = self.predictor(pos_graph, logits)\n",
    "        pos_label = torch.ones_like(pos_score)\n",
    "        self.mean_val_positive_score(pos_score)\n",
    "\n",
    "        self.log(\n",
    "            \"mean_val_positive_score\",\n",
    "            self.mean_val_positive_score,\n",
    "            prog_bar=True,\n",
    "            on_step=False,\n",
    "            on_epoch=True,\n",
    "            batch_size=self.batch_size,\n",
    "        )\n",
    "\n",
    "    def configure_optimizers(self):\n",
    "        optimizer = torch.optim.Adam(self.parameters(), lr=self.lr)\n",
    "        return optimizer"
   ]
  },
  {
   "cell_type": "code",
   "execution_count": 24,
   "metadata": {},
   "outputs": [
    {
     "ename": "FileNotFoundError",
     "evalue": "search_from path does not exist.",
     "output_type": "error",
     "traceback": [
      "\u001b[0;31m---------------------------------------------------------------------------\u001b[0m",
      "\u001b[0;31mFileNotFoundError\u001b[0m                         Traceback (most recent call last)",
      "\u001b[1;32m/scratch/alc9635/projects/NYU-Zillow-Capstone-2022-Team-A/notebooks/img_connect_validation_experiment.ipynb Cell 3\u001b[0m in \u001b[0;36m<cell line: 10>\u001b[0;34m()\u001b[0m\n\u001b[1;32m      <a href='vscode-notebook-cell://ssh-remote%2Bgreenecomputecontainer/scratch/alc9635/projects/NYU-Zillow-Capstone-2022-Team-A/notebooks/img_connect_validation_experiment.ipynb#W2sdnNjb2RlLXJlbW90ZQ%3D%3D?line=6'>7</a>\u001b[0m             \u001b[39melse\u001b[39;00m:\n\u001b[1;32m      <a href='vscode-notebook-cell://ssh-remote%2Bgreenecomputecontainer/scratch/alc9635/projects/NYU-Zillow-Capstone-2022-Team-A/notebooks/img_connect_validation_experiment.ipynb#W2sdnNjb2RlLXJlbW90ZQ%3D%3D?line=7'>8</a>\u001b[0m                 \u001b[39mself\u001b[39m\u001b[39m.\u001b[39m\u001b[39m__setattr__\u001b[39m(key, value)\n\u001b[0;32m---> <a href='vscode-notebook-cell://ssh-remote%2Bgreenecomputecontainer/scratch/alc9635/projects/NYU-Zillow-Capstone-2022-Team-A/notebooks/img_connect_validation_experiment.ipynb#W2sdnNjb2RlLXJlbW90ZQ%3D%3D?line=9'>10</a>\u001b[0m root_path \u001b[39m=\u001b[39m pyrootutils\u001b[39m.\u001b[39;49mfind_root(search_from\u001b[39m=\u001b[39;49m\u001b[39m'\u001b[39;49m\u001b[39mtrain_graphsage_explore.ipynb\u001b[39;49m\u001b[39m'\u001b[39;49m, indicator\u001b[39m=\u001b[39;49m\u001b[39m\"\u001b[39;49m\u001b[39m.git\u001b[39;49m\u001b[39m\"\u001b[39;49m)\n\u001b[1;32m     <a href='vscode-notebook-cell://ssh-remote%2Bgreenecomputecontainer/scratch/alc9635/projects/NYU-Zillow-Capstone-2022-Team-A/notebooks/img_connect_validation_experiment.ipynb#W2sdnNjb2RlLXJlbW90ZQ%3D%3D?line=10'>11</a>\u001b[0m \u001b[39mprint\u001b[39m(\u001b[39m'\u001b[39m\u001b[39mSet WD location to\u001b[39m\u001b[39m'\u001b[39m, root_path)\n\u001b[1;32m     <a href='vscode-notebook-cell://ssh-remote%2Bgreenecomputecontainer/scratch/alc9635/projects/NYU-Zillow-Capstone-2022-Team-A/notebooks/img_connect_validation_experiment.ipynb#W2sdnNjb2RlLXJlbW90ZQ%3D%3D?line=11'>12</a>\u001b[0m pyrootutils\u001b[39m.\u001b[39mset_root(\n\u001b[1;32m     <a href='vscode-notebook-cell://ssh-remote%2Bgreenecomputecontainer/scratch/alc9635/projects/NYU-Zillow-Capstone-2022-Team-A/notebooks/img_connect_validation_experiment.ipynb#W2sdnNjb2RlLXJlbW90ZQ%3D%3D?line=12'>13</a>\u001b[0m     path\u001b[39m=\u001b[39mroot_path,\n\u001b[1;32m     <a href='vscode-notebook-cell://ssh-remote%2Bgreenecomputecontainer/scratch/alc9635/projects/NYU-Zillow-Capstone-2022-Team-A/notebooks/img_connect_validation_experiment.ipynb#W2sdnNjb2RlLXJlbW90ZQ%3D%3D?line=13'>14</a>\u001b[0m     project_root_env_var\u001b[39m=\u001b[39m\u001b[39mTrue\u001b[39;00m,\n\u001b[0;32m   (...)\u001b[0m\n\u001b[1;32m     <a href='vscode-notebook-cell://ssh-remote%2Bgreenecomputecontainer/scratch/alc9635/projects/NYU-Zillow-Capstone-2022-Team-A/notebooks/img_connect_validation_experiment.ipynb#W2sdnNjb2RlLXJlbW90ZQ%3D%3D?line=16'>17</a>\u001b[0m     cwd\u001b[39m=\u001b[39m\u001b[39mTrue\u001b[39;00m\n\u001b[1;32m     <a href='vscode-notebook-cell://ssh-remote%2Bgreenecomputecontainer/scratch/alc9635/projects/NYU-Zillow-Capstone-2022-Team-A/notebooks/img_connect_validation_experiment.ipynb#W2sdnNjb2RlLXJlbW90ZQ%3D%3D?line=17'>18</a>\u001b[0m )\n",
      "File \u001b[0;32m/ext3/conda/zillow_MMKG/lib/python3.8/site-packages/pyrootutils/pyrootutils.py:65\u001b[0m, in \u001b[0;36mfind_root\u001b[0;34m(search_from, indicator)\u001b[0m\n\u001b[1;32m     62\u001b[0m     indicator \u001b[39m=\u001b[39m [indicator]\n\u001b[1;32m     64\u001b[0m \u001b[39mif\u001b[39;00m \u001b[39mnot\u001b[39;00m search_from\u001b[39m.\u001b[39mexists():\n\u001b[0;32m---> 65\u001b[0m     \u001b[39mraise\u001b[39;00m \u001b[39mFileNotFoundError\u001b[39;00m(\u001b[39m\"\u001b[39m\u001b[39msearch_from path does not exist.\u001b[39m\u001b[39m\"\u001b[39m)\n\u001b[1;32m     67\u001b[0m \u001b[39mif\u001b[39;00m \u001b[39mnot\u001b[39;00m \u001b[39mhasattr\u001b[39m(indicator, \u001b[39m\"\u001b[39m\u001b[39m__iter__\u001b[39m\u001b[39m\"\u001b[39m) \u001b[39mor\u001b[39;00m \u001b[39mnot\u001b[39;00m \u001b[39mall\u001b[39m(\u001b[39misinstance\u001b[39m(i, \u001b[39mstr\u001b[39m) \u001b[39mfor\u001b[39;00m i \u001b[39min\u001b[39;00m indicator):\n\u001b[1;32m     68\u001b[0m     \u001b[39mraise\u001b[39;00m \u001b[39mTypeError\u001b[39;00m(\u001b[39m\"\u001b[39m\u001b[39mindicator must be a string or list of strings.\u001b[39m\u001b[39m\"\u001b[39m)\n",
      "\u001b[0;31mFileNotFoundError\u001b[0m: search_from path does not exist."
     ]
    }
   ],
   "source": [
    "class NestedNamespace(SimpleNamespace):\n",
    "    def __init__(self, dictionary, **kwargs):\n",
    "        super().__init__(**kwargs)\n",
    "        for key, value in dictionary.items():\n",
    "            if isinstance(value, dict):\n",
    "                self.__setattr__(key, NestedNamespace(value))\n",
    "            else:\n",
    "                self.__setattr__(key, value)\n",
    "\n",
    "root_path = pyrootutils.find_root(search_from='train_graphsage_explore.ipynb', indicator=\".git\")\n",
    "print('Set WD location to', root_path)\n",
    "pyrootutils.set_root(\n",
    "    path=root_path,\n",
    "    project_root_env_var=True,\n",
    "    dotenv=True,\n",
    "    pythonpath=True,\n",
    "    cwd=True\n",
    ")\n",
    "\n",
    "cfg = NestedNamespace(yaml.load(open('conf/config.yaml'), Loader=Loader))\n",
    "\n",
    "if not torch.cuda.is_available():\n",
    "    device = \"cpu\"\n",
    "else:\n",
    "    device = \"cuda\""
   ]
  },
  {
   "cell_type": "code",
   "execution_count": 25,
   "metadata": {},
   "outputs": [
    {
     "name": "stdout",
     "output_type": "stream",
     "text": [
      "Done loading data from cached files.\n"
     ]
    },
    {
     "name": "stderr",
     "output_type": "stream",
     "text": [
      "GPU available: True (cuda), used: True\n",
      "TPU available: False, using: 0 TPU cores\n",
      "IPU available: False, using: 0 IPUs\n",
      "HPU available: False, using: 0 HPUs\n",
      "LOCAL_RANK: 0 - CUDA_VISIBLE_DEVICES: [0]\n",
      "\n",
      "  | Name                    | Type           | Params\n",
      "-----------------------------------------------------------\n",
      "0 | module                  | SAGE           | 1.6 M \n",
      "1 | predictor               | ScorePredictor | 0     \n",
      "2 | train_loss              | MeanMetric     | 0     \n",
      "3 | mean_val_positive_score | MeanMetric     | 0     \n",
      "-----------------------------------------------------------\n",
      "1.6 M     Trainable params\n",
      "0         Non-trainable params\n",
      "1.6 M     Total params\n",
      "6.298     Total estimated model params size (MB)\n"
     ]
    },
    {
     "name": "stdout",
     "output_type": "stream",
     "text": [
      "                                                                            "
     ]
    },
    {
     "name": "stderr",
     "output_type": "stream",
     "text": [
      "/ext3/conda/zillow_MMKG/lib/python3.8/site-packages/pytorch_lightning/utilities/data.py:135: UserWarning: Your `IterableDataset` has `__len__` defined. In combination with multi-process data loading (when num_workers > 1), `__len__` could be inaccurate if each worker is not configured independently to avoid having duplicate data.\n",
      "  rank_zero_warn(\n",
      "/ext3/conda/zillow_MMKG/lib/python3.8/site-packages/pytorch_lightning/trainer/connectors/data_connector.py:224: PossibleUserWarning: The dataloader, val_dataloader 0, does not have many workers which may be a bottleneck. Consider increasing the value of the `num_workers` argument` (try 48 which is the number of cpus on this machine) in the `DataLoader` init to improve performance.\n",
      "  rank_zero_warn(\n",
      "/ext3/conda/zillow_MMKG/lib/python3.8/site-packages/lightning_lite/utilities/data.py:63: UserWarning: Your `IterableDataset` has `__len__` defined. In combination with multi-process data loading (when num_workers > 1), `__len__` could be inaccurate if each worker is not configured independently to avoid having duplicate data.\n",
      "  rank_zero_warn(\n",
      "/ext3/conda/zillow_MMKG/lib/python3.8/site-packages/pytorch_lightning/trainer/connectors/data_connector.py:224: PossibleUserWarning: The dataloader, train_dataloader, does not have many workers which may be a bottleneck. Consider increasing the value of the `num_workers` argument` (try 48 which is the number of cpus on this machine) in the `DataLoader` init to improve performance.\n",
      "  rank_zero_warn(\n"
     ]
    },
    {
     "name": "stdout",
     "output_type": "stream",
     "text": [
      "Epoch 9: 100%|██████████| 227/227 [00:03<00:00, 70.10it/s, loss=0.472, v_num=441, mean_val_positive_score=0.688]"
     ]
    },
    {
     "name": "stderr",
     "output_type": "stream",
     "text": [
      "`Trainer.fit` stopped: `max_epochs=10` reached.\n"
     ]
    },
    {
     "name": "stdout",
     "output_type": "stream",
     "text": [
      "Epoch 9: 100%|██████████| 227/227 [00:03<00:00, 70.07it/s, loss=0.472, v_num=441, mean_val_positive_score=0.688]\n"
     ]
    }
   ],
   "source": [
    "# Vanilla Graph Training\n",
    "org = 'zillow'\n",
    "\n",
    "if org == 'coco':\n",
    "    csv_dataset_root = cfg.data.coco_graph_root\n",
    "elif org == 'zillow':\n",
    "    csv_dataset_root = cfg.data.zillow_root\n",
    "\n",
    "modal_node_ids_file = os.path.join(csv_dataset_root,'modal_node_ids.json')\n",
    "datamodule = DataModule(\n",
    "    csv_dataset_root, \n",
    "    modal_node_ids_file, \n",
    "    keyword_as_src=False, \n",
    "    device=device, \n",
    "    batch_size=cfg.training.batch_size, \n",
    "    force_reload=False\n",
    ")\n",
    "\n",
    "model = SAGELightning(\n",
    "    datamodule.in_dim,\n",
    "    cfg.model.hidden_dim,\n",
    "    n_layers=cfg.model.n_layers,\n",
    "    batch_size=cfg.training.batch_size,\n",
    ")\n",
    "\n",
    "checkpoint_callback = ModelCheckpoint(\n",
    "    monitor=\"mean_val_positive_score\", save_top_k=1, mode=\"max\"\n",
    ")\n",
    "trainer = Trainer(accelerator=\"gpu\", max_epochs=10, callbacks=[checkpoint_callback])\n",
    "trainer.fit(model, datamodule=datamodule)"
   ]
  },
  {
   "cell_type": "code",
   "execution_count": 26,
   "metadata": {},
   "outputs": [
    {
     "name": "stdout",
     "output_type": "stream",
     "text": [
      "val and eval keyword node IDs:\n",
      "tensor([82720, 82721, 82722,  ..., 84249, 84250, 84251], device='cuda:0')\n",
      "tensor([82720, 82721, 82722,  ..., 84249, 84250, 84251], device='cuda:0')\n",
      "number of val img nodes: 12496\n"
     ]
    },
    {
     "name": "stderr",
     "output_type": "stream",
     "text": [
      "computing image matches: 100%|██████████| 12496/12496 [00:02<00:00, 5027.80it/s]\n"
     ]
    },
    {
     "name": "stdout",
     "output_type": "stream",
     "text": [
      "match stats:\n",
      "min matches: 1\n",
      "max matches: 414\n",
      "avg matches: 6.366437259923176\n",
      "std matches: 22.694494916935167\n",
      "total new edges to add: 159110\n"
     ]
    },
    {
     "data": {
      "text/plain": [
       "Graph(num_nodes=71651, num_edges=421169,\n",
       "      ndata_schemes={'feat': Scheme(shape=(512,), dtype=torch.float32), 'test_mask': Scheme(shape=(), dtype=torch.uint8), 'ntype': Scheme(shape=(), dtype=torch.int64), 'val_mask': Scheme(shape=(), dtype=torch.uint8), 'train_mask': Scheme(shape=(), dtype=torch.uint8), '_ID': Scheme(shape=(), dtype=torch.int64)}\n",
       "      edata_schemes={'count': Scheme(shape=(), dtype=torch.int64), '_ID': Scheme(shape=(), dtype=torch.int64)})"
      ]
     },
     "execution_count": 26,
     "metadata": {},
     "output_type": "execute_result"
    }
   ],
   "source": [
    "###############################################################\n",
    "#### Build train + validation eval_graph, where we connect ####\n",
    "#### val and train subgraph by introducing edges between   ####\n",
    "#### images in each subgraph based on cosine similarity    ####\n",
    "###############################################################\n",
    "\n",
    "# Step 1: Initialize val and eval subgraph\n",
    "val_subgraph = datamodule.g_bid.subgraph(datamodule.val_nid)\n",
    "eval_subgraph = datamodule.g_bid.subgraph(datamodule.train_nid)\n",
    "\n",
    "print('val and eval keyword node IDs:')\n",
    "print(val_subgraph.ndata['_ID'][(val_subgraph.ndata['ntype']==1).nonzero().squeeze()])\n",
    "print(eval_subgraph.ndata['_ID'][(eval_subgraph.ndata['ntype']==1).nonzero().squeeze()])\n",
    "\n",
    "# Step 2: Add all nodes from val_subgraph to eval_subgraph (no edges yet - these will be added based on cosine similarity)\n",
    "val_img_node_idxs = (val_subgraph.ndata['ntype'] == 0).nonzero().squeeze()\n",
    "val_img_embeds = val_subgraph.ndata['feat'][val_img_node_idxs]\n",
    "val_img_node_ids = val_subgraph.ndata['_ID'][val_img_node_idxs]\n",
    "print('number of val img nodes:', len(val_img_node_ids))\n",
    "\n",
    "val_nodes_data = {'train_mask': torch.zeros(len(val_img_node_ids), dtype=torch.uint8).to(device),\n",
    "                  'val_mask': torch.ones(len(val_img_node_ids), dtype=torch.uint8).to(device),\n",
    "                  'test_mask': torch.zeros(len(val_img_node_ids), dtype=torch.uint8).to(device),\n",
    "                  'ntype': torch.zeros(len(val_img_node_ids), dtype=torch.int64).to(device),\n",
    "                  'feat': val_img_embeds.to(device),\n",
    "                  '_ID': val_img_node_ids}\n",
    "\n",
    "eval_subgraph.add_nodes(num=len(val_img_node_ids), data=val_nodes_data)\n",
    "\n",
    "# Step 3: Identify image node pairs as edges\n",
    "\n",
    "eval_train_img_node_idxs = ((eval_subgraph.ndata['ntype'] == 0)&(eval_subgraph.ndata['train_mask']==1)).nonzero().squeeze()\n",
    "eval_val_img_node_idxs = ((eval_subgraph.ndata['ntype'] == 0)&(eval_subgraph.ndata['val_mask']==1)).nonzero().squeeze()\n",
    "eval_train_img_embeds = eval_subgraph.ndata['feat'][eval_train_img_node_idxs]\n",
    "eval_val_img_embeds = eval_subgraph.ndata['feat'][eval_val_img_node_idxs]\n",
    "\n",
    "cosine_sims_matrix = metrics.pairwise.cosine_similarity(eval_val_img_embeds.cpu().detach().numpy(), \n",
    "                                                        eval_train_img_embeds.cpu().detach().numpy())\n",
    "sim_threshold = 0.975\n",
    "        \n",
    "image_matches = []\n",
    "for cosine_sims in tqdm(cosine_sims_matrix, desc='computing image matches'):\n",
    "    eval_train_node_id_matches = eval_train_img_node_idxs[(cosine_sims>sim_threshold)]\n",
    "    if len(eval_train_node_id_matches) == 0:\n",
    "        eval_train_node_id_matches = eval_train_img_node_idxs[np.argmax(cosine_sims)].unsqueeze(0)\n",
    "    image_matches.append(eval_train_node_id_matches.tolist())\n",
    "\n",
    "matches_per_img = [len(matches) for matches in image_matches]\n",
    "print('match stats:')\n",
    "print(f'min matches: {np.min(matches_per_img)}')\n",
    "print(f'max matches: {np.max(matches_per_img)}')\n",
    "print(f'avg matches: {np.mean(matches_per_img)}')\n",
    "print(f'std matches: {np.std(matches_per_img)}')\n",
    "print(f'total new edges to add: {sum(matches_per_img)*2}')\n",
    "\n",
    "# Step 4: Add the edges to eval_subgraph\n",
    "\n",
    "u = []\n",
    "v = []\n",
    "\n",
    "for i in range(len(image_matches)):\n",
    "    val_img_node = eval_val_img_node_idxs[i].item()\n",
    "    train_img_matches = image_matches[i]\n",
    "    for node_id in train_img_matches:\n",
    "        train_img_node = node_id\n",
    "        # Add bidirectional edge for each match\n",
    "        u += [val_img_node, train_img_node]\n",
    "        v += [train_img_node, val_img_node]\n",
    "\n",
    "edge_data = {'_ID': torch.arange(torch.max(eval_subgraph.edata['_ID'])+1, torch.max(eval_subgraph.edata['_ID'])+1+len(u), dtype=torch.int64).to(device)}\n",
    "eval_subgraph.add_edges(torch.LongTensor(u).to(device), torch.LongTensor(v).to(device), data=edge_data)\n",
    "eval_subgraph = eval_subgraph.add_self_loop()\n",
    "eval_subgraph"
   ]
  },
  {
   "cell_type": "code",
   "execution_count": 27,
   "metadata": {},
   "outputs": [],
   "source": [
    "# Step 5: Turn DGL graph into DataLoader object for GraphSAGE forward inference\n",
    "\n",
    "u_eval, v_eval = eval_subgraph.edges()\n",
    "eval_subgraph_eids = eval_subgraph.edge_ids(u_eval, v_eval)\n",
    "layer_sampler = dgl.dataloading.NeighborSampler(fanouts=[10]) # During message passing between GNN layers, each node accept messages from a maximum of 25 incoming nodes\n",
    "batch_size = len(eval_subgraph.edges()[0])\n",
    "\n",
    "def eval_dataloader(g, layer_sampler, batch_size, eids):\n",
    "    edge_sampler = dgl.dataloading.as_edge_prediction_sampler(layer_sampler)\n",
    "\n",
    "    return dgl.dataloading.DataLoader(\n",
    "        g,\n",
    "        eids,\n",
    "        edge_sampler,\n",
    "        device=device,\n",
    "        batch_size=batch_size,\n",
    "        shuffle=False,\n",
    "        drop_last=False\n",
    "        # num_workers=self.num_workers,\n",
    "    )\n",
    "\n",
    "eval_dl = eval_dataloader(eval_subgraph, layer_sampler, batch_size, eval_subgraph_eids)\n"
   ]
  },
  {
   "cell_type": "code",
   "execution_count": 28,
   "metadata": {},
   "outputs": [
    {
     "name": "stdout",
     "output_type": "stream",
     "text": [
      "Graph(num_nodes=71651, num_edges=421169,\n",
      "      ndata_schemes={'feat': Scheme(shape=(512,), dtype=torch.float32), 'test_mask': Scheme(shape=(), dtype=torch.uint8), 'ntype': Scheme(shape=(), dtype=torch.int64), 'val_mask': Scheme(shape=(), dtype=torch.uint8), 'train_mask': Scheme(shape=(), dtype=torch.uint8), '_ID': Scheme(shape=(), dtype=torch.int64), 'feat_pred_norm': Scheme(shape=(512,), dtype=torch.float32)}\n",
      "      edata_schemes={'count': Scheme(shape=(), dtype=torch.int64), '_ID': Scheme(shape=(), dtype=torch.int64)})\n"
     ]
    }
   ],
   "source": [
    "# Step 6: Run graphSAGE forward inference over entire val_subgraph message flow graph (MFG)\n",
    "\n",
    "for batch in eval_dl:\n",
    "    # This loop only runs once b/c batch_size = number of total edges in train_val_subgraph - we only need it to get \"blocks\"\n",
    "    inputs, edge_subgraph, blocks = batch\n",
    "    \n",
    "x = blocks[0].srcdata[\"feat\"]\n",
    "model = model.to(device)\n",
    "logits = model.module(blocks, x)\n",
    "\n",
    "eval_subgraph.ndata['feat_pred_norm'] = F.normalize(logits, p=2, dim=-1)\n",
    "print(eval_subgraph)"
   ]
  },
  {
   "cell_type": "code",
   "execution_count": 29,
   "metadata": {},
   "outputs": [
    {
     "name": "stdout",
     "output_type": "stream",
     "text": [
      "torch.Size([12496, 512])\n",
      "torch.Size([1532, 512])\n"
     ]
    }
   ],
   "source": [
    "# Step 7: Extract validation image features and keyword features for \n",
    "eval_val_img_node_ids = ((eval_subgraph.ndata['val_mask']==1)&(eval_subgraph.ndata['ntype']==0)).nonzero().squeeze()\n",
    "eval_keyword_node_ids = ((eval_subgraph.ndata['ntype']==1)).nonzero().squeeze()\n",
    "\n",
    "# Post-GraphSAGE embeddings\n",
    "eval_val_img_feat_sage = eval_subgraph.ndata['feat_pred_norm'][eval_val_img_node_ids]\n",
    "eval_keyword_feat_sage = eval_subgraph.ndata['feat_pred_norm'][eval_keyword_node_ids]\n",
    "\n",
    "# Original CLIP embeddings before GraphSAGE forward method\n",
    "eval_subgraph.ndata['feat_norm'] = F.normalize(eval_subgraph.ndata['feat'], p=2, dim=-1)\n",
    "eval_val_img_feat_clip = eval_subgraph.ndata['feat_norm'][eval_val_img_node_ids]\n",
    "eval_keyword_feat_clip = eval_subgraph.ndata['feat_norm'][eval_keyword_node_ids]\n",
    "\n",
    "print(eval_val_img_feat_sage.size())\n",
    "print(eval_keyword_feat_sage.size())"
   ]
  },
  {
   "cell_type": "code",
   "execution_count": 30,
   "metadata": {},
   "outputs": [
    {
     "name": "stdout",
     "output_type": "stream",
     "text": [
      "link scores shape: (1532, 12496)\n"
     ]
    }
   ],
   "source": [
    "# Step 8: Compute cosine similarities between validation images and keywords to get \"link scores\" between 0 and 1\n",
    "\n",
    "val_sage_link_scores = metrics.pairwise.cosine_similarity(eval_keyword_feat_sage.cpu().detach().numpy(),\n",
    "                                                          eval_val_img_feat_sage.cpu().detach().numpy())\n",
    "val_clip_link_scores = metrics.pairwise.cosine_similarity(eval_keyword_feat_clip.cpu().detach().numpy(),\n",
    "                                                          eval_val_img_feat_clip.cpu().detach().numpy())\n",
    "\n",
    "print('link scores shape:', val_sage_link_scores.shape)"
   ]
  },
  {
   "cell_type": "code",
   "execution_count": 31,
   "metadata": {},
   "outputs": [
    {
     "name": "stdout",
     "output_type": "stream",
     "text": [
      "adjacency matrix (ground truth) shape: (1532, 12496)\n"
     ]
    }
   ],
   "source": [
    "# Step 9: Get true labels for each keyword from validation subgraph adjacency matrix\n",
    "# Adjacency matrix needs to be sub-setted such that rows correspond only to image nodes and columns correspond only to keyword nodes\n",
    "val_img_indices = (val_subgraph.ndata['ntype']==0).nonzero().cpu().reshape(1, -1)\n",
    "val_keyword_indices = (val_subgraph.ndata['ntype']==1).nonzero().cpu().reshape(-1, 1)\n",
    "\n",
    "val_adj_matrix = val_subgraph.adjacency_matrix().to_dense().numpy()\n",
    "val_adj_matrix = val_adj_matrix[val_keyword_indices, val_img_indices]\n",
    "print('adjacency matrix (ground truth) shape:', val_adj_matrix.shape)"
   ]
  },
  {
   "cell_type": "code",
   "execution_count": 32,
   "metadata": {},
   "outputs": [
    {
     "name": "stdout",
     "output_type": "stream",
     "text": [
      "adj matrix col indices used to get images: tensor([    0,     1,     2,  ..., 12493, 12494, 12495])\n",
      "adj matrix row indices used to get keywords: tensor([12496, 12497, 12498,  ..., 14025, 14026, 14027])\n",
      "OG node IDs represented by val image indices: tensor([   10,    15,    18,  ..., 82711, 82713, 82717], device='cuda:0')\n",
      "OG node IDs represented by eval image indices: tensor([   10,    15,    18,  ..., 82711, 82713, 82717], device='cuda:0')\n",
      "OG node IDs represented by val keyword indices: tensor([82720, 82721, 82722,  ..., 84249, 84250, 84251], device='cuda:0')\n",
      "OG node IDs represented by eval keyword indices: tensor([82720, 82721, 82722,  ..., 84249, 84250, 84251], device='cuda:0')\n"
     ]
    }
   ],
   "source": [
    "# Sanity check node IDs for val and eval subgraphs\n",
    "print('adj matrix col indices used to get images:', val_img_indices.squeeze())\n",
    "print('adj matrix row indices used to get keywords:', val_keyword_indices.squeeze())\n",
    "print('OG node IDs represented by val image indices:', val_subgraph.ndata['_ID'][val_img_indices].squeeze())\n",
    "print('OG node IDs represented by eval image indices:', eval_subgraph.ndata['_ID'][eval_val_img_node_ids])\n",
    "print('OG node IDs represented by val keyword indices:', val_subgraph.ndata['_ID'][val_keyword_indices].squeeze())\n",
    "print('OG node IDs represented by eval keyword indices:', eval_subgraph.ndata['_ID'][eval_keyword_node_ids])\n"
   ]
  },
  {
   "cell_type": "code",
   "execution_count": 34,
   "metadata": {},
   "outputs": [
    {
     "name": "stdout",
     "output_type": "stream",
     "text": [
      "Metrics:\n",
      "   threshold method  precision_micro  precision_macro  recall_micro  \\\n",
      "0       0.40   sage         0.000004         0.000410      0.000160   \n",
      "1       0.40   clip         0.000058         0.007014      0.000539   \n",
      "2       0.45   sage         0.000004         0.000413      0.000101   \n",
      "3       0.45   clip         0.000008         0.001414      0.000001   \n",
      "4       0.50   sage         0.000004         0.000412      0.000066   \n",
      "5       0.50   clip         0.000000         0.000000      0.000000   \n",
      "6       0.55   sage         0.000004         0.000409      0.000048   \n",
      "7       0.55   clip         0.000000         0.000000      0.000000   \n",
      "8       0.60   sage         0.000004         0.000420      0.000038   \n",
      "9       0.60   clip         0.000000         0.000000      0.000000   \n",
      "\n",
      "   recall_macro  \n",
      "0      0.170425  \n",
      "1      0.451483  \n",
      "2      0.105597  \n",
      "3      0.002072  \n",
      "4      0.068622  \n",
      "5      0.000000  \n",
      "6      0.051036  \n",
      "7      0.000000  \n",
      "8      0.038380  \n",
      "9      0.000000  \n"
     ]
    }
   ],
   "source": [
    "# Step 10: Make predictions based on prediction threshold and get precision, recall, and accuracy \n",
    "pred_thresholds = [0.4, 0.45, 0.5, 0.55, 0.6, 0.65, 0.7, 0.75, 0.8, 0.85, 0.9]\n",
    "sage_clip_metrics = pd.DataFrame()\n",
    "\n",
    "for pred_threshold in pred_thresholds:\n",
    "    val_sage_link_predictions = (val_sage_link_scores > pred_threshold).astype(int)\n",
    "    val_clip_link_predictions = (val_clip_link_scores > pred_threshold).astype(int)\n",
    "\n",
    "    results_dict = {'sage': {'precision': np.empty(len(val_sage_link_predictions)),\n",
    "                            'recall': np.empty(len(val_sage_link_predictions))},\n",
    "                    'clip': {'precision': np.empty(len(val_sage_link_predictions)),\n",
    "                            'recall': np.empty(len(val_sage_link_predictions))}}\n",
    "\n",
    "    weights = np.empty(len(val_sage_link_predictions))\n",
    "\n",
    "    for i in range(len(val_sage_link_predictions)):\n",
    "        sage_tp = np.sum(((val_sage_link_predictions[i]==1)&(val_adj_matrix[i]==1)))\n",
    "        sage_p = np.sum(val_sage_link_predictions[i])\n",
    "        \n",
    "        clip_tp = np.sum(((val_clip_link_predictions[i]==1)&(val_adj_matrix[i]==1)))\n",
    "        clip_p = np.sum(val_clip_link_predictions[i])\n",
    "\n",
    "        true_p = np.sum(val_adj_matrix[i])\n",
    "        \n",
    "        results_dict['sage']['precision'][i] = sage_tp / sage_p if sage_p > 0 else 0\n",
    "        results_dict['clip']['precision'][i] = clip_tp / clip_p if clip_p > 0 else 0\n",
    "        results_dict['sage']['recall'][i] = sage_tp / true_p if true_p > 0 else 0\n",
    "        results_dict['clip']['recall'][i] = clip_tp / true_p if true_p > 0 else 0\n",
    "\n",
    "        weights[i] = true_p\n",
    "\n",
    "    weights /= np.sum(weights)\n",
    "\n",
    "    for method in results_dict.keys():\n",
    "        row = {'threshold': pred_threshold, 'method': method}\n",
    "        for metric in results_dict[method]:\n",
    "            row[f'{metric}_micro'] = np.mean(results_dict[method][metric]*weights)\n",
    "            row[f'{metric}_macro'] = np.mean(results_dict[method][metric])\n",
    "        sage_clip_metrics = pd.concat([sage_clip_metrics, pd.DataFrame([row])], ignore_index=True)\n",
    "\n",
    "print('Metrics:')\n",
    "print(sage_clip_metrics.head(10))"
   ]
  },
  {
   "cell_type": "code",
   "execution_count": 40,
   "metadata": {},
   "outputs": [
    {
     "data": {
      "image/png": "[encoded data removed]",
      "text/plain": [
       "<Figure size 432x288 with 1 Axes>"
      ]
     },
     "metadata": {
      "needs_background": "light"
     },
     "output_type": "display_data"
    },
    {
     "data": {
      "image/png": "[encoded data removed]",
      "text/plain": [
       "<Figure size 432x288 with 1 Axes>"
      ]
     },
     "metadata": {
      "needs_background": "light"
     },
     "output_type": "display_data"
    },
    {
     "data": {
      "image/png": "[encoded data removed]",
      "text/plain": [
       "<Figure size 432x288 with 1 Axes>"
      ]
     },
     "metadata": {
      "needs_background": "light"
     },
     "output_type": "display_data"
    },
    {
     "data": {
      "image/png": "[encoded data removed]",
      "text/plain": [
       "<Figure size 432x288 with 1 Axes>"
      ]
     },
     "metadata": {
      "needs_background": "light"
     },
     "output_type": "display_data"
    }
   ],
   "source": [
    "import matplotlib.pyplot as plt\n",
    "\n",
    "sage_micro_threshold_metrics = sage_clip_metrics[sage_clip_metrics['method']=='sage'][['threshold', 'precision_micro', 'recall_micro']]\n",
    "clip_micro_threshold_metrics = sage_clip_metrics[sage_clip_metrics['method']=='clip'][['threshold', 'precision_micro', 'recall_micro']]\n",
    "sage_macro_threshold_metrics = sage_clip_metrics[sage_clip_metrics['method']=='sage'][['threshold', 'precision_macro', 'recall_macro']]\n",
    "clip_macro_threshold_metrics = sage_clip_metrics[sage_clip_metrics['method']=='sage'][['threshold', 'precision_macro', 'recall_macro']]\n",
    "\n",
    "\n",
    "for avg_type in ['micro', 'macro']:\n",
    "    legend = []\n",
    "    for metric in ['precision', 'recall']:\n",
    "        for method in ['sage', 'clip']:\n",
    "            plt.plot(sage_clip_metrics[sage_clip_metrics['method']==method]['threshold'], \n",
    "                    sage_clip_metrics[sage_clip_metrics['method']==method][f'{metric}_{avg_type}'])\n",
    "            legend += [f'{method}_{metric}']\n",
    "        plt.legend(legend)\n",
    "        plt.xlabel('positive prediction threshold')\n",
    "        plt.ylabel('metric')\n",
    "        plt.title(f'{avg_type}-averaged link prediction {metric}')\n",
    "        plt.show()\n"
   ]
  },
  {
   "cell_type": "code",
   "execution_count": 65,
   "metadata": {},
   "outputs": [
    {
     "name": "stderr",
     "output_type": "stream",
     "text": [
      "100%|██████████| 1532/1532 [00:00<00:00, 15040.81it/s]"
     ]
    },
    {
     "name": "stdout",
     "output_type": "stream",
     "text": [
      "tensor([ 0.0180,  0.0257, -0.0215, -0.0374,  0.0009,  0.0196,  0.0055, -0.0895,\n",
      "         0.0094, -0.0379], device='cuda:0')\n",
      "tensor([0.0000, 0.0000, 0.0127, 0.0534, 0.0000, 0.0055, 0.0000, 0.1418, 0.0272,\n",
      "        0.0000], device='cuda:0', grad_fn=<SliceBackward0>)\n"
     ]
    },
    {
     "name": "stderr",
     "output_type": "stream",
     "text": [
      "\n"
     ]
    }
   ],
   "source": [
    "# Side quest: check out how nodes with only self loops change in terms of their embeddings after running graphSAGE forward\n",
    "\n",
    "eval_subgraph_keyword_nodes = (eval_subgraph.ndata['ntype']==1).nonzero().squeeze()\n",
    "u, v = eval_subgraph.edges()\n",
    "uv = torch.cat((u,v))\n",
    "\n",
    "only_self_loops = []\n",
    "for node in tqdm(eval_subgraph_keyword_nodes):\n",
    "    count = torch.sum((uv==node))\n",
    "    if count == 2:\n",
    "        only_self_loops.append(node.item())\n",
    "\n",
    "print(eval_subgraph.ndata['feat_norm'][only_self_loops[0]][:10])\n",
    "print(eval_subgraph.ndata['feat_pred_norm'][only_self_loops[0]][:10])\n"
   ]
  },
  {
   "cell_type": "code",
   "execution_count": null,
   "metadata": {},
   "outputs": [],
   "source": []
  }
 ],
 "metadata": {
  "kernelspec": {
   "display_name": "Python 3.8.13",
   "language": "python",
   "name": "python3"
  },
  "language_info": {
   "codemirror_mode": {
    "name": "ipython",
    "version": 3
   },
   "file_extension": ".py",
   "mimetype": "text/x-python",
   "name": "python",
   "nbconvert_exporter": "python",
   "pygments_lexer": "ipython3",
   "version": "3.8.13"
  },
  "orig_nbformat": 4,
  "vscode": {
   "interpreter": {
    "hash": "b8a98180768ec50653acfbae9679ecd2014a1d8366e4dd2cee9bea05835201d8"
   }
  }
 },
 "nbformat": 4,
 "nbformat_minor": 2
}
