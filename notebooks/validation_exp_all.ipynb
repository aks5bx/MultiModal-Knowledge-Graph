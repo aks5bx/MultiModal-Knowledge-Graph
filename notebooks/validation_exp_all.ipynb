{
 "cells": [
  {
   "cell_type": "markdown",
   "metadata": {},
   "source": [
    "# **Setup**"
   ]
  },
  {
   "attachments": {},
   "cell_type": "markdown",
   "metadata": {},
   "source": [
    "## Libraries"
   ]
  },
  {
   "attachments": {},
   "cell_type": "markdown",
   "metadata": {},
   "source": [
    "We import various libraries for general Python use, DGL (used to create the graph), and PyTorch use"
   ]
  },
  {
   "cell_type": "code",
   "execution_count": 2,
   "metadata": {},
   "outputs": [
    {
     "ename": "ModuleNotFoundError",
     "evalue": "No module named 'tqdm'",
     "output_type": "error",
     "traceback": [
      "\u001b[0;31m---------------------------------------------------------------------------\u001b[0m",
      "\u001b[0;31mModuleNotFoundError\u001b[0m                       Traceback (most recent call last)",
      "Cell \u001b[0;32mIn [2], line 10\u001b[0m\n\u001b[1;32m      8\u001b[0m \u001b[39mimport\u001b[39;00m \u001b[39msys\u001b[39;00m\n\u001b[1;32m      9\u001b[0m \u001b[39mfrom\u001b[39;00m \u001b[39mfunctools\u001b[39;00m \u001b[39mimport\u001b[39;00m partial\n\u001b[0;32m---> 10\u001b[0m \u001b[39mfrom\u001b[39;00m \u001b[39mtqdm\u001b[39;00m \u001b[39mimport\u001b[39;00m tqdm\n\u001b[1;32m     11\u001b[0m \u001b[39mimport\u001b[39;00m \u001b[39mjson\u001b[39;00m\n\u001b[1;32m     12\u001b[0m \u001b[39mfrom\u001b[39;00m \u001b[39mtypes\u001b[39;00m \u001b[39mimport\u001b[39;00m SimpleNamespace\n",
      "\u001b[0;31mModuleNotFoundError\u001b[0m: No module named 'tqdm'"
     ]
    }
   ],
   "source": [
    "## Warnings output \n",
    "import warnings\n",
    "warnings.filterwarnings('ignore')\n",
    "\n",
    "## Python Libraries \n",
    "import argparse\n",
    "import os\n",
    "import sys\n",
    "from functools import partial\n",
    "from tqdm import tqdm\n",
    "import json\n",
    "from types import SimpleNamespace\n",
    "import pyrootutils\n",
    "import hydra\n",
    "import numpy as np\n",
    "from sklearn import metrics\n",
    "import pandas as pd\n",
    "import scipy.stats as st\n",
    "from IPython.display import clear_output\n",
    "import seaborn as sns\n",
    "\n",
    "## DGL \n",
    "import dgl\n",
    "import dgl.function as fn\n",
    "\n",
    "## PyTorch \n",
    "import torch\n",
    "import torch.nn as nn\n",
    "import torch.nn.functional as F\n",
    "from torchmetrics import MeanMetric\n",
    "from pytorch_lightning import LightningDataModule, LightningModule, Trainer\n",
    "from pytorch_lightning.callbacks import ModelCheckpoint\n",
    "from torchmetrics.classification import BinaryAUROC, BinaryAveragePrecision"
   ]
  },
  {
   "cell_type": "markdown",
   "metadata": {},
   "source": [
    "## Config"
   ]
  },
  {
   "attachments": {},
   "cell_type": "markdown",
   "metadata": {},
   "source": [
    "We simulate having cfg available by loading in hydra config as dict; this is to make potential conversion to modularization easier."
   ]
  },
  {
   "cell_type": "code",
   "execution_count": 2,
   "metadata": {},
   "outputs": [],
   "source": [
    "import yaml\n",
    "try:\n",
    "    from yaml import CLoader as Loader, CDumper as Dumper\n",
    "except ImportError:\n",
    "    from yaml import Loader, Dumper"
   ]
  },
  {
   "cell_type": "markdown",
   "metadata": {},
   "source": [
    "## User Definition"
   ]
  },
  {
   "attachments": {},
   "cell_type": "markdown",
   "metadata": {},
   "source": [
    "Primarily for NYU-User development. Each NYU student has their own storage on the NYU HPC cluster. This cell is not necessary if you are not using this cluster. "
   ]
  },
  {
   "cell_type": "code",
   "execution_count": 3,
   "metadata": {},
   "outputs": [],
   "source": [
    "user_net_id = os.getlogin()\n",
    "home_path = '/scratch/' + user_net_id + '/projects/NYU-Zillow-Capstone-2022-Team-A'\n",
    "if home_path not in sys.path:\n",
    "    sys.path.append('/scratch/' + user_net_id + '/projects/NYU-Zillow-Capstone-2022-Team-A')\n",
    "\n",
    "from src.datamodules.negative_sampler import NegativeSampler\n",
    "from src.model.SAGE import SAGE"
   ]
  },
  {
   "cell_type": "markdown",
   "metadata": {},
   "source": [
    "# **Modules**"
   ]
  },
  {
   "attachments": {},
   "cell_type": "markdown",
   "metadata": {},
   "source": [
    "## Graph Generation"
   ]
  },
  {
   "attachments": {},
   "cell_type": "markdown",
   "metadata": {},
   "source": [
    "<ins>Method to convert graph into a bidirectional graph</ins>"
   ]
  },
  {
   "cell_type": "code",
   "execution_count": 4,
   "metadata": {},
   "outputs": [],
   "source": [
    "def to_bidirected_with_reverse_mapping(g):\n",
    "    \"\"\"Makes a graph bidirectional, and returns a mapping array ``mapping`` where ``mapping[i]``\n",
    "    is the reverse edge of edge ID ``i``. Does not work with graphs that have self-loops.\n",
    "    \"\"\"\n",
    "    g_simple, mapping = dgl.to_simple(\n",
    "        dgl.add_reverse_edges(g), return_counts=\"count\", writeback_mapping=True\n",
    "    )\n",
    "    c = g_simple.edata[\"count\"]\n",
    "    num_edges = g.num_edges()\n",
    "    mapping_offset = torch.zeros(g_simple.num_edges() + 1, dtype=g_simple.idtype)\n",
    "    mapping_offset[1:] = c.cumsum(0)\n",
    "    idx = mapping.argsort()\n",
    "    idx_uniq = idx[mapping_offset[:-1]]\n",
    "    reverse_idx = torch.where(\n",
    "        idx_uniq >= num_edges, idx_uniq - num_edges, idx_uniq + num_edges\n",
    "    )\n",
    "    reverse_mapping = mapping[reverse_idx]\n",
    "    # sanity check\n",
    "    src1, dst1 = g_simple.edges()\n",
    "    src2, dst2 = g_simple.find_edges(reverse_mapping)\n",
    "    assert torch.equal(src1, dst2)\n",
    "    assert torch.equal(src2, dst1)\n",
    "    return g_simple, reverse_mapping"
   ]
  },
  {
   "attachments": {},
   "cell_type": "markdown",
   "metadata": {},
   "source": [
    "<ins>Method to \"negative\" sample edges (edges that do not exist)</ins>"
   ]
  },
  {
   "cell_type": "code",
   "execution_count": null,
   "metadata": {},
   "outputs": [],
   "source": [
    "class NegativeSamplerTest(object):\n",
    "    def __init__(self, g, k, max_img_id, keyword_as_src, neg_share=False):\n",
    "        self.weights = g.in_degrees().float() ** 0.75\n",
    "        self.k = k\n",
    "        self.neg_share = neg_share\n",
    "        self.max_img_id = max_img_id\n",
    "        self.keyword_as_src = keyword_as_src\n",
    "\n",
    "    def __call__(self, g, eids):\n",
    "        src, _ = g.find_edges(eids)\n",
    "        if self.keyword_as_src == False:\n",
    "            img_node_mask = src <= self.max_img_id\n",
    "            src = src[img_node_mask]\n",
    "        n = len(src)\n",
    "\n",
    "        if self.neg_share and n % self.k == 0:\n",
    "            dst = self.weights.multinomial(n, replacement=True)\n",
    "            dst = dst.view(-1, 1, self.k).expand(-1, self.k, -1).flatten()\n",
    "        else:\n",
    "            dst = self.weights.multinomial(n * self.k, replacement=True)\n",
    "            \n",
    "        src = src.repeat_interleave(self.k)\n",
    "        return src, dst"
   ]
  },
  {
   "attachments": {},
   "cell_type": "markdown",
   "metadata": {},
   "source": [
    "<ins>Core DataModule class that stores graph and various graph attributes and methods</ins>"
   ]
  },
  {
   "cell_type": "code",
   "execution_count": null,
   "metadata": {},
   "outputs": [],
   "source": [
    "class DataModule(LightningDataModule):\n",
    "    def __init__(\n",
    "        self,\n",
    "        csv_dataset_root,\n",
    "        modal_node_ids_file,\n",
    "        keyword_as_src=False,\n",
    "        data_cpu=False,\n",
    "        fan_out=[3],\n",
    "        device=\"cpu\",\n",
    "        batch_size=1024,\n",
    "        num_workers=4,\n",
    "        force_reload=False,\n",
    "    ):\n",
    "        super().__init__()\n",
    "        self.save_hyperparameters()\n",
    "        dataset = dgl.data.CSVDataset(csv_dataset_root, force_reload=force_reload)\n",
    "        g = dataset[0]\n",
    "        g_bid, reverse_eids = to_bidirected_with_reverse_mapping(g)\n",
    "        g_bid = g_bid.to(device)\n",
    "        g = g.to(device)\n",
    "        reverse_eids = reverse_eids.to(device)\n",
    "\n",
    "        max_img_id = max(json.load(open(modal_node_ids_file, 'r'))['images'])\n",
    "\n",
    "        train_nid = torch.nonzero(g_bid.ndata[\"train_mask\"], as_tuple=True)[0].to(device)\n",
    "        val_nid = torch.nonzero(g_bid.ndata[\"val_mask\"], as_tuple=True)[0].to(device)\n",
    "        test_nid = torch.nonzero(g_bid.ndata[\"test_mask\"], as_tuple=True)[0].to(device)\n",
    "\n",
    "        sampler = dgl.dataloading.NeighborSampler(fan_out)\n",
    "\n",
    "        self.g = g\n",
    "        self.g_bid = g_bid\n",
    "        self.train_nid = train_nid\n",
    "        self.val_nid = val_nid #torch.cat((val_nid, test_nid))\n",
    "        self.sampler = sampler\n",
    "        self.device = device\n",
    "        self.batch_size = batch_size\n",
    "        self.num_workers = num_workers\n",
    "        self.in_dim = g_bid.ndata[\"feat\"].shape[1]\n",
    "        self.reverse_eids = reverse_eids\n",
    "        self.max_img_id = max_img_id\n",
    "        self.keyword_as_src = keyword_as_src\n",
    "\n",
    "\n",
    "    def train_dataloader(self):\n",
    "        edge_sampler = dgl.dataloading.as_edge_prediction_sampler(\n",
    "            self.sampler,\n",
    "            exclude='reverse_id',\n",
    "            reverse_eids=self.reverse_eids,\n",
    "            negative_sampler=NegativeSamplerTest(self.g, 1, self.max_img_id, self.keyword_as_src)\n",
    "        )\n",
    "\n",
    "        train_subgraph = self.g_bid.subgraph(self.train_nid)\n",
    "        train_u, train_v = train_subgraph.edges()\n",
    "        train_eids = train_subgraph.edata['_ID'][train_subgraph.edge_ids(train_u, train_v)]\n",
    "\n",
    "        return dgl.dataloading.DataLoader(\n",
    "            self.g_bid,\n",
    "            train_eids,\n",
    "            edge_sampler,\n",
    "            device=self.device,\n",
    "            batch_size=self.batch_size,\n",
    "            shuffle=True,\n",
    "            drop_last=False\n",
    "        )\n",
    "\n",
    "    def val_dataloader(self):\n",
    "        edge_sampler = dgl.dataloading.as_edge_prediction_sampler(\n",
    "            self.sampler,\n",
    "        )\n",
    "\n",
    "        val_subgraph = self.g_bid.subgraph(self.val_nid)\n",
    "        val_u, val_v = val_subgraph.edges()\n",
    "        val_eids = val_subgraph.edata['_ID'][val_subgraph.edge_ids(val_u, val_v)]\n",
    "\n",
    "        return dgl.dataloading.DataLoader(\n",
    "            self.g_bid,\n",
    "            val_eids,\n",
    "            edge_sampler,\n",
    "            device=self.device,\n",
    "            batch_size=self.batch_size,\n",
    "            shuffle=False,\n",
    "            drop_last=False\n",
    "        )"
   ]
  },
  {
   "cell_type": "markdown",
   "metadata": {},
   "source": [
    "## Model Infrastructure"
   ]
  },
  {
   "attachments": {},
   "cell_type": "markdown",
   "metadata": {},
   "source": [
    "<ins>Cosine Similarity Function and Edge Score Prediction Function</ins>"
   ]
  },
  {
   "cell_type": "code",
   "execution_count": 5,
   "metadata": {},
   "outputs": [],
   "source": [
    "def cosine_sim(a, b):\n",
    "    a = F.normalize(a, p=2, dim=-1)\n",
    "    b = F.normalize(b, p=2, dim=-1)\n",
    "\n",
    "    try:\n",
    "        return a @ b.T\n",
    "    except:\n",
    "        print('Matrix multiplication failed. Check dimensions.')"
   ]
  },
  {
   "cell_type": "code",
   "execution_count": null,
   "metadata": {},
   "outputs": [],
   "source": [
    "class ScorePredictor(nn.Module):\n",
    "    def forward(self, edge_subgraph, x):\n",
    "        with edge_subgraph.local_scope():\n",
    "            edge_subgraph.ndata[\"h\"] = x\n",
    "            edge_subgraph.ndata['h_norm'] = F.normalize(x, p=2, dim=-1)\n",
    "            edge_subgraph.apply_edges(fn.u_dot_v(\"h_norm\", \"h_norm\", \"score\"))\n",
    "            return edge_subgraph.edata[\"score\"]"
   ]
  },
  {
   "attachments": {},
   "cell_type": "markdown",
   "metadata": {},
   "source": [
    "<ins>Sage Lightning Class (contains SAGE learning GNN)</ins>"
   ]
  },
  {
   "cell_type": "code",
   "execution_count": null,
   "metadata": {},
   "outputs": [],
   "source": [
    "class SAGELightning(LightningModule):\n",
    "    def __init__(\n",
    "        self,\n",
    "        in_dim,\n",
    "        h_dim,\n",
    "        n_layers=3,\n",
    "        activation=F.relu,\n",
    "        dropout=0.7,\n",
    "        sage_conv_method=\"mean\",\n",
    "        lr=0.005,\n",
    "        batch_size=1024,\n",
    "    ):\n",
    "        super().__init__()\n",
    "        self.module = SAGE(\n",
    "            in_dim, h_dim, n_layers, activation, dropout, sage_conv_method\n",
    "        )\n",
    "        self.lr = lr\n",
    "        self.predictor = ScorePredictor()\n",
    "        self.batch_size = batch_size\n",
    "        self.save_hyperparameters()\n",
    "\n",
    "        self.train_loss = MeanMetric()\n",
    "        self.mean_val_positive_score = MeanMetric()\n",
    "    \n",
    "    def forward(self, graph, blocks, x):\n",
    "        self.module(graph, blocks, x)\n",
    "\n",
    "    def training_step(self, batch, batch_idx):\n",
    "        input_nodes, pos_graph, neg_graph, blocks = batch\n",
    "        x = blocks[0].srcdata[\"feat\"]\n",
    "        logits = self.module(blocks, x)\n",
    "        pos_score = self.predictor(pos_graph, logits)\n",
    "        neg_score = self.predictor(neg_graph, logits)\n",
    "\n",
    "        score = torch.cat([pos_score, neg_score])\n",
    "        pos_label = torch.ones_like(pos_score)\n",
    "        neg_label = torch.zeros_like(neg_score)\n",
    "        labels = torch.cat([pos_label, neg_label])\n",
    "        loss = F.binary_cross_entropy_with_logits(score, labels)\n",
    "\n",
    "        return loss\n",
    "\n",
    "    def validation_step(self, batch, batch_idx):\n",
    "        input_nodes, pos_graph, blocks = batch\n",
    "        x = blocks[0].srcdata[\"feat\"]\n",
    "        logits = self.module(blocks, x)\n",
    "        pos_score = self.predictor(pos_graph, logits)\n",
    "        pos_label = torch.ones_like(pos_score)\n",
    "        self.mean_val_positive_score(pos_score)\n",
    "\n",
    "        self.log(\n",
    "            \"mean_val_positive_score\",\n",
    "            self.mean_val_positive_score,\n",
    "            prog_bar=True,\n",
    "            on_step=False,\n",
    "            on_epoch=True,\n",
    "            batch_size=self.batch_size,\n",
    "        )\n",
    "\n",
    "    def configure_optimizers(self):\n",
    "        optimizer = torch.optim.Adam(self.parameters(), lr=self.lr)\n",
    "        return optimizer"
   ]
  },
  {
   "attachments": {},
   "cell_type": "markdown",
   "metadata": {},
   "source": [
    "# **Code Setup**"
   ]
  },
  {
   "cell_type": "markdown",
   "metadata": {},
   "source": [
    "## Directory Definition"
   ]
  },
  {
   "attachments": {},
   "cell_type": "markdown",
   "metadata": {},
   "source": [
    "<ins>Method and code to define root for the remainder of the notebook</ins>"
   ]
  },
  {
   "cell_type": "code",
   "execution_count": 6,
   "metadata": {},
   "outputs": [
    {
     "name": "stdout",
     "output_type": "stream",
     "text": [
      "Set WD location to /scratch/alc9635/projects/NYU-Zillow-Capstone-2022-Team-A\n"
     ]
    }
   ],
   "source": [
    "class NestedNamespace(SimpleNamespace):\n",
    "    def __init__(self, dictionary, **kwargs):\n",
    "        super().__init__(**kwargs)\n",
    "        for key, value in dictionary.items():\n",
    "            if isinstance(value, dict):\n",
    "                self.__setattr__(key, NestedNamespace(value))\n",
    "            else:\n",
    "                self.__setattr__(key, value)\n",
    "\n",
    "root_path = pyrootutils.find_root(search_from='train_graphsage_explore.ipynb', indicator=\".git\")\n",
    "print('Set WD location to', root_path)\n",
    "pyrootutils.set_root(\n",
    "    path=root_path,\n",
    "    project_root_env_var=True,\n",
    "    dotenv=True,\n",
    "    pythonpath=True,\n",
    "    cwd=True\n",
    ")"
   ]
  },
  {
   "cell_type": "markdown",
   "metadata": {},
   "source": [
    "## CUDA"
   ]
  },
  {
   "cell_type": "code",
   "execution_count": 7,
   "metadata": {},
   "outputs": [
    {
     "name": "stdout",
     "output_type": "stream",
     "text": [
      "Using GPU\n"
     ]
    }
   ],
   "source": [
    "try:\n",
    "    if not torch.cuda.is_available():\n",
    "        device = \"cpu\"\n",
    "        print('No GPU available, using CPU')\n",
    "    else:\n",
    "        device = \"cuda\"\n",
    "        print('Using GPU')\n",
    "except:\n",
    "    device = \"cpu\"\n",
    "    print('No GPU available, using CPU')"
   ]
  },
  {
   "attachments": {},
   "cell_type": "markdown",
   "metadata": {},
   "source": [
    "# **Code Implementation**"
   ]
  },
  {
   "attachments": {},
   "cell_type": "markdown",
   "metadata": {},
   "source": [
    "## Select Configurations for Run"
   ]
  },
  {
   "attachments": {},
   "cell_type": "markdown",
   "metadata": {},
   "source": [
    "<ins>Select one of [\"scene\", \"cosine\", \"self\"] </ins>"
   ]
  },
  {
   "cell_type": "code",
   "execution_count": 8,
   "metadata": {},
   "outputs": [],
   "source": [
    "reconnection_method = 'self'"
   ]
  },
  {
   "attachments": {},
   "cell_type": "markdown",
   "metadata": {},
   "source": [
    "<ins> Select Other Configurations </ins>"
   ]
  },
  {
   "cell_type": "code",
   "execution_count": null,
   "metadata": {},
   "outputs": [],
   "source": [
    "# Define Config\n",
    "cfg = NestedNamespace(yaml.load(open('conf/config.yaml'), Loader=Loader))\n",
    "\n",
    "# Define Org ('coco' or 'zillow')\n",
    "org = 'coco'"
   ]
  },
  {
   "cell_type": "markdown",
   "metadata": {},
   "source": [
    "## Graph Training"
   ]
  },
  {
   "attachments": {},
   "cell_type": "markdown",
   "metadata": {},
   "source": [
    "<ins> Defines DataModule and Fits Trainer Object</ins>"
   ]
  },
  {
   "cell_type": "code",
   "execution_count": 9,
   "metadata": {},
   "outputs": [
    {
     "name": "stdout",
     "output_type": "stream",
     "text": [
      "Done loading data from cached files.\n"
     ]
    },
    {
     "name": "stderr",
     "output_type": "stream",
     "text": [
      "GPU available: True (cuda), used: False\n",
      "TPU available: False, using: 0 TPU cores\n",
      "IPU available: False, using: 0 IPUs\n",
      "HPU available: False, using: 0 HPUs\n",
      "/ext3/conda/zillow_MMKG/lib/python3.8/site-packages/pytorch_lightning/trainer/setup.py:175: PossibleUserWarning: GPU available but not used. Set `accelerator` and `devices` using `Trainer(accelerator='gpu', devices=1)`.\n",
      "  rank_zero_warn(\n",
      "\n",
      "  | Name                    | Type           | Params\n",
      "-----------------------------------------------------------\n",
      "0 | module                  | SAGE           | 1.0 M \n",
      "1 | predictor               | ScorePredictor | 0     \n",
      "2 | train_loss              | MeanMetric     | 0     \n",
      "3 | mean_val_positive_score | MeanMetric     | 0     \n",
      "-----------------------------------------------------------\n",
      "1.0 M     Trainable params\n",
      "0         Non-trainable params\n",
      "1.0 M     Total params\n",
      "4.198     Total estimated model params size (MB)\n"
     ]
    },
    {
     "name": "stdout",
     "output_type": "stream",
     "text": [
      "                                                                           "
     ]
    },
    {
     "name": "stderr",
     "output_type": "stream",
     "text": [
      "/ext3/conda/zillow_MMKG/lib/python3.8/site-packages/pytorch_lightning/utilities/data.py:135: UserWarning: Your `IterableDataset` has `__len__` defined. In combination with multi-process data loading (when num_workers > 1), `__len__` could be inaccurate if each worker is not configured independently to avoid having duplicate data.\n",
      "  rank_zero_warn(\n",
      "/ext3/conda/zillow_MMKG/lib/python3.8/site-packages/pytorch_lightning/trainer/connectors/data_connector.py:224: PossibleUserWarning: The dataloader, val_dataloader 0, does not have many workers which may be a bottleneck. Consider increasing the value of the `num_workers` argument` (try 40 which is the number of cpus on this machine) in the `DataLoader` init to improve performance.\n",
      "  rank_zero_warn(\n",
      "/ext3/conda/zillow_MMKG/lib/python3.8/site-packages/lightning_lite/utilities/data.py:63: UserWarning: Your `IterableDataset` has `__len__` defined. In combination with multi-process data loading (when num_workers > 1), `__len__` could be inaccurate if each worker is not configured independently to avoid having duplicate data.\n",
      "  rank_zero_warn(\n",
      "/ext3/conda/zillow_MMKG/lib/python3.8/site-packages/pytorch_lightning/trainer/connectors/data_connector.py:224: PossibleUserWarning: The dataloader, train_dataloader, does not have many workers which may be a bottleneck. Consider increasing the value of the `num_workers` argument` (try 40 which is the number of cpus on this machine) in the `DataLoader` init to improve performance.\n",
      "  rank_zero_warn(\n"
     ]
    },
    {
     "name": "stdout",
     "output_type": "stream",
     "text": [
      "Epoch 4: 100%|██████████| 228/228 [00:05<00:00, 38.99it/s, loss=0.482, v_num=613, mean_val_positive_score=0.986]"
     ]
    },
    {
     "name": "stderr",
     "output_type": "stream",
     "text": [
      "`Trainer.fit` stopped: `max_epochs=5` reached.\n"
     ]
    },
    {
     "name": "stdout",
     "output_type": "stream",
     "text": [
      "Epoch 4: 100%|██████████| 228/228 [00:05<00:00, 38.97it/s, loss=0.482, v_num=613, mean_val_positive_score=0.986]\n"
     ]
    }
   ],
   "source": [
    "if org == 'coco':\n",
    "    pre_connect_threshold = 0.95\n",
    "    connect_type = f'_images_{str(pre_connect_threshold).split(\".\")[-1]}' if reconnection_method == 'cosine' else ''\n",
    "    csv_dataset_root = cfg.graph.mscoco.graph_dir + connect_type\n",
    "elif org == 'zillow':\n",
    "    pre_connect_threshold = 0.975\n",
    "    connect_type = f'_images_{str(pre_connect_threshold).split(\".\")[-1]}' if reconnection_method == 'cosine' else ''\n",
    "    csv_dataset_root = cfg.graph.zillow.graph_dir + connect_type\n",
    "\n",
    "modal_node_ids_file = os.path.join(csv_dataset_root,'modal_node_ids.json')\n",
    "datamodule = DataModule(\n",
    "    csv_dataset_root, \n",
    "    modal_node_ids_file, \n",
    "    keyword_as_src=False, \n",
    "    device=device, \n",
    "    batch_size=cfg.training.batch_size, \n",
    "    force_reload=False\n",
    ")\n",
    "\n",
    "model = SAGELightning(\n",
    "    datamodule.in_dim,\n",
    "    cfg.model.hidden_dim,\n",
    "    n_layers=cfg.model.n_layers,\n",
    "    batch_size=cfg.training.batch_size,\n",
    "    lr=cfg.training.learning_rate\n",
    ")\n",
    "\n",
    "checkpoint_callback = ModelCheckpoint(\n",
    "    monitor=\"mean_val_positive_score\", save_top_k=1, mode=\"max\"\n",
    ")\n",
    "\n",
    "trainer = Trainer(accelerator=\"cpu\", max_epochs=cfg.training.n_epochs, callbacks=[checkpoint_callback])\n",
    "trainer.fit(model, datamodule=datamodule)"
   ]
  },
  {
   "attachments": {},
   "cell_type": "markdown",
   "metadata": {},
   "source": [
    "_NOTE: At this point, graph training (via GraphSAGE) is complete!_"
   ]
  },
  {
   "cell_type": "markdown",
   "metadata": {},
   "source": [
    "## Reconnecting Train and Val Subgraphs"
   ]
  },
  {
   "attachments": {},
   "cell_type": "markdown",
   "metadata": {},
   "source": [
    "### Graph Generation"
   ]
  },
  {
   "attachments": {},
   "cell_type": "markdown",
   "metadata": {},
   "source": [
    "<ins>Initialize Val and Eval Subgraphs and Combine Nodes Only (No Edges)</ins>"
   ]
  },
  {
   "cell_type": "code",
   "execution_count": 10,
   "metadata": {},
   "outputs": [
    {
     "name": "stdout",
     "output_type": "stream",
     "text": [
      "number of val img nodes: 12201\n",
      "number of train img nodes: 59531\n"
     ]
    }
   ],
   "source": [
    "val_subgraph = datamodule.g_bid.subgraph(datamodule.val_nid)\n",
    "eval_subgraph = datamodule.g_bid.subgraph(datamodule.train_nid)\n",
    "\n",
    "val_img_node_idxs = (val_subgraph.ndata['ntype'] == 0).nonzero().squeeze()\n",
    "val_img_embeds = val_subgraph.ndata['feat'][val_img_node_idxs]\n",
    "val_img_node_ids = val_subgraph.ndata['_ID'][val_img_node_idxs]\n",
    "\n",
    "print('number of val img nodes:', len(val_img_node_ids))\n",
    "print('number of train img nodes:', len(eval_subgraph.nodes()))\n",
    "\n",
    "val_nodes_data = {'train_mask': torch.zeros(len(val_img_node_ids), dtype=torch.uint8).to(device),\n",
    "                  'val_mask': torch.ones(len(val_img_node_ids), dtype=torch.uint8).to(device),\n",
    "                  'test_mask': torch.zeros(len(val_img_node_ids), dtype=torch.uint8).to(device),\n",
    "                  'ntype': torch.zeros(len(val_img_node_ids), dtype=torch.int64).to(device),\n",
    "                  'feat': val_img_embeds.to(device),\n",
    "                  '_ID': val_img_node_ids}\n",
    "\n",
    "eval_subgraph.add_nodes(num=len(val_img_node_ids), data=val_nodes_data)"
   ]
  },
  {
   "attachments": {},
   "cell_type": "markdown",
   "metadata": {},
   "source": [
    "### Identify Node Pairs as Potential Edges"
   ]
  },
  {
   "attachments": {},
   "cell_type": "markdown",
   "metadata": {},
   "source": [
    "_Here, we run a cell ONLY if it is for the chosen reconnection type_"
   ]
  },
  {
   "attachments": {},
   "cell_type": "markdown",
   "metadata": {},
   "source": [
    "<ins>Method: Cosine</ins>"
   ]
  },
  {
   "cell_type": "code",
   "execution_count": 11,
   "metadata": {},
   "outputs": [],
   "source": [
    "if reconnection_method == 'cosine':\n",
    "    eval_train_img_node_idxs = ((eval_subgraph.ndata['ntype'] == 0)&(eval_subgraph.ndata['train_mask']==1)).nonzero().squeeze()\n",
    "    eval_train_kw_node_idxs = ((eval_subgraph.ndata['ntype'] == 1)&(eval_subgraph.ndata['train_mask']==1)).nonzero().squeeze()\n",
    "    eval_val_img_node_idxs = ((eval_subgraph.ndata['ntype'] == 0)&(eval_subgraph.ndata['val_mask']==1)).nonzero().squeeze()\n",
    "    \n",
    "    eval_train_img_embeds = eval_subgraph.ndata['feat'][eval_train_img_node_idxs]\n",
    "    eval_train_kw_embeds = eval_subgraph.ndata['feat'][eval_train_kw_node_idxs]\n",
    "    eval_val_img_embeds = eval_subgraph.ndata['feat'][eval_val_img_node_idxs]\n",
    "\n",
    "    cosine_sims_img_matrix = cosine_sim(eval_val_img_embeds, eval_train_img_embeds)\n",
    "    cosine_sims_img_kw_matrix = cosine_sim(eval_val_img_embeds, eval_train_kw_embeds)\n",
    "\n",
    "    img_sim_threshold = 0.98\n",
    "    img_img_k = 5\n",
    "    img_kw_k = 5\n",
    "            \n",
    "    matches = []\n",
    "    for i in tqdm(range(cosine_sims_img_matrix.size(0)), desc='computing image-image matches'):\n",
    "        eval_train_img_node_id_matches = eval_train_img_node_idxs[(cosine_sims_img_matrix[i]>img_sim_threshold)]\n",
    "\n",
    "        if len(eval_train_img_node_id_matches) < img_img_k:\n",
    "            img_matches, img_match_indices = torch.topk(cosine_sims_img_matrix[i], img_img_k)\n",
    "            eval_train_img_node_id_matches = eval_train_img_node_idxs[img_match_indices]\n",
    "        \n",
    "        kw_matches, kw_match_indices = torch.topk(cosine_sims_img_kw_matrix[i], img_kw_k)\n",
    "        \n",
    "        eval_train_kw_node_id_matches = eval_train_kw_node_idxs[kw_match_indices]\n",
    "\n",
    "        eval_train_node_id_matches = torch.cat((eval_train_img_node_id_matches, eval_train_kw_node_id_matches))\n",
    "        matches.append(eval_train_node_id_matches.tolist())\n",
    "\n",
    "    matches_per_img = [len(match_list) for match_list in matches]\n",
    "    print('match stats:')\n",
    "    print(f'min matches: {np.min(matches_per_img)}')\n",
    "    print(f'max matches: {np.max(matches_per_img)}')\n",
    "    print(f'avg matches: {np.mean(matches_per_img)}')\n",
    "    print(f'std matches: {np.std(matches_per_img)}')\n",
    "    print(f'total new edges to add: {sum(matches_per_img)*2}')"
   ]
  },
  {
   "attachments": {},
   "cell_type": "markdown",
   "metadata": {},
   "source": [
    "<ins>Method: Scene</ins>"
   ]
  },
  {
   "cell_type": "code",
   "execution_count": 12,
   "metadata": {},
   "outputs": [],
   "source": [
    "if reconnection_method == 'scene':\n",
    "    eval_train_img_node_idxs = ((eval_subgraph.ndata['ntype'] == 0)&(eval_subgraph.ndata['train_mask']==1)).nonzero().squeeze()\n",
    "    eval_train_scene_node_idxs = ((eval_subgraph.ndata['ntype'] == 2)&(eval_subgraph.ndata['train_mask']==1)).nonzero().squeeze()\n",
    "\n",
    "    eval_val_img_node_idxs = ((eval_subgraph.ndata['ntype'] == 0)&(eval_subgraph.ndata['val_mask']==1)).nonzero().squeeze()\n",
    "    eval_val_scene_node_idxs = ((eval_subgraph.ndata['ntype'] == 2)&(eval_subgraph.ndata['val_mask']==1)).nonzero().squeeze()\n",
    "\n",
    "    eval_train_img_ids = eval_subgraph.ndata['_ID'][eval_train_img_node_idxs]\n",
    "    eval_train_scene_ids = eval_subgraph.ndata['_ID'][eval_train_scene_node_idxs]\n",
    "\n",
    "    eval_val_img_ids = eval_subgraph.ndata['_ID'][eval_val_img_node_idxs]\n",
    "    eval_val_scene_ids = eval_subgraph.ndata['_ID'][eval_val_scene_node_idxs]\n",
    "\n",
    "    def get_scene_edges(node_id, input_graph=datamodule.g_bid, eval_train_scene_ids=eval_train_scene_ids):\n",
    "        u_node, v_node = input_graph.edges()\n",
    "        u_node_edge_idxs = torch.nonzero(node_id == u_node)\n",
    "        v_ids = v_node[u_node_edge_idxs]\n",
    "\n",
    "        v_node_edge_idxs = torch.nonzero(node_id == v_node)\n",
    "        u_ids = u_node[v_node_edge_idxs]\n",
    "\n",
    "        all_edge_ids = torch.cat([u_ids, v_ids], dim=0)\n",
    "        indices = torch.zeros_like(all_edge_ids, dtype = torch.uint8, device = device)\n",
    "\n",
    "        for elem in eval_train_scene_ids:\n",
    "            indices = indices | (all_edge_ids == elem)  \n",
    "\n",
    "        intersection = all_edge_ids[indices] \n",
    "\n",
    "        return torch.unique(intersection)"
   ]
  },
  {
   "attachments": {},
   "cell_type": "markdown",
   "metadata": {},
   "source": [
    "_NOTE: Self loop reconnection type does not require this work_"
   ]
  },
  {
   "attachments": {},
   "cell_type": "markdown",
   "metadata": {},
   "source": [
    "### Collect Edges for Eval Subgraph"
   ]
  },
  {
   "attachments": {},
   "cell_type": "markdown",
   "metadata": {},
   "source": [
    "_Here, we run a cell ONLY if it is for the chosen reconnection type_"
   ]
  },
  {
   "attachments": {},
   "cell_type": "markdown",
   "metadata": {},
   "source": [
    "<ins>Method: Cosine</ins>"
   ]
  },
  {
   "cell_type": "code",
   "execution_count": 13,
   "metadata": {},
   "outputs": [],
   "source": [
    "if reconnection_method == 'cosine':\n",
    "    u = []\n",
    "    v = []\n",
    "\n",
    "    for i in range(len(matches)):\n",
    "        val_img_node = eval_val_img_node_idxs[i].item()\n",
    "        train_matches = matches[i]\n",
    "        for node_id in train_matches:\n",
    "            train_img_node = node_id\n",
    "\n",
    "            u += [val_img_node, train_img_node]\n",
    "            v += [train_img_node, val_img_node]"
   ]
  },
  {
   "attachments": {},
   "cell_type": "markdown",
   "metadata": {},
   "source": [
    "<ins>Method: Scene</ins>"
   ]
  },
  {
   "cell_type": "code",
   "execution_count": 14,
   "metadata": {},
   "outputs": [],
   "source": [
    "if reconnection_method == 'scene':\n",
    "    u = []\n",
    "    v = []\n",
    "\n",
    "    for eval_val_img_id in tqdm(eval_val_img_ids):\n",
    "        matching_eval_train_scenes = get_scene_edges(eval_val_img_id, \n",
    "                                                    input_graph=datamodule.g_bid, \n",
    "                                                    eval_train_scene_ids=eval_train_scene_ids)\n",
    "        \n",
    "        if matching_eval_train_scenes.size(dim=0) > 0:\n",
    "            for scene in matching_eval_train_scenes:\n",
    "                u += [eval_val_img_id.item(), scene.item()]\n",
    "                v += [scene.item(), eval_val_img_id.item()]\n",
    "\n",
    "    old_new_eval_node_id_mapper = dict(zip(eval_subgraph.ndata['_ID'].detach().cpu().tolist(), eval_subgraph.nodes().detach().cpu().tolist()))\n",
    "    u = [old_new_eval_node_id_mapper[old_u] for old_u in u]\n",
    "    v = [old_new_eval_node_id_mapper[old_v] for old_v in v]"
   ]
  },
  {
   "attachments": {},
   "cell_type": "markdown",
   "metadata": {},
   "source": [
    "_Again, this is not required for the self loop method_"
   ]
  },
  {
   "attachments": {},
   "cell_type": "markdown",
   "metadata": {},
   "source": [
    "### Add Edges to Eval Subgraph"
   ]
  },
  {
   "attachments": {},
   "cell_type": "markdown",
   "metadata": {},
   "source": [
    "_Cosine and Scene methods only_"
   ]
  },
  {
   "cell_type": "code",
   "execution_count": 15,
   "metadata": {},
   "outputs": [],
   "source": [
    "if reconnection_method == 'cosine' or reconnection_method == 'scene':\n",
    "    edge_data = {'_ID': torch.arange(torch.max(eval_subgraph.edata['_ID'])+1, torch.max(eval_subgraph.edata['_ID'])+1+len(u), dtype=torch.int64).to(device)}\n",
    "    eval_subgraph.add_edges(torch.LongTensor(u).to(device), torch.LongTensor(v).to(device), data=edge_data)\n",
    "\n",
    "eval_subgraph = eval_subgraph.add_self_loop()"
   ]
  },
  {
   "attachments": {},
   "cell_type": "markdown",
   "metadata": {},
   "source": [
    "### Convert DGL Graph into GraphSAGE Compatible Object"
   ]
  },
  {
   "cell_type": "code",
   "execution_count": 16,
   "metadata": {},
   "outputs": [],
   "source": [
    "u_eval, v_eval = eval_subgraph.edges()\n",
    "eval_subgraph_eids = eval_subgraph.edge_ids(u_eval, v_eval)\n",
    "layer_sampler = dgl.dataloading.NeighborSampler(fanouts=[3]) # During message passing between GNN layers, each node accept messages from a maximum of 25 incoming nodes\n",
    "batch_size = len(eval_subgraph.edges()[0])\n",
    "\n",
    "def eval_dataloader(g, layer_sampler, batch_size, eids):\n",
    "    edge_sampler = dgl.dataloading.as_edge_prediction_sampler(layer_sampler)\n",
    "\n",
    "    return dgl.dataloading.DataLoader(\n",
    "        g,\n",
    "        eids,\n",
    "        edge_sampler,\n",
    "        device=device,\n",
    "        batch_size=batch_size,\n",
    "        shuffle=False,\n",
    "        drop_last=False\n",
    "        # num_workers=self.num_workers,\n",
    "    )\n",
    "\n",
    "eval_dl = eval_dataloader(eval_subgraph, layer_sampler, batch_size, eval_subgraph_eids)"
   ]
  },
  {
   "attachments": {},
   "cell_type": "markdown",
   "metadata": {},
   "source": [
    "### Run GraphSAGE Inferences"
   ]
  },
  {
   "cell_type": "code",
   "execution_count": 17,
   "metadata": {},
   "outputs": [],
   "source": [
    "# Step 6: Run graphSAGE forward inference over entire val_subgraph message flow graph (MFG)\n",
    "\n",
    "for batch in eval_dl:\n",
    "    inputs, edge_subgraph, blocks = batch\n",
    "    \n",
    "x = blocks[0].srcdata[\"feat\"]\n",
    "model = model.to(device)\n",
    "logits = model.module(blocks, x)\n",
    "\n",
    "eval_subgraph.ndata['feat_pred_norm'] = F.normalize(logits, p=2, dim=-1)"
   ]
  },
  {
   "attachments": {},
   "cell_type": "markdown",
   "metadata": {},
   "source": [
    "### Extract Validation Image Features and Keyword Features"
   ]
  },
  {
   "cell_type": "code",
   "execution_count": 18,
   "metadata": {},
   "outputs": [],
   "source": [
    "# Step 7: Extract validation image features and keyword features for \n",
    "eval_val_img_node_ids = ((eval_subgraph.ndata['val_mask']==1)&(eval_subgraph.ndata['ntype']==0)).nonzero().squeeze()\n",
    "eval_keyword_node_ids = ((eval_subgraph.ndata['ntype']==1)).nonzero().squeeze()\n",
    "\n",
    "# Post-GraphSAGE embeddings\n",
    "eval_val_img_feat_sage = eval_subgraph.ndata['feat_pred_norm'][eval_val_img_node_ids]\n",
    "eval_keyword_feat_sage = eval_subgraph.ndata['feat_pred_norm'][eval_keyword_node_ids]\n",
    "\n",
    "# Original CLIP embeddings before GraphSAGE forward method\n",
    "eval_subgraph.ndata['feat_norm'] = F.normalize(eval_subgraph.ndata['feat'], p=2, dim=-1)\n",
    "eval_val_img_feat_clip = eval_subgraph.ndata['feat_norm'][eval_val_img_node_ids]\n",
    "eval_keyword_feat_clip = eval_subgraph.ndata['feat_norm'][eval_keyword_node_ids]"
   ]
  },
  {
   "attachments": {},
   "cell_type": "markdown",
   "metadata": {},
   "source": [
    "### Compute Cosine Similarities"
   ]
  },
  {
   "cell_type": "code",
   "execution_count": 19,
   "metadata": {},
   "outputs": [],
   "source": [
    "verbose = False\n",
    "\n",
    "val_sage_link_scores = metrics.pairwise.cosine_similarity(eval_keyword_feat_sage.cpu().detach().numpy(),\n",
    "                                                          eval_val_img_feat_sage.cpu().detach().numpy())\n",
    "val_clip_link_scores = metrics.pairwise.cosine_similarity(eval_keyword_feat_clip.cpu().detach().numpy(),\n",
    "                                                          eval_val_img_feat_clip.cpu().detach().numpy())\n",
    "\n",
    "if verbose:\n",
    "    print('means:')\n",
    "    print('sage:', np.mean(val_sage_link_scores))\n",
    "    print('clip:', np.mean(val_clip_link_scores))\n",
    "    print('mins:')\n",
    "    print('sage:', np.min(val_sage_link_scores))\n",
    "    print('clip:', np.min(val_clip_link_scores))\n",
    "    print('maxs:')\n",
    "    print('sage:', np.max(val_sage_link_scores))\n",
    "    print('clip:', np.max(val_clip_link_scores))\n",
    "    print('stds:')\n",
    "    print('sage:', np.std(val_sage_link_scores))\n",
    "    print('clip:', np.std(val_clip_link_scores))"
   ]
  },
  {
   "attachments": {},
   "cell_type": "markdown",
   "metadata": {},
   "source": [
    "### Predict and Compute Precision/Recall/Accuracy"
   ]
  },
  {
   "cell_type": "code",
   "execution_count": 20,
   "metadata": {},
   "outputs": [],
   "source": [
    "# Adjacency matrix needs to be sub-setted such that rows correspond only... \n",
    "# ...to image nodes and columns correspond only to keyword nodes\n",
    "val_img_indices = (val_subgraph.ndata['ntype']==0).nonzero().cpu().reshape(1, -1)\n",
    "val_keyword_indices = (val_subgraph.ndata['ntype']==1).nonzero().cpu().reshape(-1, 1)\n",
    "\n",
    "val_adj_matrix = val_subgraph.adjacency_matrix().to_dense().numpy()\n",
    "val_adj_matrix = val_adj_matrix[val_keyword_indices, val_img_indices]\n",
    "\n",
    "method_link_scores = {'sage': val_sage_link_scores, 'clip': val_clip_link_scores}\n",
    "\n",
    "pred_thresholds = np.linspace(0.1, 0.9, 30)\n",
    "sage_clip_metrics = pd.DataFrame()\n",
    "results_dict = {threshold: {} for threshold in pred_thresholds}\n",
    "\n",
    "for pred_threshold in pred_thresholds:\n",
    "    results_dict[pred_threshold] = {'sage': {}, 'clip': {}}\n",
    "\n",
    "    for method in method_link_scores:\n",
    "        method_link_predictions = (method_link_scores[method] > pred_threshold).astype(int)\n",
    "        n_keywords = len(method_link_scores[method])\n",
    "        for metric in ['tp', 'fp', 'fn', 'actual_p', 'precision', 'recall', 'f1']:\n",
    "            results_dict[pred_threshold][method][metric] = np.empty(n_keywords)\n",
    "        weights = np.empty(n_keywords)\n",
    "\n",
    "        for i in range(n_keywords):\n",
    "            all_p = np.sum(val_adj_matrix[i])\n",
    "            all_p_pred = np.sum(method_link_predictions[i])\n",
    "            results_dict[pred_threshold][method]['tp'][i] = np.sum((method_link_predictions[i]==1)&(val_adj_matrix[i]==1))\n",
    "            results_dict[pred_threshold][method]['fp'][i] = np.sum((method_link_predictions[i]==1)&(val_adj_matrix[i]==0))\n",
    "            results_dict[pred_threshold][method]['fn'][i] = np.sum((method_link_predictions[i]==0)&(val_adj_matrix[i]==1))\n",
    "            results_dict[pred_threshold][method]['actual_p'][i] = all_p\n",
    "\n",
    "            precision = results_dict[pred_threshold][method]['tp'][i] / all_p_pred if all_p_pred > 0 else 0\n",
    "            recall = results_dict[pred_threshold][method]['tp'][i] / all_p if all_p > 0 else 0\n",
    "\n",
    "            results_dict[pred_threshold][method]['precision'][i] = precision\n",
    "            results_dict[pred_threshold][method]['recall'][i] = recall\n",
    "\n",
    "            weights[i] = all_p\n",
    "    \n",
    "    weights /= np.sum(weights)\n",
    "\n",
    "    for method in results_dict[pred_threshold].keys():\n",
    "        row = {'threshold': pred_threshold, 'method': method}\n",
    "        for metric in results_dict[pred_threshold][method]:\n",
    "            if metric == 'precision' or metric == 'recall':\n",
    "                row[f'{metric}_micro'] = np.mean(results_dict[pred_threshold][method][metric]*weights)\n",
    "                row[f'{metric}_macro'] = np.mean(results_dict[pred_threshold][method][metric])\n",
    "\n",
    "        row['f1_micro'] = 2*(row['precision_micro']*row['recall_micro']) / (row['precision_micro']+row['recall_micro']) if (row['precision_micro']+row['recall_micro']) > 0 else 0\n",
    "        row['f1_macro'] = 2*(row['precision_macro']*row['recall_macro']) / (row['precision_macro']+row['recall_macro']) if (row['precision_macro']+row['recall_macro']) > 0 else 0\n",
    "        sage_clip_metrics = pd.concat([sage_clip_metrics, pd.DataFrame([row])], ignore_index=True)\n",
    "\n",
    "    sage_metrics = sage_clip_metrics[(sage_clip_metrics['method']=='sage')]\n",
    "    clip_metrics = sage_clip_metrics[(sage_clip_metrics['method']=='clip')]"
   ]
  },
  {
   "attachments": {},
   "cell_type": "markdown",
   "metadata": {},
   "source": [
    "### Print Summarizing Metrics"
   ]
  },
  {
   "cell_type": "code",
   "execution_count": 21,
   "metadata": {},
   "outputs": [
    {
     "name": "stdout",
     "output_type": "stream",
     "text": [
      "Best SAGE metrics: \n",
      "Precision, Recall at Max Recall:\n",
      " threshold          0.100000\n",
      "precision_macro    0.003300\n",
      "recall_macro       0.190144\n",
      "Name: 0, dtype: float64\n",
      "Precision, Recall at Max Precision:\n",
      " threshold          0.900000\n",
      "precision_macro    0.004871\n",
      "recall_macro       0.145059\n",
      "Name: 58, dtype: float64\n",
      "Best CLIP metrics: \n",
      "Precision, Recall at Max Recall:\n",
      " threshold          0.100000\n",
      "precision_macro    0.000438\n",
      "recall_macro       0.629896\n",
      "Name: 1, dtype: float64\n",
      "Precision, Recall at Max Precision:\n",
      " threshold          0.403448\n",
      "precision_macro    0.008179\n",
      "recall_macro       0.410289\n",
      "Name: 23, dtype: float64\n"
     ]
    }
   ],
   "source": [
    "print('Best SAGE metrics: ')\n",
    "print('Precision, Recall at Max Recall:\\n', sage_metrics[sage_metrics['recall_macro']==sage_metrics['recall_macro'].max()][['threshold', 'precision_macro', 'recall_macro']].iloc[0,:])\n",
    "print('Precision, Recall at Max Precision:\\n', sage_metrics[sage_metrics['precision_macro']==sage_metrics['precision_macro'].max()][['threshold', 'precision_macro', 'recall_macro']].iloc[0,:])\n",
    "\n",
    "print('Best CLIP metrics: ')\n",
    "print('Precision, Recall at Max Recall:\\n', clip_metrics[clip_metrics['recall_macro']==clip_metrics['recall_macro'].max()][['threshold', 'precision_macro', 'recall_macro']].iloc[0,:])\n",
    "print('Precision, Recall at Max Precision:\\n', clip_metrics[clip_metrics['precision_macro']==clip_metrics['precision_macro'].max()][['threshold', 'precision_macro', 'recall_macro']].iloc[0,:])"
   ]
  },
  {
   "attachments": {},
   "cell_type": "markdown",
   "metadata": {},
   "source": [
    "## Generate Plots"
   ]
  },
  {
   "attachments": {},
   "cell_type": "markdown",
   "metadata": {},
   "source": [
    "<ins>Micro and Macro Precision and Recall: Plots</ins>"
   ]
  },
  {
   "cell_type": "code",
   "execution_count": 25,
   "metadata": {},
   "outputs": [
    {
     "data": {
      "image/png": "[encoded data removed]",
      "text/plain": [
       "<Figure size 1080x720 with 4 Axes>"
      ]
     },
     "metadata": {
      "needs_background": "light"
     },
     "output_type": "display_data"
    }
   ],
   "source": [
    "import matplotlib.pyplot as plt\n",
    "\n",
    "sage_micro_threshold_metrics = sage_clip_metrics[sage_clip_metrics['method']=='sage'][['threshold', 'precision_micro', 'recall_micro']]\n",
    "clip_micro_threshold_metrics = sage_clip_metrics[sage_clip_metrics['method']=='clip'][['threshold', 'precision_micro', 'recall_micro']]\n",
    "sage_macro_threshold_metrics = sage_clip_metrics[sage_clip_metrics['method']=='sage'][['threshold', 'precision_macro', 'recall_macro']]\n",
    "clip_macro_threshold_metrics = sage_clip_metrics[sage_clip_metrics['method']=='clip'][['threshold', 'precision_macro', 'recall_macro']]\n",
    "\n",
    "fig, axs = plt.subplots(2, 2, figsize=(15,10))\n",
    "for i, avg_type in enumerate(['micro', 'macro']):\n",
    "    legend = []\n",
    "    for j, metric in enumerate(['precision', 'recall']):\n",
    "        for method in ['sage', 'clip']:\n",
    "            axs[i,j].plot(sage_clip_metrics[sage_clip_metrics['method']==method]['threshold'], \n",
    "                    sage_clip_metrics[sage_clip_metrics['method']==method][f'{metric}_{avg_type}'])\n",
    "            legend += [f'{method}_{metric}']\n",
    "        axs[i,j].legend(legend)\n",
    "        axs[i,j].set_xlabel('positive prediction threshold')\n",
    "        axs[i,j].set_ylabel('metric')\n",
    "        axs[i,j].set_title(f'{avg_type}-averaged link prediction {metric}')\n",
    "plt.show()\n"
   ]
  },
  {
   "attachments": {},
   "cell_type": "markdown",
   "metadata": {},
   "source": [
    "<ins>Micro and Macro Precision and Recall: Tabular Data</ins>"
   ]
  },
  {
   "cell_type": "code",
   "execution_count": 26,
   "metadata": {},
   "outputs": [
    {
     "name": "stdout",
     "output_type": "stream",
     "text": [
      "Best sage metrics: \n",
      "Metrics at best f1_macro:\n",
      " threshold          0.900000\n",
      "recall_macro       0.145059\n",
      "precision_macro    0.004871\n",
      "f1_macro           0.009426\n",
      "Name: 58, dtype: float64\n",
      "\n",
      "\n",
      "Best clip metrics: \n",
      "Metrics at best f1_macro:\n",
      " threshold          0.403448\n",
      "recall_macro       0.410289\n",
      "precision_macro    0.008179\n",
      "f1_macro           0.016038\n",
      "Name: 23, dtype: float64\n",
      "\n",
      "\n"
     ]
    }
   ],
   "source": [
    "macro_metrics = ['recall_macro', 'precision_macro', 'f1_macro']\n",
    "metrics_dfs = {'sage': sage_metrics, 'clip': clip_metrics}\n",
    "best_rows = {}\n",
    "for method in ['sage', 'clip']:\n",
    "    print(f'Best {method} metrics: ')\n",
    "    best_rows[method] = {}\n",
    "    metric_df = metrics_dfs[method]\n",
    "    metric = 'f1_macro'\n",
    "    best_rows[method][metric] = metric_df[metric_df[metric]==metric_df[metric].max()][['threshold']+macro_metrics].iloc[0,:]\n",
    "    print(f'Metrics at best {metric}:\\n', best_rows[method][metric])\n",
    "    print('\\n')"
   ]
  },
  {
   "attachments": {},
   "cell_type": "markdown",
   "metadata": {},
   "source": [
    "<ins>Micro and Macro Precision and Recall: Plots by Keyword</ins>"
   ]
  },
  {
   "cell_type": "code",
   "execution_count": 27,
   "metadata": {},
   "outputs": [
    {
     "data": {
      "image/png": "[encoded data removed]",
      "text/plain": [
       "<Figure size 667.225x576 with 1 Axes>"
      ]
     },
     "metadata": {},
     "output_type": "display_data"
    },
    {
     "data": {
      "image/png": "[encoded data removed]",
      "text/plain": [
       "<Figure size 667.225x576 with 1 Axes>"
      ]
     },
     "metadata": {},
     "output_type": "display_data"
    }
   ],
   "source": [
    "sns.set_theme(style=\"whitegrid\")\n",
    "\n",
    "def compute_f1(prec, rec):\n",
    "    return 2*(prec*rec) / (prec+rec) if (prec + rec) > 0 else 0\n",
    "\n",
    "output_dir = cfg.exp_outputs.coco if org == 'coco' else cfg.exp_outputs.zillow\n",
    "\n",
    "if not os.path.exists(os.path.join(output_dir, 'val_prec_rec_f1_data.csv')):\n",
    "    if not os.path.exists(output_dir):\n",
    "        os.mkdir(output_dir)\n",
    "    prec_rec_f1_data = pd.DataFrame(columns=['exp_name', 'precision_macro', 'recall_macro', \n",
    "                                            'f1_macro', 'precision_micro', 'recall_micro', 'f1_micro'])\n",
    "else:\n",
    "    prec_rec_f1_data = pd.read_csv(os.path.join(output_dir, 'val_prec_rec_f1_data.csv'))\n",
    "    prec_rec_f1_data = prec_rec_f1_data[prec_rec_f1_data['exp_name']!=f'sage_{reconnection_method}']\n",
    "    prec_rec_f1_data = prec_rec_f1_data[prec_rec_f1_data['exp_name']!='clip']\n",
    "\n",
    "best_sage_results_by_keyword = results_dict[best_rows['sage']['f1_macro']['threshold']]['sage']\n",
    "best_clip_results_by_keyword = results_dict[best_rows['clip']['f1_macro']['threshold']]['clip']\n",
    "\n",
    "results_by_keyword = {f'sage_{reconnection_method}': best_sage_results_by_keyword,\n",
    "                       'clip': best_clip_results_by_keyword}\n",
    "\n",
    "for exp_name in results_by_keyword:\n",
    "    exp_results = pd.DataFrame(columns=['exp_name', 'precision_macro', 'recall_macro', 'f1_macro', 'precision_micro', 'recall_micro', 'f1_micro'])\n",
    "    exp_results['precision_macro'] = [np.mean(results_by_keyword[exp_name]['precision'])]\n",
    "    exp_results['recall_macro'] = [np.mean(results_by_keyword[exp_name]['recall'])]\n",
    "    exp_results['f1_macro'] = exp_results.apply(lambda x: compute_f1(x['precision_macro'], x['recall_macro']), axis=1)\n",
    "    exp_results['precision_micro'] = [np.mean(results_by_keyword[exp_name]['precision']*weights)]\n",
    "    exp_results['recall_micro'] = [np.mean(results_by_keyword[exp_name]['recall']*weights)]\n",
    "    exp_results['f1_micro'] = exp_results.apply(lambda x: compute_f1(x['precision_micro'], x['recall_micro']), axis=1)\n",
    "    exp_results['exp_name'] = [exp_name]\n",
    "    prec_rec_f1_data = pd.concat([prec_rec_f1_data, exp_results], ignore_index=True)\n",
    "\n",
    "prec_rec_f1_data.to_csv(os.path.join(output_dir, 'val_prec_rec_f1_data.csv'), index=False)\n",
    "\n",
    "if org == 'zillow':\n",
    "    train_new_old_node_id_mapping_file = os.path.join(csv_dataset_root,'new_old_node_id_mapping.json')\n",
    "    train_new_old_node_id_mapping = json.load(open(train_new_old_node_id_mapping_file, 'r'))\n",
    "    mapper_file = 'hash_keyword_mapper.json'\n",
    "    id_keyword_mapper = json.load(open(os.path.join('notebooks', mapper_file), 'r'))\n",
    "    \n",
    "    keyword_node_ids = eval_subgraph.nodes()[(eval_subgraph.ndata['ntype']==1).nonzero().squeeze()]\n",
    "    keyword_node_ids = [train_new_old_node_id_mapping[str(key.item())] for key in keyword_node_ids]    \n",
    "    \n",
    "elif org == 'coco':\n",
    "    mapper_file = 'tag_id_name_mapper.json'\n",
    "    id_keyword_mapper = json.load(open(os.path.join('notebooks', mapper_file), 'r'))\n",
    "\n",
    "    keyword_node_ids = eval_subgraph.ndata['_ID'][(eval_subgraph.ndata['ntype']==1).nonzero().squeeze()]\n",
    "    keyword_node_ids = [str(node_id.item()) for node_id in keyword_node_ids]\n",
    "\n",
    "\n",
    "\n",
    "keywords = [id_keyword_mapper[keyword_node_ids[i]] if keyword_node_ids[i] in list(id_keyword_mapper.keys()) \n",
    "            else f'keyword_{i}' for i in range(len(keyword_node_ids))]\n",
    "\n",
    "\n",
    "by_keyword_results = pd.concat([pd.DataFrame({'keyword': keywords,\n",
    "                                            'method': f'sage_{reconnection_method}',\n",
    "                                            'precision': best_sage_results_by_keyword['precision'],\n",
    "                                            'recall': best_sage_results_by_keyword['recall'],\n",
    "                                            'weights': weights}).sort_values(by='weights', ascending=False)\\\n",
    "                                            .drop_duplicates(subset='keyword').head(10),\n",
    "                                pd.DataFrame({'keyword': keywords,\n",
    "                                            'method': 'clip',\n",
    "                                            'precision': best_clip_results_by_keyword['precision'],\n",
    "                                            'recall': best_clip_results_by_keyword['recall'],\n",
    "                                            'weights': weights}).sort_values(by='weights', ascending=False)\\\n",
    "                                            .drop_duplicates(subset='keyword').head(10)]\n",
    "                                )\n",
    "\n",
    "ax_prec = sns.catplot(\n",
    "    data=by_keyword_results, kind=\"bar\",\n",
    "    x=\"precision\", y=\"keyword\", hue=\"method\",\n",
    "    palette=\"cubehelix\", height=8\n",
    ")\n",
    "ax_prec.set_axis_labels(\"precision\", \"keyword\")\n",
    "\n",
    "ax_rec = sns.catplot(\n",
    "    data=by_keyword_results, kind=\"bar\",\n",
    "    x=\"recall\", y=\"keyword\", hue=\"method\",\n",
    "    palette=\"cubehelix\", height=8\n",
    ")\n",
    "\n",
    "ax_rec.set_axis_labels(\"recall\", \"keyword\")\n",
    "plt.show()\n"
   ]
  },
  {
   "attachments": {},
   "cell_type": "markdown",
   "metadata": {},
   "source": [
    "<ins>Metrics by Experiment Type: Plot</ins>"
   ]
  },
  {
   "attachments": {},
   "cell_type": "markdown",
   "metadata": {},
   "source": [
    "_NOTE: This requires at least two experiments to be run within this notebook_"
   ]
  },
  {
   "cell_type": "code",
   "execution_count": 28,
   "metadata": {},
   "outputs": [
    {
     "data": {
      "text/plain": [
       "<seaborn.axisgrid.FacetGrid at 0x7f0c85714a90>"
      ]
     },
     "execution_count": 28,
     "metadata": {},
     "output_type": "execute_result"
    },
    {
     "data": {
      "image/png": "[encoded data removed]",
      "text/plain": [
       "<Figure size 683.1x576 with 1 Axes>"
      ]
     },
     "metadata": {},
     "output_type": "display_data"
    }
   ],
   "source": [
    "prec_rec_f1_data_plot = pd.melt(prec_rec_f1_data, id_vars=['exp_name'], value_vars=['precision_macro', 'recall_macro', 'f1_macro',\n",
    "                                                                'precision_micro', 'recall_micro', 'f1_micro'])\n",
    "                                                                \n",
    "g_metrics = sns.catplot(\n",
    "    data=prec_rec_f1_data_plot, kind=\"bar\",\n",
    "    x=\"variable\", y=\"value\", hue=\"exp_name\",\n",
    "    palette=\"cubehelix\", height=8\n",
    ")\n",
    "\n",
    "g_metrics.set_axis_labels(\"\", \"metric type\")"
   ]
  },
  {
   "attachments": {},
   "cell_type": "markdown",
   "metadata": {},
   "source": [
    "<ins>Metrics by Experiment Type: Tabular Form</ins>"
   ]
  },
  {
   "cell_type": "code",
   "execution_count": 29,
   "metadata": {},
   "outputs": [
    {
     "data": {
      "text/html": [
       "<div>\n",
       "<style scoped>\n",
       "    .dataframe tbody tr th:only-of-type {\n",
       "        vertical-align: middle;\n",
       "    }\n",
       "\n",
       "    .dataframe tbody tr th {\n",
       "        vertical-align: top;\n",
       "    }\n",
       "\n",
       "    .dataframe thead th {\n",
       "        text-align: right;\n",
       "    }\n",
       "</style>\n",
       "<table border=\"1\" class=\"dataframe\">\n",
       "  <thead>\n",
       "    <tr style=\"text-align: right;\">\n",
       "      <th></th>\n",
       "      <th>exp_name</th>\n",
       "      <th>precision_macro</th>\n",
       "      <th>recall_macro</th>\n",
       "      <th>f1_macro</th>\n",
       "      <th>precision_micro</th>\n",
       "      <th>recall_micro</th>\n",
       "      <th>f1_micro</th>\n",
       "    </tr>\n",
       "  </thead>\n",
       "  <tbody>\n",
       "    <tr>\n",
       "      <th>0</th>\n",
       "      <td>sage_scene</td>\n",
       "      <td>0.000481</td>\n",
       "      <td>0.037052</td>\n",
       "      <td>0.000950</td>\n",
       "      <td>0.000004</td>\n",
       "      <td>0.000035</td>\n",
       "      <td>0.000008</td>\n",
       "    </tr>\n",
       "    <tr>\n",
       "      <th>1</th>\n",
       "      <td>sage_cosine</td>\n",
       "      <td>0.000444</td>\n",
       "      <td>0.104610</td>\n",
       "      <td>0.000884</td>\n",
       "      <td>0.000004</td>\n",
       "      <td>0.000111</td>\n",
       "      <td>0.000008</td>\n",
       "    </tr>\n",
       "    <tr>\n",
       "      <th>2</th>\n",
       "      <td>sage_self</td>\n",
       "      <td>0.004871</td>\n",
       "      <td>0.145059</td>\n",
       "      <td>0.009426</td>\n",
       "      <td>0.000058</td>\n",
       "      <td>0.000352</td>\n",
       "      <td>0.000100</td>\n",
       "    </tr>\n",
       "    <tr>\n",
       "      <th>3</th>\n",
       "      <td>clip</td>\n",
       "      <td>0.008179</td>\n",
       "      <td>0.410289</td>\n",
       "      <td>0.016038</td>\n",
       "      <td>0.000065</td>\n",
       "      <td>0.000490</td>\n",
       "      <td>0.000114</td>\n",
       "    </tr>\n",
       "  </tbody>\n",
       "</table>\n",
       "</div>"
      ],
      "text/plain": [
       "      exp_name  precision_macro  recall_macro  f1_macro  precision_micro  \\\n",
       "0   sage_scene         0.000481      0.037052  0.000950         0.000004   \n",
       "1  sage_cosine         0.000444      0.104610  0.000884         0.000004   \n",
       "2    sage_self         0.004871      0.145059  0.009426         0.000058   \n",
       "3         clip         0.008179      0.410289  0.016038         0.000065   \n",
       "\n",
       "   recall_micro  f1_micro  \n",
       "0      0.000035  0.000008  \n",
       "1      0.000111  0.000008  \n",
       "2      0.000352  0.000100  \n",
       "3      0.000490  0.000114  "
      ]
     },
     "execution_count": 29,
     "metadata": {},
     "output_type": "execute_result"
    }
   ],
   "source": [
    "prec_rec_f1_data.head()"
   ]
  },
  {
   "attachments": {},
   "cell_type": "markdown",
   "metadata": {},
   "source": [
    "<ins>ROC Curves: Data Preperation</ins>"
   ]
  },
  {
   "cell_type": "code",
   "execution_count": 30,
   "metadata": {},
   "outputs": [],
   "source": [
    "method_link_scores = {'sage': val_sage_link_scores, 'clip': val_clip_link_scores}\n",
    "\n",
    "if not os.path.exists(os.path.join(output_dir, 'val_roc_auc_scores.json')):\n",
    "    roc_auc_values = {f'sage_{reconnection_method}': {'micro': 0, 'macro': 0}, 'clip': {'micro': 0, 'macro': 0}}\n",
    "else:\n",
    "    roc_auc_values = json.load(open(os.path.join(output_dir, 'val_roc_auc_scores.json'), 'r'))\n",
    "    \n",
    "if not os.path.exists(os.path.join(output_dir, 'val_roc_data.csv')):\n",
    "    roc_data = pd.DataFrame(columns=['exp_name', 'fpr_micro', 'tpr_micro'])\n",
    "else:\n",
    "    roc_data = pd.read_csv(os.path.join(output_dir, 'val_roc_data.csv'))\n",
    "    roc_data = roc_data[roc_data['exp_name']!=f'sage_{reconnection_method}']\n",
    "    roc_data = roc_data[roc_data['exp_name']!='clip']\n",
    "     \n",
    "for method in method_link_scores:\n",
    "    fpr_micro, tpr_micro, thresholds = metrics.roc_curve(val_adj_matrix.flatten(), method_link_scores[method].flatten())\n",
    "    method_roc_data = pd.DataFrame(columns=['exp_name', 'fpr_micro', 'tpr_micro'])\n",
    "    exp_name = f'sage_{reconnection_method}' if method == 'sage' else 'clip'\n",
    "    \n",
    "    roc_auc_values[exp_name] = {'micro': 0, 'macro': 0} # overwrite old results\n",
    "    \n",
    "    method_roc_data['fpr_micro'] = fpr_micro\n",
    "    method_roc_data['tpr_micro'] = tpr_micro\n",
    "    method_roc_data['exp_name'] = exp_name\n",
    "    \n",
    "    roc_data = pd.concat([roc_data, method_roc_data])\n",
    "    \n",
    "    roc_auc_values[exp_name]['micro'] = metrics.auc(fpr_micro, tpr_micro)\n",
    "\n",
    "    # keyword_aucs = []\n",
    "    # for i in range(method_link_scores[method].shape[0]):\n",
    "    #     keyword_aucs.append(metrics.roc_auc_score(val_adj_matrix[i], method_link_scores[method][i]))\n",
    "    # roc_auc_values[exp_name]['macro'] = np.mean(keyword_aucs)\n",
    "\n",
    "#roc_data.drop_duplicates(subset='exp_name', keep='last', inplace=True)\n",
    "roc_data.to_csv(os.path.join(output_dir, 'val_roc_data.csv'), index=False)\n",
    "\n",
    "with open(os.path.join(output_dir, 'val_roc_auc_scores.json'), 'w') as outfile:\n",
    "    json.dump(roc_auc_values, outfile)"
   ]
  },
  {
   "attachments": {},
   "cell_type": "markdown",
   "metadata": {},
   "source": [
    "<ins>ROC Curves: Plots</ins>"
   ]
  },
  {
   "cell_type": "code",
   "execution_count": 31,
   "metadata": {},
   "outputs": [
    {
     "data": {
      "image/png": "[encoded data removed]",
      "text/plain": [
       "<Figure size 432x288 with 1 Axes>"
      ]
     },
     "metadata": {},
     "output_type": "display_data"
    },
    {
     "name": "stdout",
     "output_type": "stream",
     "text": [
      "ROC AUC Scores: {'sage_scene': {'micro': 0.49091272518871865, 'macro': 0}, 'clip': {'micro': 0.9649549583135297, 'macro': 0}, 'sage_cosine': {'micro': 0.4703291404544505, 'macro': 0}, 'sage_self': {'micro': 0.7854416500084368, 'macro': 0}}\n"
     ]
    }
   ],
   "source": [
    "for exp in set(roc_data['exp_name'].values):\n",
    "    exp_data = roc_data[roc_data['exp_name']==exp]\n",
    "    plt.plot(exp_data['fpr_micro'], exp_data['tpr_micro'], label=f\"{exp} (area = %0.2f)\" % roc_auc_values[exp]['micro'])\n",
    "\n",
    "plt.grid(False)\n",
    "plt.plot([0, 1], [0, 1], color=\"navy\", linestyle=\"--\")\n",
    "plt.xlim([0.0, 1.0])\n",
    "plt.ylim([0.0, 1.05])\n",
    "plt.xlabel(\"False Positive Rate\")\n",
    "plt.ylabel(\"True Positive Rate\")\n",
    "plt.title(f\"Micro-Averaged Link Prediction ROC Curves ({org})\")\n",
    "plt.legend(loc=\"lower right\")\n",
    "plt.show()"
   ]
  },
  {
   "attachments": {},
   "cell_type": "markdown",
   "metadata": {},
   "source": [
    "<ins>ROC Curves: Data</ins>"
   ]
  },
  {
   "cell_type": "code",
   "execution_count": null,
   "metadata": {},
   "outputs": [],
   "source": [
    "print('ROC AUC Scores:', roc_auc_values)"
   ]
  },
  {
   "attachments": {},
   "cell_type": "markdown",
   "metadata": {},
   "source": [
    "# Evaluation on Holdout Set"
   ]
  },
  {
   "attachments": {},
   "cell_type": "markdown",
   "metadata": {},
   "source": [
    "_Note: This is for Zillow data only_\n"
   ]
  },
  {
   "attachments": {},
   "cell_type": "markdown",
   "metadata": {},
   "source": [
    "<ins>Define Data Objects and Subgraphs</ins>"
   ]
  },
  {
   "cell_type": "code",
   "execution_count": 32,
   "metadata": {},
   "outputs": [
    {
     "name": "stdout",
     "output_type": "stream",
     "text": [
      "Done loading data from cached files.\n"
     ]
    }
   ],
   "source": [
    "cfg = NestedNamespace(yaml.load(open('conf/config.yaml'), Loader=Loader))\n",
    "val_csv_dataset_root = cfg.graph.zillow_verified.graph_dir\n",
    "\n",
    "test_modal_node_ids_file = os.path.join(val_csv_dataset_root,'modal_node_ids.json')\n",
    "test_new_old_node_id_mapping_file = os.path.join(val_csv_dataset_root,'new_old_node_id_mapping.json')\n",
    "test_datamodule = DataModule(\n",
    "    val_csv_dataset_root, \n",
    "    modal_node_ids_file, \n",
    "    keyword_as_src=False, \n",
    "    device=device, \n",
    "    batch_size=cfg.training.batch_size, \n",
    "    force_reload=False\n",
    ")\n",
    "\n",
    "test_subgraph = test_datamodule.g_bid\n",
    "test_eval_subgraph = datamodule.g_bid.subgraph(datamodule.g_bid.nodes())\n",
    "test_eval_subgraph.ndata['test_mask'] = torch.zeros(len(test_eval_subgraph.nodes()), dtype=torch.uint8).to(device)\n",
    "print(len(test_eval_subgraph.ndata['test_mask']))\n",
    "\n",
    "test_img_node_idxs = (test_subgraph.ndata['ntype'] == 0).nonzero().squeeze()\n",
    "test_img_embeds = test_subgraph.ndata['feat'][test_img_node_idxs]\n",
    "test_img_node_ids = test_subgraph.nodes()[test_img_node_idxs] + torch.max(test_eval_subgraph.nodes()) + 1\n",
    "\n",
    "print('number of test img nodes:', len(test_img_node_ids))\n",
    "print('number of \"train\" img nodes:', len(test_eval_subgraph.nodes()))\n",
    "\n",
    "test_nodes_data = {'train_mask': torch.zeros(len(test_img_node_ids), dtype=torch.uint8).to(device),\n",
    "                   'val_mask': torch.zeros(len(test_img_node_ids), dtype=torch.uint8).to(device),\n",
    "                   'test_mask': torch.ones(len(test_img_node_ids), dtype=torch.uint8).to(device),\n",
    "                   'ntype': torch.zeros(len(test_img_node_ids), dtype=torch.int64).to(device),\n",
    "                   'feat': test_img_embeds.to(device),\n",
    "                   '_ID': test_img_node_ids}\n",
    "\n",
    "test_eval_subgraph.add_nodes(num=len(test_img_node_ids), data=test_nodes_data)"
   ]
  },
  {
   "attachments": {},
   "cell_type": "markdown",
   "metadata": {},
   "source": [
    "<ins>Here, we are redoing the following cells from above, except on the held out data. We do this in one single cell for output condensation.</ins>\n",
    "\n",
    "Identifying Node Pairs as Edges \n",
    "\n",
    "Collect Edges for Subgraph"
   ]
  },
  {
   "cell_type": "code",
   "execution_count": 34,
   "metadata": {},
   "outputs": [],
   "source": [
    "# get node ID to hash ID mappings to find in-vocabulary keywords and scenes from test dataset\n",
    "\n",
    "test_keyword_ids = test_subgraph.nodes()[(test_subgraph.ndata['ntype']==1).nonzero().squeeze()].cpu().detach().tolist()\n",
    "test_new_old_node_id_mapping = json.load(open(test_new_old_node_id_mapping_file, 'r'))\n",
    "test_old_new_node_id_mapping = {v: k for k, v in test_new_old_node_id_mapping.items()}\n",
    "\n",
    "train_new_old_node_id_mapping_file = os.path.join(csv_dataset_root,'new_old_node_id_mapping.json')\n",
    "train_new_old_node_id_mapping = json.load(open(train_new_old_node_id_mapping_file, 'r'))\n",
    "train_old_new_node_id_mapping = {v: k for k, v in train_new_old_node_id_mapping.items()}\n",
    "\n",
    "\n",
    "if reconnection_method == 'cosine':\n",
    "    # Step 3: Identify image node pairs as edges\n",
    "\n",
    "    eval_train_img_node_idxs = ((test_eval_subgraph.ndata['ntype'] == 0)&(test_eval_subgraph.ndata['test_mask']==0)).nonzero().squeeze()\n",
    "    eval_train_kw_node_idxs = ((test_eval_subgraph.ndata['ntype'] == 1)&(test_eval_subgraph.ndata['test_mask']==0)).nonzero().squeeze()\n",
    "    eval_test_img_node_idxs = ((test_eval_subgraph.ndata['ntype'] == 0)&(test_eval_subgraph.ndata['test_mask']==1)).nonzero().squeeze()\n",
    "    \n",
    "    eval_train_img_embeds = test_eval_subgraph.ndata['feat'][eval_train_img_node_idxs]\n",
    "    eval_train_kw_embeds = test_eval_subgraph.ndata['feat'][eval_train_kw_node_idxs]\n",
    "    eval_test_img_embeds = test_eval_subgraph.ndata['feat'][eval_test_img_node_idxs]\n",
    "\n",
    "    cosine_sims_img_matrix = cosine_sim(eval_test_img_embeds, eval_train_img_embeds)\n",
    "    cosine_sims_img_kw_matrix = cosine_sim(eval_test_img_embeds, eval_train_kw_embeds)\n",
    "    print(eval_test_img_embeds.size())\n",
    "    print(cosine_sims_img_matrix.size())\n",
    "\n",
    "    img_sim_threshold = 0.98\n",
    "    img_img_k = 5\n",
    "    img_kw_k = 5\n",
    "            \n",
    "    test_eval_matches = []\n",
    "    for i in tqdm(range(cosine_sims_img_matrix.size(0)), desc='computing image-image matches'):\n",
    "        # get val img to train img matches\n",
    "        eval_train_img_node_id_matches = eval_train_img_node_idxs[(cosine_sims_img_matrix[i]>img_sim_threshold)]\n",
    "\n",
    "        if len(eval_train_img_node_id_matches) < img_img_k:\n",
    "            img_matches, img_match_indices = torch.topk(cosine_sims_img_matrix[i], img_img_k)\n",
    "            eval_train_img_node_id_matches = eval_train_img_node_idxs[img_match_indices]\n",
    "        \n",
    "        # get val img to train keyword matches\n",
    "        kw_matches, kw_match_indices = torch.topk(cosine_sims_img_kw_matrix[i], img_kw_k)\n",
    "        \n",
    "        eval_train_kw_node_id_matches = eval_train_kw_node_idxs[kw_match_indices]\n",
    "\n",
    "        eval_train_node_id_matches = torch.cat((eval_train_img_node_id_matches, eval_train_kw_node_id_matches))\n",
    "        test_eval_matches.append(eval_train_node_id_matches.tolist())\n",
    "\n",
    "    test_matches_per_img = [len(match_list) for match_list in test_eval_matches]\n",
    "\n",
    "\n",
    "if reconnection_method == 'scene':\n",
    "    # Step 3: Identify image and scene node pairs as edges\n",
    "\n",
    "    eval_train_img_node_idxs = ((test_eval_subgraph.ndata['ntype'] == 0)&(test_eval_subgraph.ndata['test_mask']==0)).nonzero().squeeze()\n",
    "    eval_train_scene_node_idxs = ((test_eval_subgraph.ndata['ntype'] == 2)&(test_eval_subgraph.ndata['test_mask']==0)).nonzero().squeeze()\n",
    "\n",
    "    eval_test_img_node_idxs = ((test_eval_subgraph.ndata['ntype'] == 0)&(test_eval_subgraph.ndata['test_mask']==1)).nonzero().squeeze()\n",
    "    \n",
    "    eval_train_img_ids = test_eval_subgraph.ndata['_ID'][eval_train_img_node_idxs]\n",
    "    eval_train_scene_ids = test_eval_subgraph.ndata['_ID'][eval_train_scene_node_idxs]\n",
    "\n",
    "    eval_test_img_ids = test_eval_subgraph.ndata['_ID'][eval_test_img_node_idxs]\n",
    "    test_img_ids = (test_subgraph.ndata['ntype'] == 0).nonzero().squeeze()\n",
    "    test_scene_ids = (test_subgraph.ndata['ntype'] == 2).nonzero().squeeze()\n",
    "\n",
    "    train_scene_hashes = [train_new_old_node_id_mapping[str(key.item())] for key in eval_train_scene_ids]\n",
    "    test_scene_hashes = [test_new_old_node_id_mapping[str(key.item())] for key in test_scene_ids]\n",
    "    test_train_scene_node_mapper = {}\n",
    "\n",
    "    for i in range(len(test_scene_hashes)):\n",
    "        if test_scene_hashes[i] in train_scene_hashes:\n",
    "            test_node_id = test_old_new_node_id_mapping[str(test_scene_hashes[i])]\n",
    "            train_node_id = train_old_new_node_id_mapping[str(test_scene_hashes[i])]\n",
    "            test_train_scene_node_mapper[int(test_node_id)] = int(train_node_id)\n",
    "\n",
    "    def get_scene_edges_test(node_id, eval_graph, test_graph, eval_train_scene_ids, eval_test_scene_ids,\n",
    "                             test_train_scene_node_mapper):\n",
    "                             \n",
    "        u_node, v_node = test_graph.edges()\n",
    "        u_node_edge_idxs = torch.nonzero(node_id == u_node)\n",
    "        v_ids = v_node[u_node_edge_idxs]\n",
    "\n",
    "        v_node_edge_idxs = torch.nonzero(node_id == v_node)\n",
    "        u_ids = u_node[v_node_edge_idxs]\n",
    "\n",
    "        all_edge_ids = torch.cat([u_ids, v_ids], dim=0)\n",
    "        \n",
    "        indices = torch.zeros_like(all_edge_ids, dtype = torch.uint8, device = device)\n",
    "        for elem in eval_test_scene_ids:\n",
    "            indices = indices | (all_edge_ids == elem)\n",
    "\n",
    "        intersection = [node for node in all_edge_ids[indices].cpu().detach().tolist() if node in list(test_train_scene_node_mapper.keys())]\n",
    "        intersection_mapped = torch.LongTensor([test_train_scene_node_mapper[key] for key in intersection])\n",
    "        \n",
    "        return torch.unique(intersection_mapped)\n",
    "\n",
    "if reconnection_method == 'cosine':\n",
    "\n",
    "    u_test = []\n",
    "    v_test = []\n",
    "\n",
    "    for i in range(len(test_eval_matches)):\n",
    "        test_img_node = eval_test_img_node_idxs[i].item()\n",
    "        train_matches = test_eval_matches[i]\n",
    "        for node_id in train_matches:\n",
    "            train_img_node = node_id\n",
    "            # Add bidirectional edge for each match\n",
    "            u_test += [test_img_node, train_img_node]\n",
    "            v_test += [train_img_node, test_img_node]\n",
    "    \n",
    "    ## every eval-validation image:\n",
    "    ##### find all eval-train scenes it is connected to in the eval_subgraph\n",
    "    ##### connect the image-scene \n",
    "\n",
    "    u_test = []\n",
    "    v_test = []\n",
    "\n",
    "    for test_img_id in tqdm(test_img_ids):\n",
    "        matching_eval_train_scenes = get_scene_edges_test(test_img_id, test_eval_subgraph, test_subgraph, \n",
    "                                                          eval_train_scene_ids, test_scene_ids, test_train_scene_node_mapper)\n",
    "\n",
    "        if matching_eval_train_scenes.size(dim=0) > 0:\n",
    "            for scene in matching_eval_train_scenes:\n",
    "                u_test += [test_img_id.item(), scene.item()]\n",
    "                v_test += [scene.item(), test_img_id.item()]\n",
    "\n",
    "if reconnection_method == 'cosine' or reconnection_method == 'scene':\n",
    "    test_edge_data = {'_ID': torch.arange(torch.max(test_eval_subgraph.edata['_ID'])+1, torch.max(test_eval_subgraph.edata['_ID'])+1+len(u_test), dtype=torch.int64).to(device)}\n",
    "    test_eval_subgraph.add_edges(torch.LongTensor(u_test).to(device), torch.LongTensor(v_test).to(device), data=test_edge_data)\n",
    "\n",
    "test_eval_subgraph = test_eval_subgraph.add_self_loop()"
   ]
  },
  {
   "attachments": {},
   "cell_type": "markdown",
   "metadata": {},
   "source": [
    "<ins> Make DGL Graph GraphSAGE Compliant and Run Inference</ins>"
   ]
  },
  {
   "cell_type": "code",
   "execution_count": 36,
   "metadata": {},
   "outputs": [],
   "source": [
    "# Step 5: Turn DGL graph into DataLoader object for GraphSAGE forward inference\n",
    "\n",
    "u_test_eval, v_test_eval = test_eval_subgraph.edges()\n",
    "test_eval_subgraph_eids = test_eval_subgraph.edge_ids(u_test_eval, v_test_eval)\n",
    "layer_sampler = dgl.dataloading.NeighborSampler(fanouts=[3]) # During message passing between GNN layers, each node accept messages from a maximum of 25 incoming nodes\n",
    "batch_size = len(test_eval_subgraph_eids)\n",
    "\n",
    "def test_eval_dataloader(g, layer_sampler, batch_size, eids):\n",
    "    edge_sampler = dgl.dataloading.as_edge_prediction_sampler(layer_sampler)\n",
    "\n",
    "    return dgl.dataloading.DataLoader(\n",
    "        g,\n",
    "        eids,\n",
    "        edge_sampler,\n",
    "        device=device,\n",
    "        batch_size=batch_size,\n",
    "        shuffle=False,\n",
    "        drop_last=False\n",
    "        # num_workers=self.num_workers,\n",
    "    )\n",
    "\n",
    "test_eval_dl = test_eval_dataloader(test_eval_subgraph, layer_sampler, batch_size, test_eval_subgraph_eids)\n",
    "\n",
    "# Step 6: Run graphSAGE forward inference over entire val_subgraph message flow graph (MFG)\n",
    "\n",
    "for batch in test_eval_dl:\n",
    "    # This loop only runs once b/c batch_size = number of total edges in train_val_subgraph - we only need it to get \"blocks\"\n",
    "    test_inputs, test_edge_subgraph, test_blocks = batch\n",
    "    \n",
    "x = test_blocks[0].srcdata[\"feat\"]\n",
    "model = model.to(device)\n",
    "logits = model.module(test_blocks, x)\n",
    "\n",
    "test_eval_subgraph.ndata['feat_pred'] = logits"
   ]
  },
  {
   "attachments": {},
   "cell_type": "markdown",
   "metadata": {},
   "source": [
    "<ins>Additional Work for Metric Generation</ins>"
   ]
  },
  {
   "cell_type": "code",
   "execution_count": 38,
   "metadata": {},
   "outputs": [],
   "source": [
    "eval_test_img_node_ids = ((test_eval_subgraph.ndata['test_mask']==1)&(test_eval_subgraph.ndata['ntype']==0)).nonzero().squeeze()\n",
    "eval_keyword_node_ids = ((test_eval_subgraph.ndata['ntype']==1)).nonzero().squeeze()\n",
    "\n",
    "test_keyword_hashes = [test_new_old_node_id_mapping[str(key)] for key in test_keyword_ids]\n",
    "train_keyword_hashes = [train_new_old_node_id_mapping[str(key.item())] for key in eval_keyword_node_ids]\n",
    "\n",
    "train_overlap_ids = []\n",
    "for i in range(len(train_keyword_hashes)):\n",
    "    if train_keyword_hashes[i] in test_keyword_hashes:\n",
    "        train_overlap_ids.append(eval_keyword_node_ids[i])\n",
    "eval_test_keyword_node_ids = torch.LongTensor(train_overlap_ids)\n",
    "\n",
    "test_overlap_ids = []\n",
    "for i in range(len(test_keyword_hashes)):\n",
    "    if test_keyword_hashes[i] in train_keyword_hashes:\n",
    "        test_overlap_ids.append(test_keyword_ids[i])\n",
    "test_keyword_node_ids = torch.LongTensor(test_overlap_ids)\n",
    "\n",
    "# Post-GraphSAGE embeddings\n",
    "eval_test_img_feat_sage = test_eval_subgraph.ndata['feat_pred'][eval_test_img_node_ids]\n",
    "eval_keyword_feat_sage = test_eval_subgraph.ndata['feat_pred'][eval_test_keyword_node_ids]\n",
    "\n",
    "# Original CLIP embeddings before GraphSAGE forward method\n",
    "eval_test_img_feat_clip = test_eval_subgraph.ndata['feat'][eval_test_img_node_ids]\n",
    "eval_keyword_feat_clip = test_eval_subgraph.ndata['feat'][eval_test_keyword_node_ids]\n",
    "\n",
    "# Step 8: Compute cosine similarities between validation images and keywords to get \"link scores\" between 0 and 1\n",
    "test_sage_link_scores = cosine_sim(eval_keyword_feat_sage, eval_test_img_feat_sage).cpu().detach().numpy()\n",
    "test_clip_link_scores = cosine_sim(eval_keyword_feat_clip, eval_test_img_feat_clip).cpu().detach().numpy()"
   ]
  },
  {
   "cell_type": "code",
   "execution_count": 40,
   "metadata": {},
   "outputs": [],
   "source": [
    "# Adjacency matrix needs to be sub-setted such that rows correspond only to image nodes and columns correspond only to keyword nodes\n",
    "test_img_indices = (test_subgraph.ndata['ntype']==0).nonzero().cpu().reshape(1, -1)\n",
    "test_keyword_indices = test_keyword_node_ids.reshape(-1, 1)\n",
    "\n",
    "test_adj_matrix = test_subgraph.adjacency_matrix().to_dense().numpy()\n",
    "test_adj_matrix = test_adj_matrix[test_keyword_indices, test_img_indices]\n",
    "\n",
    "method_link_scores = {'sage': test_sage_link_scores, 'clip': test_clip_link_scores}\n",
    "\n",
    "pred_thresholds = np.linspace(0.1, 0.9, 50)\n",
    "test_sage_clip_metrics = pd.DataFrame()\n",
    "results_dict = {threshold: {} for threshold in pred_thresholds}\n",
    "\n",
    "for pred_threshold in pred_thresholds:\n",
    "    results_dict[pred_threshold] = {'sage': {}, 'clip': {}}\n",
    "\n",
    "    for method in method_link_scores:\n",
    "        method_link_predictions = (method_link_scores[method] > pred_threshold).astype(int)\n",
    "        n_keywords = len(method_link_scores[method])\n",
    "        for metric in ['tp', 'fp', 'fn', 'actual_p', 'precision', 'recall', 'f1']:\n",
    "            results_dict[pred_threshold][method][metric] = np.empty(n_keywords)\n",
    "        weights = np.empty(n_keywords)\n",
    "        \n",
    "        for i in range(n_keywords):\n",
    "            all_p = np.sum(test_adj_matrix[i])\n",
    "            all_p_pred = np.sum(method_link_predictions[i])\n",
    "            results_dict[pred_threshold][method]['tp'][i] = np.sum((method_link_predictions[i]==1)&(test_adj_matrix[i]==1))\n",
    "            results_dict[pred_threshold][method]['fp'][i] = np.sum((method_link_predictions[i]==1)&(test_adj_matrix[i]==0))\n",
    "            results_dict[pred_threshold][method]['fn'][i] = np.sum((method_link_predictions[i]==0)&(test_adj_matrix[i]==1))\n",
    "            results_dict[pred_threshold][method]['actual_p'][i] = all_p\n",
    "\n",
    "            precision = results_dict[pred_threshold][method]['tp'][i] / all_p_pred if all_p_pred > 0 else 0\n",
    "            recall = results_dict[pred_threshold][method]['tp'][i] / all_p if all_p > 0 else 0\n",
    "\n",
    "            results_dict[pred_threshold][method]['precision'][i] = precision\n",
    "            results_dict[pred_threshold][method]['recall'][i] = recall\n",
    "\n",
    "            weights[i] = all_p\n",
    "\n",
    "    weights /= np.sum(weights)\n",
    "\n",
    "    for method in results_dict[pred_threshold].keys():\n",
    "        row = {'threshold': pred_threshold, 'method': method}\n",
    "        for metric in results_dict[pred_threshold][method]:\n",
    "            if metric == 'precision' or metric == 'recall' or metric == 'f1':\n",
    "                row[f'{metric}_micro'] = np.mean(results_dict[pred_threshold][method][metric]*weights)\n",
    "                row[f'{metric}_macro'] = np.mean(results_dict[pred_threshold][method][metric])\n",
    "        \n",
    "        row['f1_micro'] = 2*(row['precision_micro']*row['recall_micro']) / (row['precision_micro']+row['recall_micro']) if (row['precision_micro']+row['recall_micro']) > 0 else 0\n",
    "        row['f1_macro'] = 2*(row['precision_macro']*row['recall_macro']) / (row['precision_macro']+row['recall_macro']) if (row['precision_macro']+row['recall_macro']) > 0 else 0\n",
    "        test_sage_clip_metrics = pd.concat([test_sage_clip_metrics, pd.DataFrame([row])], ignore_index=True)\n",
    "\n",
    "test_sage_metrics = test_sage_clip_metrics[(test_sage_clip_metrics['method']=='sage')]\n",
    "test_clip_metrics = test_sage_clip_metrics[(test_sage_clip_metrics['method']=='clip')]"
   ]
  },
  {
   "attachments": {},
   "cell_type": "markdown",
   "metadata": {},
   "source": [
    "<ins>Summary Metrics</ins>"
   ]
  },
  {
   "cell_type": "code",
   "execution_count": 41,
   "metadata": {},
   "outputs": [
    {
     "name": "stdout",
     "output_type": "stream",
     "text": [
      "Best SAGE metrics: \n",
      "Metrics at best recall_macro:\n",
      " threshold          0.100000\n",
      "recall_macro       0.635256\n",
      "precision_macro    0.312829\n",
      "f1_macro           0.419217\n",
      "Name: 0, dtype: float64\n",
      "Metrics at best precision_macro:\n",
      " threshold          0.900000\n",
      "recall_macro       0.537190\n",
      "precision_macro    0.373825\n",
      "f1_macro           0.440860\n",
      "Name: 98, dtype: float64\n",
      "Metrics at best f1_macro:\n",
      " threshold          0.720408\n",
      "recall_macro       0.572836\n",
      "precision_macro    0.367303\n",
      "f1_macro           0.447603\n",
      "Name: 76, dtype: float64\n",
      "Metrics at best recall_macro:\n",
      " threshold          0.100000\n",
      "recall_macro       1.000000\n",
      "precision_macro    0.131197\n",
      "f1_macro           0.231961\n",
      "Name: 1, dtype: float64\n",
      "Metrics at best precision_macro:\n",
      " threshold          0.410204\n",
      "recall_macro       0.162136\n",
      "precision_macro    0.400104\n",
      "f1_macro           0.230760\n",
      "Name: 39, dtype: float64\n",
      "Metrics at best f1_macro:\n",
      " threshold          0.393878\n",
      "recall_macro       0.606417\n",
      "precision_macro    0.363880\n",
      "f1_macro           0.454836\n",
      "Name: 37, dtype: float64\n"
     ]
    }
   ],
   "source": [
    "print('Best SAGE metrics: ')\n",
    "macro_metrics = ['recall_macro', 'precision_macro', 'f1_macro']\n",
    "metrics_dfs = {'sage': test_sage_metrics, 'clip': test_clip_metrics}\n",
    "best_rows = {}\n",
    "for method in ['sage', 'clip']:\n",
    "    best_rows[method] = {}\n",
    "    metric_df = metrics_dfs[method]\n",
    "    for metric in macro_metrics:\n",
    "        best_rows[method][metric] = metric_df[metric_df[metric]==metric_df[metric].max()][['threshold']+macro_metrics].iloc[0,:]\n",
    "        print(f'Metrics at best {metric}:\\n', best_rows[method][metric])"
   ]
  },
  {
   "attachments": {},
   "cell_type": "markdown",
   "metadata": {},
   "source": [
    "## Holdout Dataset Plots"
   ]
  },
  {
   "attachments": {},
   "cell_type": "markdown",
   "metadata": {},
   "source": [
    "<ins> Micro and Macro Precision and Recall: Plots </ins>"
   ]
  },
  {
   "cell_type": "code",
   "execution_count": 42,
   "metadata": {},
   "outputs": [
    {
     "data": {
      "image/png": "[encoded data removed]",
      "text/plain": [
       "<Figure size 1080x720 with 4 Axes>"
      ]
     },
     "metadata": {},
     "output_type": "display_data"
    }
   ],
   "source": [
    "import matplotlib.pyplot as plt\n",
    "\n",
    "# test_sage_micro_threshold_metrics = test_sage_clip_metrics[test_sage_clip_metrics['method']=='sage'][['threshold', 'precision_micro', 'recall_micro']]\n",
    "# test_clip_micro_threshold_metrics = test_sage_clip_metrics[test_sage_clip_metrics['method']=='clip'][['threshold', 'precision_micro', 'recall_micro']]\n",
    "# test_sage_macro_threshold_metrics = test_sage_clip_metrics[test_sage_clip_metrics['method']=='sage'][['threshold', 'precision_macro', 'recall_macro']]\n",
    "# test_clip_macro_threshold_metrics = test_sage_clip_metrics[test_sage_clip_metrics['method']=='sage'][['threshold', 'precision_macro', 'recall_macro']]\n",
    "\n",
    "fig, axs = plt.subplots(2, 2, figsize=(15,10))\n",
    "for i, avg_type in enumerate(['micro', 'macro']):\n",
    "    legend = []\n",
    "    for j, metric in enumerate(['precision', 'recall']):\n",
    "        for method in ['sage', 'clip']:\n",
    "            axs[i,j].plot(test_sage_clip_metrics[test_sage_clip_metrics['method']==method]['threshold'], \n",
    "                    test_sage_clip_metrics[test_sage_clip_metrics['method']==method][f'{metric}_{avg_type}'])\n",
    "            legend += [f'{method}_{metric}']\n",
    "        axs[i,j].legend(legend)\n",
    "        axs[i,j].set_xlabel('positive prediction threshold')\n",
    "        axs[i,j].set_ylabel('metric')\n",
    "        axs[i,j].set_title(f'{avg_type}-averaged link prediction {metric}')\n",
    "fig.suptitle(f'Link Prediction Precision and Recall ({reconnection_method} method)')\n",
    "plt.show()\n"
   ]
  },
  {
   "attachments": {},
   "cell_type": "markdown",
   "metadata": {},
   "source": [
    "<ins> Micro and Macro Precision and Recall: By Keyword </ins>"
   ]
  },
  {
   "cell_type": "code",
   "execution_count": 1,
   "metadata": {},
   "outputs": [
    {
     "ename": "NameError",
     "evalue": "name 'cfg' is not defined",
     "output_type": "error",
     "traceback": [
      "\u001b[0;31m---------------------------------------------------------------------------\u001b[0m",
      "\u001b[0;31mNameError\u001b[0m                                 Traceback (most recent call last)",
      "\u001b[1;32m/scratch/alc9635/projects/NYU-Zillow-Capstone-2022-Team-A/notebooks/validation_exp_all.ipynb Cell 71\u001b[0m in \u001b[0;36m<cell line: 5>\u001b[0;34m()\u001b[0m\n\u001b[1;32m      <a href='vscode-notebook-cell://ssh-remote%2Bgreenecomputecontainer/scratch/alc9635/projects/NYU-Zillow-Capstone-2022-Team-A/notebooks/validation_exp_all.ipynb#Y130sdnNjb2RlLXJlbW90ZQ%3D%3D?line=1'>2</a>\u001b[0m sns\u001b[39m.\u001b[39mset_theme(style\u001b[39m=\u001b[39m\u001b[39m\"\u001b[39m\u001b[39mwhitegrid\u001b[39m\u001b[39m\"\u001b[39m)\n\u001b[1;32m      <a href='vscode-notebook-cell://ssh-remote%2Bgreenecomputecontainer/scratch/alc9635/projects/NYU-Zillow-Capstone-2022-Team-A/notebooks/validation_exp_all.ipynb#Y130sdnNjb2RlLXJlbW90ZQ%3D%3D?line=2'>3</a>\u001b[0m \u001b[39m#sns.color_palette(\"rocket\", as_cmap=True)\u001b[39;00m\n\u001b[0;32m----> <a href='vscode-notebook-cell://ssh-remote%2Bgreenecomputecontainer/scratch/alc9635/projects/NYU-Zillow-Capstone-2022-Team-A/notebooks/validation_exp_all.ipynb#Y130sdnNjb2RlLXJlbW90ZQ%3D%3D?line=4'>5</a>\u001b[0m test_output_dir \u001b[39m=\u001b[39m cfg\u001b[39m.\u001b[39mexp_outputs\u001b[39m.\u001b[39mzillow_verified\n\u001b[1;32m      <a href='vscode-notebook-cell://ssh-remote%2Bgreenecomputecontainer/scratch/alc9635/projects/NYU-Zillow-Capstone-2022-Team-A/notebooks/validation_exp_all.ipynb#Y130sdnNjb2RlLXJlbW90ZQ%3D%3D?line=5'>6</a>\u001b[0m \u001b[39mif\u001b[39;00m \u001b[39mnot\u001b[39;00m os\u001b[39m.\u001b[39mpath\u001b[39m.\u001b[39mexists(os\u001b[39m.\u001b[39mpath\u001b[39m.\u001b[39mjoin(test_output_dir, \u001b[39m'\u001b[39m\u001b[39mtest_prec_rec_f1_data.csv\u001b[39m\u001b[39m'\u001b[39m)):\n\u001b[1;32m      <a href='vscode-notebook-cell://ssh-remote%2Bgreenecomputecontainer/scratch/alc9635/projects/NYU-Zillow-Capstone-2022-Team-A/notebooks/validation_exp_all.ipynb#Y130sdnNjb2RlLXJlbW90ZQ%3D%3D?line=6'>7</a>\u001b[0m     \u001b[39mif\u001b[39;00m \u001b[39mnot\u001b[39;00m os\u001b[39m.\u001b[39mpath\u001b[39m.\u001b[39mexists(test_output_dir):\n",
      "\u001b[0;31mNameError\u001b[0m: name 'cfg' is not defined"
     ]
    }
   ],
   "source": [
    "import seaborn as sns\n",
    "sns.set_theme(style=\"whitegrid\")\n",
    "#sns.color_palette(\"rocket\", as_cmap=True)\n",
    "\n",
    "test_output_dir = cfg.exp_outputs.zillow_verified\n",
    "if not os.path.exists(os.path.join(test_output_dir, 'test_prec_rec_f1_data.csv')):\n",
    "    if not os.path.exists(test_output_dir):\n",
    "        os.mkdir(test_output_dir)\n",
    "    prec_rec_f1_data = pd.DataFrame(columns=['exp_name', 'precision_macro', 'recall_macro', \n",
    "                                            'f1_macro', 'precision_micro', 'recall_micro', 'f1_micro'])\n",
    "else:\n",
    "    prec_rec_f1_data = pd.read_csv(os.path.join(test_output_dir, 'test_prec_rec_f1_data.csv'))\n",
    "    prec_rec_f1_data = prec_rec_f1_data[prec_rec_f1_data['exp_name']!=f'sage_{reconnection_method}']\n",
    "    prec_rec_f1_data = prec_rec_f1_data[prec_rec_f1_data['exp_name']!='clip']\n",
    "\n",
    "best_sage_results_by_keyword = results_dict[best_rows['sage']['f1_macro']['threshold']]['sage']\n",
    "best_clip_results_by_keyword = results_dict[best_rows['clip']['f1_macro']['threshold']]['clip']\n",
    "\n",
    "results_by_keyword = {f'sage_{reconnection_method}': best_sage_results_by_keyword,\n",
    "                      'clip': best_clip_results_by_keyword}\n",
    "\n",
    "for exp_name in results_by_keyword:\n",
    "    exp_results = pd.DataFrame(columns=['exp_name', 'precision_macro', 'recall_macro', 'f1_macro', 'precision_micro', 'recall_micro', 'f1_micro'])\n",
    "    exp_results['precision_macro'] = [np.mean(results_by_keyword[exp_name]['precision'])]\n",
    "    exp_results['recall_macro'] = [np.mean(results_by_keyword[exp_name]['recall'])]\n",
    "    exp_results['f1_macro'] = exp_results.apply(lambda x: compute_f1(x['precision_macro'], x['recall_macro']), axis=1)\n",
    "    exp_results['precision_micro'] = [np.mean(results_by_keyword[exp_name]['precision']*weights)]\n",
    "    exp_results['recall_micro'] = [np.mean(results_by_keyword[exp_name]['recall']*weights)]\n",
    "    exp_results['f1_micro'] = exp_results.apply(lambda x: compute_f1(x['precision_micro'], x['recall_micro']), axis=1)\n",
    "    exp_results['exp_name'] = [exp_name]\n",
    "    prec_rec_f1_data = pd.concat([prec_rec_f1_data, exp_results], ignore_index=True)\n",
    "\n",
    "prec_rec_f1_data.to_csv(os.path.join(test_output_dir, 'test_prec_rec_f1_data.csv'), index=False)\n",
    "\n",
    "keyword_hashes = [test_new_old_node_id_mapping[str(key.item())] for key in test_keyword_node_ids]\n",
    "hash_keyword_mapper = json.load(open('notebooks/hash_keyword_mapper.json', 'r'))\n",
    "keyword_hashes_mask = [hash_keyword_mapper[keyword_hashes[i]] if keyword_hashes[i] in list(hash_keyword_mapper.keys())\n",
    "                         else f'keyword_{i}' for i in range(len(keyword_hashes))]\n",
    "\n",
    "by_keyword_results = pd.concat([pd.DataFrame({'keyword_hash': keyword_hashes_mask,\n",
    "                                              'method': f'sage_{reconnection_method}',\n",
    "                                              'precision': best_sage_results_by_keyword['precision'],\n",
    "                                              'recall': best_sage_results_by_keyword['recall'],\n",
    "                                              'weights': weights}).sort_values(by='weights', ascending=False),\n",
    "                                pd.DataFrame({'keyword_hash': keyword_hashes_mask,\n",
    "                                              'method': 'clip',\n",
    "                                              'precision': best_clip_results_by_keyword['precision'],\n",
    "                                              'recall': best_clip_results_by_keyword['recall'],\n",
    "                                              'weights': weights}).sort_values(by='weights', ascending=False)])\n",
    "\n",
    "ax_prec = sns.catplot(\n",
    "    data=by_keyword_results, kind=\"bar\",\n",
    "    x=\"precision\", y=\"keyword_hash\", hue=\"method\",\n",
    "    palette=\"cubehelix\", height=8\n",
    ")\n",
    "ax_prec.set_axis_labels(\"precision\", \"keyword\")\n",
    "\n",
    "ax_rec = sns.catplot(\n",
    "    data=by_keyword_results, kind=\"bar\",\n",
    "    x=\"recall\", y=\"keyword_hash\", hue=\"method\",\n",
    "    palette=\"cubehelix\", height=8\n",
    ")\n",
    "\n",
    "ax_rec.set_axis_labels(\"recall\", \"keyword\")\n"
   ]
  },
  {
   "attachments": {},
   "cell_type": "markdown",
   "metadata": {},
   "source": [
    "<ins>Plots by Experiment Type</ins>"
   ]
  },
  {
   "cell_type": "code",
   "execution_count": null,
   "metadata": {},
   "outputs": [
    {
     "data": {
      "text/plain": [
       "<seaborn.axisgrid.FacetGrid at 0x7f2ce11087f0>"
      ]
     },
     "execution_count": 46,
     "metadata": {},
     "output_type": "execute_result"
    },
    {
     "data": {
      "image/png": "[encoded data removed]",
      "text/plain": [
       "<Figure size 680.1x576 with 1 Axes>"
      ]
     },
     "metadata": {},
     "output_type": "display_data"
    }
   ],
   "source": [
    "prec_rec_f1_data_plot = pd.melt(prec_rec_f1_data, id_vars=['exp_name'], value_vars=['precision_macro', 'recall_macro', 'f1_macro',\n",
    "                                                                'precision_micro', 'recall_micro', 'f1_micro'])\n",
    "\n",
    "g_metrics = sns.catplot(\n",
    "    data=prec_rec_f1_data_plot, kind=\"bar\",\n",
    "    x=\"variable\", y=\"value\", hue=\"exp_name\",\n",
    "    palette=\"cubehelix\", height=8\n",
    ")\n",
    "#plt.title('Link Prediction Metrics At Best F1 Score')\n",
    "g_metrics.set_axis_labels(\"\", \"metric type\")"
   ]
  },
  {
   "attachments": {},
   "cell_type": "markdown",
   "metadata": {},
   "source": [
    "<ins>Data by Experiment Type</ins>"
   ]
  },
  {
   "cell_type": "code",
   "execution_count": null,
   "metadata": {},
   "outputs": [
    {
     "data": {
      "text/html": [
       "<div>\n",
       "<style scoped>\n",
       "    .dataframe tbody tr th:only-of-type {\n",
       "        vertical-align: middle;\n",
       "    }\n",
       "\n",
       "    .dataframe tbody tr th {\n",
       "        vertical-align: top;\n",
       "    }\n",
       "\n",
       "    .dataframe thead th {\n",
       "        text-align: right;\n",
       "    }\n",
       "</style>\n",
       "<table border=\"1\" class=\"dataframe\">\n",
       "  <thead>\n",
       "    <tr style=\"text-align: right;\">\n",
       "      <th></th>\n",
       "      <th>exp_name</th>\n",
       "      <th>precision_macro</th>\n",
       "      <th>recall_macro</th>\n",
       "      <th>f1_macro</th>\n",
       "      <th>precision_micro</th>\n",
       "      <th>recall_micro</th>\n",
       "      <th>f1_micro</th>\n",
       "    </tr>\n",
       "  </thead>\n",
       "  <tbody>\n",
       "    <tr>\n",
       "      <th>0</th>\n",
       "      <td>sage_scene</td>\n",
       "      <td>0.365811</td>\n",
       "      <td>0.580538</td>\n",
       "      <td>0.448814</td>\n",
       "      <td>0.039094</td>\n",
       "      <td>0.053312</td>\n",
       "      <td>0.045109</td>\n",
       "    </tr>\n",
       "    <tr>\n",
       "      <th>1</th>\n",
       "      <td>clip</td>\n",
       "      <td>0.363880</td>\n",
       "      <td>0.606417</td>\n",
       "      <td>0.454836</td>\n",
       "      <td>0.040030</td>\n",
       "      <td>0.056375</td>\n",
       "      <td>0.046817</td>\n",
       "    </tr>\n",
       "  </tbody>\n",
       "</table>\n",
       "</div>"
      ],
      "text/plain": [
       "     exp_name  precision_macro  recall_macro  f1_macro  precision_micro  \\\n",
       "0  sage_scene         0.365811      0.580538  0.448814         0.039094   \n",
       "1        clip         0.363880      0.606417  0.454836         0.040030   \n",
       "\n",
       "   recall_micro  f1_micro  \n",
       "0      0.053312  0.045109  \n",
       "1      0.056375  0.046817  "
      ]
     },
     "execution_count": 45,
     "metadata": {},
     "output_type": "execute_result"
    }
   ],
   "source": [
    "prec_rec_f1_data"
   ]
  },
  {
   "attachments": {},
   "cell_type": "markdown",
   "metadata": {},
   "source": [
    "<ins>ROC Curves: Data Preprocessing</ins>"
   ]
  },
  {
   "cell_type": "code",
   "execution_count": null,
   "metadata": {},
   "outputs": [
    {
     "name": "stdout",
     "output_type": "stream",
     "text": [
      "30678\n"
     ]
    }
   ],
   "source": [
    "method_link_scores = {'sage': test_sage_link_scores, 'clip': test_clip_link_scores}\n",
    "\n",
    "if not os.path.exists(os.path.join(test_output_dir,'test_roc_auc_scores.json')):\n",
    "    roc_auc_values = {f'sage_{reconnection_method}': {'micro': 0, 'macro': 0}, 'clip': {'micro': 0, 'macro': 0}}\n",
    "else:\n",
    "    roc_auc_values = json.load(open(os.path.join(test_output_dir,'test_roc_auc_scores.json'), 'r'))\n",
    "    \n",
    "if not os.path.exists(os.path.join(test_output_dir, 'test_roc_data.csv')):\n",
    "    roc_data = pd.DataFrame(columns=['exp_name', 'fpr_micro', 'tpr_micro'])\n",
    "else:\n",
    "    roc_data = pd.read_csv(os.path.join(test_output_dir,'test_roc_data.csv'))\n",
    "    roc_data = roc_data[roc_data['exp_name']!=f'sage_{reconnection_method}']\n",
    "    roc_data = roc_data[roc_data['exp_name']!='clip']\n",
    "     \n",
    "for method in method_link_scores:\n",
    "    fpr_micro, tpr_micro, thresholds = metrics.roc_curve(test_adj_matrix.flatten(), method_link_scores[method].flatten())\n",
    "    method_roc_data = pd.DataFrame(columns=['exp_name', 'fpr_micro', 'tpr_micro'])\n",
    "    exp_name = f'sage_{reconnection_method}' if method == 'sage' else 'clip'\n",
    "    \n",
    "    roc_auc_values[exp_name] = {'micro': 0, 'macro': 0} # overwrite old results\n",
    "    \n",
    "    method_roc_data['fpr_micro'] = fpr_micro\n",
    "    method_roc_data['tpr_micro'] = tpr_micro\n",
    "    method_roc_data['exp_name'] = exp_name\n",
    "    \n",
    "    roc_data = pd.concat([roc_data, method_roc_data])\n",
    "    \n",
    "    roc_auc_values[exp_name]['micro'] = metrics.auc(fpr_micro, tpr_micro)\n",
    "\n",
    "    keyword_aucs = []\n",
    "    for i in range(method_link_scores[method].shape[0]):\n",
    "        keyword_aucs.append(metrics.roc_auc_score(test_adj_matrix[i], method_link_scores[method][i]))\n",
    "    roc_auc_values[exp_name]['macro'] = np.mean(keyword_aucs)\n",
    "\n",
    "#roc_data.drop_duplicates(subset='exp_name', keep='last', inplace=True)\n",
    "roc_data.to_csv(os.path.join(test_output_dir,'test_roc_data.csv'), index=False)\n",
    "print(len(roc_data))\n",
    "\n",
    "with open(os.path.join(test_output_dir,'test_roc_auc_scores.json'), 'w') as outfile:\n",
    "    json.dump(roc_auc_values, outfile)"
   ]
  },
  {
   "attachments": {},
   "cell_type": "markdown",
   "metadata": {},
   "source": [
    "<ins>ROC Curves: Plots</ins>"
   ]
  },
  {
   "cell_type": "code",
   "execution_count": null,
   "metadata": {},
   "outputs": [
    {
     "data": {
      "image/png": "[encoded data removed]",
      "text/plain": [
       "<Figure size 432x288 with 1 Axes>"
      ]
     },
     "metadata": {},
     "output_type": "display_data"
    },
    {
     "name": "stdout",
     "output_type": "stream",
     "text": [
      "ROC AUC Scores: {'sage_scene': {'micro': 0.738303111597195, 'macro': 0.7376498492698704}, 'clip': {'micro': 0.7258953221214299, 'macro': 0.7492136590314253}}\n"
     ]
    }
   ],
   "source": [
    "for exp in set(roc_data['exp_name'].values):\n",
    "    exp_data = roc_data[roc_data['exp_name']==exp]\n",
    "    plt.plot(exp_data['fpr_micro'], exp_data['tpr_micro'], label=f\"{exp} (area = %0.2f)\" % roc_auc_values[exp]['micro'])\n",
    "\n",
    "plt.grid(False)\n",
    "plt.plot([0, 1], [0, 1], color=\"navy\", linestyle=\"--\")\n",
    "plt.xlim([0.0, 1.0])\n",
    "plt.ylim([0.0, 1.05])\n",
    "plt.xlabel(\"False Positive Rate\")\n",
    "plt.ylabel(\"True Positive Rate\")\n",
    "plt.title(f\"Micro-Averaged Link Prediction ROC Curves ({org})\")\n",
    "plt.legend(loc=\"lower right\")\n",
    "plt.show()"
   ]
  },
  {
   "attachments": {},
   "cell_type": "markdown",
   "metadata": {},
   "source": [
    "<ins>ROC Curves: Values</ins>"
   ]
  },
  {
   "cell_type": "code",
   "execution_count": null,
   "metadata": {},
   "outputs": [
    {
     "data": {
      "text/plain": [
       "{'sage_scene': {'micro': 0.738303111597195, 'macro': 0.7376498492698704},\n",
       " 'clip': {'micro': 0.7258953221214299, 'macro': 0.7492136590314253}}"
      ]
     },
     "execution_count": 49,
     "metadata": {},
     "output_type": "execute_result"
    }
   ],
   "source": [
    "roc_auc_values"
   ]
  },
  {
   "attachments": {},
   "cell_type": "markdown",
   "metadata": {},
   "source": [
    "# **Additional Analysis**"
   ]
  },
  {
   "attachments": {},
   "cell_type": "markdown",
   "metadata": {},
   "source": [
    "## UMAP Plots"
   ]
  },
  {
   "cell_type": "code",
   "execution_count": null,
   "metadata": {},
   "outputs": [],
   "source": [
    "# Get one positive and negative keyword-image pair for each keyword\n",
    "pos_pairs = []\n",
    "neg_pairs = []\n",
    "for i in range(test_adj_matrix.shape[0]):\n",
    "    kw_edges = test_adj_matrix[i]\n",
    "    pos_matches = kw_edges.nonzero()[0]\n",
    "    neg_matches = (kw_edges==0).nonzero()[0]\n",
    "    pos_pairs.append((i,np.random.choice(pos_matches, 1)[0]))\n",
    "    neg_pairs.append((i,np.random.choice(neg_matches, 1)[0]))\n",
    "\n",
    "# Get src, pos_dst, and neg_dst node IDs\n",
    "node_embeds_dict = {'src': {'feat': torch.empty((len(pos_pairs), 512)), 'feat_pred': torch.empty((len(pos_pairs), 512))}, \n",
    "                    'pos_dst': {'feat': torch.empty((len(pos_pairs), 512)), 'feat_pred': torch.empty((len(pos_pairs), 512))}, \n",
    "                    'neg_dst': {'feat': torch.empty((len(neg_pairs), 512)), 'feat_pred': torch.empty((len(neg_pairs), 512))}}\n",
    "\n",
    "for i in range(len(pos_pairs)):\n",
    "    src_idx, pos_dst_idx = pos_pairs[i]\n",
    "    _, neg_dst_idx = neg_pairs[i]\n",
    "    for embed_type in ['feat', 'feat_pred']:\n",
    "        node_embeds_dict['src'][embed_type][i] = test_eval_subgraph.ndata[embed_type][eval_test_keyword_node_ids[src_idx]]\n",
    "        node_embeds_dict['pos_dst'][embed_type][i] = test_eval_subgraph.ndata[embed_type][eval_test_img_node_ids[pos_dst_idx]]\n",
    "        node_embeds_dict['neg_dst'][embed_type][i] = test_eval_subgraph.ndata[embed_type][eval_test_img_node_ids[neg_dst_idx]]\n",
    "\n"
   ]
  },
  {
   "cell_type": "code",
   "execution_count": null,
   "metadata": {},
   "outputs": [],
   "source": [
    "pos_matrix_feat = torch.cat((node_embeds_dict['src']['feat'], node_embeds_dict['pos_dst']['feat']))\n",
    "pos_matrix_feat_pred = torch.cat((node_embeds_dict['src']['feat_pred'], node_embeds_dict['pos_dst']['feat_pred']))\n",
    "\n",
    "neg_matrix_feat = torch.cat((node_embeds_dict['src']['feat'], node_embeds_dict['neg_dst']['feat']))\n",
    "neg_matrix_feat_pred = torch.cat((node_embeds_dict['src']['feat_pred'], node_embeds_dict['neg_dst']['feat_pred']))"
   ]
  },
  {
   "cell_type": "code",
   "execution_count": null,
   "metadata": {},
   "outputs": [
    {
     "name": "stdout",
     "output_type": "stream",
     "text": [
      "%pylab is deprecated, use %matplotlib inline and import the required libraries.\n",
      "Populating the interactive namespace from numpy and matplotlib\n"
     ]
    },
    {
     "name": "stderr",
     "output_type": "stream",
     "text": [
      "/ext3/conda/zillow_MMKG/lib/python3.8/site-packages/IPython/core/magics/pylab.py:162: UserWarning: pylab import has clobbered these variables: ['exp', 'legend']\n",
      "`%matplotlib` prevents importing * from pylab and numpy\n",
      "  warn(\"pylab import has clobbered these variables: %s\"  % clobbered +\n"
     ]
    }
   ],
   "source": [
    "%pylab inline \n",
    "import umap\n",
    "import matplotlib.pyplot as plt\n",
    "\n",
    "def umap_plot(weight_matrix1, weight_matrix2, pair_ids, title):\n",
    "    \"\"\"Run UMAP on the entire Vxd `weight_matrix` (e.g. model.lookup.weight or model.projection.weight),\n",
    "    And plot the points corresponding to the given `word_ids`. \"\"\"\n",
    "    reduced1 = umap.UMAP(min_dist=0.0001).fit_transform(weight_matrix1.detach().cpu().numpy())\n",
    "    reduced2 = umap.UMAP(min_dist=0.0001).fit_transform(weight_matrix2.detach().cpu().numpy())\n",
    "    plt.figure(figsize=(10,10))\n",
    "\n",
    "    plt.scatter(reduced1[:, 0], reduced1[:, 1], c=pair_ids, alpha=0.2)\n",
    "    for i, pair_id in enumerate(pair_ids):\n",
    "        current_point = reduced1[i]\n",
    "        plt.annotate(pair_ids[i], (current_point[0], current_point[1]), fontsize=15)\n",
    "\n",
    "    plt.scatter(reduced2[:, 0], reduced2[:, 1], c=pair_ids, alpha=1)\n",
    "    for i, pair_id in enumerate(pair_ids):\n",
    "        current_point = reduced2[i]\n",
    "        plt.annotate(pair_ids[i], (current_point[0], current_point[1]), fontsize=15)\n",
    "\n",
    "    plt.grid()\n",
    "    plt.title(title)\n",
    "    plt.show()"
   ]
  },
  {
   "cell_type": "code",
   "execution_count": null,
   "metadata": {},
   "outputs": [
    {
     "name": "stderr",
     "output_type": "stream",
     "text": [
      "OMP: Info #276: omp_set_nested routine deprecated, please use omp_set_max_active_levels instead.\n"
     ]
    },
    {
     "data": {
      "image/png": "[encoded data removed]",
      "text/plain": [
       "<Figure size 720x720 with 1 Axes>"
      ]
     },
     "metadata": {
      "needs_background": "light"
     },
     "output_type": "display_data"
    }
   ],
   "source": [
    "pair_ids = list(range(len(pos_pairs)))*2\n",
    "\n",
    "umap_plot(pos_matrix_feat, pos_matrix_feat_pred, pair_ids, title='')\n",
    "#umap_plot(pos_matrix_feat_pred, pair_ids, title='2D-projected node embeddings (positive pairs) after GraphSAGE')"
   ]
  },
  {
   "cell_type": "code",
   "execution_count": null,
   "metadata": {},
   "outputs": [
    {
     "data": {
      "image/png": "[encoded data removed]",
      "text/plain": [
       "<Figure size 720x720 with 1 Axes>"
      ]
     },
     "metadata": {
      "needs_background": "light"
     },
     "output_type": "display_data"
    }
   ],
   "source": [
    "umap_plot(neg_matrix_feat, neg_matrix_feat_pred, pair_ids, title='')"
   ]
  },
  {
   "attachments": {},
   "cell_type": "markdown",
   "metadata": {},
   "source": [
    "## Tabular Metric Summarization (Embedding Similarity)"
   ]
  },
  {
   "cell_type": "code",
   "execution_count": null,
   "metadata": {},
   "outputs": [],
   "source": [
    "pos_sim_CLIP = metrics.pairwise.cosine_similarity(node_embeds_dict['src']['feat'].detach().cpu().numpy(), \n",
    "                                                  node_embeds_dict['pos_dst']['feat'].detach().cpu().numpy())\n",
    "pos_sim_SAGE = metrics.pairwise.cosine_similarity(node_embeds_dict['src']['feat_pred'].detach().cpu().numpy(), \n",
    "                                                  node_embeds_dict['pos_dst']['feat_pred'].detach().cpu().numpy())\n",
    "\n",
    "neg_sim_CLIP = metrics.pairwise.cosine_similarity(node_embeds_dict['src']['feat'].detach().cpu().numpy(), \n",
    "                                                  node_embeds_dict['neg_dst']['feat'].detach().cpu().numpy())\n",
    "neg_sim_SAGE = metrics.pairwise.cosine_similarity(node_embeds_dict['src']['feat_pred'].detach().cpu().numpy(), \n",
    "                                                  node_embeds_dict['neg_dst']['feat_pred'].detach().cpu().numpy())"
   ]
  },
  {
   "cell_type": "code",
   "execution_count": null,
   "metadata": {},
   "outputs": [
    {
     "data": {
      "text/html": [
       "<div>\n",
       "<style scoped>\n",
       "    .dataframe tbody tr th:only-of-type {\n",
       "        vertical-align: middle;\n",
       "    }\n",
       "\n",
       "    .dataframe tbody tr th {\n",
       "        vertical-align: top;\n",
       "    }\n",
       "\n",
       "    .dataframe thead th {\n",
       "        text-align: right;\n",
       "    }\n",
       "</style>\n",
       "<table border=\"1\" class=\"dataframe\">\n",
       "  <thead>\n",
       "    <tr style=\"text-align: right;\">\n",
       "      <th></th>\n",
       "      <th>pair_id</th>\n",
       "      <th>src_dst_sim_CLIP</th>\n",
       "      <th>non_pair_sim_CLIP</th>\n",
       "      <th>src_dst_sim_SAGE</th>\n",
       "      <th>non_pair_sim_SAGE</th>\n",
       "      <th>pos pair similarity change</th>\n",
       "      <th>neg pair similarity change</th>\n",
       "    </tr>\n",
       "  </thead>\n",
       "  <tbody>\n",
       "    <tr>\n",
       "      <th>0</th>\n",
       "      <td>0</td>\n",
       "      <td>0.412227</td>\n",
       "      <td>0.978290</td>\n",
       "      <td>0.978290</td>\n",
       "      <td>0.000000</td>\n",
       "      <td>137.318314</td>\n",
       "      <td>-100.000000</td>\n",
       "    </tr>\n",
       "    <tr>\n",
       "      <th>1</th>\n",
       "      <td>1</td>\n",
       "      <td>0.403770</td>\n",
       "      <td>0.999212</td>\n",
       "      <td>0.999212</td>\n",
       "      <td>0.000000</td>\n",
       "      <td>147.470551</td>\n",
       "      <td>-100.000000</td>\n",
       "    </tr>\n",
       "    <tr>\n",
       "      <th>2</th>\n",
       "      <td>2</td>\n",
       "      <td>0.410953</td>\n",
       "      <td>0.901807</td>\n",
       "      <td>0.901807</td>\n",
       "      <td>0.000000</td>\n",
       "      <td>119.442642</td>\n",
       "      <td>-100.000000</td>\n",
       "    </tr>\n",
       "    <tr>\n",
       "      <th>3</th>\n",
       "      <td>3</td>\n",
       "      <td>0.397491</td>\n",
       "      <td>0.996661</td>\n",
       "      <td>0.996661</td>\n",
       "      <td>0.994139</td>\n",
       "      <td>150.738342</td>\n",
       "      <td>-0.253062</td>\n",
       "    </tr>\n",
       "    <tr>\n",
       "      <th>5</th>\n",
       "      <td>5</td>\n",
       "      <td>0.406915</td>\n",
       "      <td>0.867932</td>\n",
       "      <td>0.867932</td>\n",
       "      <td>0.000000</td>\n",
       "      <td>113.295303</td>\n",
       "      <td>-100.000000</td>\n",
       "    </tr>\n",
       "    <tr>\n",
       "      <th>6</th>\n",
       "      <td>6</td>\n",
       "      <td>0.407770</td>\n",
       "      <td>0.997401</td>\n",
       "      <td>0.997401</td>\n",
       "      <td>0.000000</td>\n",
       "      <td>144.599075</td>\n",
       "      <td>-100.000000</td>\n",
       "    </tr>\n",
       "    <tr>\n",
       "      <th>7</th>\n",
       "      <td>7</td>\n",
       "      <td>0.338233</td>\n",
       "      <td>0.014010</td>\n",
       "      <td>0.014010</td>\n",
       "      <td>0.000000</td>\n",
       "      <td>-95.857910</td>\n",
       "      <td>-100.000000</td>\n",
       "    </tr>\n",
       "    <tr>\n",
       "      <th>9</th>\n",
       "      <td>9</td>\n",
       "      <td>0.410361</td>\n",
       "      <td>0.806066</td>\n",
       "      <td>0.806066</td>\n",
       "      <td>0.000000</td>\n",
       "      <td>96.428383</td>\n",
       "      <td>-100.000000</td>\n",
       "    </tr>\n",
       "  </tbody>\n",
       "</table>\n",
       "</div>"
      ],
      "text/plain": [
       "   pair_id  src_dst_sim_CLIP  non_pair_sim_CLIP  src_dst_sim_SAGE  \\\n",
       "0        0          0.412227           0.978290          0.978290   \n",
       "1        1          0.403770           0.999212          0.999212   \n",
       "2        2          0.410953           0.901807          0.901807   \n",
       "3        3          0.397491           0.996661          0.996661   \n",
       "5        5          0.406915           0.867932          0.867932   \n",
       "6        6          0.407770           0.997401          0.997401   \n",
       "7        7          0.338233           0.014010          0.014010   \n",
       "9        9          0.410361           0.806066          0.806066   \n",
       "\n",
       "   non_pair_sim_SAGE  pos pair similarity change  neg pair similarity change  \n",
       "0           0.000000                  137.318314                 -100.000000  \n",
       "1           0.000000                  147.470551                 -100.000000  \n",
       "2           0.000000                  119.442642                 -100.000000  \n",
       "3           0.994139                  150.738342                   -0.253062  \n",
       "5           0.000000                  113.295303                 -100.000000  \n",
       "6           0.000000                  144.599075                 -100.000000  \n",
       "7           0.000000                  -95.857910                 -100.000000  \n",
       "9           0.000000                   96.428383                 -100.000000  "
      ]
     },
     "execution_count": 57,
     "metadata": {},
     "output_type": "execute_result"
    }
   ],
   "source": [
    "# For 10 samples, get pct change in pairwise cosine similarity for true src-dst pairs and negative pairs\n",
    "\n",
    "import pandas as pd\n",
    "from sklearn import metrics\n",
    "\n",
    "cos_similarities = pd.DataFrame()\n",
    "\n",
    "pos_sim_CLIP = metrics.pairwise.cosine_similarity(node_embeds_dict['src']['feat'].detach().cpu().numpy(), \n",
    "                                                  node_embeds_dict['pos_dst']['feat'].detach().cpu().numpy())\n",
    "pos_sim_SAGE = metrics.pairwise.cosine_similarity(node_embeds_dict['src']['feat_pred'].detach().cpu().numpy(), \n",
    "                                                  node_embeds_dict['pos_dst']['feat_pred'].detach().cpu().numpy())\n",
    "\n",
    "neg_sim_CLIP = metrics.pairwise.cosine_similarity(node_embeds_dict['src']['feat'].detach().cpu().numpy(), \n",
    "                                                  node_embeds_dict['neg_dst']['feat'].detach().cpu().numpy())\n",
    "neg_sim_SAGE = metrics.pairwise.cosine_similarity(node_embeds_dict['src']['feat_pred'].detach().cpu().numpy(), \n",
    "                                                  node_embeds_dict['neg_dst']['feat_pred'].detach().cpu().numpy())\n",
    "\n",
    "for i in range(pos_sim_CLIP.shape[0]):\n",
    "    cos_similarities = pd.concat([cos_similarities, pd.DataFrame([{'pair_id': i,\n",
    "                                                                   'src_dst_sim_CLIP': pos_sim_CLIP[i,i],\n",
    "                                                                   'non_pair_sim_CLIP': pos_sim_SAGE[i,i],\n",
    "                                                                   'src_dst_sim_SAGE': pos_sim_SAGE[i,i],\n",
    "                                                                   'non_pair_sim_SAGE': neg_sim_SAGE[i,i]}])])\n",
    "cos_similarities.reset_index(inplace=True, drop=True)\n",
    "cos_similarities['pos pair similarity change'] = (cos_similarities['src_dst_sim_SAGE'] - cos_similarities['src_dst_sim_CLIP']) / cos_similarities['src_dst_sim_CLIP'] * 100\n",
    "cos_similarities['neg pair similarity change'] = (cos_similarities['non_pair_sim_SAGE'] - cos_similarities['non_pair_sim_CLIP']) / cos_similarities['non_pair_sim_CLIP'] * 100\n",
    "\n",
    "cos_similarities = cos_similarities.replace([np.inf, -np.inf], np.nan).dropna()\n",
    "\n",
    "cos_similarities"
   ]
  },
  {
   "cell_type": "code",
   "execution_count": null,
   "metadata": {},
   "outputs": [
    {
     "data": {
      "image/png": "[encoded data removed]",
      "text/plain": [
       "<Figure size 544.475x360 with 1 Axes>"
      ]
     },
     "metadata": {},
     "output_type": "display_data"
    },
    {
     "name": "stdout",
     "output_type": "stream",
     "text": [
      "Average pair similarity change pct: 101.67934\n",
      "Average non-pair similarity change pct: -87.53163\n"
     ]
    }
   ],
   "source": [
    "import seaborn as sns\n",
    "sns.set_theme(style='whitegrid')\n",
    "cos_similarities_tp = pd.melt(cos_similarities, id_vars='pair_id', value_vars=['pos pair similarity change', 'neg pair similarity change'])\n",
    "\n",
    "g = sns.catplot(data=cos_similarities_tp, kind='bar', x='pair_id', y='value', hue='variable', errorbar='sd')\n",
    "\n",
    "g.set_axis_labels('', 'pct change in cosine similarity')\n",
    "g.legend.set_title('')\n",
    "sns.move_legend(g, loc='lower center', ncol=2)\n",
    "plt.title('Percent Changes in Cosine Similarity within pair and outside pairs')\n",
    "plt.show()\n",
    "\n",
    "print('Average pair similarity change pct:', cos_similarities['pos pair similarity change'].mean())\n",
    "print('Average non-pair similarity change pct:', cos_similarities['neg pair similarity change'].mean())\n"
   ]
  },
  {
   "cell_type": "code",
   "execution_count": null,
   "metadata": {},
   "outputs": [],
   "source": [
    "# Get all positive and negative keyword-image pairs for each keyword\n",
    "pos_pairs = []\n",
    "neg_pairs = []\n",
    "for i in range(test_adj_matrix.shape[0]):\n",
    "    kw_edges = test_adj_matrix[i]\n",
    "    pos_matches = kw_edges.nonzero()[0]\n",
    "    neg_matches = np.random.choice((kw_edges==0).nonzero()[0], len(pos_matches))\n",
    "    for j in range(len(pos_matches)):\n",
    "        pos_pairs.append((i, pos_matches[j]))\n",
    "        neg_pairs.append((i, neg_matches[j]))\n",
    "\n",
    "# Get src, pos_dst, and neg_dst node IDs\n",
    "node_embeds_dict = {'src': {'feat': torch.empty((len(pos_pairs), 512)), 'feat_pred': torch.empty((len(pos_pairs), 512))}, \n",
    "                    'pos_dst': {'feat': torch.empty((len(pos_pairs), 512)), 'feat_pred': torch.empty((len(pos_pairs), 512))}, \n",
    "                    'neg_dst': {'feat': torch.empty((len(neg_pairs), 512)), 'feat_pred': torch.empty((len(neg_pairs), 512))}}\n",
    "\n",
    "for i in range(len(pos_pairs)):\n",
    "    src_idx, pos_dst_idx = pos_pairs[i]\n",
    "    _, neg_dst_idx = neg_pairs[i]\n",
    "    for embed_type in ['feat', 'feat_pred']:\n",
    "        node_embeds_dict['src'][embed_type][i] = test_eval_subgraph.ndata[embed_type][eval_test_keyword_node_ids[src_idx]]\n",
    "        node_embeds_dict['pos_dst'][embed_type][i] = test_eval_subgraph.ndata[embed_type][eval_test_img_node_ids[pos_dst_idx]]\n",
    "        node_embeds_dict['neg_dst'][embed_type][i] = test_eval_subgraph.ndata[embed_type][eval_test_img_node_ids[neg_dst_idx]]\n",
    "\n"
   ]
  },
  {
   "cell_type": "code",
   "execution_count": null,
   "metadata": {},
   "outputs": [
    {
     "name": "stderr",
     "output_type": "stream",
     "text": [
      "100%|██████████| 12078/12078 [00:06<00:00, 1862.04it/s]"
     ]
    },
    {
     "name": "stdout",
     "output_type": "stream",
     "text": [
      "Median pair similarity change pct: 141.84024\n",
      "Median non-pair similarity change pct: -100.0\n"
     ]
    },
    {
     "name": "stderr",
     "output_type": "stream",
     "text": [
      "\n"
     ]
    }
   ],
   "source": [
    "# For 10 samples, get pct change in pairwise cosine similarity for true src-dst pairs and negative pairs\n",
    "\n",
    "import pandas as pd\n",
    "from sklearn import metrics\n",
    "\n",
    "cos_similarities = pd.DataFrame()\n",
    "\n",
    "pos_sim_CLIP = metrics.pairwise.cosine_similarity(node_embeds_dict['src']['feat'].detach().cpu().numpy(), \n",
    "                                                  node_embeds_dict['pos_dst']['feat'].detach().cpu().numpy())\n",
    "pos_sim_SAGE = metrics.pairwise.cosine_similarity(node_embeds_dict['src']['feat_pred'].detach().cpu().numpy(), \n",
    "                                                  node_embeds_dict['pos_dst']['feat_pred'].detach().cpu().numpy())\n",
    "\n",
    "neg_sim_CLIP = metrics.pairwise.cosine_similarity(node_embeds_dict['src']['feat'].detach().cpu().numpy(), \n",
    "                                                  node_embeds_dict['neg_dst']['feat'].detach().cpu().numpy())\n",
    "neg_sim_SAGE = metrics.pairwise.cosine_similarity(node_embeds_dict['src']['feat_pred'].detach().cpu().numpy(), \n",
    "                                                  node_embeds_dict['neg_dst']['feat_pred'].detach().cpu().numpy())\n",
    "\n",
    "for i in tqdm(range(pos_sim_CLIP.shape[0])):\n",
    "    cos_similarities = pd.concat([cos_similarities, pd.DataFrame([{'pair_id': i,\n",
    "                                                                   'src_dst_sim_CLIP': pos_sim_CLIP[i,i],\n",
    "                                                                   'non_pair_sim_CLIP': pos_sim_SAGE[i,i],\n",
    "                                                                   'src_dst_sim_SAGE': pos_sim_SAGE[i,i],\n",
    "                                                                   'non_pair_sim_SAGE': neg_sim_SAGE[i,i]}])])\n",
    "cos_similarities.reset_index(inplace=True, drop=True)\n",
    "cos_similarities['pos pair similarity change'] = (cos_similarities['src_dst_sim_SAGE'] - cos_similarities['src_dst_sim_CLIP']) / cos_similarities['src_dst_sim_CLIP'] * 100\n",
    "cos_similarities['neg pair similarity change'] = (cos_similarities['non_pair_sim_SAGE'] - cos_similarities['non_pair_sim_CLIP']) / cos_similarities['non_pair_sim_CLIP'] * 100\n",
    "cos_similarities = cos_similarities[cos_similarities['neg pair similarity change']!=np.inf]\n",
    "cos_similarities.dropna(inplace=True)\n",
    "\n",
    "print('Median pair similarity change pct:', cos_similarities['pos pair similarity change'].median())\n",
    "print('Median non-pair similarity change pct:', cos_similarities['neg pair similarity change'].median())"
   ]
  },
  {
   "attachments": {},
   "cell_type": "markdown",
   "metadata": {},
   "source": [
    "# **Deprecated Code**"
   ]
  },
  {
   "attachments": {},
   "cell_type": "markdown",
   "metadata": {},
   "source": [
    "### Attempt to Only take Top_K Edges Per Node "
   ]
  },
  {
   "attachments": {},
   "cell_type": "markdown",
   "metadata": {},
   "source": [
    "This did not seem to significantly improve performance, but could be improved upon "
   ]
  },
  {
   "cell_type": "code",
   "execution_count": null,
   "metadata": {},
   "outputs": [],
   "source": [
    "def predict_top_k(a, k):\n",
    "    n = len(a)\n",
    "    mask_array = np.zeros(n, dtype=int)\n",
    "    index_arr = np.argpartition(a, -k)[-k:]\n",
    "\n",
    "    mask_array[index_arr] = 1\n",
    "\n",
    "    return mask_array\n",
    "\n",
    "top_k = True\n",
    "if top_k:\n",
    "    # Step 9: Get true labels for each keyword from validation subgraph adjacency matrix\n",
    "    # Adjacency matrix needs to be sub-setted such that rows correspond only to image nodes and columns correspond only to keyword nodes\n",
    "    val_img_indices = (val_subgraph.ndata['ntype']==0).nonzero().cpu().reshape(1, -1)\n",
    "    val_keyword_indices = (val_subgraph.ndata['ntype']==1).nonzero().cpu().reshape(-1, 1)\n",
    "\n",
    "    val_adj_matrix = val_subgraph.adjacency_matrix().to_dense().numpy()\n",
    "    val_adj_matrix = val_adj_matrix[val_keyword_indices, val_img_indices]\n",
    "\n",
    "    # Step 10: Make predictions based on prediction threshold and get precision, recall, and accuracy \n",
    "    k_thresholds = np.linspace(2, 50, 25)\n",
    "    sage_clip_metrics_k = pd.DataFrame()\n",
    "\n",
    "    for k_threshold in tqdm(k_thresholds):\n",
    "        k_threshold = int(k_threshold)\n",
    "        val_sage_link_predictions = np.apply_along_axis(predict_top_k, 0, val_sage_link_scores, k_threshold)\n",
    "        val_clip_link_predictions = np.apply_along_axis(predict_top_k, 0, val_clip_link_scores, k_threshold)\n",
    "\n",
    "        results_dict_k = {'sage': {'tp': np.empty(len(val_sage_link_predictions)),\n",
    "                                'fp': np.empty(len(val_sage_link_predictions)),\n",
    "                                'fn': np.empty(len(val_sage_link_predictions)),\n",
    "                                'actual_p': np.empty(len(val_sage_link_predictions)),\n",
    "                                'precision': np.empty(len(val_sage_link_predictions)),\n",
    "                                'recall': np.empty(len(val_sage_link_predictions))},\n",
    "                        'clip': {'tp': np.empty(len(val_sage_link_predictions)),\n",
    "                                'fp': np.empty(len(val_sage_link_predictions)),\n",
    "                                'fn': np.empty(len(val_sage_link_predictions)),\n",
    "                                'actual_p': np.empty(len(val_sage_link_predictions)),\n",
    "                                'precision': np.empty(len(val_sage_link_predictions)),\n",
    "                                'recall': np.empty(len(val_sage_link_predictions))}}\n",
    "\n",
    "        weights = np.empty(len(val_sage_link_predictions))\n",
    "\n",
    "        for i in range(len(val_sage_link_predictions)):\n",
    "            sage_tp = np.sum(((val_sage_link_predictions[i]==1)&(val_adj_matrix[i]==1)))\n",
    "            sage_fp = np.sum(((val_sage_link_predictions[i]==1)&(val_adj_matrix[i]==0)))\n",
    "            sage_fn = np.sum(((val_sage_link_predictions[i]==0)&(val_adj_matrix[i]==1)))\n",
    "            sage_p = np.sum(val_sage_link_predictions[i])\n",
    "            \n",
    "            clip_tp = np.sum(((val_clip_link_predictions[i]==1)&(val_adj_matrix[i]==1)))\n",
    "            clip_fp = np.sum(((val_clip_link_predictions[i]==1)&(val_adj_matrix[i]==0)))\n",
    "            clip_fn = np.sum(((val_clip_link_predictions[i]==0)&(val_adj_matrix[i]==1)))\n",
    "            clip_p = np.sum(val_clip_link_predictions[i])\n",
    "\n",
    "            true_p = np.sum(val_adj_matrix[i])\n",
    "            \n",
    "            results_dict_k['sage']['tp'][i] = sage_tp\n",
    "            results_dict_k['sage']['fp'][i] = sage_fp\n",
    "            results_dict_k['sage']['fn'][i] = sage_fn\n",
    "            results_dict_k['sage']['actual_p'][i] = true_p\n",
    "            results_dict_k['sage']['precision'][i] = sage_tp / sage_p if sage_p > 0 else 0\n",
    "            results_dict_k['sage']['recall'][i] = sage_tp / true_p if true_p > 0 else 0\n",
    "\n",
    "            results_dict_k['clip']['tp'][i] = clip_tp\n",
    "            results_dict_k['clip']['fp'][i] = clip_fp\n",
    "            results_dict_k['clip']['fn'][i] = clip_fn\n",
    "            results_dict_k['clip']['actual_p'][i] = true_p\n",
    "            results_dict_k['clip']['precision'][i] = clip_tp / clip_p if clip_p > 0 else 0\n",
    "            results_dict_k['clip']['recall'][i] = clip_tp / true_p if true_p > 0 else 0\n",
    "\n",
    "            weights[i] = true_p\n",
    "\n",
    "        weights /= np.sum(weights)\n",
    "\n",
    "        for method in results_dict_k.keys():\n",
    "            row = {'threshold': k_threshold, 'method': method}\n",
    "            for metric in results_dict_k[method]:\n",
    "                if metric == 'precision' or metric == 'recall':\n",
    "                    row[f'{metric}_micro'] = np.mean(results_dict_k[method][metric]*weights)\n",
    "                    row[f'{metric}_macro'] = np.mean(results_dict_k[method][metric])\n",
    "                else:\n",
    "                    row[metric] = np.mean(results_dict_k[method][metric])\n",
    "            sage_clip_metrics_k = pd.concat([sage_clip_metrics_k, pd.DataFrame([row])], ignore_index=True)\n",
    "\n",
    "    sage_metrics_k = sage_clip_metrics_k[(sage_clip_metrics_k['method']=='sage')]\n",
    "    clip_metrics_k = sage_clip_metrics_k[(sage_clip_metrics_k['method']=='clip')]\n",
    "\n",
    "print('Best SAGE metrics: ')\n",
    "print('Precision, Recall at Max Recall:\\n', sage_metrics_k[sage_metrics_k['recall_macro']==sage_metrics_k['recall_macro'].max()][['threshold', 'precision_macro', 'recall_macro']].iloc[0,:])\n",
    "print('Precision, Recall at Max Precision:\\n', sage_metrics_k[sage_metrics_k['precision_macro']==sage_metrics_k['precision_macro'].max()][['threshold', 'precision_macro', 'recall_macro']].iloc[0,:])\n",
    "\n",
    "print('Best CLIP metrics: ')\n",
    "print('Precision, Recall at Max Recall:\\n', clip_metrics_k[clip_metrics_k['recall_macro']==clip_metrics_k['recall_macro'].max()][['threshold', 'precision_macro', 'recall_macro']].iloc[0,:])\n",
    "print('Precision, Recall at Max Precision:\\n', clip_metrics_k[clip_metrics_k['precision_macro']==clip_metrics_k['precision_macro'].max()][['threshold', 'precision_macro', 'recall_macro']].iloc[0,:])"
   ]
  }
 ],
 "metadata": {
  "kernelspec": {
   "display_name": "Python 3",
   "language": "python",
   "name": "python3"
  },
  "language_info": {
   "codemirror_mode": {
    "name": "ipython",
    "version": 3
   },
   "file_extension": ".py",
   "mimetype": "text/x-python",
   "name": "python",
   "nbconvert_exporter": "python",
   "pygments_lexer": "ipython3",
   "version": "3.8.6 (default, Apr 28 2022, 06:39:25) \n[GCC 8.4.1 20200928 (Red Hat 8.4.1-1)]"
  },
  "orig_nbformat": 4,
  "vscode": {
   "interpreter": {
    "hash": "df0893f56f349688326838aaeea0de204df53a132722cbd565e54b24a8fec5f6"
   }
  }
 },
 "nbformat": 4,
 "nbformat_minor": 2
}
