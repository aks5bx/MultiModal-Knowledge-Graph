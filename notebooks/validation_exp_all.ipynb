{
 "cells": [
  {
   "cell_type": "markdown",
   "metadata": {},
   "source": [
    "# **Setup**"
   ]
  },
  {
   "cell_type": "markdown",
   "metadata": {},
   "source": [
    "## Libraries"
   ]
  },
  {
   "cell_type": "code",
   "execution_count": 1,
   "metadata": {},
   "outputs": [
    {
     "name": "stderr",
     "output_type": "stream",
     "text": [
      "/ext3/conda/zillow_MMKG/lib/python3.8/site-packages/tqdm/auto.py:22: TqdmWarning: IProgress not found. Please update jupyter and ipywidgets. See https://ipywidgets.readthedocs.io/en/stable/user_install.html\n",
      "  from .autonotebook import tqdm as notebook_tqdm\n"
     ]
    }
   ],
   "source": [
    "import argparse\n",
    "import os\n",
    "import sys\n",
    "from functools import partial\n",
    "from tqdm import tqdm\n",
    "import json\n",
    "from types import SimpleNamespace\n",
    "\n",
    "import pyrootutils\n",
    "import dgl\n",
    "import dgl.function as fn\n",
    "import hydra\n",
    "import numpy as np\n",
    "import torch\n",
    "import torch.nn as nn\n",
    "import torch.nn.functional as F\n",
    "from torchmetrics import MeanMetric\n",
    "from pytorch_lightning import LightningDataModule, LightningModule, Trainer\n",
    "from pytorch_lightning.callbacks import ModelCheckpoint\n",
    "from torchmetrics.classification import BinaryAUROC, BinaryAveragePrecision\n",
    "from sklearn import metrics\n",
    "\n",
    "import pandas as pd\n",
    "import scipy.stats as st\n",
    "from IPython.display import clear_output"
   ]
  },
  {
   "cell_type": "markdown",
   "metadata": {},
   "source": [
    "## Config"
   ]
  },
  {
   "cell_type": "code",
   "execution_count": 2,
   "metadata": {},
   "outputs": [],
   "source": [
    "# Simulate having cfg available by loading in hydra config as dict\n",
    "import yaml\n",
    "try:\n",
    "    from yaml import CLoader as Loader, CDumper as Dumper\n",
    "except ImportError:\n",
    "    from yaml import Loader, Dumper"
   ]
  },
  {
   "cell_type": "markdown",
   "metadata": {},
   "source": [
    "## User Definition"
   ]
  },
  {
   "cell_type": "code",
   "execution_count": 3,
   "metadata": {},
   "outputs": [],
   "source": [
    "user_net_id = os.getlogin()\n",
    "home_path = '/scratch/' + user_net_id + '/projects/NYU-Zillow-Capstone-2022-Team-A'\n",
    "if home_path not in sys.path:\n",
    "    sys.path.append('/scratch/' + user_net_id + '/projects/NYU-Zillow-Capstone-2022-Team-A')\n",
    "\n",
    "from src.datamodules.negative_sampler import NegativeSampler\n",
    "from src.model.SAGE import SAGE"
   ]
  },
  {
   "cell_type": "markdown",
   "metadata": {},
   "source": [
    "# **Modules**"
   ]
  },
  {
   "cell_type": "markdown",
   "metadata": {},
   "source": [
    "## Graph Generation"
   ]
  },
  {
   "cell_type": "code",
   "execution_count": 4,
   "metadata": {},
   "outputs": [],
   "source": [
    "def to_bidirected_with_reverse_mapping(g):\n",
    "    \"\"\"Makes a graph bidirectional, and returns a mapping array ``mapping`` where ``mapping[i]``\n",
    "    is the reverse edge of edge ID ``i``. Does not work with graphs that have self-loops.\n",
    "    \"\"\"\n",
    "    g_simple, mapping = dgl.to_simple(\n",
    "        dgl.add_reverse_edges(g), return_counts=\"count\", writeback_mapping=True\n",
    "    )\n",
    "    c = g_simple.edata[\"count\"]\n",
    "    num_edges = g.num_edges()\n",
    "    mapping_offset = torch.zeros(g_simple.num_edges() + 1, dtype=g_simple.idtype)\n",
    "    mapping_offset[1:] = c.cumsum(0)\n",
    "    idx = mapping.argsort()\n",
    "    idx_uniq = idx[mapping_offset[:-1]]\n",
    "    reverse_idx = torch.where(\n",
    "        idx_uniq >= num_edges, idx_uniq - num_edges, idx_uniq + num_edges\n",
    "    )\n",
    "    reverse_mapping = mapping[reverse_idx]\n",
    "    # sanity check\n",
    "    src1, dst1 = g_simple.edges()\n",
    "    src2, dst2 = g_simple.find_edges(reverse_mapping)\n",
    "    assert torch.equal(src1, dst2)\n",
    "    assert torch.equal(src2, dst1)\n",
    "    return g_simple, reverse_mapping\n",
    "\n",
    "\n",
    "class NegativeSamplerTest(object):\n",
    "    def __init__(self, g, k, max_img_id, keyword_as_src, neg_share=False):\n",
    "        self.weights = g.in_degrees().float() ** 0.75\n",
    "        self.k = k\n",
    "        self.neg_share = neg_share\n",
    "        self.max_img_id = max_img_id\n",
    "        self.keyword_as_src = keyword_as_src\n",
    "\n",
    "    def __call__(self, g, eids):\n",
    "        src, _ = g.find_edges(eids)\n",
    "        if self.keyword_as_src == False:\n",
    "            img_node_mask = src <= self.max_img_id\n",
    "            src = src[img_node_mask]\n",
    "        n = len(src)\n",
    "\n",
    "        if self.neg_share and n % self.k == 0:\n",
    "            dst = self.weights.multinomial(n, replacement=True)\n",
    "            dst = dst.view(-1, 1, self.k).expand(-1, self.k, -1).flatten()\n",
    "        else:\n",
    "            dst = self.weights.multinomial(n * self.k, replacement=True)\n",
    "            \n",
    "        src = src.repeat_interleave(self.k)\n",
    "        return src, dst\n",
    "\n",
    "class DataModule(LightningDataModule):\n",
    "    def __init__(\n",
    "        self,\n",
    "        csv_dataset_root,\n",
    "        modal_node_ids_file,\n",
    "        keyword_as_src=False,\n",
    "        data_cpu=False,\n",
    "        fan_out=[3],\n",
    "        device=\"cpu\",\n",
    "        batch_size=1024,\n",
    "        num_workers=4,\n",
    "        force_reload=False,\n",
    "    ):\n",
    "        super().__init__()\n",
    "        self.save_hyperparameters()\n",
    "        dataset = dgl.data.CSVDataset(csv_dataset_root, force_reload=force_reload)\n",
    "        g = dataset[0]\n",
    "        g_bid, reverse_eids = to_bidirected_with_reverse_mapping(g)\n",
    "        g_bid = g_bid.to(device)\n",
    "        g = g.to(device)\n",
    "        reverse_eids = reverse_eids.to(device)\n",
    "\n",
    "        max_img_id = max(json.load(open(modal_node_ids_file, 'r'))['images'])\n",
    "\n",
    "        train_nid = torch.nonzero(g_bid.ndata[\"train_mask\"], as_tuple=True)[0].to(device)\n",
    "        val_nid = torch.nonzero(g_bid.ndata[\"val_mask\"], as_tuple=True)[0].to(device)\n",
    "        test_nid = torch.nonzero(g_bid.ndata[\"test_mask\"], as_tuple=True)[0].to(device)\n",
    "\n",
    "        sampler = dgl.dataloading.NeighborSampler(fan_out)\n",
    "\n",
    "        self.g = g\n",
    "        self.g_bid = g_bid\n",
    "        self.train_nid = train_nid\n",
    "        self.val_nid = val_nid #torch.cat((val_nid, test_nid))\n",
    "        self.sampler = sampler\n",
    "        self.device = device\n",
    "        self.batch_size = batch_size\n",
    "        self.num_workers = num_workers\n",
    "        self.in_dim = g_bid.ndata[\"feat\"].shape[1]\n",
    "        self.reverse_eids = reverse_eids\n",
    "        self.max_img_id = max_img_id\n",
    "        self.keyword_as_src = keyword_as_src\n",
    "\n",
    "\n",
    "    def train_dataloader(self):\n",
    "        edge_sampler = dgl.dataloading.as_edge_prediction_sampler(\n",
    "            self.sampler,\n",
    "            exclude='reverse_id',\n",
    "            reverse_eids=self.reverse_eids,\n",
    "            negative_sampler=NegativeSamplerTest(self.g, 1, self.max_img_id, self.keyword_as_src)\n",
    "        )\n",
    "\n",
    "        train_subgraph = self.g_bid.subgraph(self.train_nid)\n",
    "        train_u, train_v = train_subgraph.edges()\n",
    "        train_eids = train_subgraph.edata['_ID'][train_subgraph.edge_ids(train_u, train_v)]\n",
    "\n",
    "        return dgl.dataloading.DataLoader(\n",
    "            self.g_bid,\n",
    "            train_eids,\n",
    "            edge_sampler,\n",
    "            device=self.device,\n",
    "            batch_size=self.batch_size,\n",
    "            shuffle=True,\n",
    "            drop_last=False\n",
    "        )\n",
    "\n",
    "    def val_dataloader(self):\n",
    "        edge_sampler = dgl.dataloading.as_edge_prediction_sampler(\n",
    "            self.sampler,\n",
    "        )\n",
    "\n",
    "        val_subgraph = self.g_bid.subgraph(self.val_nid)\n",
    "        val_u, val_v = val_subgraph.edges()\n",
    "        val_eids = val_subgraph.edata['_ID'][val_subgraph.edge_ids(val_u, val_v)]\n",
    "\n",
    "        return dgl.dataloading.DataLoader(\n",
    "            self.g_bid,\n",
    "            val_eids,\n",
    "            edge_sampler,\n",
    "            device=self.device,\n",
    "            batch_size=self.batch_size,\n",
    "            shuffle=False,\n",
    "            drop_last=False\n",
    "        )"
   ]
  },
  {
   "cell_type": "markdown",
   "metadata": {},
   "source": [
    "## Model Infrastructure"
   ]
  },
  {
   "cell_type": "code",
   "execution_count": 5,
   "metadata": {},
   "outputs": [],
   "source": [
    "def cosine_sim(a, b):\n",
    "    a = F.normalize(a, p=2, dim=-1)\n",
    "    b = F.normalize(b, p=2, dim=-1)\n",
    "\n",
    "    try:\n",
    "        return a @ b.T\n",
    "    except:\n",
    "        print('Matrix multiplication failed. Check dimensions.')\n",
    "\n",
    "class ScorePredictor(nn.Module):\n",
    "    def forward(self, edge_subgraph, x):\n",
    "        with edge_subgraph.local_scope():\n",
    "            edge_subgraph.ndata[\"h\"] = x\n",
    "            edge_subgraph.ndata['h_norm'] = F.normalize(x, p=2, dim=-1)\n",
    "            edge_subgraph.apply_edges(fn.u_dot_v(\"h_norm\", \"h_norm\", \"score\"))\n",
    "            return edge_subgraph.edata[\"score\"]\n",
    "\n",
    "class SAGELightning(LightningModule):\n",
    "    def __init__(\n",
    "        self,\n",
    "        in_dim,\n",
    "        h_dim,\n",
    "        n_layers=3,\n",
    "        activation=F.relu,\n",
    "        dropout=0.7,\n",
    "        sage_conv_method=\"mean\",\n",
    "        lr=0.005,\n",
    "        batch_size=1024,\n",
    "    ):\n",
    "        super().__init__()\n",
    "        self.module = SAGE(\n",
    "            in_dim, h_dim, n_layers, activation, dropout, sage_conv_method\n",
    "        )\n",
    "        self.lr = lr\n",
    "        self.predictor = ScorePredictor()\n",
    "        self.batch_size = batch_size\n",
    "        self.save_hyperparameters()\n",
    "\n",
    "        self.train_loss = MeanMetric()\n",
    "        self.mean_val_positive_score = MeanMetric()\n",
    "    \n",
    "    def forward(self, graph, blocks, x):\n",
    "        self.module(graph, blocks, x)\n",
    "\n",
    "    def training_step(self, batch, batch_idx):\n",
    "        input_nodes, pos_graph, neg_graph, blocks = batch\n",
    "        x = blocks[0].srcdata[\"feat\"]\n",
    "        logits = self.module(blocks, x)\n",
    "        pos_score = self.predictor(pos_graph, logits)\n",
    "        neg_score = self.predictor(neg_graph, logits)\n",
    "\n",
    "        score = torch.cat([pos_score, neg_score])\n",
    "        pos_label = torch.ones_like(pos_score)\n",
    "        neg_label = torch.zeros_like(neg_score)\n",
    "        labels = torch.cat([pos_label, neg_label])\n",
    "        loss = F.binary_cross_entropy_with_logits(score, labels)\n",
    "\n",
    "        return loss\n",
    "\n",
    "    def validation_step(self, batch, batch_idx):\n",
    "        input_nodes, pos_graph, blocks = batch\n",
    "        x = blocks[0].srcdata[\"feat\"]\n",
    "        logits = self.module(blocks, x)\n",
    "        pos_score = self.predictor(pos_graph, logits)\n",
    "        pos_label = torch.ones_like(pos_score)\n",
    "        self.mean_val_positive_score(pos_score)\n",
    "\n",
    "        self.log(\n",
    "            \"mean_val_positive_score\",\n",
    "            self.mean_val_positive_score,\n",
    "            prog_bar=True,\n",
    "            on_step=False,\n",
    "            on_epoch=True,\n",
    "            batch_size=self.batch_size,\n",
    "        )\n",
    "\n",
    "    def configure_optimizers(self):\n",
    "        optimizer = torch.optim.Adam(self.parameters(), lr=self.lr)\n",
    "        return optimizer"
   ]
  },
  {
   "cell_type": "markdown",
   "metadata": {},
   "source": [
    "# **Notebook Run - Preperation**"
   ]
  },
  {
   "cell_type": "markdown",
   "metadata": {},
   "source": [
    "## Directory Definition"
   ]
  },
  {
   "cell_type": "code",
   "execution_count": 6,
   "metadata": {},
   "outputs": [
    {
     "name": "stdout",
     "output_type": "stream",
     "text": [
      "Set WD location to /scratch/alc9635/projects/NYU-Zillow-Capstone-2022-Team-A\n"
     ]
    }
   ],
   "source": [
    "class NestedNamespace(SimpleNamespace):\n",
    "    def __init__(self, dictionary, **kwargs):\n",
    "        super().__init__(**kwargs)\n",
    "        for key, value in dictionary.items():\n",
    "            if isinstance(value, dict):\n",
    "                self.__setattr__(key, NestedNamespace(value))\n",
    "            else:\n",
    "                self.__setattr__(key, value)\n",
    "\n",
    "root_path = pyrootutils.find_root(search_from='train_graphsage_explore.ipynb', indicator=\".git\")\n",
    "print('Set WD location to', root_path)\n",
    "pyrootutils.set_root(\n",
    "    path=root_path,\n",
    "    project_root_env_var=True,\n",
    "    dotenv=True,\n",
    "    pythonpath=True,\n",
    "    cwd=True\n",
    ")"
   ]
  },
  {
   "cell_type": "markdown",
   "metadata": {},
   "source": [
    "## CUDA"
   ]
  },
  {
   "cell_type": "code",
   "execution_count": 7,
   "metadata": {},
   "outputs": [
    {
     "name": "stdout",
     "output_type": "stream",
     "text": [
      "Using GPU\n"
     ]
    }
   ],
   "source": [
    "try:\n",
    "    if not torch.cuda.is_available():\n",
    "        device = \"cpu\"\n",
    "        print('No GPU available, using CPU')\n",
    "    else:\n",
    "        device = \"cuda\"\n",
    "        print('Using GPU')\n",
    "except:\n",
    "    device = \"cpu\"\n",
    "    print('No GPU available, using CPU')"
   ]
  },
  {
   "cell_type": "markdown",
   "metadata": {},
   "source": [
    "# **Notebook Run**"
   ]
  },
  {
   "cell_type": "markdown",
   "metadata": {},
   "source": [
    "## Select reconnection method"
   ]
  },
  {
   "cell_type": "code",
   "execution_count": 8,
   "metadata": {},
   "outputs": [],
   "source": [
    "#reconnection_method = 'scene'\n",
    "reconnection_method = 'cosine'\n",
    "#reconnection_method = 'self'"
   ]
  },
  {
   "cell_type": "markdown",
   "metadata": {},
   "source": [
    "## Graph Training"
   ]
  },
  {
   "cell_type": "code",
   "execution_count": 9,
   "metadata": {},
   "outputs": [
    {
     "name": "stdout",
     "output_type": "stream",
     "text": [
      "Done loading data from cached files.\n"
     ]
    },
    {
     "name": "stderr",
     "output_type": "stream",
     "text": [
      "GPU available: True (cuda), used: True\n",
      "TPU available: False, using: 0 TPU cores\n",
      "IPU available: False, using: 0 IPUs\n",
      "HPU available: False, using: 0 HPUs\n",
      "LOCAL_RANK: 0 - CUDA_VISIBLE_DEVICES: [0]\n",
      "\n",
      "  | Name                    | Type           | Params\n",
      "-----------------------------------------------------------\n",
      "0 | module                  | SAGE           | 1.0 M \n",
      "1 | predictor               | ScorePredictor | 0     \n",
      "2 | train_loss              | MeanMetric     | 0     \n",
      "3 | mean_val_positive_score | MeanMetric     | 0     \n",
      "-----------------------------------------------------------\n",
      "1.0 M     Trainable params\n",
      "0         Non-trainable params\n",
      "1.0 M     Total params\n",
      "4.198     Total estimated model params size (MB)\n"
     ]
    },
    {
     "name": "stdout",
     "output_type": "stream",
     "text": [
      "Sanity Checking: 0it [00:00, ?it/s]"
     ]
    },
    {
     "name": "stderr",
     "output_type": "stream",
     "text": [
      "/ext3/conda/zillow_MMKG/lib/python3.8/site-packages/pytorch_lightning/utilities/data.py:135: UserWarning: Your `IterableDataset` has `__len__` defined. In combination with multi-process data loading (when num_workers > 1), `__len__` could be inaccurate if each worker is not configured independently to avoid having duplicate data.\n",
      "  rank_zero_warn(\n",
      "/ext3/conda/zillow_MMKG/lib/python3.8/site-packages/pytorch_lightning/trainer/connectors/data_connector.py:224: PossibleUserWarning: The dataloader, val_dataloader 0, does not have many workers which may be a bottleneck. Consider increasing the value of the `num_workers` argument` (try 160 which is the number of cpus on this machine) in the `DataLoader` init to improve performance.\n",
      "  rank_zero_warn(\n",
      "/ext3/conda/zillow_MMKG/lib/python3.8/site-packages/lightning_lite/utilities/data.py:63: UserWarning: Your `IterableDataset` has `__len__` defined. In combination with multi-process data loading (when num_workers > 1), `__len__` could be inaccurate if each worker is not configured independently to avoid having duplicate data.\n",
      "  rank_zero_warn(\n"
     ]
    },
    {
     "name": "stdout",
     "output_type": "stream",
     "text": [
      "                                                                           \r"
     ]
    },
    {
     "name": "stderr",
     "output_type": "stream",
     "text": [
      "/ext3/conda/zillow_MMKG/lib/python3.8/site-packages/pytorch_lightning/trainer/connectors/data_connector.py:224: PossibleUserWarning: The dataloader, train_dataloader, does not have many workers which may be a bottleneck. Consider increasing the value of the `num_workers` argument` (try 160 which is the number of cpus on this machine) in the `DataLoader` init to improve performance.\n",
      "  rank_zero_warn(\n"
     ]
    },
    {
     "name": "stdout",
     "output_type": "stream",
     "text": [
      "Epoch 4: 100%|██████████| 776/776 [00:16<00:00, 48.13it/s, loss=0.545, v_num=608, mean_val_positive_score=0.620]"
     ]
    },
    {
     "name": "stderr",
     "output_type": "stream",
     "text": [
      "`Trainer.fit` stopped: `max_epochs=5` reached.\n"
     ]
    },
    {
     "name": "stdout",
     "output_type": "stream",
     "text": [
      "Epoch 4: 100%|██████████| 776/776 [00:16<00:00, 48.12it/s, loss=0.545, v_num=608, mean_val_positive_score=0.620]\n"
     ]
    }
   ],
   "source": [
    "# Vanilla Graph Training\n",
    "cfg = NestedNamespace(yaml.load(open('conf/config.yaml'), Loader=Loader))\n",
    "org = 'coco'\n",
    "\n",
    "if org == 'coco':\n",
    "    pre_connect_threshold = 0.95\n",
    "    connect_type = f'_images_{str(pre_connect_threshold).split(\".\")[-1]}' if reconnection_method == 'cosine' else ''\n",
    "    csv_dataset_root = cfg.data.coco_graph_root + connect_type\n",
    "elif org == 'zillow':\n",
    "    pre_connect_threshold = 0.975\n",
    "    connect_type = f'_images_{str(pre_connect_threshold).split(\".\")[-1]}' if reconnection_method == 'cosine' else ''\n",
    "    csv_dataset_root = cfg.data.zillow_root + connect_type\n",
    "\n",
    "modal_node_ids_file = os.path.join(csv_dataset_root,'modal_node_ids.json')\n",
    "datamodule = DataModule(\n",
    "    csv_dataset_root, \n",
    "    modal_node_ids_file, \n",
    "    keyword_as_src=False, \n",
    "    device=device, \n",
    "    batch_size=cfg.training.batch_size, \n",
    "    force_reload=False\n",
    ")\n",
    "\n",
    "model = SAGELightning(\n",
    "    datamodule.in_dim,\n",
    "    cfg.model.hidden_dim,\n",
    "    n_layers=cfg.model.n_layers,\n",
    "    batch_size=cfg.training.batch_size,\n",
    "    lr=cfg.training.learning_rate\n",
    ")\n",
    "\n",
    "checkpoint_callback = ModelCheckpoint(\n",
    "    monitor=\"mean_val_positive_score\", save_top_k=1, mode=\"max\"\n",
    ")\n",
    "trainer = Trainer(accelerator=\"gpu\", max_epochs=cfg.training.n_epochs, callbacks=[checkpoint_callback])\n",
    "trainer.fit(model, datamodule=datamodule)"
   ]
  },
  {
   "cell_type": "markdown",
   "metadata": {},
   "source": [
    "## Reconnecting Train and Val Subgraphs"
   ]
  },
  {
   "cell_type": "markdown",
   "metadata": {},
   "source": [
    "##### Initialize Val and Eval Subgraphs and Combine Nodes Only (No Edges)"
   ]
  },
  {
   "cell_type": "code",
   "execution_count": 10,
   "metadata": {},
   "outputs": [
    {
     "name": "stdout",
     "output_type": "stream",
     "text": [
      "number of val img nodes: 17654\n",
      "number of train img nodes: 83142\n"
     ]
    }
   ],
   "source": [
    "# Step 1: Initialize val and eval subgraph\n",
    "val_subgraph = datamodule.g_bid.subgraph(datamodule.val_nid)\n",
    "eval_subgraph = datamodule.g_bid.subgraph(datamodule.train_nid)\n",
    "\n",
    "val_img_node_idxs = (val_subgraph.ndata['ntype'] == 0).nonzero().squeeze()\n",
    "val_img_embeds = val_subgraph.ndata['feat'][val_img_node_idxs]\n",
    "val_img_node_ids = val_subgraph.ndata['_ID'][val_img_node_idxs]\n",
    "\n",
    "print('number of val img nodes:', len(val_img_node_ids))\n",
    "print('number of train img nodes:', len(eval_subgraph.nodes()))\n",
    "\n",
    "val_nodes_data = {'train_mask': torch.zeros(len(val_img_node_ids), dtype=torch.uint8).to(device),\n",
    "                  'val_mask': torch.ones(len(val_img_node_ids), dtype=torch.uint8).to(device),\n",
    "                  'test_mask': torch.zeros(len(val_img_node_ids), dtype=torch.uint8).to(device),\n",
    "                  'ntype': torch.zeros(len(val_img_node_ids), dtype=torch.int64).to(device),\n",
    "                  'feat': val_img_embeds.to(device),\n",
    "                  '_ID': val_img_node_ids}\n",
    "\n",
    "eval_subgraph.add_nodes(num=len(val_img_node_ids), data=val_nodes_data)"
   ]
  },
  {
   "cell_type": "markdown",
   "metadata": {},
   "source": [
    "##### Identify Node Pairs as Potential Edges"
   ]
  },
  {
   "cell_type": "markdown",
   "metadata": {},
   "source": [
    "Method: Cosine"
   ]
  },
  {
   "cell_type": "code",
   "execution_count": 11,
   "metadata": {},
   "outputs": [
    {
     "name": "stderr",
     "output_type": "stream",
     "text": [
      "computing image-image matches: 100%|██████████| 17654/17654 [00:03<00:00, 4877.54it/s]"
     ]
    },
    {
     "name": "stdout",
     "output_type": "stream",
     "text": [
      "match stats:\n",
      "min matches: 10\n",
      "max matches: 10\n",
      "avg matches: 10.0\n",
      "std matches: 0.0\n",
      "total new edges to add: 353080\n"
     ]
    },
    {
     "name": "stderr",
     "output_type": "stream",
     "text": [
      "\n"
     ]
    }
   ],
   "source": [
    "################################################\n",
    "## Reconnection Type : COSINE ##################\n",
    "## Finding Img-Any Training Node Pairs #########\n",
    "################################################\n",
    "\n",
    "if reconnection_method == 'cosine':\n",
    "    # Step 3: Identify image node pairs as edges\n",
    "\n",
    "    eval_train_img_node_idxs = ((eval_subgraph.ndata['ntype'] == 0)&(eval_subgraph.ndata['train_mask']==1)).nonzero().squeeze()\n",
    "    eval_train_kw_node_idxs = ((eval_subgraph.ndata['ntype'] == 1)&(eval_subgraph.ndata['train_mask']==1)).nonzero().squeeze()\n",
    "    eval_val_img_node_idxs = ((eval_subgraph.ndata['ntype'] == 0)&(eval_subgraph.ndata['val_mask']==1)).nonzero().squeeze()\n",
    "    \n",
    "    eval_train_img_embeds = eval_subgraph.ndata['feat'][eval_train_img_node_idxs]\n",
    "    eval_train_kw_embeds = eval_subgraph.ndata['feat'][eval_train_kw_node_idxs]\n",
    "    eval_val_img_embeds = eval_subgraph.ndata['feat'][eval_val_img_node_idxs]\n",
    "\n",
    "    cosine_sims_img_matrix = cosine_sim(eval_val_img_embeds, eval_train_img_embeds)\n",
    "    cosine_sims_img_kw_matrix = cosine_sim(eval_val_img_embeds, eval_train_kw_embeds)\n",
    "\n",
    "    img_sim_threshold = 0.98\n",
    "    img_img_k = 5\n",
    "    img_kw_k = 5\n",
    "            \n",
    "    matches = []\n",
    "    for i in tqdm(range(cosine_sims_img_matrix.size(0)), desc='computing image-image matches'):\n",
    "        # get val img to train img matches\n",
    "        eval_train_img_node_id_matches = eval_train_img_node_idxs[(cosine_sims_img_matrix[i]>img_sim_threshold)]\n",
    "\n",
    "        if len(eval_train_img_node_id_matches) < img_img_k:\n",
    "            img_matches, img_match_indices = torch.topk(cosine_sims_img_matrix[i], img_img_k)\n",
    "            eval_train_img_node_id_matches = eval_train_img_node_idxs[img_match_indices]\n",
    "        \n",
    "        # get val img to train keyword matches\n",
    "        kw_matches, kw_match_indices = torch.topk(cosine_sims_img_kw_matrix[i], img_kw_k)\n",
    "        \n",
    "        eval_train_kw_node_id_matches = eval_train_kw_node_idxs[kw_match_indices]\n",
    "\n",
    "        eval_train_node_id_matches = torch.cat((eval_train_img_node_id_matches, eval_train_kw_node_id_matches))\n",
    "        matches.append(eval_train_node_id_matches.tolist())\n",
    "\n",
    "    matches_per_img = [len(match_list) for match_list in matches]\n",
    "    print('match stats:')\n",
    "    print(f'min matches: {np.min(matches_per_img)}')\n",
    "    print(f'max matches: {np.max(matches_per_img)}')\n",
    "    print(f'avg matches: {np.mean(matches_per_img)}')\n",
    "    print(f'std matches: {np.std(matches_per_img)}')\n",
    "    print(f'total new edges to add: {sum(matches_per_img)*2}')"
   ]
  },
  {
   "cell_type": "markdown",
   "metadata": {},
   "source": [
    "Method: Scene"
   ]
  },
  {
   "cell_type": "code",
   "execution_count": 12,
   "metadata": {},
   "outputs": [],
   "source": [
    "###############################\n",
    "## Reconnection Type : SCENE ##\n",
    "##   Finding Img-Img Pairs   ##\n",
    "###############################\n",
    "\n",
    "if reconnection_method == 'scene':\n",
    "    # Step 3: Identify image and scene node pairs as edges\n",
    "\n",
    "    eval_train_img_node_idxs = ((eval_subgraph.ndata['ntype'] == 0)&(eval_subgraph.ndata['train_mask']==1)).nonzero().squeeze()\n",
    "    eval_train_scene_node_idxs = ((eval_subgraph.ndata['ntype'] == 2)&(eval_subgraph.ndata['train_mask']==1)).nonzero().squeeze()\n",
    "\n",
    "    eval_val_img_node_idxs = ((eval_subgraph.ndata['ntype'] == 0)&(eval_subgraph.ndata['val_mask']==1)).nonzero().squeeze()\n",
    "    eval_val_scene_node_idxs = ((eval_subgraph.ndata['ntype'] == 2)&(eval_subgraph.ndata['val_mask']==1)).nonzero().squeeze()\n",
    "\n",
    "    eval_train_img_ids = eval_subgraph.ndata['_ID'][eval_train_img_node_idxs]\n",
    "    eval_train_scene_ids = eval_subgraph.ndata['_ID'][eval_train_scene_node_idxs]\n",
    "\n",
    "    eval_val_img_ids = eval_subgraph.ndata['_ID'][eval_val_img_node_idxs]\n",
    "    eval_val_scene_ids = eval_subgraph.ndata['_ID'][eval_val_scene_node_idxs]\n",
    "\n",
    "    def get_scene_edges(node_id, input_graph=datamodule.g_bid, eval_train_scene_ids=eval_train_scene_ids):\n",
    "        # Get all edges from original g_bid graph\n",
    "        u_node, v_node = input_graph.edges()\n",
    "\n",
    "        # Get edge idxs where the supplied node_id (img node) is the source node of an edge\n",
    "        u_node_edge_idxs = torch.nonzero(node_id == u_node)\n",
    "\n",
    "        # Get corresponding \"v\" nodes on the other side of the edge for each u_node_edge_idx\n",
    "        v_ids = v_node[u_node_edge_idxs]\n",
    "\n",
    "\n",
    "        # Do the same in the opposite direction - get edge idxs where supplied node_id is the dest node\n",
    "        v_node_edge_idxs = torch.nonzero(node_id == v_node)\n",
    "        u_ids = u_node[v_node_edge_idxs]\n",
    "\n",
    "        # Get all edge indices where node_id shows up\n",
    "        all_edge_ids = torch.cat([u_ids, v_ids], dim=0)\n",
    "        indices = torch.zeros_like(all_edge_ids, dtype = torch.uint8, device = device)\n",
    "\n",
    "        # Identify which edge idxs correspond to an image-scene connection, and return the unique set of all such indices as \"intersection\"\n",
    "        for elem in eval_train_scene_ids:\n",
    "            indices = indices | (all_edge_ids == elem)  \n",
    "\n",
    "        intersection = all_edge_ids[indices] \n",
    "\n",
    "        return torch.unique(intersection)"
   ]
  },
  {
   "cell_type": "markdown",
   "metadata": {},
   "source": [
    "##### Collect Edges for Eval Subgraph"
   ]
  },
  {
   "cell_type": "code",
   "execution_count": 13,
   "metadata": {},
   "outputs": [],
   "source": [
    "if reconnection_method == 'cosine':\n",
    "\n",
    "    # Step 4: Add the edges to eval_subgraph\n",
    "\n",
    "    u = []\n",
    "    v = []\n",
    "\n",
    "    for i in range(len(matches)):\n",
    "        val_img_node = eval_val_img_node_idxs[i].item()\n",
    "        train_matches = matches[i]\n",
    "        for node_id in train_matches:\n",
    "            train_img_node = node_id\n",
    "            # Add bidirectional edge for each match\n",
    "            u += [val_img_node, train_img_node]\n",
    "            v += [train_img_node, val_img_node]"
   ]
  },
  {
   "cell_type": "code",
   "execution_count": 14,
   "metadata": {},
   "outputs": [],
   "source": [
    "if reconnection_method == 'scene':\n",
    "    \n",
    "    ## every eval-validation image:\n",
    "    ##### find all eval-train scenes it is connected to in the eval_subgraph\n",
    "    ##### connect the image-scene \n",
    "\n",
    "    u = []\n",
    "    v = []\n",
    "\n",
    "    for eval_val_img_id in tqdm(eval_val_img_ids):\n",
    "        matching_eval_train_scenes = get_scene_edges(eval_val_img_id, \n",
    "                                                    input_graph=datamodule.g_bid, \n",
    "                                                    eval_train_scene_ids=eval_train_scene_ids)\n",
    "        \n",
    "        if matching_eval_train_scenes.size(dim=0) > 0:\n",
    "            for scene in matching_eval_train_scenes:\n",
    "                u += [eval_val_img_id.item(), scene.item()]\n",
    "                v += [scene.item(), eval_val_img_id.item()]\n",
    "\n",
    "    old_new_eval_node_id_mapper = dict(zip(eval_subgraph.ndata['_ID'].detach().cpu().tolist(), eval_subgraph.nodes().detach().cpu().tolist()))\n",
    "    u = [old_new_eval_node_id_mapper[old_u] for old_u in u]\n",
    "    v = [old_new_eval_node_id_mapper[old_v] for old_v in v]"
   ]
  },
  {
   "cell_type": "markdown",
   "metadata": {},
   "source": [
    "#### Add Edges to Eval Subgraph"
   ]
  },
  {
   "cell_type": "code",
   "execution_count": 15,
   "metadata": {},
   "outputs": [],
   "source": [
    "if reconnection_method == 'cosine' or reconnection_method == 'scene':\n",
    "    edge_data = {'_ID': torch.arange(torch.max(eval_subgraph.edata['_ID'])+1, torch.max(eval_subgraph.edata['_ID'])+1+len(u), dtype=torch.int64).to(device)}\n",
    "    eval_subgraph.add_edges(torch.LongTensor(u).to(device), torch.LongTensor(v).to(device), data=edge_data)\n",
    "eval_subgraph = eval_subgraph.add_self_loop()"
   ]
  },
  {
   "cell_type": "markdown",
   "metadata": {},
   "source": [
    "##### Convert DGL Graph into GraphSAGE Compatible Object"
   ]
  },
  {
   "cell_type": "code",
   "execution_count": 16,
   "metadata": {},
   "outputs": [],
   "source": [
    "# Step 5: Turn DGL graph into DataLoader object for GraphSAGE forward inference\n",
    "\n",
    "u_eval, v_eval = eval_subgraph.edges()\n",
    "eval_subgraph_eids = eval_subgraph.edge_ids(u_eval, v_eval)\n",
    "layer_sampler = dgl.dataloading.NeighborSampler(fanouts=[3]) # During message passing between GNN layers, each node accept messages from a maximum of 25 incoming nodes\n",
    "batch_size = len(eval_subgraph.edges()[0])\n",
    "\n",
    "def eval_dataloader(g, layer_sampler, batch_size, eids):\n",
    "    edge_sampler = dgl.dataloading.as_edge_prediction_sampler(layer_sampler)\n",
    "\n",
    "    return dgl.dataloading.DataLoader(\n",
    "        g,\n",
    "        eids,\n",
    "        edge_sampler,\n",
    "        device=device,\n",
    "        batch_size=batch_size,\n",
    "        shuffle=False,\n",
    "        drop_last=False\n",
    "        # num_workers=self.num_workers,\n",
    "    )\n",
    "\n",
    "eval_dl = eval_dataloader(eval_subgraph, layer_sampler, batch_size, eval_subgraph_eids)"
   ]
  },
  {
   "cell_type": "markdown",
   "metadata": {},
   "source": [
    "##### Run GraphSAGE Inferences"
   ]
  },
  {
   "cell_type": "code",
   "execution_count": 17,
   "metadata": {},
   "outputs": [],
   "source": [
    "# Step 6: Run graphSAGE forward inference over entire val_subgraph message flow graph (MFG)\n",
    "\n",
    "for batch in eval_dl:\n",
    "    # This loop only runs once b/c batch_size = number of total edges in train_val_subgraph - we only need it to get \"blocks\"\n",
    "    inputs, edge_subgraph, blocks = batch\n",
    "    \n",
    "x = blocks[0].srcdata[\"feat\"]\n",
    "model = model.to(device)\n",
    "logits = model.module(blocks, x)\n",
    "\n",
    "eval_subgraph.ndata['feat_pred_norm'] = F.normalize(logits, p=2, dim=-1)"
   ]
  },
  {
   "cell_type": "markdown",
   "metadata": {},
   "source": [
    "##### Extract Validation Image Features and Keyword Features"
   ]
  },
  {
   "cell_type": "code",
   "execution_count": 18,
   "metadata": {},
   "outputs": [],
   "source": [
    "# Step 7: Extract validation image features and keyword features for \n",
    "eval_val_img_node_ids = ((eval_subgraph.ndata['val_mask']==1)&(eval_subgraph.ndata['ntype']==0)).nonzero().squeeze()\n",
    "eval_keyword_node_ids = ((eval_subgraph.ndata['ntype']==1)).nonzero().squeeze()\n",
    "\n",
    "# Post-GraphSAGE embeddings\n",
    "eval_val_img_feat_sage = eval_subgraph.ndata['feat_pred_norm'][eval_val_img_node_ids]\n",
    "eval_keyword_feat_sage = eval_subgraph.ndata['feat_pred_norm'][eval_keyword_node_ids]\n",
    "\n",
    "# Original CLIP embeddings before GraphSAGE forward method\n",
    "eval_subgraph.ndata['feat_norm'] = F.normalize(eval_subgraph.ndata['feat'], p=2, dim=-1)\n",
    "eval_val_img_feat_clip = eval_subgraph.ndata['feat_norm'][eval_val_img_node_ids]\n",
    "eval_keyword_feat_clip = eval_subgraph.ndata['feat_norm'][eval_keyword_node_ids]"
   ]
  },
  {
   "cell_type": "markdown",
   "metadata": {},
   "source": [
    "##### Compute Cosine Similarities"
   ]
  },
  {
   "cell_type": "code",
   "execution_count": 19,
   "metadata": {},
   "outputs": [],
   "source": [
    "verbose = False\n",
    "\n",
    "# Step 8: Compute cosine similarities between validation images and keywords to get \"link scores\" between 0 and 1\n",
    "\n",
    "val_sage_link_scores = metrics.pairwise.cosine_similarity(eval_keyword_feat_sage.cpu().detach().numpy(),\n",
    "                                                          eval_val_img_feat_sage.cpu().detach().numpy())\n",
    "val_clip_link_scores = metrics.pairwise.cosine_similarity(eval_keyword_feat_clip.cpu().detach().numpy(),\n",
    "                                                          eval_val_img_feat_clip.cpu().detach().numpy())\n",
    "\n",
    "if verbose:\n",
    "    print('means:')\n",
    "    print('sage:', np.mean(val_sage_link_scores))\n",
    "    print('clip:', np.mean(val_clip_link_scores))\n",
    "    print('mins:')\n",
    "    print('sage:', np.min(val_sage_link_scores))\n",
    "    print('clip:', np.min(val_clip_link_scores))\n",
    "    print('maxs:')\n",
    "    print('sage:', np.max(val_sage_link_scores))\n",
    "    print('clip:', np.max(val_clip_link_scores))\n",
    "    print('stds:')\n",
    "    print('sage:', np.std(val_sage_link_scores))\n",
    "    print('clip:', np.std(val_clip_link_scores))"
   ]
  },
  {
   "cell_type": "markdown",
   "metadata": {},
   "source": [
    "##### Predict and Compute Precision/Recall/Accuracy"
   ]
  },
  {
   "cell_type": "code",
   "execution_count": 20,
   "metadata": {},
   "outputs": [],
   "source": [
    "# Step 9: Get true labels for each keyword from validation subgraph adjacency matrix\n",
    "# Adjacency matrix needs to be sub-setted such that rows correspond only to image nodes and columns correspond only to keyword nodes\n",
    "val_img_indices = (val_subgraph.ndata['ntype']==0).nonzero().cpu().reshape(1, -1)\n",
    "val_keyword_indices = (val_subgraph.ndata['ntype']==1).nonzero().cpu().reshape(-1, 1)\n",
    "\n",
    "val_adj_matrix = val_subgraph.adjacency_matrix().to_dense().numpy()\n",
    "val_adj_matrix = val_adj_matrix[val_keyword_indices, val_img_indices]\n",
    "\n",
    "method_link_scores = {'sage': val_sage_link_scores, 'clip': val_clip_link_scores}\n",
    "\n",
    "# Step 10: Make predictions based on prediction threshold and get precision, recall, and accuracy \n",
    "pred_thresholds = np.linspace(0.1, 0.9, 30)\n",
    "sage_clip_metrics = pd.DataFrame()\n",
    "results_dict = {threshold: {} for threshold in pred_thresholds}\n",
    "\n",
    "for pred_threshold in pred_thresholds:\n",
    "    results_dict[pred_threshold] = {'sage': {}, 'clip': {}}\n",
    "\n",
    "    for method in method_link_scores:\n",
    "        method_link_predictions = (method_link_scores[method] > pred_threshold).astype(int)\n",
    "        n_keywords = len(method_link_scores[method])\n",
    "        for metric in ['tp', 'fp', 'fn', 'actual_p', 'precision', 'recall', 'f1']:\n",
    "            results_dict[pred_threshold][method][metric] = np.empty(n_keywords)\n",
    "        weights = np.empty(n_keywords)\n",
    "\n",
    "        for i in range(n_keywords):\n",
    "            all_p = np.sum(val_adj_matrix[i])\n",
    "            all_p_pred = np.sum(method_link_predictions[i])\n",
    "            results_dict[pred_threshold][method]['tp'][i] = np.sum((method_link_predictions[i]==1)&(val_adj_matrix[i]==1))\n",
    "            results_dict[pred_threshold][method]['fp'][i] = np.sum((method_link_predictions[i]==1)&(val_adj_matrix[i]==0))\n",
    "            results_dict[pred_threshold][method]['fn'][i] = np.sum((method_link_predictions[i]==0)&(val_adj_matrix[i]==1))\n",
    "            results_dict[pred_threshold][method]['actual_p'][i] = all_p\n",
    "\n",
    "            precision = results_dict[pred_threshold][method]['tp'][i] / all_p_pred if all_p_pred > 0 else 0\n",
    "            recall = results_dict[pred_threshold][method]['tp'][i] / all_p if all_p > 0 else 0\n",
    "\n",
    "            results_dict[pred_threshold][method]['precision'][i] = precision\n",
    "            results_dict[pred_threshold][method]['recall'][i] = recall\n",
    "            #results_dict[pred_threshold][method]['f1'][i] = 2*(precision*recall) / (precision + recall) if (precision + recall) > 0 else 0\n",
    "\n",
    "            weights[i] = all_p\n",
    "    \n",
    "    weights /= np.sum(weights)\n",
    "\n",
    "    for method in results_dict[pred_threshold].keys():\n",
    "        row = {'threshold': pred_threshold, 'method': method}\n",
    "        for metric in results_dict[pred_threshold][method]:\n",
    "            if metric == 'precision' or metric == 'recall':\n",
    "                row[f'{metric}_micro'] = np.mean(results_dict[pred_threshold][method][metric]*weights)\n",
    "                row[f'{metric}_macro'] = np.mean(results_dict[pred_threshold][method][metric])\n",
    "            # else:\n",
    "            #     row[metric] = np.mean(results_dict[pred_threshold][method][metric])\n",
    "        row['f1_micro'] = 2*(row['precision_micro']*row['recall_micro']) / (row['precision_micro']+row['recall_micro']) if (row['precision_micro']+row['recall_micro']) > 0 else 0\n",
    "        row['f1_macro'] = 2*(row['precision_macro']*row['recall_macro']) / (row['precision_macro']+row['recall_macro']) if (row['precision_macro']+row['recall_macro']) > 0 else 0\n",
    "        sage_clip_metrics = pd.concat([sage_clip_metrics, pd.DataFrame([row])], ignore_index=True)\n",
    "\n",
    "sage_metrics = sage_clip_metrics[(sage_clip_metrics['method']=='sage')]\n",
    "clip_metrics = sage_clip_metrics[(sage_clip_metrics['method']=='clip')]"
   ]
  },
  {
   "cell_type": "code",
   "execution_count": 22,
   "metadata": {},
   "outputs": [
    {
     "name": "stdout",
     "output_type": "stream",
     "text": [
      "Best SAGE metrics: \n",
      "Precision, Recall at Max Recall:\n",
      " threshold          0.100000\n",
      "precision_macro    0.154864\n",
      "recall_macro       0.903304\n",
      "Name: 0, dtype: float64\n",
      "Precision, Recall at Max Precision:\n",
      " threshold          0.900000\n",
      "precision_macro    0.378330\n",
      "recall_macro       0.399994\n",
      "Name: 58, dtype: float64\n",
      "Best CLIP metrics: \n",
      "Precision, Recall at Max Recall:\n",
      " threshold          0.100000\n",
      "precision_macro    0.036368\n",
      "recall_macro       1.000000\n",
      "Name: 1, dtype: float64\n",
      "Precision, Recall at Max Precision:\n",
      " threshold          0.265517\n",
      "precision_macro    0.781563\n",
      "recall_macro       0.206807\n",
      "Name: 13, dtype: float64\n"
     ]
    }
   ],
   "source": [
    "print('Best SAGE metrics: ')\n",
    "print('Precision, Recall at Max Recall:\\n', sage_metrics[sage_metrics['recall_macro']==sage_metrics['recall_macro'].max()][['threshold', 'precision_macro', 'recall_macro']].iloc[0,:])\n",
    "print('Precision, Recall at Max Precision:\\n', sage_metrics[sage_metrics['precision_macro']==sage_metrics['precision_macro'].max()][['threshold', 'precision_macro', 'recall_macro']].iloc[0,:])\n",
    "\n",
    "print('Best CLIP metrics: ')\n",
    "print('Precision, Recall at Max Recall:\\n', clip_metrics[clip_metrics['recall_macro']==clip_metrics['recall_macro'].max()][['threshold', 'precision_macro', 'recall_macro']].iloc[0,:])\n",
    "print('Precision, Recall at Max Precision:\\n', clip_metrics[clip_metrics['precision_macro']==clip_metrics['precision_macro'].max()][['threshold', 'precision_macro', 'recall_macro']].iloc[0,:])"
   ]
  },
  {
   "cell_type": "markdown",
   "metadata": {},
   "source": [
    "##### Generate Plots"
   ]
  },
  {
   "cell_type": "code",
   "execution_count": 23,
   "metadata": {},
   "outputs": [
    {
     "data": {
      "image/png": "[encoded data removed]",
      "text/plain": [
       "<Figure size 1080x720 with 4 Axes>"
      ]
     },
     "metadata": {
      "needs_background": "light"
     },
     "output_type": "display_data"
    }
   ],
   "source": [
    "import matplotlib.pyplot as plt\n",
    "\n",
    "sage_micro_threshold_metrics = sage_clip_metrics[sage_clip_metrics['method']=='sage'][['threshold', 'precision_micro', 'recall_micro']]\n",
    "clip_micro_threshold_metrics = sage_clip_metrics[sage_clip_metrics['method']=='clip'][['threshold', 'precision_micro', 'recall_micro']]\n",
    "sage_macro_threshold_metrics = sage_clip_metrics[sage_clip_metrics['method']=='sage'][['threshold', 'precision_macro', 'recall_macro']]\n",
    "clip_macro_threshold_metrics = sage_clip_metrics[sage_clip_metrics['method']=='clip'][['threshold', 'precision_macro', 'recall_macro']]\n",
    "\n",
    "fig, axs = plt.subplots(2, 2, figsize=(15,10))\n",
    "for i, avg_type in enumerate(['micro', 'macro']):\n",
    "    legend = []\n",
    "    for j, metric in enumerate(['precision', 'recall']):\n",
    "        for method in ['sage', 'clip']:\n",
    "            axs[i,j].plot(sage_clip_metrics[sage_clip_metrics['method']==method]['threshold'], \n",
    "                    sage_clip_metrics[sage_clip_metrics['method']==method][f'{metric}_{avg_type}'])\n",
    "            legend += [f'{method}_{metric}']\n",
    "        axs[i,j].legend(legend)\n",
    "        axs[i,j].set_xlabel('positive prediction threshold')\n",
    "        axs[i,j].set_ylabel('metric')\n",
    "        axs[i,j].set_title(f'{avg_type}-averaged link prediction {metric}')\n",
    "plt.show()\n"
   ]
  },
  {
   "cell_type": "code",
   "execution_count": 24,
   "metadata": {},
   "outputs": [
    {
     "name": "stdout",
     "output_type": "stream",
     "text": [
      "Best sage metrics: \n",
      "Metrics at best f1_macro:\n",
      " threshold          0.706897\n",
      "recall_macro       0.632623\n",
      "precision_macro    0.326984\n",
      "f1_macro           0.431130\n",
      "Name: 44, dtype: float64\n",
      "\n",
      "\n",
      "Best clip metrics: \n",
      "Metrics at best f1_macro:\n",
      " threshold          0.237931\n",
      "recall_macro       0.457524\n",
      "precision_macro    0.547829\n",
      "f1_macro           0.498621\n",
      "Name: 11, dtype: float64\n",
      "\n",
      "\n"
     ]
    }
   ],
   "source": [
    "macro_metrics = ['recall_macro', 'precision_macro', 'f1_macro']\n",
    "metrics_dfs = {'sage': sage_metrics, 'clip': clip_metrics}\n",
    "best_rows = {}\n",
    "for method in ['sage', 'clip']:\n",
    "    print(f'Best {method} metrics: ')\n",
    "    best_rows[method] = {}\n",
    "    metric_df = metrics_dfs[method]\n",
    "    metric = 'f1_macro'\n",
    "    best_rows[method][metric] = metric_df[metric_df[metric]==metric_df[metric].max()][['threshold']+macro_metrics].iloc[0,:]\n",
    "    print(f'Metrics at best {metric}:\\n', best_rows[method][metric])\n",
    "    print('\\n')"
   ]
  },
  {
   "cell_type": "code",
   "execution_count": 25,
   "metadata": {},
   "outputs": [
    {
     "data": {
      "image/png": "[encoded data removed]",
      "text/plain": [
       "<Figure size 683.1x576 with 1 Axes>"
      ]
     },
     "metadata": {},
     "output_type": "display_data"
    },
    {
     "data": {
      "image/png": "[encoded data removed]",
      "text/plain": [
       "<Figure size 683.1x576 with 1 Axes>"
      ]
     },
     "metadata": {},
     "output_type": "display_data"
    }
   ],
   "source": [
    "import seaborn as sns\n",
    "sns.set_theme(style=\"whitegrid\")\n",
    "#sns.color_palette(\"rocket\", as_cmap=True)\n",
    "\n",
    "def compute_f1(prec, rec):\n",
    "    return 2*(prec*rec) / (prec+rec) if (prec + rec) > 0 else 0\n",
    "\n",
    "if not os.path.exists('val_prec_rec_f1_data.csv'):\n",
    "    prec_rec_f1_data = pd.DataFrame(columns=['exp_name', 'precision_macro', 'recall_macro', \n",
    "                                            'f1_macro', 'precision_micro', 'recall_micro', 'f1_micro'])\n",
    "else:\n",
    "    prec_rec_f1_data = pd.read_csv('val_prec_rec_f1_data.csv')\n",
    "    prec_rec_f1_data = prec_rec_f1_data[prec_rec_f1_data['exp_name']!=f'sage_{reconnection_method}']\n",
    "    prec_rec_f1_data = prec_rec_f1_data[prec_rec_f1_data['exp_name']!='clip']\n",
    "\n",
    "best_sage_results_by_keyword = results_dict[best_rows['sage']['f1_macro']['threshold']]['sage']\n",
    "best_clip_results_by_keyword = results_dict[best_rows['clip']['f1_macro']['threshold']]['clip']\n",
    "\n",
    "results_by_keyword = {f'sage_{reconnection_method}': best_sage_results_by_keyword,\n",
    "                       'clip': best_clip_results_by_keyword}\n",
    "\n",
    "for exp_name in results_by_keyword:\n",
    "    exp_results = pd.DataFrame(columns=['exp_name', 'precision_macro', 'recall_macro', 'f1_macro', 'precision_micro', 'recall_micro', 'f1_micro'])\n",
    "    exp_results['precision_macro'] = [np.mean(results_by_keyword[exp_name]['precision'])]\n",
    "    exp_results['recall_macro'] = [np.mean(results_by_keyword[exp_name]['recall'])]\n",
    "    exp_results['f1_macro'] = exp_results.apply(lambda x: compute_f1(x['precision_macro'], x['recall_macro']), axis=1)\n",
    "    exp_results['precision_micro'] = [np.mean(results_by_keyword[exp_name]['precision']*weights)]\n",
    "    exp_results['recall_micro'] = [np.mean(results_by_keyword[exp_name]['recall']*weights)]\n",
    "    exp_results['f1_micro'] = exp_results.apply(lambda x: compute_f1(x['precision_micro'], x['recall_micro']), axis=1)\n",
    "    exp_results['exp_name'] = [exp_name]\n",
    "    prec_rec_f1_data = pd.concat([prec_rec_f1_data, exp_results], ignore_index=True)\n",
    "\n",
    "prec_rec_f1_data.to_csv('val_prec_rec_f1_data.csv', index=False)\n",
    "\n",
    "if org == 'zillow':\n",
    "    train_new_old_node_id_mapping_file = os.path.join(csv_dataset_root,'new_old_node_id_mapping.json')\n",
    "    train_new_old_node_id_mapping = json.load(open(train_new_old_node_id_mapping_file, 'r'))\n",
    "    mapper_file = 'hash_keyword_mapper.json'\n",
    "    id_keyword_mapper = json.load(open(os.path.join('notebooks', mapper_file), 'r'))\n",
    "    \n",
    "    keyword_node_ids = eval_subgraph.nodes()[(eval_subgraph.ndata['ntype']==1).nonzero().squeeze()]\n",
    "    keyword_node_ids = [train_new_old_node_id_mapping[str(key.item())] for key in keyword_node_ids]\n",
    "    \n",
    "    \n",
    "elif org == 'coco':\n",
    "    mapper_file = 'tag_id_name_mapper.json'\n",
    "    id_keyword_mapper = json.load(open(os.path.join('notebooks', mapper_file), 'r'))\n",
    "\n",
    "    keyword_node_ids = eval_subgraph.ndata['_ID'][(eval_subgraph.ndata['ntype']==1).nonzero().squeeze()]\n",
    "    keyword_node_ids = [str(node_id.item()) for node_id in keyword_node_ids]\n",
    "\n",
    "keywords = [id_keyword_mapper[keyword_node_ids[i]] if keyword_node_ids[i] in list(id_keyword_mapper.keys()) \n",
    "            else f'keyword_{i}' for i in range(len(keyword_node_ids))]\n",
    "\n",
    "\n",
    "by_keyword_results = pd.concat([pd.DataFrame({'keyword': keywords,\n",
    "                                            'method': f'sage_{reconnection_method}',\n",
    "                                            'precision': best_sage_results_by_keyword['precision'],\n",
    "                                            'recall': best_sage_results_by_keyword['recall'],\n",
    "                                            'weights': weights}).sort_values(by='weights', ascending=False)\\\n",
    "                                            .drop_duplicates(subset='keyword').head(10),\n",
    "                                pd.DataFrame({'keyword': keywords,\n",
    "                                            'method': 'clip',\n",
    "                                            'precision': best_clip_results_by_keyword['precision'],\n",
    "                                            'recall': best_clip_results_by_keyword['recall'],\n",
    "                                            'weights': weights}).sort_values(by='weights', ascending=False)\\\n",
    "                                            .drop_duplicates(subset='keyword').head(10)]\n",
    "                                )\n",
    "\n",
    "ax_prec = sns.catplot(\n",
    "    data=by_keyword_results, kind=\"bar\",\n",
    "    x=\"precision\", y=\"keyword\", hue=\"method\",\n",
    "    palette=\"cubehelix\", height=8\n",
    ")\n",
    "ax_prec.set_axis_labels(\"precision\", \"keyword\")\n",
    "\n",
    "ax_rec = sns.catplot(\n",
    "    data=by_keyword_results, kind=\"bar\",\n",
    "    x=\"recall\", y=\"keyword\", hue=\"method\",\n",
    "    palette=\"cubehelix\", height=8\n",
    ")\n",
    "\n",
    "ax_rec.set_axis_labels(\"recall\", \"keyword\")\n",
    "plt.show()\n"
   ]
  },
  {
   "cell_type": "code",
   "execution_count": 26,
   "metadata": {},
   "outputs": [
    {
     "data": {
      "text/plain": [
       "<seaborn.axisgrid.FacetGrid at 0x7f8b581e5730>"
      ]
     },
     "execution_count": 26,
     "metadata": {},
     "output_type": "execute_result"
    },
    {
     "data": {
      "image/png": "[encoded data removed]",
      "text/plain": [
       "<Figure size 683.1x576 with 1 Axes>"
      ]
     },
     "metadata": {},
     "output_type": "display_data"
    }
   ],
   "source": [
    "prec_rec_f1_data_plot = pd.melt(prec_rec_f1_data, id_vars=['exp_name'], value_vars=['precision_macro', 'recall_macro', 'f1_macro',\n",
    "                                                                'precision_micro', 'recall_micro', 'f1_micro'])\n",
    "                                                                \n",
    "g_metrics = sns.catplot(\n",
    "    data=prec_rec_f1_data_plot, kind=\"bar\",\n",
    "    x=\"variable\", y=\"value\", hue=\"exp_name\",\n",
    "    palette=\"cubehelix\", height=8\n",
    ")\n",
    "#plt.title('Link Prediction Metrics At Best F1 Score')\n",
    "g_metrics.set_axis_labels(\"\", \"metric type\")"
   ]
  },
  {
   "cell_type": "code",
   "execution_count": 27,
   "metadata": {},
   "outputs": [
    {
     "data": {
      "text/html": [
       "<div>\n",
       "<style scoped>\n",
       "    .dataframe tbody tr th:only-of-type {\n",
       "        vertical-align: middle;\n",
       "    }\n",
       "\n",
       "    .dataframe tbody tr th {\n",
       "        vertical-align: top;\n",
       "    }\n",
       "\n",
       "    .dataframe thead th {\n",
       "        text-align: right;\n",
       "    }\n",
       "</style>\n",
       "<table border=\"1\" class=\"dataframe\">\n",
       "  <thead>\n",
       "    <tr style=\"text-align: right;\">\n",
       "      <th></th>\n",
       "      <th>exp_name</th>\n",
       "      <th>precision_macro</th>\n",
       "      <th>recall_macro</th>\n",
       "      <th>f1_macro</th>\n",
       "      <th>precision_micro</th>\n",
       "      <th>recall_micro</th>\n",
       "      <th>f1_micro</th>\n",
       "    </tr>\n",
       "  </thead>\n",
       "  <tbody>\n",
       "    <tr>\n",
       "      <th>0</th>\n",
       "      <td>sage_self</td>\n",
       "      <td>0.331620</td>\n",
       "      <td>0.560273</td>\n",
       "      <td>0.416637</td>\n",
       "      <td>0.005677</td>\n",
       "      <td>0.005547</td>\n",
       "      <td>0.005611</td>\n",
       "    </tr>\n",
       "    <tr>\n",
       "      <th>1</th>\n",
       "      <td>sage_scene</td>\n",
       "      <td>0.344293</td>\n",
       "      <td>0.535681</td>\n",
       "      <td>0.419175</td>\n",
       "      <td>0.005981</td>\n",
       "      <td>0.005074</td>\n",
       "      <td>0.005490</td>\n",
       "    </tr>\n",
       "    <tr>\n",
       "      <th>2</th>\n",
       "      <td>sage_cosine</td>\n",
       "      <td>0.326984</td>\n",
       "      <td>0.632623</td>\n",
       "      <td>0.431130</td>\n",
       "      <td>0.005566</td>\n",
       "      <td>0.006929</td>\n",
       "      <td>0.006173</td>\n",
       "    </tr>\n",
       "    <tr>\n",
       "      <th>3</th>\n",
       "      <td>clip</td>\n",
       "      <td>0.547829</td>\n",
       "      <td>0.457524</td>\n",
       "      <td>0.498621</td>\n",
       "      <td>0.007388</td>\n",
       "      <td>0.003791</td>\n",
       "      <td>0.005011</td>\n",
       "    </tr>\n",
       "  </tbody>\n",
       "</table>\n",
       "</div>"
      ],
      "text/plain": [
       "      exp_name  precision_macro  recall_macro  f1_macro  precision_micro  \\\n",
       "0    sage_self         0.331620      0.560273  0.416637         0.005677   \n",
       "1   sage_scene         0.344293      0.535681  0.419175         0.005981   \n",
       "2  sage_cosine         0.326984      0.632623  0.431130         0.005566   \n",
       "3         clip         0.547829      0.457524  0.498621         0.007388   \n",
       "\n",
       "   recall_micro  f1_micro  \n",
       "0      0.005547  0.005611  \n",
       "1      0.005074  0.005490  \n",
       "2      0.006929  0.006173  \n",
       "3      0.003791  0.005011  "
      ]
     },
     "execution_count": 27,
     "metadata": {},
     "output_type": "execute_result"
    }
   ],
   "source": [
    "prec_rec_f1_data.head()"
   ]
  },
  {
   "cell_type": "code",
   "execution_count": 28,
   "metadata": {},
   "outputs": [],
   "source": [
    "method_link_scores = {'sage': val_sage_link_scores, 'clip': val_clip_link_scores}\n",
    "\n",
    "if not os.path.exists('val_roc_auc_scores.json'):\n",
    "    roc_auc_values = {f'sage_{reconnection_method}': {'micro': 0, 'macro': 0}, 'clip': {'micro': 0, 'macro': 0}}\n",
    "else:\n",
    "    roc_auc_values = json.load(open('val_roc_auc_scores.json', 'r'))\n",
    "    \n",
    "if not os.path.exists('val_roc_data.csv'):\n",
    "    roc_data = pd.DataFrame(columns=['exp_name', 'fpr_micro', 'tpr_micro'])\n",
    "else:\n",
    "    roc_data = pd.read_csv('val_roc_data.csv')\n",
    "    roc_data = roc_data[roc_data['exp_name']!=f'sage_{reconnection_method}']\n",
    "    roc_data = roc_data[roc_data['exp_name']!='clip']\n",
    "     \n",
    "for method in method_link_scores:\n",
    "    fpr_micro, tpr_micro, thresholds = metrics.roc_curve(val_adj_matrix.flatten(), method_link_scores[method].flatten())\n",
    "    method_roc_data = pd.DataFrame(columns=['exp_name', 'fpr_micro', 'tpr_micro'])\n",
    "    exp_name = f'sage_{reconnection_method}' if method == 'sage' else 'clip'\n",
    "    \n",
    "    roc_auc_values[exp_name] = {'micro': 0, 'macro': 0} # overwrite old results\n",
    "    \n",
    "    method_roc_data['fpr_micro'] = fpr_micro\n",
    "    method_roc_data['tpr_micro'] = tpr_micro\n",
    "    method_roc_data['exp_name'] = exp_name\n",
    "    \n",
    "    roc_data = pd.concat([roc_data, method_roc_data])\n",
    "    \n",
    "    roc_auc_values[exp_name]['micro'] = metrics.auc(fpr_micro, tpr_micro)\n",
    "\n",
    "    # keyword_aucs = []\n",
    "    # for i in range(method_link_scores[method].shape[0]):\n",
    "    #     keyword_aucs.append(metrics.roc_auc_score(val_adj_matrix[i], method_link_scores[method][i]))\n",
    "    # roc_auc_values[exp_name]['macro'] = np.mean(keyword_aucs)\n",
    "\n",
    "#roc_data.drop_duplicates(subset='exp_name', keep='last', inplace=True)\n",
    "roc_data.to_csv('val_roc_data.csv', index=False)\n",
    "\n",
    "with open('val_roc_auc_scores.json', 'w') as outfile:\n",
    "    json.dump(roc_auc_values, outfile)"
   ]
  },
  {
   "cell_type": "code",
   "execution_count": 29,
   "metadata": {},
   "outputs": [
    {
     "data": {
      "image/png": "[encoded data removed]",
      "text/plain": [
       "<Figure size 432x288 with 1 Axes>"
      ]
     },
     "metadata": {},
     "output_type": "display_data"
    },
    {
     "name": "stdout",
     "output_type": "stream",
     "text": [
      "ROC AUC Scores: {'sage_cosine': {'micro': 0.8649346268413143, 'macro': 0}, 'clip': {'micro': 0.8284431246938514, 'macro': 0}, 'sage_scene': {'micro': 0.8679026875447997, 'macro': 0}, 'sage_self': {'micro': 0.8485243177148447, 'macro': 0}}\n"
     ]
    }
   ],
   "source": [
    "for exp in set(roc_data['exp_name'].values):\n",
    "    exp_data = roc_data[roc_data['exp_name']==exp]\n",
    "    plt.plot(exp_data['fpr_micro'], exp_data['tpr_micro'], label=f\"{exp} (area = %0.2f)\" % roc_auc_values[exp]['micro'])\n",
    "\n",
    "plt.grid(False)\n",
    "plt.plot([0, 1], [0, 1], color=\"navy\", linestyle=\"--\")\n",
    "plt.xlim([0.0, 1.0])\n",
    "plt.ylim([0.0, 1.05])\n",
    "plt.xlabel(\"False Positive Rate\")\n",
    "plt.ylabel(\"True Positive Rate\")\n",
    "plt.title(f\"Micro-Averaged Link Prediction ROC Curves ({org})\")\n",
    "plt.legend(loc=\"lower right\")\n",
    "plt.show()\n",
    "\n",
    "print('ROC AUC Scores:', roc_auc_values)"
   ]
  },
  {
   "cell_type": "markdown",
   "metadata": {},
   "source": [
    "# Evaluation on Holdout Set\n",
    "### (Zillow Only)\n"
   ]
  },
  {
   "cell_type": "code",
   "execution_count": 30,
   "metadata": {},
   "outputs": [
    {
     "name": "stdout",
     "output_type": "stream",
     "text": [
      "Done loading data from cached files.\n"
     ]
    }
   ],
   "source": [
    "cfg = NestedNamespace(yaml.load(open('conf/config.yaml'), Loader=Loader))\n",
    "val_csv_dataset_root = cfg.graph.zillow_val.graph_dir\n",
    "\n",
    "test_modal_node_ids_file = os.path.join(val_csv_dataset_root,'modal_node_ids.json')\n",
    "test_new_old_node_id_mapping_file = os.path.join(val_csv_dataset_root,'new_old_node_id_mapping.json')\n",
    "test_datamodule = DataModule(\n",
    "    val_csv_dataset_root, \n",
    "    modal_node_ids_file, \n",
    "    keyword_as_src=False, \n",
    "    device=device, \n",
    "    batch_size=cfg.training.batch_size, \n",
    "    force_reload=False\n",
    ")"
   ]
  },
  {
   "cell_type": "code",
   "execution_count": 31,
   "metadata": {},
   "outputs": [
    {
     "name": "stdout",
     "output_type": "stream",
     "text": [
      "118397\n",
      "number of test img nodes: 9206\n",
      "number of \"train\" img nodes: 118397\n"
     ]
    }
   ],
   "source": [
    "test_subgraph = test_datamodule.g_bid\n",
    "test_eval_subgraph = datamodule.g_bid.subgraph(datamodule.g_bid.nodes())\n",
    "test_eval_subgraph.ndata['test_mask'] = torch.zeros(len(test_eval_subgraph.nodes()), dtype=torch.uint8).to(device)\n",
    "print(len(test_eval_subgraph.ndata['test_mask']))\n",
    "\n",
    "test_img_node_idxs = (test_subgraph.ndata['ntype'] == 0).nonzero().squeeze()\n",
    "test_img_embeds = test_subgraph.ndata['feat'][test_img_node_idxs]\n",
    "test_img_node_ids = test_subgraph.nodes()[test_img_node_idxs] + torch.max(test_eval_subgraph.nodes()) + 1\n",
    "\n",
    "print('number of test img nodes:', len(test_img_node_ids))\n",
    "print('number of \"train\" img nodes:', len(test_eval_subgraph.nodes()))\n",
    "\n",
    "test_nodes_data = {'train_mask': torch.zeros(len(test_img_node_ids), dtype=torch.uint8).to(device),\n",
    "                   'val_mask': torch.zeros(len(test_img_node_ids), dtype=torch.uint8).to(device),\n",
    "                   'test_mask': torch.ones(len(test_img_node_ids), dtype=torch.uint8).to(device),\n",
    "                   'ntype': torch.zeros(len(test_img_node_ids), dtype=torch.int64).to(device),\n",
    "                   'feat': test_img_embeds.to(device),\n",
    "                   '_ID': test_img_node_ids}\n",
    "\n",
    "test_eval_subgraph.add_nodes(num=len(test_img_node_ids), data=test_nodes_data)"
   ]
  },
  {
   "cell_type": "code",
   "execution_count": 32,
   "metadata": {},
   "outputs": [
    {
     "name": "stdout",
     "output_type": "stream",
     "text": [
      "torch.Size([9206, 512])\n",
      "torch.Size([9206, 118287])\n"
     ]
    },
    {
     "name": "stderr",
     "output_type": "stream",
     "text": [
      "computing image-image matches: 100%|██████████| 9206/9206 [00:01<00:00, 4644.16it/s]\n"
     ]
    }
   ],
   "source": [
    "# get node ID to hash ID mappings to find in-vocabulary keywords and scenes from test dataset\n",
    "\n",
    "test_keyword_ids = test_subgraph.nodes()[(test_subgraph.ndata['ntype']==1).nonzero().squeeze()].cpu().detach().tolist()\n",
    "test_new_old_node_id_mapping = json.load(open(test_new_old_node_id_mapping_file, 'r'))\n",
    "test_old_new_node_id_mapping = {v: k for k, v in test_new_old_node_id_mapping.items()}\n",
    "\n",
    "train_new_old_node_id_mapping_file = os.path.join(csv_dataset_root,'new_old_node_id_mapping.json')\n",
    "train_new_old_node_id_mapping = json.load(open(train_new_old_node_id_mapping_file, 'r'))\n",
    "train_old_new_node_id_mapping = {v: k for k, v in train_new_old_node_id_mapping.items()}\n",
    "\n",
    "\n",
    "if reconnection_method == 'cosine':\n",
    "    # Step 3: Identify image node pairs as edges\n",
    "\n",
    "    eval_train_img_node_idxs = ((test_eval_subgraph.ndata['ntype'] == 0)&(test_eval_subgraph.ndata['test_mask']==0)).nonzero().squeeze()\n",
    "    eval_train_kw_node_idxs = ((test_eval_subgraph.ndata['ntype'] == 1)&(test_eval_subgraph.ndata['test_mask']==0)).nonzero().squeeze()\n",
    "    eval_test_img_node_idxs = ((test_eval_subgraph.ndata['ntype'] == 0)&(test_eval_subgraph.ndata['test_mask']==1)).nonzero().squeeze()\n",
    "    \n",
    "    eval_train_img_embeds = test_eval_subgraph.ndata['feat'][eval_train_img_node_idxs]\n",
    "    eval_train_kw_embeds = test_eval_subgraph.ndata['feat'][eval_train_kw_node_idxs]\n",
    "    eval_test_img_embeds = test_eval_subgraph.ndata['feat'][eval_test_img_node_idxs]\n",
    "\n",
    "    cosine_sims_img_matrix = cosine_sim(eval_test_img_embeds, eval_train_img_embeds)\n",
    "    cosine_sims_img_kw_matrix = cosine_sim(eval_test_img_embeds, eval_train_kw_embeds)\n",
    "    print(eval_test_img_embeds.size())\n",
    "    print(cosine_sims_img_matrix.size())\n",
    "\n",
    "    img_sim_threshold = 0.98\n",
    "    img_img_k = 5\n",
    "    img_kw_k = 5\n",
    "            \n",
    "    test_eval_matches = []\n",
    "    for i in tqdm(range(cosine_sims_img_matrix.size(0)), desc='computing image-image matches'):\n",
    "        # get val img to train img matches\n",
    "        eval_train_img_node_id_matches = eval_train_img_node_idxs[(cosine_sims_img_matrix[i]>img_sim_threshold)]\n",
    "\n",
    "        if len(eval_train_img_node_id_matches) < img_img_k:\n",
    "            img_matches, img_match_indices = torch.topk(cosine_sims_img_matrix[i], img_img_k)\n",
    "            eval_train_img_node_id_matches = eval_train_img_node_idxs[img_match_indices]\n",
    "        \n",
    "        # get val img to train keyword matches\n",
    "        kw_matches, kw_match_indices = torch.topk(cosine_sims_img_kw_matrix[i], img_kw_k)\n",
    "        \n",
    "        eval_train_kw_node_id_matches = eval_train_kw_node_idxs[kw_match_indices]\n",
    "\n",
    "        eval_train_node_id_matches = torch.cat((eval_train_img_node_id_matches, eval_train_kw_node_id_matches))\n",
    "        test_eval_matches.append(eval_train_node_id_matches.tolist())\n",
    "\n",
    "    test_matches_per_img = [len(match_list) for match_list in test_eval_matches]\n",
    "\n",
    "\n",
    "if reconnection_method == 'scene':\n",
    "    # Step 3: Identify image and scene node pairs as edges\n",
    "\n",
    "    eval_train_img_node_idxs = ((test_eval_subgraph.ndata['ntype'] == 0)&(test_eval_subgraph.ndata['test_mask']==0)).nonzero().squeeze()\n",
    "    eval_train_scene_node_idxs = ((test_eval_subgraph.ndata['ntype'] == 2)&(test_eval_subgraph.ndata['test_mask']==0)).nonzero().squeeze()\n",
    "\n",
    "    eval_test_img_node_idxs = ((test_eval_subgraph.ndata['ntype'] == 0)&(test_eval_subgraph.ndata['test_mask']==1)).nonzero().squeeze()\n",
    "    \n",
    "    eval_train_img_ids = test_eval_subgraph.ndata['_ID'][eval_train_img_node_idxs]\n",
    "    eval_train_scene_ids = test_eval_subgraph.ndata['_ID'][eval_train_scene_node_idxs]\n",
    "\n",
    "    eval_test_img_ids = test_eval_subgraph.ndata['_ID'][eval_test_img_node_idxs]\n",
    "    test_img_ids = (test_subgraph.ndata['ntype'] == 0).nonzero().squeeze()\n",
    "    test_scene_ids = (test_subgraph.ndata['ntype'] == 2).nonzero().squeeze()\n",
    "\n",
    "    train_scene_hashes = [train_new_old_node_id_mapping[str(key.item())] for key in eval_train_scene_ids]\n",
    "    test_scene_hashes = [test_new_old_node_id_mapping[str(key.item())] for key in test_scene_ids]\n",
    "    test_train_scene_node_mapper = {}\n",
    "\n",
    "    for i in range(len(test_scene_hashes)):\n",
    "        if test_scene_hashes[i] in train_scene_hashes:\n",
    "            test_node_id = test_old_new_node_id_mapping[str(test_scene_hashes[i])]\n",
    "            train_node_id = train_old_new_node_id_mapping[str(test_scene_hashes[i])]\n",
    "            test_train_scene_node_mapper[int(test_node_id)] = int(train_node_id)\n",
    "\n",
    "    def get_scene_edges_test(node_id, eval_graph, test_graph, eval_train_scene_ids, eval_test_scene_ids,\n",
    "                             test_train_scene_node_mapper):\n",
    "                             \n",
    "        u_node, v_node = test_graph.edges()\n",
    "        u_node_edge_idxs = torch.nonzero(node_id == u_node)\n",
    "        v_ids = v_node[u_node_edge_idxs]\n",
    "\n",
    "        v_node_edge_idxs = torch.nonzero(node_id == v_node)\n",
    "        u_ids = u_node[v_node_edge_idxs]\n",
    "\n",
    "        all_edge_ids = torch.cat([u_ids, v_ids], dim=0)\n",
    "        \n",
    "        indices = torch.zeros_like(all_edge_ids, dtype = torch.uint8, device = device)\n",
    "        for elem in eval_test_scene_ids:\n",
    "            indices = indices | (all_edge_ids == elem)\n",
    "\n",
    "        intersection = [node for node in all_edge_ids[indices].cpu().detach().tolist() if node in list(test_train_scene_node_mapper.keys())]\n",
    "        intersection_mapped = torch.LongTensor([test_train_scene_node_mapper[key] for key in intersection])\n",
    "        \n",
    "        return torch.unique(intersection_mapped)"
   ]
  },
  {
   "cell_type": "code",
   "execution_count": 33,
   "metadata": {},
   "outputs": [],
   "source": [
    "if reconnection_method == 'cosine':\n",
    "\n",
    "    # Step 4: Add the edges to eval_subgraph\n",
    "\n",
    "    u_test = []\n",
    "    v_test = []\n",
    "\n",
    "    for i in range(len(test_eval_matches)):\n",
    "        test_img_node = eval_test_img_node_idxs[i].item()\n",
    "        train_matches = test_eval_matches[i]\n",
    "        for node_id in train_matches:\n",
    "            train_img_node = node_id\n",
    "            # Add bidirectional edge for each match\n",
    "            u_test += [test_img_node, train_img_node]\n",
    "            v_test += [train_img_node, test_img_node]\n",
    "\n",
    "if reconnection_method == 'scene':\n",
    "    \n",
    "    ## every eval-validation image:\n",
    "    ##### find all eval-train scenes it is connected to in the eval_subgraph\n",
    "    ##### connect the image-scene \n",
    "\n",
    "    u_test = []\n",
    "    v_test = []\n",
    "\n",
    "    for test_img_id in tqdm(test_img_ids):\n",
    "        matching_eval_train_scenes = get_scene_edges_test(test_img_id, test_eval_subgraph, test_subgraph, \n",
    "                                                          eval_train_scene_ids, test_scene_ids, test_train_scene_node_mapper)\n",
    "\n",
    "        if matching_eval_train_scenes.size(dim=0) > 0:\n",
    "            for scene in matching_eval_train_scenes:\n",
    "                u_test += [test_img_id.item(), scene.item()]\n",
    "                v_test += [scene.item(), test_img_id.item()]\n",
    "\n",
    "if reconnection_method == 'cosine' or reconnection_method == 'scene':\n",
    "    test_edge_data = {'_ID': torch.arange(torch.max(test_eval_subgraph.edata['_ID'])+1, torch.max(test_eval_subgraph.edata['_ID'])+1+len(u_test), dtype=torch.int64).to(device)}\n",
    "    test_eval_subgraph.add_edges(torch.LongTensor(u_test).to(device), torch.LongTensor(v_test).to(device), data=test_edge_data)\n",
    "test_eval_subgraph = test_eval_subgraph.add_self_loop()"
   ]
  },
  {
   "cell_type": "code",
   "execution_count": 34,
   "metadata": {},
   "outputs": [],
   "source": [
    "# Step 5: Turn DGL graph into DataLoader object for GraphSAGE forward inference\n",
    "\n",
    "u_test_eval, v_test_eval = test_eval_subgraph.edges()\n",
    "test_eval_subgraph_eids = test_eval_subgraph.edge_ids(u_test_eval, v_test_eval)\n",
    "layer_sampler = dgl.dataloading.NeighborSampler(fanouts=[3]) # During message passing between GNN layers, each node accept messages from a maximum of 25 incoming nodes\n",
    "batch_size = len(test_eval_subgraph_eids)\n",
    "\n",
    "def test_eval_dataloader(g, layer_sampler, batch_size, eids):\n",
    "    edge_sampler = dgl.dataloading.as_edge_prediction_sampler(layer_sampler)\n",
    "\n",
    "    return dgl.dataloading.DataLoader(\n",
    "        g,\n",
    "        eids,\n",
    "        edge_sampler,\n",
    "        device=device,\n",
    "        batch_size=batch_size,\n",
    "        shuffle=False,\n",
    "        drop_last=False\n",
    "        # num_workers=self.num_workers,\n",
    "    )\n",
    "\n",
    "test_eval_dl = test_eval_dataloader(test_eval_subgraph, layer_sampler, batch_size, test_eval_subgraph_eids)"
   ]
  },
  {
   "cell_type": "code",
   "execution_count": 35,
   "metadata": {},
   "outputs": [],
   "source": [
    "# Step 6: Run graphSAGE forward inference over entire val_subgraph message flow graph (MFG)\n",
    "\n",
    "for batch in test_eval_dl:\n",
    "    # This loop only runs once b/c batch_size = number of total edges in train_val_subgraph - we only need it to get \"blocks\"\n",
    "    test_inputs, test_edge_subgraph, test_blocks = batch\n",
    "    \n",
    "x = test_blocks[0].srcdata[\"feat\"]\n",
    "model = model.to(device)\n",
    "logits = model.module(test_blocks, x)\n",
    "\n",
    "test_eval_subgraph.ndata['feat_pred'] = logits"
   ]
  },
  {
   "cell_type": "code",
   "execution_count": 36,
   "metadata": {},
   "outputs": [],
   "source": [
    "# Step 7: Extract validation image features and keyword features for \n",
    "eval_test_img_node_ids = ((test_eval_subgraph.ndata['test_mask']==1)&(test_eval_subgraph.ndata['ntype']==0)).nonzero().squeeze()\n",
    "eval_keyword_node_ids = ((test_eval_subgraph.ndata['ntype']==1)).nonzero().squeeze()\n",
    "\n",
    "test_keyword_hashes = [test_new_old_node_id_mapping[str(key)] for key in test_keyword_ids]\n",
    "train_keyword_hashes = [train_new_old_node_id_mapping[str(key.item())] for key in eval_keyword_node_ids]\n",
    "\n",
    "train_overlap_ids = []\n",
    "for i in range(len(train_keyword_hashes)):\n",
    "    if train_keyword_hashes[i] in test_keyword_hashes:\n",
    "        train_overlap_ids.append(eval_keyword_node_ids[i])\n",
    "eval_test_keyword_node_ids = torch.LongTensor(train_overlap_ids)\n",
    "\n",
    "test_overlap_ids = []\n",
    "for i in range(len(test_keyword_hashes)):\n",
    "    if test_keyword_hashes[i] in train_keyword_hashes:\n",
    "        test_overlap_ids.append(test_keyword_ids[i])\n",
    "test_keyword_node_ids = torch.LongTensor(test_overlap_ids)\n",
    "\n",
    "# Post-GraphSAGE embeddings\n",
    "eval_test_img_feat_sage = test_eval_subgraph.ndata['feat_pred'][eval_test_img_node_ids]\n",
    "eval_keyword_feat_sage = test_eval_subgraph.ndata['feat_pred'][eval_test_keyword_node_ids]\n",
    "\n",
    "# Original CLIP embeddings before GraphSAGE forward method\n",
    "eval_test_img_feat_clip = test_eval_subgraph.ndata['feat'][eval_test_img_node_ids]\n",
    "eval_keyword_feat_clip = test_eval_subgraph.ndata['feat'][eval_test_keyword_node_ids]"
   ]
  },
  {
   "cell_type": "code",
   "execution_count": 37,
   "metadata": {},
   "outputs": [],
   "source": [
    "verbose = False\n",
    "\n",
    "# Step 8: Compute cosine similarities between validation images and keywords to get \"link scores\" between 0 and 1\n",
    "\n",
    "test_sage_link_scores = cosine_sim(eval_keyword_feat_sage, eval_test_img_feat_sage).cpu().detach().numpy()\n",
    "test_clip_link_scores = cosine_sim(eval_keyword_feat_clip, eval_test_img_feat_clip).cpu().detach().numpy()\n",
    "\n",
    "if verbose:\n",
    "    print('means:')\n",
    "    print('sage:', np.mean(val_sage_link_scores))\n",
    "    print('clip:', np.mean(val_clip_link_scores))\n",
    "    print('mins:')\n",
    "    print('sage:', np.min(val_sage_link_scores))\n",
    "    print('clip:', np.min(val_clip_link_scores))\n",
    "    print('maxs:')\n",
    "    print('sage:', np.max(val_sage_link_scores))\n",
    "    print('clip:', np.max(val_clip_link_scores))\n",
    "    print('stds:')\n",
    "    print('sage:', np.std(val_sage_link_scores))\n",
    "    print('clip:', np.std(val_clip_link_scores))"
   ]
  },
  {
   "cell_type": "code",
   "execution_count": 38,
   "metadata": {},
   "outputs": [
    {
     "name": "stderr",
     "output_type": "stream",
     "text": [
      "/ext3/conda/zillow_MMKG/lib/python3.8/site-packages/numpy/core/fromnumeric.py:3474: RuntimeWarning: Mean of empty slice.\n",
      "  return _methods._mean(a, axis=axis, dtype=dtype,\n",
      "/ext3/conda/zillow_MMKG/lib/python3.8/site-packages/numpy/core/_methods.py:189: RuntimeWarning: invalid value encountered in double_scalars\n",
      "  ret = ret.dtype.type(ret / rcount)\n",
      "/ext3/conda/zillow_MMKG/lib/python3.8/site-packages/numpy/core/fromnumeric.py:3474: RuntimeWarning: Mean of empty slice.\n",
      "  return _methods._mean(a, axis=axis, dtype=dtype,\n",
      "/ext3/conda/zillow_MMKG/lib/python3.8/site-packages/numpy/core/_methods.py:189: RuntimeWarning: invalid value encountered in double_scalars\n",
      "  ret = ret.dtype.type(ret / rcount)\n",
      "/ext3/conda/zillow_MMKG/lib/python3.8/site-packages/numpy/core/fromnumeric.py:3474: RuntimeWarning: Mean of empty slice.\n",
      "  return _methods._mean(a, axis=axis, dtype=dtype,\n",
      "/ext3/conda/zillow_MMKG/lib/python3.8/site-packages/numpy/core/_methods.py:189: RuntimeWarning: invalid value encountered in double_scalars\n",
      "  ret = ret.dtype.type(ret / rcount)\n",
      "/ext3/conda/zillow_MMKG/lib/python3.8/site-packages/numpy/core/fromnumeric.py:3474: RuntimeWarning: Mean of empty slice.\n",
      "  return _methods._mean(a, axis=axis, dtype=dtype,\n",
      "/ext3/conda/zillow_MMKG/lib/python3.8/site-packages/numpy/core/_methods.py:189: RuntimeWarning: invalid value encountered in double_scalars\n",
      "  ret = ret.dtype.type(ret / rcount)\n",
      "/ext3/conda/zillow_MMKG/lib/python3.8/site-packages/numpy/core/fromnumeric.py:3474: RuntimeWarning: Mean of empty slice.\n",
      "  return _methods._mean(a, axis=axis, dtype=dtype,\n",
      "/ext3/conda/zillow_MMKG/lib/python3.8/site-packages/numpy/core/_methods.py:189: RuntimeWarning: invalid value encountered in double_scalars\n",
      "  ret = ret.dtype.type(ret / rcount)\n",
      "/ext3/conda/zillow_MMKG/lib/python3.8/site-packages/numpy/core/fromnumeric.py:3474: RuntimeWarning: Mean of empty slice.\n",
      "  return _methods._mean(a, axis=axis, dtype=dtype,\n",
      "/ext3/conda/zillow_MMKG/lib/python3.8/site-packages/numpy/core/_methods.py:189: RuntimeWarning: invalid value encountered in double_scalars\n",
      "  ret = ret.dtype.type(ret / rcount)\n",
      "/ext3/conda/zillow_MMKG/lib/python3.8/site-packages/numpy/core/fromnumeric.py:3474: RuntimeWarning: Mean of empty slice.\n",
      "  return _methods._mean(a, axis=axis, dtype=dtype,\n",
      "/ext3/conda/zillow_MMKG/lib/python3.8/site-packages/numpy/core/_methods.py:189: RuntimeWarning: invalid value encountered in double_scalars\n",
      "  ret = ret.dtype.type(ret / rcount)\n",
      "/ext3/conda/zillow_MMKG/lib/python3.8/site-packages/numpy/core/fromnumeric.py:3474: RuntimeWarning: Mean of empty slice.\n",
      "  return _methods._mean(a, axis=axis, dtype=dtype,\n",
      "/ext3/conda/zillow_MMKG/lib/python3.8/site-packages/numpy/core/_methods.py:189: RuntimeWarning: invalid value encountered in double_scalars\n",
      "  ret = ret.dtype.type(ret / rcount)\n",
      "/ext3/conda/zillow_MMKG/lib/python3.8/site-packages/numpy/core/fromnumeric.py:3474: RuntimeWarning: Mean of empty slice.\n",
      "  return _methods._mean(a, axis=axis, dtype=dtype,\n",
      "/ext3/conda/zillow_MMKG/lib/python3.8/site-packages/numpy/core/_methods.py:189: RuntimeWarning: invalid value encountered in double_scalars\n",
      "  ret = ret.dtype.type(ret / rcount)\n",
      "/ext3/conda/zillow_MMKG/lib/python3.8/site-packages/numpy/core/fromnumeric.py:3474: RuntimeWarning: Mean of empty slice.\n",
      "  return _methods._mean(a, axis=axis, dtype=dtype,\n",
      "/ext3/conda/zillow_MMKG/lib/python3.8/site-packages/numpy/core/_methods.py:189: RuntimeWarning: invalid value encountered in double_scalars\n",
      "  ret = ret.dtype.type(ret / rcount)\n",
      "/ext3/conda/zillow_MMKG/lib/python3.8/site-packages/numpy/core/fromnumeric.py:3474: RuntimeWarning: Mean of empty slice.\n",
      "  return _methods._mean(a, axis=axis, dtype=dtype,\n",
      "/ext3/conda/zillow_MMKG/lib/python3.8/site-packages/numpy/core/_methods.py:189: RuntimeWarning: invalid value encountered in double_scalars\n",
      "  ret = ret.dtype.type(ret / rcount)\n",
      "/ext3/conda/zillow_MMKG/lib/python3.8/site-packages/numpy/core/fromnumeric.py:3474: RuntimeWarning: Mean of empty slice.\n",
      "  return _methods._mean(a, axis=axis, dtype=dtype,\n",
      "/ext3/conda/zillow_MMKG/lib/python3.8/site-packages/numpy/core/_methods.py:189: RuntimeWarning: invalid value encountered in double_scalars\n",
      "  ret = ret.dtype.type(ret / rcount)\n",
      "/ext3/conda/zillow_MMKG/lib/python3.8/site-packages/numpy/core/fromnumeric.py:3474: RuntimeWarning: Mean of empty slice.\n",
      "  return _methods._mean(a, axis=axis, dtype=dtype,\n",
      "/ext3/conda/zillow_MMKG/lib/python3.8/site-packages/numpy/core/_methods.py:189: RuntimeWarning: invalid value encountered in double_scalars\n",
      "  ret = ret.dtype.type(ret / rcount)\n",
      "/ext3/conda/zillow_MMKG/lib/python3.8/site-packages/numpy/core/fromnumeric.py:3474: RuntimeWarning: Mean of empty slice.\n",
      "  return _methods._mean(a, axis=axis, dtype=dtype,\n",
      "/ext3/conda/zillow_MMKG/lib/python3.8/site-packages/numpy/core/_methods.py:189: RuntimeWarning: invalid value encountered in double_scalars\n",
      "  ret = ret.dtype.type(ret / rcount)\n",
      "/ext3/conda/zillow_MMKG/lib/python3.8/site-packages/numpy/core/fromnumeric.py:3474: RuntimeWarning: Mean of empty slice.\n",
      "  return _methods._mean(a, axis=axis, dtype=dtype,\n",
      "/ext3/conda/zillow_MMKG/lib/python3.8/site-packages/numpy/core/_methods.py:189: RuntimeWarning: invalid value encountered in double_scalars\n",
      "  ret = ret.dtype.type(ret / rcount)\n",
      "/ext3/conda/zillow_MMKG/lib/python3.8/site-packages/numpy/core/fromnumeric.py:3474: RuntimeWarning: Mean of empty slice.\n",
      "  return _methods._mean(a, axis=axis, dtype=dtype,\n",
      "/ext3/conda/zillow_MMKG/lib/python3.8/site-packages/numpy/core/_methods.py:189: RuntimeWarning: invalid value encountered in double_scalars\n",
      "  ret = ret.dtype.type(ret / rcount)\n",
      "/ext3/conda/zillow_MMKG/lib/python3.8/site-packages/numpy/core/fromnumeric.py:3474: RuntimeWarning: Mean of empty slice.\n",
      "  return _methods._mean(a, axis=axis, dtype=dtype,\n",
      "/ext3/conda/zillow_MMKG/lib/python3.8/site-packages/numpy/core/_methods.py:189: RuntimeWarning: invalid value encountered in double_scalars\n",
      "  ret = ret.dtype.type(ret / rcount)\n",
      "/ext3/conda/zillow_MMKG/lib/python3.8/site-packages/numpy/core/fromnumeric.py:3474: RuntimeWarning: Mean of empty slice.\n",
      "  return _methods._mean(a, axis=axis, dtype=dtype,\n",
      "/ext3/conda/zillow_MMKG/lib/python3.8/site-packages/numpy/core/_methods.py:189: RuntimeWarning: invalid value encountered in double_scalars\n",
      "  ret = ret.dtype.type(ret / rcount)\n",
      "/ext3/conda/zillow_MMKG/lib/python3.8/site-packages/numpy/core/fromnumeric.py:3474: RuntimeWarning: Mean of empty slice.\n",
      "  return _methods._mean(a, axis=axis, dtype=dtype,\n",
      "/ext3/conda/zillow_MMKG/lib/python3.8/site-packages/numpy/core/_methods.py:189: RuntimeWarning: invalid value encountered in double_scalars\n",
      "  ret = ret.dtype.type(ret / rcount)\n",
      "/ext3/conda/zillow_MMKG/lib/python3.8/site-packages/numpy/core/fromnumeric.py:3474: RuntimeWarning: Mean of empty slice.\n",
      "  return _methods._mean(a, axis=axis, dtype=dtype,\n",
      "/ext3/conda/zillow_MMKG/lib/python3.8/site-packages/numpy/core/_methods.py:189: RuntimeWarning: invalid value encountered in double_scalars\n",
      "  ret = ret.dtype.type(ret / rcount)\n",
      "/ext3/conda/zillow_MMKG/lib/python3.8/site-packages/numpy/core/fromnumeric.py:3474: RuntimeWarning: Mean of empty slice.\n",
      "  return _methods._mean(a, axis=axis, dtype=dtype,\n",
      "/ext3/conda/zillow_MMKG/lib/python3.8/site-packages/numpy/core/_methods.py:189: RuntimeWarning: invalid value encountered in double_scalars\n",
      "  ret = ret.dtype.type(ret / rcount)\n",
      "/ext3/conda/zillow_MMKG/lib/python3.8/site-packages/numpy/core/fromnumeric.py:3474: RuntimeWarning: Mean of empty slice.\n",
      "  return _methods._mean(a, axis=axis, dtype=dtype,\n",
      "/ext3/conda/zillow_MMKG/lib/python3.8/site-packages/numpy/core/_methods.py:189: RuntimeWarning: invalid value encountered in double_scalars\n",
      "  ret = ret.dtype.type(ret / rcount)\n",
      "/ext3/conda/zillow_MMKG/lib/python3.8/site-packages/numpy/core/fromnumeric.py:3474: RuntimeWarning: Mean of empty slice.\n",
      "  return _methods._mean(a, axis=axis, dtype=dtype,\n",
      "/ext3/conda/zillow_MMKG/lib/python3.8/site-packages/numpy/core/_methods.py:189: RuntimeWarning: invalid value encountered in double_scalars\n",
      "  ret = ret.dtype.type(ret / rcount)\n",
      "/ext3/conda/zillow_MMKG/lib/python3.8/site-packages/numpy/core/fromnumeric.py:3474: RuntimeWarning: Mean of empty slice.\n",
      "  return _methods._mean(a, axis=axis, dtype=dtype,\n",
      "/ext3/conda/zillow_MMKG/lib/python3.8/site-packages/numpy/core/_methods.py:189: RuntimeWarning: invalid value encountered in double_scalars\n",
      "  ret = ret.dtype.type(ret / rcount)\n",
      "/ext3/conda/zillow_MMKG/lib/python3.8/site-packages/numpy/core/fromnumeric.py:3474: RuntimeWarning: Mean of empty slice.\n",
      "  return _methods._mean(a, axis=axis, dtype=dtype,\n",
      "/ext3/conda/zillow_MMKG/lib/python3.8/site-packages/numpy/core/_methods.py:189: RuntimeWarning: invalid value encountered in double_scalars\n",
      "  ret = ret.dtype.type(ret / rcount)\n",
      "/ext3/conda/zillow_MMKG/lib/python3.8/site-packages/numpy/core/fromnumeric.py:3474: RuntimeWarning: Mean of empty slice.\n",
      "  return _methods._mean(a, axis=axis, dtype=dtype,\n",
      "/ext3/conda/zillow_MMKG/lib/python3.8/site-packages/numpy/core/_methods.py:189: RuntimeWarning: invalid value encountered in double_scalars\n",
      "  ret = ret.dtype.type(ret / rcount)\n",
      "/ext3/conda/zillow_MMKG/lib/python3.8/site-packages/numpy/core/fromnumeric.py:3474: RuntimeWarning: Mean of empty slice.\n",
      "  return _methods._mean(a, axis=axis, dtype=dtype,\n",
      "/ext3/conda/zillow_MMKG/lib/python3.8/site-packages/numpy/core/_methods.py:189: RuntimeWarning: invalid value encountered in double_scalars\n",
      "  ret = ret.dtype.type(ret / rcount)\n",
      "/ext3/conda/zillow_MMKG/lib/python3.8/site-packages/numpy/core/fromnumeric.py:3474: RuntimeWarning: Mean of empty slice.\n",
      "  return _methods._mean(a, axis=axis, dtype=dtype,\n",
      "/ext3/conda/zillow_MMKG/lib/python3.8/site-packages/numpy/core/_methods.py:189: RuntimeWarning: invalid value encountered in double_scalars\n",
      "  ret = ret.dtype.type(ret / rcount)\n",
      "/ext3/conda/zillow_MMKG/lib/python3.8/site-packages/numpy/core/fromnumeric.py:3474: RuntimeWarning: Mean of empty slice.\n",
      "  return _methods._mean(a, axis=axis, dtype=dtype,\n",
      "/ext3/conda/zillow_MMKG/lib/python3.8/site-packages/numpy/core/_methods.py:189: RuntimeWarning: invalid value encountered in double_scalars\n",
      "  ret = ret.dtype.type(ret / rcount)\n",
      "/ext3/conda/zillow_MMKG/lib/python3.8/site-packages/numpy/core/fromnumeric.py:3474: RuntimeWarning: Mean of empty slice.\n",
      "  return _methods._mean(a, axis=axis, dtype=dtype,\n",
      "/ext3/conda/zillow_MMKG/lib/python3.8/site-packages/numpy/core/_methods.py:189: RuntimeWarning: invalid value encountered in double_scalars\n",
      "  ret = ret.dtype.type(ret / rcount)\n",
      "/ext3/conda/zillow_MMKG/lib/python3.8/site-packages/numpy/core/fromnumeric.py:3474: RuntimeWarning: Mean of empty slice.\n",
      "  return _methods._mean(a, axis=axis, dtype=dtype,\n",
      "/ext3/conda/zillow_MMKG/lib/python3.8/site-packages/numpy/core/_methods.py:189: RuntimeWarning: invalid value encountered in double_scalars\n",
      "  ret = ret.dtype.type(ret / rcount)\n",
      "/ext3/conda/zillow_MMKG/lib/python3.8/site-packages/numpy/core/fromnumeric.py:3474: RuntimeWarning: Mean of empty slice.\n",
      "  return _methods._mean(a, axis=axis, dtype=dtype,\n",
      "/ext3/conda/zillow_MMKG/lib/python3.8/site-packages/numpy/core/_methods.py:189: RuntimeWarning: invalid value encountered in double_scalars\n",
      "  ret = ret.dtype.type(ret / rcount)\n",
      "/ext3/conda/zillow_MMKG/lib/python3.8/site-packages/numpy/core/fromnumeric.py:3474: RuntimeWarning: Mean of empty slice.\n",
      "  return _methods._mean(a, axis=axis, dtype=dtype,\n",
      "/ext3/conda/zillow_MMKG/lib/python3.8/site-packages/numpy/core/_methods.py:189: RuntimeWarning: invalid value encountered in double_scalars\n",
      "  ret = ret.dtype.type(ret / rcount)\n",
      "/ext3/conda/zillow_MMKG/lib/python3.8/site-packages/numpy/core/fromnumeric.py:3474: RuntimeWarning: Mean of empty slice.\n",
      "  return _methods._mean(a, axis=axis, dtype=dtype,\n",
      "/ext3/conda/zillow_MMKG/lib/python3.8/site-packages/numpy/core/_methods.py:189: RuntimeWarning: invalid value encountered in double_scalars\n",
      "  ret = ret.dtype.type(ret / rcount)\n",
      "/ext3/conda/zillow_MMKG/lib/python3.8/site-packages/numpy/core/fromnumeric.py:3474: RuntimeWarning: Mean of empty slice.\n",
      "  return _methods._mean(a, axis=axis, dtype=dtype,\n",
      "/ext3/conda/zillow_MMKG/lib/python3.8/site-packages/numpy/core/_methods.py:189: RuntimeWarning: invalid value encountered in double_scalars\n",
      "  ret = ret.dtype.type(ret / rcount)\n",
      "/ext3/conda/zillow_MMKG/lib/python3.8/site-packages/numpy/core/fromnumeric.py:3474: RuntimeWarning: Mean of empty slice.\n",
      "  return _methods._mean(a, axis=axis, dtype=dtype,\n",
      "/ext3/conda/zillow_MMKG/lib/python3.8/site-packages/numpy/core/_methods.py:189: RuntimeWarning: invalid value encountered in double_scalars\n",
      "  ret = ret.dtype.type(ret / rcount)\n",
      "/ext3/conda/zillow_MMKG/lib/python3.8/site-packages/numpy/core/fromnumeric.py:3474: RuntimeWarning: Mean of empty slice.\n",
      "  return _methods._mean(a, axis=axis, dtype=dtype,\n",
      "/ext3/conda/zillow_MMKG/lib/python3.8/site-packages/numpy/core/_methods.py:189: RuntimeWarning: invalid value encountered in double_scalars\n",
      "  ret = ret.dtype.type(ret / rcount)\n",
      "/ext3/conda/zillow_MMKG/lib/python3.8/site-packages/numpy/core/fromnumeric.py:3474: RuntimeWarning: Mean of empty slice.\n",
      "  return _methods._mean(a, axis=axis, dtype=dtype,\n",
      "/ext3/conda/zillow_MMKG/lib/python3.8/site-packages/numpy/core/_methods.py:189: RuntimeWarning: invalid value encountered in double_scalars\n",
      "  ret = ret.dtype.type(ret / rcount)\n",
      "/ext3/conda/zillow_MMKG/lib/python3.8/site-packages/numpy/core/fromnumeric.py:3474: RuntimeWarning: Mean of empty slice.\n",
      "  return _methods._mean(a, axis=axis, dtype=dtype,\n",
      "/ext3/conda/zillow_MMKG/lib/python3.8/site-packages/numpy/core/_methods.py:189: RuntimeWarning: invalid value encountered in double_scalars\n",
      "  ret = ret.dtype.type(ret / rcount)\n",
      "/ext3/conda/zillow_MMKG/lib/python3.8/site-packages/numpy/core/fromnumeric.py:3474: RuntimeWarning: Mean of empty slice.\n",
      "  return _methods._mean(a, axis=axis, dtype=dtype,\n",
      "/ext3/conda/zillow_MMKG/lib/python3.8/site-packages/numpy/core/_methods.py:189: RuntimeWarning: invalid value encountered in double_scalars\n",
      "  ret = ret.dtype.type(ret / rcount)\n",
      "/ext3/conda/zillow_MMKG/lib/python3.8/site-packages/numpy/core/fromnumeric.py:3474: RuntimeWarning: Mean of empty slice.\n",
      "  return _methods._mean(a, axis=axis, dtype=dtype,\n",
      "/ext3/conda/zillow_MMKG/lib/python3.8/site-packages/numpy/core/_methods.py:189: RuntimeWarning: invalid value encountered in double_scalars\n",
      "  ret = ret.dtype.type(ret / rcount)\n",
      "/ext3/conda/zillow_MMKG/lib/python3.8/site-packages/numpy/core/fromnumeric.py:3474: RuntimeWarning: Mean of empty slice.\n",
      "  return _methods._mean(a, axis=axis, dtype=dtype,\n",
      "/ext3/conda/zillow_MMKG/lib/python3.8/site-packages/numpy/core/_methods.py:189: RuntimeWarning: invalid value encountered in double_scalars\n",
      "  ret = ret.dtype.type(ret / rcount)\n",
      "/ext3/conda/zillow_MMKG/lib/python3.8/site-packages/numpy/core/fromnumeric.py:3474: RuntimeWarning: Mean of empty slice.\n",
      "  return _methods._mean(a, axis=axis, dtype=dtype,\n",
      "/ext3/conda/zillow_MMKG/lib/python3.8/site-packages/numpy/core/_methods.py:189: RuntimeWarning: invalid value encountered in double_scalars\n",
      "  ret = ret.dtype.type(ret / rcount)\n",
      "/ext3/conda/zillow_MMKG/lib/python3.8/site-packages/numpy/core/fromnumeric.py:3474: RuntimeWarning: Mean of empty slice.\n",
      "  return _methods._mean(a, axis=axis, dtype=dtype,\n",
      "/ext3/conda/zillow_MMKG/lib/python3.8/site-packages/numpy/core/_methods.py:189: RuntimeWarning: invalid value encountered in double_scalars\n",
      "  ret = ret.dtype.type(ret / rcount)\n",
      "/ext3/conda/zillow_MMKG/lib/python3.8/site-packages/numpy/core/fromnumeric.py:3474: RuntimeWarning: Mean of empty slice.\n",
      "  return _methods._mean(a, axis=axis, dtype=dtype,\n",
      "/ext3/conda/zillow_MMKG/lib/python3.8/site-packages/numpy/core/_methods.py:189: RuntimeWarning: invalid value encountered in double_scalars\n",
      "  ret = ret.dtype.type(ret / rcount)\n",
      "/ext3/conda/zillow_MMKG/lib/python3.8/site-packages/numpy/core/fromnumeric.py:3474: RuntimeWarning: Mean of empty slice.\n",
      "  return _methods._mean(a, axis=axis, dtype=dtype,\n",
      "/ext3/conda/zillow_MMKG/lib/python3.8/site-packages/numpy/core/_methods.py:189: RuntimeWarning: invalid value encountered in double_scalars\n",
      "  ret = ret.dtype.type(ret / rcount)\n",
      "/ext3/conda/zillow_MMKG/lib/python3.8/site-packages/numpy/core/fromnumeric.py:3474: RuntimeWarning: Mean of empty slice.\n",
      "  return _methods._mean(a, axis=axis, dtype=dtype,\n",
      "/ext3/conda/zillow_MMKG/lib/python3.8/site-packages/numpy/core/_methods.py:189: RuntimeWarning: invalid value encountered in double_scalars\n",
      "  ret = ret.dtype.type(ret / rcount)\n",
      "/ext3/conda/zillow_MMKG/lib/python3.8/site-packages/numpy/core/fromnumeric.py:3474: RuntimeWarning: Mean of empty slice.\n",
      "  return _methods._mean(a, axis=axis, dtype=dtype,\n",
      "/ext3/conda/zillow_MMKG/lib/python3.8/site-packages/numpy/core/_methods.py:189: RuntimeWarning: invalid value encountered in double_scalars\n",
      "  ret = ret.dtype.type(ret / rcount)\n",
      "/ext3/conda/zillow_MMKG/lib/python3.8/site-packages/numpy/core/fromnumeric.py:3474: RuntimeWarning: Mean of empty slice.\n",
      "  return _methods._mean(a, axis=axis, dtype=dtype,\n",
      "/ext3/conda/zillow_MMKG/lib/python3.8/site-packages/numpy/core/_methods.py:189: RuntimeWarning: invalid value encountered in double_scalars\n",
      "  ret = ret.dtype.type(ret / rcount)\n",
      "/ext3/conda/zillow_MMKG/lib/python3.8/site-packages/numpy/core/fromnumeric.py:3474: RuntimeWarning: Mean of empty slice.\n",
      "  return _methods._mean(a, axis=axis, dtype=dtype,\n",
      "/ext3/conda/zillow_MMKG/lib/python3.8/site-packages/numpy/core/_methods.py:189: RuntimeWarning: invalid value encountered in double_scalars\n",
      "  ret = ret.dtype.type(ret / rcount)\n",
      "/ext3/conda/zillow_MMKG/lib/python3.8/site-packages/numpy/core/fromnumeric.py:3474: RuntimeWarning: Mean of empty slice.\n",
      "  return _methods._mean(a, axis=axis, dtype=dtype,\n",
      "/ext3/conda/zillow_MMKG/lib/python3.8/site-packages/numpy/core/_methods.py:189: RuntimeWarning: invalid value encountered in double_scalars\n",
      "  ret = ret.dtype.type(ret / rcount)\n",
      "/ext3/conda/zillow_MMKG/lib/python3.8/site-packages/numpy/core/fromnumeric.py:3474: RuntimeWarning: Mean of empty slice.\n",
      "  return _methods._mean(a, axis=axis, dtype=dtype,\n",
      "/ext3/conda/zillow_MMKG/lib/python3.8/site-packages/numpy/core/_methods.py:189: RuntimeWarning: invalid value encountered in double_scalars\n",
      "  ret = ret.dtype.type(ret / rcount)\n",
      "/ext3/conda/zillow_MMKG/lib/python3.8/site-packages/numpy/core/fromnumeric.py:3474: RuntimeWarning: Mean of empty slice.\n",
      "  return _methods._mean(a, axis=axis, dtype=dtype,\n",
      "/ext3/conda/zillow_MMKG/lib/python3.8/site-packages/numpy/core/_methods.py:189: RuntimeWarning: invalid value encountered in double_scalars\n",
      "  ret = ret.dtype.type(ret / rcount)\n",
      "/ext3/conda/zillow_MMKG/lib/python3.8/site-packages/numpy/core/fromnumeric.py:3474: RuntimeWarning: Mean of empty slice.\n",
      "  return _methods._mean(a, axis=axis, dtype=dtype,\n",
      "/ext3/conda/zillow_MMKG/lib/python3.8/site-packages/numpy/core/_methods.py:189: RuntimeWarning: invalid value encountered in double_scalars\n",
      "  ret = ret.dtype.type(ret / rcount)\n",
      "/ext3/conda/zillow_MMKG/lib/python3.8/site-packages/numpy/core/fromnumeric.py:3474: RuntimeWarning: Mean of empty slice.\n",
      "  return _methods._mean(a, axis=axis, dtype=dtype,\n",
      "/ext3/conda/zillow_MMKG/lib/python3.8/site-packages/numpy/core/_methods.py:189: RuntimeWarning: invalid value encountered in double_scalars\n",
      "  ret = ret.dtype.type(ret / rcount)\n",
      "/ext3/conda/zillow_MMKG/lib/python3.8/site-packages/numpy/core/fromnumeric.py:3474: RuntimeWarning: Mean of empty slice.\n",
      "  return _methods._mean(a, axis=axis, dtype=dtype,\n",
      "/ext3/conda/zillow_MMKG/lib/python3.8/site-packages/numpy/core/_methods.py:189: RuntimeWarning: invalid value encountered in double_scalars\n",
      "  ret = ret.dtype.type(ret / rcount)\n",
      "/ext3/conda/zillow_MMKG/lib/python3.8/site-packages/numpy/core/fromnumeric.py:3474: RuntimeWarning: Mean of empty slice.\n",
      "  return _methods._mean(a, axis=axis, dtype=dtype,\n",
      "/ext3/conda/zillow_MMKG/lib/python3.8/site-packages/numpy/core/_methods.py:189: RuntimeWarning: invalid value encountered in double_scalars\n",
      "  ret = ret.dtype.type(ret / rcount)\n",
      "/ext3/conda/zillow_MMKG/lib/python3.8/site-packages/numpy/core/fromnumeric.py:3474: RuntimeWarning: Mean of empty slice.\n",
      "  return _methods._mean(a, axis=axis, dtype=dtype,\n",
      "/ext3/conda/zillow_MMKG/lib/python3.8/site-packages/numpy/core/_methods.py:189: RuntimeWarning: invalid value encountered in double_scalars\n",
      "  ret = ret.dtype.type(ret / rcount)\n",
      "/ext3/conda/zillow_MMKG/lib/python3.8/site-packages/numpy/core/fromnumeric.py:3474: RuntimeWarning: Mean of empty slice.\n",
      "  return _methods._mean(a, axis=axis, dtype=dtype,\n",
      "/ext3/conda/zillow_MMKG/lib/python3.8/site-packages/numpy/core/_methods.py:189: RuntimeWarning: invalid value encountered in double_scalars\n",
      "  ret = ret.dtype.type(ret / rcount)\n",
      "/ext3/conda/zillow_MMKG/lib/python3.8/site-packages/numpy/core/fromnumeric.py:3474: RuntimeWarning: Mean of empty slice.\n",
      "  return _methods._mean(a, axis=axis, dtype=dtype,\n",
      "/ext3/conda/zillow_MMKG/lib/python3.8/site-packages/numpy/core/_methods.py:189: RuntimeWarning: invalid value encountered in double_scalars\n",
      "  ret = ret.dtype.type(ret / rcount)\n",
      "/ext3/conda/zillow_MMKG/lib/python3.8/site-packages/numpy/core/fromnumeric.py:3474: RuntimeWarning: Mean of empty slice.\n",
      "  return _methods._mean(a, axis=axis, dtype=dtype,\n",
      "/ext3/conda/zillow_MMKG/lib/python3.8/site-packages/numpy/core/_methods.py:189: RuntimeWarning: invalid value encountered in double_scalars\n",
      "  ret = ret.dtype.type(ret / rcount)\n",
      "/ext3/conda/zillow_MMKG/lib/python3.8/site-packages/numpy/core/fromnumeric.py:3474: RuntimeWarning: Mean of empty slice.\n",
      "  return _methods._mean(a, axis=axis, dtype=dtype,\n",
      "/ext3/conda/zillow_MMKG/lib/python3.8/site-packages/numpy/core/_methods.py:189: RuntimeWarning: invalid value encountered in double_scalars\n",
      "  ret = ret.dtype.type(ret / rcount)\n",
      "/ext3/conda/zillow_MMKG/lib/python3.8/site-packages/numpy/core/fromnumeric.py:3474: RuntimeWarning: Mean of empty slice.\n",
      "  return _methods._mean(a, axis=axis, dtype=dtype,\n",
      "/ext3/conda/zillow_MMKG/lib/python3.8/site-packages/numpy/core/_methods.py:189: RuntimeWarning: invalid value encountered in double_scalars\n",
      "  ret = ret.dtype.type(ret / rcount)\n",
      "/ext3/conda/zillow_MMKG/lib/python3.8/site-packages/numpy/core/fromnumeric.py:3474: RuntimeWarning: Mean of empty slice.\n",
      "  return _methods._mean(a, axis=axis, dtype=dtype,\n",
      "/ext3/conda/zillow_MMKG/lib/python3.8/site-packages/numpy/core/_methods.py:189: RuntimeWarning: invalid value encountered in double_scalars\n",
      "  ret = ret.dtype.type(ret / rcount)\n",
      "/ext3/conda/zillow_MMKG/lib/python3.8/site-packages/numpy/core/fromnumeric.py:3474: RuntimeWarning: Mean of empty slice.\n",
      "  return _methods._mean(a, axis=axis, dtype=dtype,\n",
      "/ext3/conda/zillow_MMKG/lib/python3.8/site-packages/numpy/core/_methods.py:189: RuntimeWarning: invalid value encountered in double_scalars\n",
      "  ret = ret.dtype.type(ret / rcount)\n",
      "/ext3/conda/zillow_MMKG/lib/python3.8/site-packages/numpy/core/fromnumeric.py:3474: RuntimeWarning: Mean of empty slice.\n",
      "  return _methods._mean(a, axis=axis, dtype=dtype,\n",
      "/ext3/conda/zillow_MMKG/lib/python3.8/site-packages/numpy/core/_methods.py:189: RuntimeWarning: invalid value encountered in double_scalars\n",
      "  ret = ret.dtype.type(ret / rcount)\n",
      "/ext3/conda/zillow_MMKG/lib/python3.8/site-packages/numpy/core/fromnumeric.py:3474: RuntimeWarning: Mean of empty slice.\n",
      "  return _methods._mean(a, axis=axis, dtype=dtype,\n",
      "/ext3/conda/zillow_MMKG/lib/python3.8/site-packages/numpy/core/_methods.py:189: RuntimeWarning: invalid value encountered in double_scalars\n",
      "  ret = ret.dtype.type(ret / rcount)\n",
      "/ext3/conda/zillow_MMKG/lib/python3.8/site-packages/numpy/core/fromnumeric.py:3474: RuntimeWarning: Mean of empty slice.\n",
      "  return _methods._mean(a, axis=axis, dtype=dtype,\n",
      "/ext3/conda/zillow_MMKG/lib/python3.8/site-packages/numpy/core/_methods.py:189: RuntimeWarning: invalid value encountered in double_scalars\n",
      "  ret = ret.dtype.type(ret / rcount)\n",
      "/ext3/conda/zillow_MMKG/lib/python3.8/site-packages/numpy/core/fromnumeric.py:3474: RuntimeWarning: Mean of empty slice.\n",
      "  return _methods._mean(a, axis=axis, dtype=dtype,\n",
      "/ext3/conda/zillow_MMKG/lib/python3.8/site-packages/numpy/core/_methods.py:189: RuntimeWarning: invalid value encountered in double_scalars\n",
      "  ret = ret.dtype.type(ret / rcount)\n",
      "/ext3/conda/zillow_MMKG/lib/python3.8/site-packages/numpy/core/fromnumeric.py:3474: RuntimeWarning: Mean of empty slice.\n",
      "  return _methods._mean(a, axis=axis, dtype=dtype,\n",
      "/ext3/conda/zillow_MMKG/lib/python3.8/site-packages/numpy/core/_methods.py:189: RuntimeWarning: invalid value encountered in double_scalars\n",
      "  ret = ret.dtype.type(ret / rcount)\n",
      "/ext3/conda/zillow_MMKG/lib/python3.8/site-packages/numpy/core/fromnumeric.py:3474: RuntimeWarning: Mean of empty slice.\n",
      "  return _methods._mean(a, axis=axis, dtype=dtype,\n",
      "/ext3/conda/zillow_MMKG/lib/python3.8/site-packages/numpy/core/_methods.py:189: RuntimeWarning: invalid value encountered in double_scalars\n",
      "  ret = ret.dtype.type(ret / rcount)\n",
      "/ext3/conda/zillow_MMKG/lib/python3.8/site-packages/numpy/core/fromnumeric.py:3474: RuntimeWarning: Mean of empty slice.\n",
      "  return _methods._mean(a, axis=axis, dtype=dtype,\n",
      "/ext3/conda/zillow_MMKG/lib/python3.8/site-packages/numpy/core/_methods.py:189: RuntimeWarning: invalid value encountered in double_scalars\n",
      "  ret = ret.dtype.type(ret / rcount)\n",
      "/ext3/conda/zillow_MMKG/lib/python3.8/site-packages/numpy/core/fromnumeric.py:3474: RuntimeWarning: Mean of empty slice.\n",
      "  return _methods._mean(a, axis=axis, dtype=dtype,\n",
      "/ext3/conda/zillow_MMKG/lib/python3.8/site-packages/numpy/core/_methods.py:189: RuntimeWarning: invalid value encountered in double_scalars\n",
      "  ret = ret.dtype.type(ret / rcount)\n",
      "/ext3/conda/zillow_MMKG/lib/python3.8/site-packages/numpy/core/fromnumeric.py:3474: RuntimeWarning: Mean of empty slice.\n",
      "  return _methods._mean(a, axis=axis, dtype=dtype,\n",
      "/ext3/conda/zillow_MMKG/lib/python3.8/site-packages/numpy/core/_methods.py:189: RuntimeWarning: invalid value encountered in double_scalars\n",
      "  ret = ret.dtype.type(ret / rcount)\n",
      "/ext3/conda/zillow_MMKG/lib/python3.8/site-packages/numpy/core/fromnumeric.py:3474: RuntimeWarning: Mean of empty slice.\n",
      "  return _methods._mean(a, axis=axis, dtype=dtype,\n",
      "/ext3/conda/zillow_MMKG/lib/python3.8/site-packages/numpy/core/_methods.py:189: RuntimeWarning: invalid value encountered in double_scalars\n",
      "  ret = ret.dtype.type(ret / rcount)\n",
      "/ext3/conda/zillow_MMKG/lib/python3.8/site-packages/numpy/core/fromnumeric.py:3474: RuntimeWarning: Mean of empty slice.\n",
      "  return _methods._mean(a, axis=axis, dtype=dtype,\n",
      "/ext3/conda/zillow_MMKG/lib/python3.8/site-packages/numpy/core/_methods.py:189: RuntimeWarning: invalid value encountered in double_scalars\n",
      "  ret = ret.dtype.type(ret / rcount)\n",
      "/ext3/conda/zillow_MMKG/lib/python3.8/site-packages/numpy/core/fromnumeric.py:3474: RuntimeWarning: Mean of empty slice.\n",
      "  return _methods._mean(a, axis=axis, dtype=dtype,\n",
      "/ext3/conda/zillow_MMKG/lib/python3.8/site-packages/numpy/core/_methods.py:189: RuntimeWarning: invalid value encountered in double_scalars\n",
      "  ret = ret.dtype.type(ret / rcount)\n",
      "/ext3/conda/zillow_MMKG/lib/python3.8/site-packages/numpy/core/fromnumeric.py:3474: RuntimeWarning: Mean of empty slice.\n",
      "  return _methods._mean(a, axis=axis, dtype=dtype,\n",
      "/ext3/conda/zillow_MMKG/lib/python3.8/site-packages/numpy/core/_methods.py:189: RuntimeWarning: invalid value encountered in double_scalars\n",
      "  ret = ret.dtype.type(ret / rcount)\n",
      "/ext3/conda/zillow_MMKG/lib/python3.8/site-packages/numpy/core/fromnumeric.py:3474: RuntimeWarning: Mean of empty slice.\n",
      "  return _methods._mean(a, axis=axis, dtype=dtype,\n",
      "/ext3/conda/zillow_MMKG/lib/python3.8/site-packages/numpy/core/_methods.py:189: RuntimeWarning: invalid value encountered in double_scalars\n",
      "  ret = ret.dtype.type(ret / rcount)\n",
      "/ext3/conda/zillow_MMKG/lib/python3.8/site-packages/numpy/core/fromnumeric.py:3474: RuntimeWarning: Mean of empty slice.\n",
      "  return _methods._mean(a, axis=axis, dtype=dtype,\n",
      "/ext3/conda/zillow_MMKG/lib/python3.8/site-packages/numpy/core/_methods.py:189: RuntimeWarning: invalid value encountered in double_scalars\n",
      "  ret = ret.dtype.type(ret / rcount)\n",
      "/ext3/conda/zillow_MMKG/lib/python3.8/site-packages/numpy/core/fromnumeric.py:3474: RuntimeWarning: Mean of empty slice.\n",
      "  return _methods._mean(a, axis=axis, dtype=dtype,\n",
      "/ext3/conda/zillow_MMKG/lib/python3.8/site-packages/numpy/core/_methods.py:189: RuntimeWarning: invalid value encountered in double_scalars\n",
      "  ret = ret.dtype.type(ret / rcount)\n",
      "/ext3/conda/zillow_MMKG/lib/python3.8/site-packages/numpy/core/fromnumeric.py:3474: RuntimeWarning: Mean of empty slice.\n",
      "  return _methods._mean(a, axis=axis, dtype=dtype,\n",
      "/ext3/conda/zillow_MMKG/lib/python3.8/site-packages/numpy/core/_methods.py:189: RuntimeWarning: invalid value encountered in double_scalars\n",
      "  ret = ret.dtype.type(ret / rcount)\n",
      "/ext3/conda/zillow_MMKG/lib/python3.8/site-packages/numpy/core/fromnumeric.py:3474: RuntimeWarning: Mean of empty slice.\n",
      "  return _methods._mean(a, axis=axis, dtype=dtype,\n",
      "/ext3/conda/zillow_MMKG/lib/python3.8/site-packages/numpy/core/_methods.py:189: RuntimeWarning: invalid value encountered in double_scalars\n",
      "  ret = ret.dtype.type(ret / rcount)\n",
      "/ext3/conda/zillow_MMKG/lib/python3.8/site-packages/numpy/core/fromnumeric.py:3474: RuntimeWarning: Mean of empty slice.\n",
      "  return _methods._mean(a, axis=axis, dtype=dtype,\n",
      "/ext3/conda/zillow_MMKG/lib/python3.8/site-packages/numpy/core/_methods.py:189: RuntimeWarning: invalid value encountered in double_scalars\n",
      "  ret = ret.dtype.type(ret / rcount)\n",
      "/ext3/conda/zillow_MMKG/lib/python3.8/site-packages/numpy/core/fromnumeric.py:3474: RuntimeWarning: Mean of empty slice.\n",
      "  return _methods._mean(a, axis=axis, dtype=dtype,\n",
      "/ext3/conda/zillow_MMKG/lib/python3.8/site-packages/numpy/core/_methods.py:189: RuntimeWarning: invalid value encountered in double_scalars\n",
      "  ret = ret.dtype.type(ret / rcount)\n",
      "/ext3/conda/zillow_MMKG/lib/python3.8/site-packages/numpy/core/fromnumeric.py:3474: RuntimeWarning: Mean of empty slice.\n",
      "  return _methods._mean(a, axis=axis, dtype=dtype,\n",
      "/ext3/conda/zillow_MMKG/lib/python3.8/site-packages/numpy/core/_methods.py:189: RuntimeWarning: invalid value encountered in double_scalars\n",
      "  ret = ret.dtype.type(ret / rcount)\n",
      "/ext3/conda/zillow_MMKG/lib/python3.8/site-packages/numpy/core/fromnumeric.py:3474: RuntimeWarning: Mean of empty slice.\n",
      "  return _methods._mean(a, axis=axis, dtype=dtype,\n",
      "/ext3/conda/zillow_MMKG/lib/python3.8/site-packages/numpy/core/_methods.py:189: RuntimeWarning: invalid value encountered in double_scalars\n",
      "  ret = ret.dtype.type(ret / rcount)\n",
      "/ext3/conda/zillow_MMKG/lib/python3.8/site-packages/numpy/core/fromnumeric.py:3474: RuntimeWarning: Mean of empty slice.\n",
      "  return _methods._mean(a, axis=axis, dtype=dtype,\n",
      "/ext3/conda/zillow_MMKG/lib/python3.8/site-packages/numpy/core/_methods.py:189: RuntimeWarning: invalid value encountered in double_scalars\n",
      "  ret = ret.dtype.type(ret / rcount)\n",
      "/ext3/conda/zillow_MMKG/lib/python3.8/site-packages/numpy/core/fromnumeric.py:3474: RuntimeWarning: Mean of empty slice.\n",
      "  return _methods._mean(a, axis=axis, dtype=dtype,\n",
      "/ext3/conda/zillow_MMKG/lib/python3.8/site-packages/numpy/core/_methods.py:189: RuntimeWarning: invalid value encountered in double_scalars\n",
      "  ret = ret.dtype.type(ret / rcount)\n",
      "/ext3/conda/zillow_MMKG/lib/python3.8/site-packages/numpy/core/fromnumeric.py:3474: RuntimeWarning: Mean of empty slice.\n",
      "  return _methods._mean(a, axis=axis, dtype=dtype,\n",
      "/ext3/conda/zillow_MMKG/lib/python3.8/site-packages/numpy/core/_methods.py:189: RuntimeWarning: invalid value encountered in double_scalars\n",
      "  ret = ret.dtype.type(ret / rcount)\n",
      "/ext3/conda/zillow_MMKG/lib/python3.8/site-packages/numpy/core/fromnumeric.py:3474: RuntimeWarning: Mean of empty slice.\n",
      "  return _methods._mean(a, axis=axis, dtype=dtype,\n",
      "/ext3/conda/zillow_MMKG/lib/python3.8/site-packages/numpy/core/_methods.py:189: RuntimeWarning: invalid value encountered in double_scalars\n",
      "  ret = ret.dtype.type(ret / rcount)\n",
      "/ext3/conda/zillow_MMKG/lib/python3.8/site-packages/numpy/core/fromnumeric.py:3474: RuntimeWarning: Mean of empty slice.\n",
      "  return _methods._mean(a, axis=axis, dtype=dtype,\n",
      "/ext3/conda/zillow_MMKG/lib/python3.8/site-packages/numpy/core/_methods.py:189: RuntimeWarning: invalid value encountered in double_scalars\n",
      "  ret = ret.dtype.type(ret / rcount)\n",
      "/ext3/conda/zillow_MMKG/lib/python3.8/site-packages/numpy/core/fromnumeric.py:3474: RuntimeWarning: Mean of empty slice.\n",
      "  return _methods._mean(a, axis=axis, dtype=dtype,\n",
      "/ext3/conda/zillow_MMKG/lib/python3.8/site-packages/numpy/core/_methods.py:189: RuntimeWarning: invalid value encountered in double_scalars\n",
      "  ret = ret.dtype.type(ret / rcount)\n",
      "/ext3/conda/zillow_MMKG/lib/python3.8/site-packages/numpy/core/fromnumeric.py:3474: RuntimeWarning: Mean of empty slice.\n",
      "  return _methods._mean(a, axis=axis, dtype=dtype,\n",
      "/ext3/conda/zillow_MMKG/lib/python3.8/site-packages/numpy/core/_methods.py:189: RuntimeWarning: invalid value encountered in double_scalars\n",
      "  ret = ret.dtype.type(ret / rcount)\n",
      "/ext3/conda/zillow_MMKG/lib/python3.8/site-packages/numpy/core/fromnumeric.py:3474: RuntimeWarning: Mean of empty slice.\n",
      "  return _methods._mean(a, axis=axis, dtype=dtype,\n",
      "/ext3/conda/zillow_MMKG/lib/python3.8/site-packages/numpy/core/_methods.py:189: RuntimeWarning: invalid value encountered in double_scalars\n",
      "  ret = ret.dtype.type(ret / rcount)\n",
      "/ext3/conda/zillow_MMKG/lib/python3.8/site-packages/numpy/core/fromnumeric.py:3474: RuntimeWarning: Mean of empty slice.\n",
      "  return _methods._mean(a, axis=axis, dtype=dtype,\n",
      "/ext3/conda/zillow_MMKG/lib/python3.8/site-packages/numpy/core/_methods.py:189: RuntimeWarning: invalid value encountered in double_scalars\n",
      "  ret = ret.dtype.type(ret / rcount)\n",
      "/ext3/conda/zillow_MMKG/lib/python3.8/site-packages/numpy/core/fromnumeric.py:3474: RuntimeWarning: Mean of empty slice.\n",
      "  return _methods._mean(a, axis=axis, dtype=dtype,\n",
      "/ext3/conda/zillow_MMKG/lib/python3.8/site-packages/numpy/core/_methods.py:189: RuntimeWarning: invalid value encountered in double_scalars\n",
      "  ret = ret.dtype.type(ret / rcount)\n",
      "/ext3/conda/zillow_MMKG/lib/python3.8/site-packages/numpy/core/fromnumeric.py:3474: RuntimeWarning: Mean of empty slice.\n",
      "  return _methods._mean(a, axis=axis, dtype=dtype,\n",
      "/ext3/conda/zillow_MMKG/lib/python3.8/site-packages/numpy/core/_methods.py:189: RuntimeWarning: invalid value encountered in double_scalars\n",
      "  ret = ret.dtype.type(ret / rcount)\n",
      "/ext3/conda/zillow_MMKG/lib/python3.8/site-packages/numpy/core/fromnumeric.py:3474: RuntimeWarning: Mean of empty slice.\n",
      "  return _methods._mean(a, axis=axis, dtype=dtype,\n",
      "/ext3/conda/zillow_MMKG/lib/python3.8/site-packages/numpy/core/_methods.py:189: RuntimeWarning: invalid value encountered in double_scalars\n",
      "  ret = ret.dtype.type(ret / rcount)\n",
      "/ext3/conda/zillow_MMKG/lib/python3.8/site-packages/numpy/core/fromnumeric.py:3474: RuntimeWarning: Mean of empty slice.\n",
      "  return _methods._mean(a, axis=axis, dtype=dtype,\n",
      "/ext3/conda/zillow_MMKG/lib/python3.8/site-packages/numpy/core/_methods.py:189: RuntimeWarning: invalid value encountered in double_scalars\n",
      "  ret = ret.dtype.type(ret / rcount)\n"
     ]
    }
   ],
   "source": [
    "# Step 9: Get true labels for each keyword from validation subgraph adjacency matrix\n",
    "# Adjacency matrix needs to be sub-setted such that rows correspond only to image nodes and columns correspond only to keyword nodes\n",
    "test_img_indices = (test_subgraph.ndata['ntype']==0).nonzero().cpu().reshape(1, -1)\n",
    "test_keyword_indices = test_keyword_node_ids.reshape(-1, 1)\n",
    "\n",
    "test_adj_matrix = test_subgraph.adjacency_matrix().to_dense().numpy()\n",
    "test_adj_matrix = test_adj_matrix[test_keyword_indices, test_img_indices]\n",
    "\n",
    "method_link_scores = {'sage': test_sage_link_scores, 'clip': test_clip_link_scores}\n",
    "\n",
    "# Step 10: Make predictions based on prediction threshold and get precision, recall, and accuracy \n",
    "pred_thresholds = np.linspace(0.1, 0.9, 50)\n",
    "test_sage_clip_metrics = pd.DataFrame()\n",
    "results_dict = {threshold: {} for threshold in pred_thresholds}\n",
    "\n",
    "for pred_threshold in pred_thresholds:\n",
    "    results_dict[pred_threshold] = {'sage': {}, 'clip': {}}\n",
    "\n",
    "    for method in method_link_scores:\n",
    "        method_link_predictions = (method_link_scores[method] > pred_threshold).astype(int)\n",
    "        n_keywords = len(method_link_scores[method])\n",
    "        for metric in ['tp', 'fp', 'fn', 'actual_p', 'precision', 'recall', 'f1']:\n",
    "            results_dict[pred_threshold][method][metric] = np.empty(n_keywords)\n",
    "        weights = np.empty(n_keywords)\n",
    "        \n",
    "        for i in range(n_keywords):\n",
    "            all_p = np.sum(test_adj_matrix[i])\n",
    "            all_p_pred = np.sum(method_link_predictions[i])\n",
    "            results_dict[pred_threshold][method]['tp'][i] = np.sum((method_link_predictions[i]==1)&(test_adj_matrix[i]==1))\n",
    "            results_dict[pred_threshold][method]['fp'][i] = np.sum((method_link_predictions[i]==1)&(test_adj_matrix[i]==0))\n",
    "            results_dict[pred_threshold][method]['fn'][i] = np.sum((method_link_predictions[i]==0)&(test_adj_matrix[i]==1))\n",
    "            results_dict[pred_threshold][method]['actual_p'][i] = all_p\n",
    "\n",
    "            precision = results_dict[pred_threshold][method]['tp'][i] / all_p_pred if all_p_pred > 0 else 0\n",
    "            recall = results_dict[pred_threshold][method]['tp'][i] / all_p if all_p > 0 else 0\n",
    "\n",
    "            results_dict[pred_threshold][method]['precision'][i] = precision\n",
    "            results_dict[pred_threshold][method]['recall'][i] = recall\n",
    "            #results_dict[pred_threshold][method]['f1'][i] = 2*(precision*recall) / (precision + recall) if (precision + recall) > 0 else 0\n",
    "\n",
    "            weights[i] = all_p\n",
    "\n",
    "    weights /= np.sum(weights)\n",
    "\n",
    "    for method in results_dict[pred_threshold].keys():\n",
    "        row = {'threshold': pred_threshold, 'method': method}\n",
    "        for metric in results_dict[pred_threshold][method]:\n",
    "            if metric == 'precision' or metric == 'recall' or metric == 'f1':\n",
    "                row[f'{metric}_micro'] = np.mean(results_dict[pred_threshold][method][metric]*weights)\n",
    "                row[f'{metric}_macro'] = np.mean(results_dict[pred_threshold][method][metric])\n",
    "        \n",
    "        row['f1_micro'] = 2*(row['precision_micro']*row['recall_micro']) / (row['precision_micro']+row['recall_micro']) if (row['precision_micro']+row['recall_micro']) > 0 else 0\n",
    "        row['f1_macro'] = 2*(row['precision_macro']*row['recall_macro']) / (row['precision_macro']+row['recall_macro']) if (row['precision_macro']+row['recall_macro']) > 0 else 0\n",
    "        test_sage_clip_metrics = pd.concat([test_sage_clip_metrics, pd.DataFrame([row])], ignore_index=True)\n",
    "\n",
    "test_sage_metrics = test_sage_clip_metrics[(test_sage_clip_metrics['method']=='sage')]\n",
    "test_clip_metrics = test_sage_clip_metrics[(test_sage_clip_metrics['method']=='clip')]"
   ]
  },
  {
   "cell_type": "code",
   "execution_count": 39,
   "metadata": {},
   "outputs": [
    {
     "name": "stdout",
     "output_type": "stream",
     "text": [
      "Best SAGE metrics: \n"
     ]
    },
    {
     "ename": "IndexError",
     "evalue": "single positional indexer is out-of-bounds",
     "output_type": "error",
     "traceback": [
      "\u001b[0;31m---------------------------------------------------------------------------\u001b[0m",
      "\u001b[0;31mIndexError\u001b[0m                                Traceback (most recent call last)",
      "\u001b[1;32m/scratch/alc9635/projects/NYU-Zillow-Capstone-2022-Team-A/notebooks/validation_exp_all.ipynb Cell 66\u001b[0m in \u001b[0;36m<cell line: 5>\u001b[0;34m()\u001b[0m\n\u001b[1;32m      <a href='vscode-notebook-cell://ssh-remote%2Bgreenecomputecontainer/scratch/alc9635/projects/NYU-Zillow-Capstone-2022-Team-A/notebooks/validation_exp_all.ipynb#Y121sdnNjb2RlLXJlbW90ZQ%3D%3D?line=6'>7</a>\u001b[0m metric_df \u001b[39m=\u001b[39m metrics_dfs[method]\n\u001b[1;32m      <a href='vscode-notebook-cell://ssh-remote%2Bgreenecomputecontainer/scratch/alc9635/projects/NYU-Zillow-Capstone-2022-Team-A/notebooks/validation_exp_all.ipynb#Y121sdnNjb2RlLXJlbW90ZQ%3D%3D?line=7'>8</a>\u001b[0m \u001b[39mfor\u001b[39;00m metric \u001b[39min\u001b[39;00m macro_metrics:\n\u001b[0;32m----> <a href='vscode-notebook-cell://ssh-remote%2Bgreenecomputecontainer/scratch/alc9635/projects/NYU-Zillow-Capstone-2022-Team-A/notebooks/validation_exp_all.ipynb#Y121sdnNjb2RlLXJlbW90ZQ%3D%3D?line=8'>9</a>\u001b[0m     best_rows[method][metric] \u001b[39m=\u001b[39m metric_df[metric_df[metric]\u001b[39m==\u001b[39;49mmetric_df[metric]\u001b[39m.\u001b[39;49mmax()][[\u001b[39m'\u001b[39;49m\u001b[39mthreshold\u001b[39;49m\u001b[39m'\u001b[39;49m]\u001b[39m+\u001b[39;49mmacro_metrics]\u001b[39m.\u001b[39;49miloc[\u001b[39m0\u001b[39;49m,:]\n\u001b[1;32m     <a href='vscode-notebook-cell://ssh-remote%2Bgreenecomputecontainer/scratch/alc9635/projects/NYU-Zillow-Capstone-2022-Team-A/notebooks/validation_exp_all.ipynb#Y121sdnNjb2RlLXJlbW90ZQ%3D%3D?line=9'>10</a>\u001b[0m     \u001b[39mprint\u001b[39m(\u001b[39mf\u001b[39m\u001b[39m'\u001b[39m\u001b[39mMetrics at best \u001b[39m\u001b[39m{\u001b[39;00mmetric\u001b[39m}\u001b[39;00m\u001b[39m:\u001b[39m\u001b[39m\\n\u001b[39;00m\u001b[39m'\u001b[39m, best_rows[method][metric])\n",
      "File \u001b[0;32m/ext3/conda/zillow_MMKG/lib/python3.8/site-packages/pandas/core/indexing.py:961\u001b[0m, in \u001b[0;36m_LocationIndexer.__getitem__\u001b[0;34m(self, key)\u001b[0m\n\u001b[1;32m    959\u001b[0m     \u001b[39mif\u001b[39;00m \u001b[39mself\u001b[39m\u001b[39m.\u001b[39m_is_scalar_access(key):\n\u001b[1;32m    960\u001b[0m         \u001b[39mreturn\u001b[39;00m \u001b[39mself\u001b[39m\u001b[39m.\u001b[39mobj\u001b[39m.\u001b[39m_get_value(\u001b[39m*\u001b[39mkey, takeable\u001b[39m=\u001b[39m\u001b[39mself\u001b[39m\u001b[39m.\u001b[39m_takeable)\n\u001b[0;32m--> 961\u001b[0m     \u001b[39mreturn\u001b[39;00m \u001b[39mself\u001b[39;49m\u001b[39m.\u001b[39;49m_getitem_tuple(key)\n\u001b[1;32m    962\u001b[0m \u001b[39melse\u001b[39;00m:\n\u001b[1;32m    963\u001b[0m     \u001b[39m# we by definition only have the 0th axis\u001b[39;00m\n\u001b[1;32m    964\u001b[0m     axis \u001b[39m=\u001b[39m \u001b[39mself\u001b[39m\u001b[39m.\u001b[39maxis \u001b[39mor\u001b[39;00m \u001b[39m0\u001b[39m\n",
      "File \u001b[0;32m/ext3/conda/zillow_MMKG/lib/python3.8/site-packages/pandas/core/indexing.py:1458\u001b[0m, in \u001b[0;36m_iLocIndexer._getitem_tuple\u001b[0;34m(self, tup)\u001b[0m\n\u001b[1;32m   1456\u001b[0m \u001b[39mdef\u001b[39;00m \u001b[39m_getitem_tuple\u001b[39m(\u001b[39mself\u001b[39m, tup: \u001b[39mtuple\u001b[39m):\n\u001b[0;32m-> 1458\u001b[0m     tup \u001b[39m=\u001b[39m \u001b[39mself\u001b[39;49m\u001b[39m.\u001b[39;49m_validate_tuple_indexer(tup)\n\u001b[1;32m   1459\u001b[0m     \u001b[39mwith\u001b[39;00m suppress(IndexingError):\n\u001b[1;32m   1460\u001b[0m         \u001b[39mreturn\u001b[39;00m \u001b[39mself\u001b[39m\u001b[39m.\u001b[39m_getitem_lowerdim(tup)\n",
      "File \u001b[0;32m/ext3/conda/zillow_MMKG/lib/python3.8/site-packages/pandas/core/indexing.py:769\u001b[0m, in \u001b[0;36m_LocationIndexer._validate_tuple_indexer\u001b[0;34m(self, key)\u001b[0m\n\u001b[1;32m    767\u001b[0m \u001b[39mfor\u001b[39;00m i, k \u001b[39min\u001b[39;00m \u001b[39menumerate\u001b[39m(key):\n\u001b[1;32m    768\u001b[0m     \u001b[39mtry\u001b[39;00m:\n\u001b[0;32m--> 769\u001b[0m         \u001b[39mself\u001b[39;49m\u001b[39m.\u001b[39;49m_validate_key(k, i)\n\u001b[1;32m    770\u001b[0m     \u001b[39mexcept\u001b[39;00m \u001b[39mValueError\u001b[39;00m \u001b[39mas\u001b[39;00m err:\n\u001b[1;32m    771\u001b[0m         \u001b[39mraise\u001b[39;00m \u001b[39mValueError\u001b[39;00m(\n\u001b[1;32m    772\u001b[0m             \u001b[39m\"\u001b[39m\u001b[39mLocation based indexing can only have \u001b[39m\u001b[39m\"\u001b[39m\n\u001b[1;32m    773\u001b[0m             \u001b[39mf\u001b[39m\u001b[39m\"\u001b[39m\u001b[39m[\u001b[39m\u001b[39m{\u001b[39;00m\u001b[39mself\u001b[39m\u001b[39m.\u001b[39m_valid_types\u001b[39m}\u001b[39;00m\u001b[39m] types\u001b[39m\u001b[39m\"\u001b[39m\n\u001b[1;32m    774\u001b[0m         ) \u001b[39mfrom\u001b[39;00m \u001b[39merr\u001b[39;00m\n",
      "File \u001b[0;32m/ext3/conda/zillow_MMKG/lib/python3.8/site-packages/pandas/core/indexing.py:1361\u001b[0m, in \u001b[0;36m_iLocIndexer._validate_key\u001b[0;34m(self, key, axis)\u001b[0m\n\u001b[1;32m   1359\u001b[0m     \u001b[39mreturn\u001b[39;00m\n\u001b[1;32m   1360\u001b[0m \u001b[39melif\u001b[39;00m is_integer(key):\n\u001b[0;32m-> 1361\u001b[0m     \u001b[39mself\u001b[39;49m\u001b[39m.\u001b[39;49m_validate_integer(key, axis)\n\u001b[1;32m   1362\u001b[0m \u001b[39melif\u001b[39;00m \u001b[39misinstance\u001b[39m(key, \u001b[39mtuple\u001b[39m):\n\u001b[1;32m   1363\u001b[0m     \u001b[39m# a tuple should already have been caught by this point\u001b[39;00m\n\u001b[1;32m   1364\u001b[0m     \u001b[39m# so don't treat a tuple as a valid indexer\u001b[39;00m\n\u001b[1;32m   1365\u001b[0m     \u001b[39mraise\u001b[39;00m IndexingError(\u001b[39m\"\u001b[39m\u001b[39mToo many indexers\u001b[39m\u001b[39m\"\u001b[39m)\n",
      "File \u001b[0;32m/ext3/conda/zillow_MMKG/lib/python3.8/site-packages/pandas/core/indexing.py:1452\u001b[0m, in \u001b[0;36m_iLocIndexer._validate_integer\u001b[0;34m(self, key, axis)\u001b[0m\n\u001b[1;32m   1450\u001b[0m len_axis \u001b[39m=\u001b[39m \u001b[39mlen\u001b[39m(\u001b[39mself\u001b[39m\u001b[39m.\u001b[39mobj\u001b[39m.\u001b[39m_get_axis(axis))\n\u001b[1;32m   1451\u001b[0m \u001b[39mif\u001b[39;00m key \u001b[39m>\u001b[39m\u001b[39m=\u001b[39m len_axis \u001b[39mor\u001b[39;00m key \u001b[39m<\u001b[39m \u001b[39m-\u001b[39mlen_axis:\n\u001b[0;32m-> 1452\u001b[0m     \u001b[39mraise\u001b[39;00m \u001b[39mIndexError\u001b[39;00m(\u001b[39m\"\u001b[39m\u001b[39msingle positional indexer is out-of-bounds\u001b[39m\u001b[39m\"\u001b[39m)\n",
      "\u001b[0;31mIndexError\u001b[0m: single positional indexer is out-of-bounds"
     ]
    }
   ],
   "source": [
    "print('Best SAGE metrics: ')\n",
    "macro_metrics = ['recall_macro', 'precision_macro', 'f1_macro']\n",
    "metrics_dfs = {'sage': test_sage_metrics, 'clip': test_clip_metrics}\n",
    "best_rows = {}\n",
    "for method in ['sage', 'clip']:\n",
    "    best_rows[method] = {}\n",
    "    metric_df = metrics_dfs[method]\n",
    "    for metric in macro_metrics:\n",
    "        best_rows[method][metric] = metric_df[metric_df[metric]==metric_df[metric].max()][['threshold']+macro_metrics].iloc[0,:]\n",
    "        print(f'Metrics at best {metric}:\\n', best_rows[method][metric])"
   ]
  },
  {
   "cell_type": "code",
   "execution_count": null,
   "metadata": {},
   "outputs": [
    {
     "data": {
      "image/png": "[encoded data removed]",
      "text/plain": [
       "<Figure size 1080x720 with 4 Axes>"
      ]
     },
     "metadata": {},
     "output_type": "display_data"
    }
   ],
   "source": [
    "import matplotlib.pyplot as plt\n",
    "\n",
    "# test_sage_micro_threshold_metrics = test_sage_clip_metrics[test_sage_clip_metrics['method']=='sage'][['threshold', 'precision_micro', 'recall_micro']]\n",
    "# test_clip_micro_threshold_metrics = test_sage_clip_metrics[test_sage_clip_metrics['method']=='clip'][['threshold', 'precision_micro', 'recall_micro']]\n",
    "# test_sage_macro_threshold_metrics = test_sage_clip_metrics[test_sage_clip_metrics['method']=='sage'][['threshold', 'precision_macro', 'recall_macro']]\n",
    "# test_clip_macro_threshold_metrics = test_sage_clip_metrics[test_sage_clip_metrics['method']=='sage'][['threshold', 'precision_macro', 'recall_macro']]\n",
    "\n",
    "fig, axs = plt.subplots(2, 2, figsize=(15,10))\n",
    "for i, avg_type in enumerate(['micro', 'macro']):\n",
    "    legend = []\n",
    "    for j, metric in enumerate(['precision', 'recall']):\n",
    "        for method in ['sage', 'clip']:\n",
    "            axs[i,j].plot(test_sage_clip_metrics[test_sage_clip_metrics['method']==method]['threshold'], \n",
    "                    test_sage_clip_metrics[test_sage_clip_metrics['method']==method][f'{metric}_{avg_type}'])\n",
    "            legend += [f'{method}_{metric}']\n",
    "        axs[i,j].legend(legend)\n",
    "        axs[i,j].set_xlabel('positive prediction threshold')\n",
    "        axs[i,j].set_ylabel('metric')\n",
    "        axs[i,j].set_title(f'{avg_type}-averaged link prediction {metric}')\n",
    "fig.suptitle(f'Link Prediction Precision and Recall ({reconnection_method} method)')\n",
    "plt.show()\n"
   ]
  },
  {
   "cell_type": "markdown",
   "metadata": {},
   "source": [
    "## Precision / Recall Metrics by Keyword\n",
    "To render the bar graphs below, we computed precision / recall values for sage and clip at their respective best thresholds (chosen by best f1 score)."
   ]
  },
  {
   "cell_type": "code",
   "execution_count": null,
   "metadata": {},
   "outputs": [
    {
     "data": {
      "text/plain": [
       "<seaborn.axisgrid.FacetGrid at 0x7f32bc11b670>"
      ]
     },
     "execution_count": 41,
     "metadata": {},
     "output_type": "execute_result"
    },
    {
     "data": {
      "image/png": "[encoded data removed]",
      "text/plain": [
       "<Figure size 667.225x576 with 1 Axes>"
      ]
     },
     "metadata": {},
     "output_type": "display_data"
    },
    {
     "data": {
      "image/png": "[encoded data removed]",
      "text/plain": [
       "<Figure size 667.225x576 with 1 Axes>"
      ]
     },
     "metadata": {},
     "output_type": "display_data"
    }
   ],
   "source": [
    "import seaborn as sns\n",
    "sns.set_theme(style=\"whitegrid\")\n",
    "#sns.color_palette(\"rocket\", as_cmap=True)\n",
    "\n",
    "if not os.path.exists('prec_rec_f1_data.csv'):\n",
    "    prec_rec_f1_data = pd.DataFrame(columns=['exp_name', 'precision_macro', 'recall_macro', \n",
    "                                            'f1_macro', 'precision_micro', 'recall_micro', 'f1_micro'])\n",
    "else:\n",
    "    prec_rec_f1_data = pd.read_csv('prec_rec_f1_data.csv')\n",
    "    prec_rec_f1_data = prec_rec_f1_data[prec_rec_f1_data['exp_name']!=f'sage_{reconnection_method}']\n",
    "    prec_rec_f1_data = prec_rec_f1_data[prec_rec_f1_data['exp_name']!='clip']\n",
    "\n",
    "best_sage_results_by_keyword = results_dict[best_rows['sage']['f1_macro']['threshold']]['sage']\n",
    "best_clip_results_by_keyword = results_dict[best_rows['clip']['f1_macro']['threshold']]['clip']\n",
    "\n",
    "results_by_keyword = {f'sage_{reconnection_method}': best_sage_results_by_keyword,\n",
    "                      'clip': best_clip_results_by_keyword}\n",
    "\n",
    "for exp_name in results_by_keyword:\n",
    "    exp_results = pd.DataFrame(columns=['exp_name', 'precision_macro', 'recall_macro', 'f1_macro', 'precision_micro', 'recall_micro', 'f1_micro'])\n",
    "    exp_results['precision_macro'] = [np.mean(results_by_keyword[exp_name]['precision'])]\n",
    "    exp_results['recall_macro'] = [np.mean(results_by_keyword[exp_name]['recall'])]\n",
    "    exp_results['f1_macro'] = exp_results.apply(lambda x: compute_f1(x['precision_macro'], x['recall_macro']), axis=1)\n",
    "    exp_results['precision_micro'] = [np.mean(results_by_keyword[exp_name]['precision']*weights)]\n",
    "    exp_results['recall_micro'] = [np.mean(results_by_keyword[exp_name]['recall']*weights)]\n",
    "    exp_results['f1_micro'] = exp_results.apply(lambda x: compute_f1(x['precision_micro'], x['recall_micro']), axis=1)\n",
    "    exp_results['exp_name'] = [exp_name]\n",
    "    prec_rec_f1_data = pd.concat([prec_rec_f1_data, exp_results], ignore_index=True)\n",
    "\n",
    "prec_rec_f1_data.to_csv('prec_rec_f1_data.csv', index=False)\n",
    "\n",
    "keyword_hashes = [test_new_old_node_id_mapping[str(key.item())] for key in test_keyword_node_ids]\n",
    "hash_keyword_mapper = json.load(open('notebooks/hash_keyword_mapper.json', 'r'))\n",
    "keyword_hashes_mask = [hash_keyword_mapper[keyword_hashes[i]] if keyword_hashes[i] in list(hash_keyword_mapper.keys())\n",
    "                         else f'keyword_{i}' for i in range(len(keyword_hashes))]\n",
    "\n",
    "by_keyword_results = pd.concat([pd.DataFrame({'keyword_hash': keyword_hashes_mask,\n",
    "                                              'method': f'sage_{reconnection_method}',\n",
    "                                              'precision': best_sage_results_by_keyword['precision'],\n",
    "                                              'recall': best_sage_results_by_keyword['recall'],\n",
    "                                              'weights': weights}).sort_values(by='weights', ascending=False),\n",
    "                                pd.DataFrame({'keyword_hash': keyword_hashes_mask,\n",
    "                                              'method': 'clip',\n",
    "                                              'precision': best_clip_results_by_keyword['precision'],\n",
    "                                              'recall': best_clip_results_by_keyword['recall'],\n",
    "                                              'weights': weights}).sort_values(by='weights', ascending=False)])\n",
    "\n",
    "ax_prec = sns.catplot(\n",
    "    data=by_keyword_results, kind=\"bar\",\n",
    "    x=\"precision\", y=\"keyword_hash\", hue=\"method\",\n",
    "    palette=\"cubehelix\", height=8\n",
    ")\n",
    "ax_prec.set_axis_labels(\"precision\", \"keyword\")\n",
    "\n",
    "ax_rec = sns.catplot(\n",
    "    data=by_keyword_results, kind=\"bar\",\n",
    "    x=\"recall\", y=\"keyword_hash\", hue=\"method\",\n",
    "    palette=\"cubehelix\", height=8\n",
    ")\n",
    "\n",
    "ax_rec.set_axis_labels(\"recall\", \"keyword\")\n"
   ]
  },
  {
   "cell_type": "code",
   "execution_count": null,
   "metadata": {},
   "outputs": [],
   "source": [
    "prec_rec_f1_data_plot = pd.melt(prec_rec_f1_data, id_vars=['exp_name'], value_vars=['precision_macro', 'recall_macro', 'f1_macro',\n",
    "                                                                'precision_micro', 'recall_micro', 'f1_micro'])\n"
   ]
  },
  {
   "cell_type": "code",
   "execution_count": null,
   "metadata": {},
   "outputs": [
    {
     "data": {
      "text/html": [
       "<div>\n",
       "<style scoped>\n",
       "    .dataframe tbody tr th:only-of-type {\n",
       "        vertical-align: middle;\n",
       "    }\n",
       "\n",
       "    .dataframe tbody tr th {\n",
       "        vertical-align: top;\n",
       "    }\n",
       "\n",
       "    .dataframe thead th {\n",
       "        text-align: right;\n",
       "    }\n",
       "</style>\n",
       "<table border=\"1\" class=\"dataframe\">\n",
       "  <thead>\n",
       "    <tr style=\"text-align: right;\">\n",
       "      <th></th>\n",
       "      <th>exp_name</th>\n",
       "      <th>precision_macro</th>\n",
       "      <th>recall_macro</th>\n",
       "      <th>f1_macro</th>\n",
       "      <th>precision_micro</th>\n",
       "      <th>recall_micro</th>\n",
       "      <th>f1_micro</th>\n",
       "    </tr>\n",
       "  </thead>\n",
       "  <tbody>\n",
       "    <tr>\n",
       "      <th>0</th>\n",
       "      <td>sage_cosine</td>\n",
       "      <td>0.347497</td>\n",
       "      <td>0.715822</td>\n",
       "      <td>0.467868</td>\n",
       "      <td>0.035999</td>\n",
       "      <td>0.061335</td>\n",
       "      <td>0.045369</td>\n",
       "    </tr>\n",
       "    <tr>\n",
       "      <th>1</th>\n",
       "      <td>sage_scene</td>\n",
       "      <td>0.361937</td>\n",
       "      <td>0.587978</td>\n",
       "      <td>0.448063</td>\n",
       "      <td>0.038723</td>\n",
       "      <td>0.054413</td>\n",
       "      <td>0.045246</td>\n",
       "    </tr>\n",
       "    <tr>\n",
       "      <th>2</th>\n",
       "      <td>sage_self</td>\n",
       "      <td>0.358647</td>\n",
       "      <td>0.592516</td>\n",
       "      <td>0.446830</td>\n",
       "      <td>0.038353</td>\n",
       "      <td>0.054545</td>\n",
       "      <td>0.045038</td>\n",
       "    </tr>\n",
       "    <tr>\n",
       "      <th>3</th>\n",
       "      <td>clip</td>\n",
       "      <td>0.363390</td>\n",
       "      <td>0.605616</td>\n",
       "      <td>0.454228</td>\n",
       "      <td>0.039976</td>\n",
       "      <td>0.056326</td>\n",
       "      <td>0.046763</td>\n",
       "    </tr>\n",
       "  </tbody>\n",
       "</table>\n",
       "</div>"
      ],
      "text/plain": [
       "      exp_name  precision_macro  recall_macro  f1_macro  precision_micro  \\\n",
       "0  sage_cosine         0.347497      0.715822  0.467868         0.035999   \n",
       "1   sage_scene         0.361937      0.587978  0.448063         0.038723   \n",
       "2    sage_self         0.358647      0.592516  0.446830         0.038353   \n",
       "3         clip         0.363390      0.605616  0.454228         0.039976   \n",
       "\n",
       "   recall_micro  f1_micro  \n",
       "0      0.061335  0.045369  \n",
       "1      0.054413  0.045246  \n",
       "2      0.054545  0.045038  \n",
       "3      0.056326  0.046763  "
      ]
     },
     "execution_count": 43,
     "metadata": {},
     "output_type": "execute_result"
    }
   ],
   "source": [
    "prec_rec_f1_data"
   ]
  },
  {
   "cell_type": "code",
   "execution_count": null,
   "metadata": {},
   "outputs": [
    {
     "data": {
      "text/plain": [
       "<seaborn.axisgrid.FacetGrid at 0x7f32b4231520>"
      ]
     },
     "execution_count": 44,
     "metadata": {},
     "output_type": "execute_result"
    },
    {
     "data": {
      "image/png": "[encoded data removed]",
      "text/plain": [
       "<Figure size 683.1x576 with 1 Axes>"
      ]
     },
     "metadata": {},
     "output_type": "display_data"
    }
   ],
   "source": [
    "g_metrics = sns.catplot(\n",
    "    data=prec_rec_f1_data_plot, kind=\"bar\",\n",
    "    x=\"variable\", y=\"value\", hue=\"exp_name\",\n",
    "    palette=\"cubehelix\", height=8\n",
    ")\n",
    "#plt.title('Link Prediction Metrics At Best F1 Score')\n",
    "g_metrics.set_axis_labels(\"\", \"metric type\")"
   ]
  },
  {
   "cell_type": "code",
   "execution_count": null,
   "metadata": {},
   "outputs": [
    {
     "name": "stdout",
     "output_type": "stream",
     "text": [
      "54182\n"
     ]
    }
   ],
   "source": [
    "method_link_scores = {'sage': test_sage_link_scores, 'clip': test_clip_link_scores}\n",
    "\n",
    "if not os.path.exists('roc_auc_scores.json'):\n",
    "    roc_auc_values = {f'sage_{reconnection_method}': {'micro': 0, 'macro': 0}, 'clip': {'micro': 0, 'macro': 0}}\n",
    "else:\n",
    "    roc_auc_values = json.load(open('roc_auc_scores.json', 'r'))\n",
    "    \n",
    "if not os.path.exists('roc_data.csv'):\n",
    "    roc_data = pd.DataFrame(columns=['exp_name', 'fpr_micro', 'tpr_micro'])\n",
    "else:\n",
    "    roc_data = pd.read_csv('roc_data.csv')\n",
    "    roc_data = roc_data[roc_data['exp_name']!=f'sage_{reconnection_method}']\n",
    "    roc_data = roc_data[roc_data['exp_name']!='clip']\n",
    "     \n",
    "for method in method_link_scores:\n",
    "    fpr_micro, tpr_micro, thresholds = metrics.roc_curve(test_adj_matrix.flatten(), method_link_scores[method].flatten())\n",
    "    method_roc_data = pd.DataFrame(columns=['exp_name', 'fpr_micro', 'tpr_micro'])\n",
    "    exp_name = f'sage_{reconnection_method}' if method == 'sage' else 'clip'\n",
    "    \n",
    "    roc_auc_values[exp_name] = {'micro': 0, 'macro': 0} # overwrite old results\n",
    "    \n",
    "    method_roc_data['fpr_micro'] = fpr_micro\n",
    "    method_roc_data['tpr_micro'] = tpr_micro\n",
    "    method_roc_data['exp_name'] = exp_name\n",
    "    \n",
    "    roc_data = pd.concat([roc_data, method_roc_data])\n",
    "    \n",
    "    roc_auc_values[exp_name]['micro'] = metrics.auc(fpr_micro, tpr_micro)\n",
    "\n",
    "    keyword_aucs = []\n",
    "    for i in range(method_link_scores[method].shape[0]):\n",
    "        keyword_aucs.append(metrics.roc_auc_score(test_adj_matrix[i], method_link_scores[method][i]))\n",
    "    roc_auc_values[exp_name]['macro'] = np.mean(keyword_aucs)\n",
    "\n",
    "#roc_data.drop_duplicates(subset='exp_name', keep='last', inplace=True)\n",
    "roc_data.to_csv('roc_data.csv', index=False)\n",
    "print(len(roc_data))\n",
    "\n",
    "with open('roc_auc_scores.json', 'w') as outfile:\n",
    "    json.dump(roc_auc_values, outfile)"
   ]
  },
  {
   "cell_type": "code",
   "execution_count": null,
   "metadata": {},
   "outputs": [
    {
     "data": {
      "image/png": "[encoded data removed]",
      "text/plain": [
       "<Figure size 432x288 with 1 Axes>"
      ]
     },
     "metadata": {},
     "output_type": "display_data"
    },
    {
     "name": "stdout",
     "output_type": "stream",
     "text": [
      "ROC AUC Scores: {'sage_scene': {'micro': 0.7354982362130998, 'macro': 0.776042523004254}, 'clip': {'micro': 0.7259137249000747, 'macro': 0.7492239402731273}, 'sage_cosine': {'micro': 0.6952224464322985, 'macro': 0.7654497647223355}, 'sage_self': {'micro': 0.7217598510501093, 'macro': 0.7325051256699067}}\n"
     ]
    }
   ],
   "source": [
    "for exp in set(roc_data['exp_name'].values):\n",
    "    exp_data = roc_data[roc_data['exp_name']==exp]\n",
    "    plt.plot(exp_data['fpr_micro'], exp_data['tpr_micro'], label=f\"{exp} (area = %0.2f)\" % roc_auc_values[exp]['micro'])\n",
    "\n",
    "plt.grid(False)\n",
    "plt.plot([0, 1], [0, 1], color=\"navy\", linestyle=\"--\")\n",
    "plt.xlim([0.0, 1.0])\n",
    "plt.ylim([0.0, 1.05])\n",
    "plt.xlabel(\"False Positive Rate\")\n",
    "plt.ylabel(\"True Positive Rate\")\n",
    "plt.title(f\"Micro-Averaged Link Prediction ROC Curves ({org})\")\n",
    "plt.legend(loc=\"lower right\")\n",
    "plt.show()\n",
    "\n",
    "print('ROC AUC Scores:', roc_auc_values)"
   ]
  },
  {
   "cell_type": "code",
   "execution_count": null,
   "metadata": {},
   "outputs": [
    {
     "data": {
      "text/plain": [
       "{'sage_scene': {'micro': 0.7354982362130998, 'macro': 0.776042523004254},\n",
       " 'clip': {'micro': 0.7259137249000747, 'macro': 0.7492239402731273},\n",
       " 'sage_cosine': {'micro': 0.6952224464322985, 'macro': 0.7654497647223355},\n",
       " 'sage_self': {'micro': 0.7217598510501093, 'macro': 0.7325051256699067}}"
      ]
     },
     "execution_count": 47,
     "metadata": {},
     "output_type": "execute_result"
    }
   ],
   "source": [
    "roc_auc_values"
   ]
  },
  {
   "cell_type": "markdown",
   "metadata": {},
   "source": [
    "##### Additional Analysis"
   ]
  },
  {
   "cell_type": "code",
   "execution_count": null,
   "metadata": {},
   "outputs": [
    {
     "data": {
      "text/plain": [
       "torch.Size([93476, 512])"
      ]
     },
     "execution_count": 48,
     "metadata": {},
     "output_type": "execute_result"
    }
   ],
   "source": [
    "test_eval_subgraph.ndata['feat'].size()"
   ]
  },
  {
   "cell_type": "code",
   "execution_count": null,
   "metadata": {},
   "outputs": [],
   "source": [
    "# Get one positive and negative keyword-image pair for each keyword\n",
    "pos_pairs = []\n",
    "neg_pairs = []\n",
    "for i in range(test_adj_matrix.shape[0]):\n",
    "    kw_edges = test_adj_matrix[i]\n",
    "    pos_matches = kw_edges.nonzero()[0]\n",
    "    neg_matches = (kw_edges==0).nonzero()[0]\n",
    "    pos_pairs.append((i,np.random.choice(pos_matches, 1)[0]))\n",
    "    neg_pairs.append((i,np.random.choice(neg_matches, 1)[0]))\n",
    "\n",
    "# Get src, pos_dst, and neg_dst node IDs\n",
    "node_embeds_dict = {'src': {'feat': torch.empty((len(pos_pairs), 512)), 'feat_pred': torch.empty((len(pos_pairs), 512))}, \n",
    "                    'pos_dst': {'feat': torch.empty((len(pos_pairs), 512)), 'feat_pred': torch.empty((len(pos_pairs), 512))}, \n",
    "                    'neg_dst': {'feat': torch.empty((len(neg_pairs), 512)), 'feat_pred': torch.empty((len(neg_pairs), 512))}}\n",
    "\n",
    "for i in range(len(pos_pairs)):\n",
    "    src_idx, pos_dst_idx = pos_pairs[i]\n",
    "    _, neg_dst_idx = neg_pairs[i]\n",
    "    for embed_type in ['feat', 'feat_pred']:\n",
    "        node_embeds_dict['src'][embed_type][i] = test_eval_subgraph.ndata[embed_type][eval_test_keyword_node_ids[src_idx]]\n",
    "        node_embeds_dict['pos_dst'][embed_type][i] = test_eval_subgraph.ndata[embed_type][eval_test_img_node_ids[pos_dst_idx]]\n",
    "        node_embeds_dict['neg_dst'][embed_type][i] = test_eval_subgraph.ndata[embed_type][eval_test_img_node_ids[neg_dst_idx]]\n",
    "\n"
   ]
  },
  {
   "cell_type": "code",
   "execution_count": null,
   "metadata": {},
   "outputs": [],
   "source": [
    "pos_matrix_feat = torch.cat((node_embeds_dict['src']['feat'], node_embeds_dict['pos_dst']['feat']))\n",
    "pos_matrix_feat_pred = torch.cat((node_embeds_dict['src']['feat_pred'], node_embeds_dict['pos_dst']['feat_pred']))\n",
    "\n",
    "neg_matrix_feat = torch.cat((node_embeds_dict['src']['feat'], node_embeds_dict['neg_dst']['feat']))\n",
    "neg_matrix_feat_pred = torch.cat((node_embeds_dict['src']['feat_pred'], node_embeds_dict['neg_dst']['feat_pred']))"
   ]
  },
  {
   "cell_type": "code",
   "execution_count": null,
   "metadata": {},
   "outputs": [
    {
     "name": "stdout",
     "output_type": "stream",
     "text": [
      "%pylab is deprecated, use %matplotlib inline and import the required libraries.\n",
      "Populating the interactive namespace from numpy and matplotlib\n"
     ]
    },
    {
     "name": "stderr",
     "output_type": "stream",
     "text": [
      "/ext3/conda/zillow_MMKG/lib/python3.8/site-packages/IPython/core/magics/pylab.py:162: UserWarning: pylab import has clobbered these variables: ['exp', 'legend']\n",
      "`%matplotlib` prevents importing * from pylab and numpy\n",
      "  warn(\"pylab import has clobbered these variables: %s\"  % clobbered +\n"
     ]
    }
   ],
   "source": [
    "%pylab inline \n",
    "import umap\n",
    "import matplotlib.pyplot as plt\n",
    "\n",
    "def umap_plot(weight_matrix1, weight_matrix2, pair_ids, title):\n",
    "    \"\"\"Run UMAP on the entire Vxd `weight_matrix` (e.g. model.lookup.weight or model.projection.weight),\n",
    "    And plot the points corresponding to the given `word_ids`. \"\"\"\n",
    "    reduced1 = umap.UMAP(min_dist=0.0001).fit_transform(weight_matrix1.detach().cpu().numpy())\n",
    "    reduced2 = umap.UMAP(min_dist=0.0001).fit_transform(weight_matrix2.detach().cpu().numpy())\n",
    "    plt.figure(figsize=(10,10))\n",
    "\n",
    "    plt.scatter(reduced1[:, 0], reduced1[:, 1], c=pair_ids, alpha=0.2)\n",
    "    for i, pair_id in enumerate(pair_ids):\n",
    "        current_point = reduced1[i]\n",
    "        plt.annotate(pair_ids[i], (current_point[0], current_point[1]), fontsize=15)\n",
    "\n",
    "    plt.scatter(reduced2[:, 0], reduced2[:, 1], c=pair_ids, alpha=1)\n",
    "    for i, pair_id in enumerate(pair_ids):\n",
    "        current_point = reduced2[i]\n",
    "        plt.annotate(pair_ids[i], (current_point[0], current_point[1]), fontsize=15)\n",
    "\n",
    "    plt.grid()\n",
    "    plt.title(title)\n",
    "    plt.show()"
   ]
  },
  {
   "cell_type": "code",
   "execution_count": null,
   "metadata": {},
   "outputs": [
    {
     "name": "stderr",
     "output_type": "stream",
     "text": [
      "OMP: Info #276: omp_set_nested routine deprecated, please use omp_set_max_active_levels instead.\n"
     ]
    },
    {
     "data": {
      "image/png": "[encoded data removed]",
      "text/plain": [
       "<Figure size 720x720 with 1 Axes>"
      ]
     },
     "metadata": {
      "needs_background": "light"
     },
     "output_type": "display_data"
    }
   ],
   "source": [
    "pair_ids = list(range(len(pos_pairs)))*2\n",
    "\n",
    "umap_plot(pos_matrix_feat, pos_matrix_feat_pred, pair_ids, title='')\n",
    "#umap_plot(pos_matrix_feat_pred, pair_ids, title='2D-projected node embeddings (positive pairs) after GraphSAGE')"
   ]
  },
  {
   "cell_type": "code",
   "execution_count": null,
   "metadata": {},
   "outputs": [
    {
     "data": {
      "image/png": "[encoded data removed]",
      "text/plain": [
       "<Figure size 720x720 with 1 Axes>"
      ]
     },
     "metadata": {
      "needs_background": "light"
     },
     "output_type": "display_data"
    }
   ],
   "source": [
    "umap_plot(neg_matrix_feat, neg_matrix_feat_pred, pair_ids, title='')"
   ]
  },
  {
   "cell_type": "code",
   "execution_count": null,
   "metadata": {},
   "outputs": [
    {
     "data": {
      "text/plain": [
       "array([[0.41376254, 0.406793  , 0.3593015 , 0.37145156, 0.3669675 ,\n",
       "        0.3856223 , 0.35454205, 0.33843422, 0.37788108, 0.34956005],\n",
       "       [0.41022965, 0.41163298, 0.35641176, 0.37172964, 0.3582063 ,\n",
       "        0.38247162, 0.3601813 , 0.35871002, 0.39194462, 0.36296853],\n",
       "       [0.36961928, 0.3511171 , 0.4165377 , 0.40971106, 0.40931374,\n",
       "        0.40487018, 0.39120394, 0.36292934, 0.375356  , 0.3830199 ],\n",
       "       [0.35885465, 0.34295437, 0.4071646 , 0.39962482, 0.41096592,\n",
       "        0.39383304, 0.38943818, 0.3504501 , 0.35264814, 0.3715793 ],\n",
       "       [0.32036084, 0.31602153, 0.343513  , 0.34363475, 0.34122783,\n",
       "        0.34303316, 0.39665672, 0.43913195, 0.43026656, 0.39631683],\n",
       "       [0.36635542, 0.34808972, 0.4130992 , 0.40371537, 0.41786703,\n",
       "        0.39567572, 0.38683197, 0.34803855, 0.3585311 , 0.37779444],\n",
       "       [0.3664673 , 0.33826905, 0.41806048, 0.41150194, 0.40996653,\n",
       "        0.40703893, 0.3848293 , 0.3394334 , 0.3627115 , 0.36737332],\n",
       "       [0.3557605 , 0.33664253, 0.4056017 , 0.41648668, 0.4089058 ,\n",
       "        0.4012178 , 0.41059813, 0.34634328, 0.36602104, 0.37603772],\n",
       "       [0.3549813 , 0.34790707, 0.3729659 , 0.36553383, 0.38540408,\n",
       "        0.36759934, 0.38743907, 0.3712725 , 0.3677744 , 0.38952577],\n",
       "       [0.34049007, 0.34147173, 0.34401783, 0.34372774, 0.35248342,\n",
       "        0.34113932, 0.38182807, 0.36277804, 0.3762942 , 0.3885544 ]],\n",
       "      dtype=float32)"
      ]
     },
     "execution_count": 54,
     "metadata": {},
     "output_type": "execute_result"
    }
   ],
   "source": [
    "pos_sim_CLIP = metrics.pairwise.cosine_similarity(node_embeds_dict['src']['feat'].detach().cpu().numpy(), \n",
    "                                                  node_embeds_dict['pos_dst']['feat'].detach().cpu().numpy())\n",
    "pos_sim_SAGE = metrics.pairwise.cosine_similarity(node_embeds_dict['src']['feat_pred'].detach().cpu().numpy(), \n",
    "                                                  node_embeds_dict['pos_dst']['feat_pred'].detach().cpu().numpy())\n",
    "\n",
    "neg_sim_CLIP = metrics.pairwise.cosine_similarity(node_embeds_dict['src']['feat'].detach().cpu().numpy(), \n",
    "                                                  node_embeds_dict['neg_dst']['feat'].detach().cpu().numpy())\n",
    "neg_sim_SAGE = metrics.pairwise.cosine_similarity(node_embeds_dict['src']['feat_pred'].detach().cpu().numpy(), \n",
    "                                                  node_embeds_dict['neg_dst']['feat_pred'].detach().cpu().numpy())\n",
    "\n",
    "pos_sim_CLIP"
   ]
  },
  {
   "cell_type": "code",
   "execution_count": null,
   "metadata": {},
   "outputs": [
    {
     "data": {
      "text/html": [
       "<div>\n",
       "<style scoped>\n",
       "    .dataframe tbody tr th:only-of-type {\n",
       "        vertical-align: middle;\n",
       "    }\n",
       "\n",
       "    .dataframe tbody tr th {\n",
       "        vertical-align: top;\n",
       "    }\n",
       "\n",
       "    .dataframe thead th {\n",
       "        text-align: right;\n",
       "    }\n",
       "</style>\n",
       "<table border=\"1\" class=\"dataframe\">\n",
       "  <thead>\n",
       "    <tr style=\"text-align: right;\">\n",
       "      <th></th>\n",
       "      <th>pair_id</th>\n",
       "      <th>src_dst_sim_CLIP</th>\n",
       "      <th>non_pair_sim_CLIP</th>\n",
       "      <th>src_dst_sim_SAGE</th>\n",
       "      <th>non_pair_sim_SAGE</th>\n",
       "      <th>pos pair similarity change</th>\n",
       "      <th>neg pair similarity change</th>\n",
       "    </tr>\n",
       "  </thead>\n",
       "  <tbody>\n",
       "    <tr>\n",
       "      <th>0</th>\n",
       "      <td>0</td>\n",
       "      <td>0.413763</td>\n",
       "      <td>0.999266</td>\n",
       "      <td>0.999266</td>\n",
       "      <td>0.0</td>\n",
       "      <td>141.507004</td>\n",
       "      <td>-100.0</td>\n",
       "    </tr>\n",
       "    <tr>\n",
       "      <th>1</th>\n",
       "      <td>1</td>\n",
       "      <td>0.411633</td>\n",
       "      <td>0.999351</td>\n",
       "      <td>0.999351</td>\n",
       "      <td>0.0</td>\n",
       "      <td>142.777161</td>\n",
       "      <td>-100.0</td>\n",
       "    </tr>\n",
       "    <tr>\n",
       "      <th>2</th>\n",
       "      <td>2</td>\n",
       "      <td>0.416538</td>\n",
       "      <td>0.990659</td>\n",
       "      <td>0.990659</td>\n",
       "      <td>0.0</td>\n",
       "      <td>137.831696</td>\n",
       "      <td>-100.0</td>\n",
       "    </tr>\n",
       "    <tr>\n",
       "      <th>3</th>\n",
       "      <td>3</td>\n",
       "      <td>0.399625</td>\n",
       "      <td>0.999185</td>\n",
       "      <td>0.999185</td>\n",
       "      <td>0.0</td>\n",
       "      <td>150.030655</td>\n",
       "      <td>-100.0</td>\n",
       "    </tr>\n",
       "    <tr>\n",
       "      <th>5</th>\n",
       "      <td>5</td>\n",
       "      <td>0.395676</td>\n",
       "      <td>0.873840</td>\n",
       "      <td>0.873840</td>\n",
       "      <td>0.0</td>\n",
       "      <td>120.847534</td>\n",
       "      <td>-100.0</td>\n",
       "    </tr>\n",
       "  </tbody>\n",
       "</table>\n",
       "</div>"
      ],
      "text/plain": [
       "   pair_id  src_dst_sim_CLIP  non_pair_sim_CLIP  src_dst_sim_SAGE  \\\n",
       "0        0          0.413763           0.999266          0.999266   \n",
       "1        1          0.411633           0.999351          0.999351   \n",
       "2        2          0.416538           0.990659          0.990659   \n",
       "3        3          0.399625           0.999185          0.999185   \n",
       "5        5          0.395676           0.873840          0.873840   \n",
       "\n",
       "   non_pair_sim_SAGE  pos pair similarity change  neg pair similarity change  \n",
       "0                0.0                  141.507004                      -100.0  \n",
       "1                0.0                  142.777161                      -100.0  \n",
       "2                0.0                  137.831696                      -100.0  \n",
       "3                0.0                  150.030655                      -100.0  \n",
       "5                0.0                  120.847534                      -100.0  "
      ]
     },
     "execution_count": 55,
     "metadata": {},
     "output_type": "execute_result"
    }
   ],
   "source": [
    "# For 10 samples, get pct change in pairwise cosine similarity for true src-dst pairs and negative pairs\n",
    "\n",
    "import pandas as pd\n",
    "from sklearn import metrics\n",
    "\n",
    "cos_similarities = pd.DataFrame()\n",
    "\n",
    "pos_sim_CLIP = metrics.pairwise.cosine_similarity(node_embeds_dict['src']['feat'].detach().cpu().numpy(), \n",
    "                                                  node_embeds_dict['pos_dst']['feat'].detach().cpu().numpy())\n",
    "pos_sim_SAGE = metrics.pairwise.cosine_similarity(node_embeds_dict['src']['feat_pred'].detach().cpu().numpy(), \n",
    "                                                  node_embeds_dict['pos_dst']['feat_pred'].detach().cpu().numpy())\n",
    "\n",
    "neg_sim_CLIP = metrics.pairwise.cosine_similarity(node_embeds_dict['src']['feat'].detach().cpu().numpy(), \n",
    "                                                  node_embeds_dict['neg_dst']['feat'].detach().cpu().numpy())\n",
    "neg_sim_SAGE = metrics.pairwise.cosine_similarity(node_embeds_dict['src']['feat_pred'].detach().cpu().numpy(), \n",
    "                                                  node_embeds_dict['neg_dst']['feat_pred'].detach().cpu().numpy())\n",
    "\n",
    "for i in range(pos_sim_CLIP.shape[0]):\n",
    "    cos_similarities = pd.concat([cos_similarities, pd.DataFrame([{'pair_id': i,\n",
    "                                                                   'src_dst_sim_CLIP': pos_sim_CLIP[i,i],\n",
    "                                                                   'non_pair_sim_CLIP': pos_sim_SAGE[i,i],\n",
    "                                                                   'src_dst_sim_SAGE': pos_sim_SAGE[i,i],\n",
    "                                                                   'non_pair_sim_SAGE': neg_sim_SAGE[i,i]}])])\n",
    "cos_similarities.reset_index(inplace=True, drop=True)\n",
    "cos_similarities['pos pair similarity change'] = (cos_similarities['src_dst_sim_SAGE'] - cos_similarities['src_dst_sim_CLIP']) / cos_similarities['src_dst_sim_CLIP'] * 100\n",
    "cos_similarities['neg pair similarity change'] = (cos_similarities['non_pair_sim_SAGE'] - cos_similarities['non_pair_sim_CLIP']) / cos_similarities['non_pair_sim_CLIP'] * 100\n",
    "\n",
    "cos_similarities = cos_similarities.replace([np.inf, -np.inf], np.nan).dropna()\n",
    "\n",
    "cos_similarities"
   ]
  },
  {
   "cell_type": "code",
   "execution_count": null,
   "metadata": {},
   "outputs": [
    {
     "data": {
      "image/png": "[encoded data removed]",
      "text/plain": [
       "<Figure size 544.475x360 with 1 Axes>"
      ]
     },
     "metadata": {},
     "output_type": "display_data"
    },
    {
     "name": "stdout",
     "output_type": "stream",
     "text": [
      "Average pair similarity change pct: 138.59882\n",
      "Average non-pair similarity change pct: -100.0\n"
     ]
    }
   ],
   "source": [
    "import seaborn as sns\n",
    "sns.set_theme(style='whitegrid')\n",
    "cos_similarities_tp = pd.melt(cos_similarities, id_vars='pair_id', value_vars=['pos pair similarity change', 'neg pair similarity change'])\n",
    "\n",
    "g = sns.catplot(data=cos_similarities_tp, kind='bar', x='pair_id', y='value', hue='variable', errorbar='sd')\n",
    "\n",
    "g.set_axis_labels('', 'pct change in cosine similarity')\n",
    "g.legend.set_title('')\n",
    "sns.move_legend(g, loc='lower center', ncol=2)\n",
    "plt.title('Percent Changes in Cosine Similarity within pair and outside pairs')\n",
    "plt.show()\n",
    "\n",
    "print('Average pair similarity change pct:', cos_similarities['pos pair similarity change'].mean())\n",
    "print('Average non-pair similarity change pct:', cos_similarities['neg pair similarity change'].mean())\n"
   ]
  },
  {
   "cell_type": "code",
   "execution_count": null,
   "metadata": {},
   "outputs": [],
   "source": [
    "# Get all positive and negative keyword-image pairs for each keyword\n",
    "pos_pairs = []\n",
    "neg_pairs = []\n",
    "for i in range(test_adj_matrix.shape[0]):\n",
    "    kw_edges = test_adj_matrix[i]\n",
    "    pos_matches = kw_edges.nonzero()[0]\n",
    "    neg_matches = np.random.choice((kw_edges==0).nonzero()[0], len(pos_matches))\n",
    "    for j in range(len(pos_matches)):\n",
    "        pos_pairs.append((i, pos_matches[j]))\n",
    "        neg_pairs.append((i, neg_matches[j]))\n",
    "\n",
    "# Get src, pos_dst, and neg_dst node IDs\n",
    "node_embeds_dict = {'src': {'feat': torch.empty((len(pos_pairs), 512)), 'feat_pred': torch.empty((len(pos_pairs), 512))}, \n",
    "                    'pos_dst': {'feat': torch.empty((len(pos_pairs), 512)), 'feat_pred': torch.empty((len(pos_pairs), 512))}, \n",
    "                    'neg_dst': {'feat': torch.empty((len(neg_pairs), 512)), 'feat_pred': torch.empty((len(neg_pairs), 512))}}\n",
    "\n",
    "for i in range(len(pos_pairs)):\n",
    "    src_idx, pos_dst_idx = pos_pairs[i]\n",
    "    _, neg_dst_idx = neg_pairs[i]\n",
    "    for embed_type in ['feat', 'feat_pred']:\n",
    "        node_embeds_dict['src'][embed_type][i] = test_eval_subgraph.ndata[embed_type][eval_test_keyword_node_ids[src_idx]]\n",
    "        node_embeds_dict['pos_dst'][embed_type][i] = test_eval_subgraph.ndata[embed_type][eval_test_img_node_ids[pos_dst_idx]]\n",
    "        node_embeds_dict['neg_dst'][embed_type][i] = test_eval_subgraph.ndata[embed_type][eval_test_img_node_ids[neg_dst_idx]]\n",
    "\n"
   ]
  },
  {
   "cell_type": "code",
   "execution_count": null,
   "metadata": {},
   "outputs": [
    {
     "name": "stderr",
     "output_type": "stream",
     "text": [
      "100%|██████████| 12078/12078 [00:05<00:00, 2267.67it/s]"
     ]
    },
    {
     "name": "stdout",
     "output_type": "stream",
     "text": [
      "Median pair similarity change pct: 142.76096\n",
      "Median non-pair similarity change pct: -100.0\n"
     ]
    },
    {
     "name": "stderr",
     "output_type": "stream",
     "text": [
      "\n"
     ]
    }
   ],
   "source": [
    "# For 10 samples, get pct change in pairwise cosine similarity for true src-dst pairs and negative pairs\n",
    "\n",
    "import pandas as pd\n",
    "from sklearn import metrics\n",
    "\n",
    "cos_similarities = pd.DataFrame()\n",
    "\n",
    "pos_sim_CLIP = metrics.pairwise.cosine_similarity(node_embeds_dict['src']['feat'].detach().cpu().numpy(), \n",
    "                                                  node_embeds_dict['pos_dst']['feat'].detach().cpu().numpy())\n",
    "pos_sim_SAGE = metrics.pairwise.cosine_similarity(node_embeds_dict['src']['feat_pred'].detach().cpu().numpy(), \n",
    "                                                  node_embeds_dict['pos_dst']['feat_pred'].detach().cpu().numpy())\n",
    "\n",
    "neg_sim_CLIP = metrics.pairwise.cosine_similarity(node_embeds_dict['src']['feat'].detach().cpu().numpy(), \n",
    "                                                  node_embeds_dict['neg_dst']['feat'].detach().cpu().numpy())\n",
    "neg_sim_SAGE = metrics.pairwise.cosine_similarity(node_embeds_dict['src']['feat_pred'].detach().cpu().numpy(), \n",
    "                                                  node_embeds_dict['neg_dst']['feat_pred'].detach().cpu().numpy())\n",
    "\n",
    "for i in tqdm(range(pos_sim_CLIP.shape[0])):\n",
    "    cos_similarities = pd.concat([cos_similarities, pd.DataFrame([{'pair_id': i,\n",
    "                                                                   'src_dst_sim_CLIP': pos_sim_CLIP[i,i],\n",
    "                                                                   'non_pair_sim_CLIP': pos_sim_SAGE[i,i],\n",
    "                                                                   'src_dst_sim_SAGE': pos_sim_SAGE[i,i],\n",
    "                                                                   'non_pair_sim_SAGE': neg_sim_SAGE[i,i]}])])\n",
    "cos_similarities.reset_index(inplace=True, drop=True)\n",
    "cos_similarities['pos pair similarity change'] = (cos_similarities['src_dst_sim_SAGE'] - cos_similarities['src_dst_sim_CLIP']) / cos_similarities['src_dst_sim_CLIP'] * 100\n",
    "cos_similarities['neg pair similarity change'] = (cos_similarities['non_pair_sim_SAGE'] - cos_similarities['non_pair_sim_CLIP']) / cos_similarities['non_pair_sim_CLIP'] * 100\n",
    "cos_similarities = cos_similarities[cos_similarities['neg pair similarity change']!=np.inf]\n",
    "cos_similarities.dropna(inplace=True)\n",
    "\n",
    "print('Median pair similarity change pct:', cos_similarities['pos pair similarity change'].median())\n",
    "print('Median non-pair similarity change pct:', cos_similarities['neg pair similarity change'].median())"
   ]
  },
  {
   "cell_type": "code",
   "execution_count": null,
   "metadata": {},
   "outputs": [],
   "source": []
  }
 ],
 "metadata": {
  "kernelspec": {
   "display_name": "Python 3.8.13",
   "language": "python",
   "name": "python3"
  },
  "language_info": {
   "codemirror_mode": {
    "name": "ipython",
    "version": 3
   },
   "file_extension": ".py",
   "mimetype": "text/x-python",
   "name": "python",
   "nbconvert_exporter": "python",
   "pygments_lexer": "ipython3",
   "version": "3.8.13"
  },
  "orig_nbformat": 4,
  "vscode": {
   "interpreter": {
    "hash": "b8a98180768ec50653acfbae9679ecd2014a1d8366e4dd2cee9bea05835201d8"
   }
  }
 },
 "nbformat": 4,
 "nbformat_minor": 2
}
