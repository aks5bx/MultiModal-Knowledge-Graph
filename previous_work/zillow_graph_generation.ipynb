{
 "cells": [
  {
   "cell_type": "code",
   "execution_count": 1,
   "metadata": {},
   "outputs": [],
   "source": [
    "import os\n",
    "import sys\n",
    "import random\n",
    "import math\n",
    "import json\n",
    "import yaml\n",
    "import joblib\n",
    "from ast import literal_eval\n",
    "\n",
    "import torch\n",
    "import pydantic\n",
    "import networkx as nx\n",
    "import numpy as np\n",
    "import matplotlib.pyplot as plt\n",
    "import pandas as pd\n",
    "from tqdm import tqdm\n",
    "import dgl"
   ]
  },
  {
   "cell_type": "code",
   "execution_count": 2,
   "metadata": {},
   "outputs": [
    {
     "name": "stderr",
     "output_type": "stream",
     "text": [
      "converting list to dict: 100%|██████████| 1542/1542 [00:00<00:00, 1618117.78it/s]\n",
      "converting list to dict: 100%|██████████| 18/18 [00:00<00:00, 599186.29it/s]\n"
     ]
    }
   ],
   "source": [
    "image_embed_dict = joblib.load('../zillow_data/image_embed.joblib')\n",
    "keyword_embed_dict = {}\n",
    "scene_embed_dict = {}\n",
    "\n",
    "keyword_embed_dictlist = joblib.load('../zillow_data/keyword_embed.joblib')\n",
    "for dict in tqdm(keyword_embed_dictlist, desc='converting list to dict'):\n",
    "    dict_key = list(dict.keys())[0]\n",
    "    keyword_embed_dict[dict_key] = dict[dict_key]\n",
    "\n",
    "scene_embed_dictlist = joblib.load('../zillow_data/scene_embed.joblib')\n",
    "for dict in tqdm(scene_embed_dictlist, desc='converting list to dict'):\n",
    "    dict_key = list(dict.keys())[0]\n",
    "    scene_embed_dict[dict_key] = dict[dict_key]\n",
    "\n",
    "modal_dicts = {\n",
    "    'images': image_embed_dict,\n",
    "    'keywords': keyword_embed_dict,\n",
    "    #'scenes': scene_embed_dict\n",
    "}"
   ]
  },
  {
   "cell_type": "code",
   "execution_count": 3,
   "metadata": {},
   "outputs": [
    {
     "name": "stdout",
     "output_type": "stream",
     "text": [
      "Unique images count: 82720\n",
      "Unique keywords count: 1542\n"
     ]
    }
   ],
   "source": [
    "for modal in modal_dicts:\n",
    "    print(f'Unique {modal} count: {len(list(modal_dicts[modal].keys()))}')"
   ]
  },
  {
   "cell_type": "code",
   "execution_count": 4,
   "metadata": {},
   "outputs": [
    {
     "name": "stdout",
     "output_type": "stream",
     "text": [
      "Total rows: 130065\n",
      "Pct of images with at least one keyword: 0.2462076653980702\n"
     ]
    },
    {
     "data": {
      "text/html": [
       "<div>\n",
       "<style scoped>\n",
       "    .dataframe tbody tr th:only-of-type {\n",
       "        vertical-align: middle;\n",
       "    }\n",
       "\n",
       "    .dataframe tbody tr th {\n",
       "        vertical-align: top;\n",
       "    }\n",
       "\n",
       "    .dataframe thead th {\n",
       "        text-align: right;\n",
       "    }\n",
       "</style>\n",
       "<table border=\"1\" class=\"dataframe\">\n",
       "  <thead>\n",
       "    <tr style=\"text-align: right;\">\n",
       "      <th></th>\n",
       "      <th>scene_hash</th>\n",
       "      <th>keyword_hash</th>\n",
       "      <th>image_hash</th>\n",
       "      <th>propertyIdhash</th>\n",
       "    </tr>\n",
       "  </thead>\n",
       "  <tbody>\n",
       "    <tr>\n",
       "      <th>0</th>\n",
       "      <td>67e69903823c5a541b29be07e784b7e6</td>\n",
       "      <td>[]</td>\n",
       "      <td>8f1c8d0b5b7cc98231cdea9f923d928e</td>\n",
       "      <td>a3d2de7675556553a5f08e4c88d2c228</td>\n",
       "    </tr>\n",
       "    <tr>\n",
       "      <th>1</th>\n",
       "      <td>60825cdcaad5cba560a6f63c895e1f3b</td>\n",
       "      <td>[851112d8c835d58c497101d9886a1348, b10a8c0bede...</td>\n",
       "      <td>f2d2571c7b9a1e124b188f84222be032</td>\n",
       "      <td>6b693c1082a8f8b747d0db60d179b7b2</td>\n",
       "    </tr>\n",
       "    <tr>\n",
       "      <th>2</th>\n",
       "      <td>624109635107c411520779cf9c82ad65</td>\n",
       "      <td>[]</td>\n",
       "      <td>3feadc281c74873a6e55a4ab83ebd623</td>\n",
       "      <td>c871527ccd30371d69d21faa47008f12</td>\n",
       "    </tr>\n",
       "    <tr>\n",
       "      <th>3</th>\n",
       "      <td>624109635107c411520779cf9c82ad65</td>\n",
       "      <td>[]</td>\n",
       "      <td>71906fef662e966b21afa3d53b92decd</td>\n",
       "      <td>c871527ccd30371d69d21faa47008f12</td>\n",
       "    </tr>\n",
       "    <tr>\n",
       "      <th>4</th>\n",
       "      <td>624109635107c411520779cf9c82ad65</td>\n",
       "      <td>[]</td>\n",
       "      <td>163c91537b81f3ad637d9ceb771e2e1d</td>\n",
       "      <td>c871527ccd30371d69d21faa47008f12</td>\n",
       "    </tr>\n",
       "  </tbody>\n",
       "</table>\n",
       "</div>"
      ],
      "text/plain": [
       "                         scene_hash  \\\n",
       "0  67e69903823c5a541b29be07e784b7e6   \n",
       "1  60825cdcaad5cba560a6f63c895e1f3b   \n",
       "2  624109635107c411520779cf9c82ad65   \n",
       "3  624109635107c411520779cf9c82ad65   \n",
       "4  624109635107c411520779cf9c82ad65   \n",
       "\n",
       "                                        keyword_hash  \\\n",
       "0                                                 []   \n",
       "1  [851112d8c835d58c497101d9886a1348, b10a8c0bede...   \n",
       "2                                                 []   \n",
       "3                                                 []   \n",
       "4                                                 []   \n",
       "\n",
       "                         image_hash                    propertyIdhash  \n",
       "0  8f1c8d0b5b7cc98231cdea9f923d928e  a3d2de7675556553a5f08e4c88d2c228  \n",
       "1  f2d2571c7b9a1e124b188f84222be032  6b693c1082a8f8b747d0db60d179b7b2  \n",
       "2  3feadc281c74873a6e55a4ab83ebd623  c871527ccd30371d69d21faa47008f12  \n",
       "3  71906fef662e966b21afa3d53b92decd  c871527ccd30371d69d21faa47008f12  \n",
       "4  163c91537b81f3ad637d9ceb771e2e1d  c871527ccd30371d69d21faa47008f12  "
      ]
     },
     "execution_count": 4,
     "metadata": {},
     "output_type": "execute_result"
    }
   ],
   "source": [
    "node_links = pd.read_csv('../zillow_data/NYU_photoboard_file.csv')\n",
    "\n",
    "# convert string object of image_keyword_hash column back to a list of keyword hashes\n",
    "node_links['image_keyword_hash'] = node_links['image_keyword_hash'].apply(lambda x: literal_eval(x))\n",
    "node_links = node_links.rename(columns={'url_hash': 'image_hash', 'image_keyword_hash': 'keyword_hash'})\n",
    "\n",
    "print('Total rows:', len(node_links))\n",
    "\n",
    "node_links_keywords_only = node_links[node_links['keyword_hash'].apply(lambda x: x!=[])]\n",
    "print('Pct of images with at least one keyword:', len(node_links_keywords_only) / len(node_links))\n",
    "node_links.head()\n"
   ]
  },
  {
   "cell_type": "code",
   "execution_count": 5,
   "metadata": {},
   "outputs": [
    {
     "name": "stderr",
     "output_type": "stream",
     "text": [
      "formatting images node embeddings: 100%|██████████| 82720/82720 [00:17<00:00, 4723.76it/s]\n",
      "formatting keywords node embeddings: 100%|██████████| 1542/1542 [00:00<00:00, 4647.63it/s]\n"
     ]
    }
   ],
   "source": [
    "def get_train_val_test_masks(node_ids):\n",
    "    idxs = [0, 1, 2]\n",
    "    idx_masks = np.array(random.choices(idxs, weights = (0.7, 0.15, 0.15), k=len(node_ids)))\n",
    "    train_val_test_masks = np.zeros((idx_masks.size, idx_masks.max() + 1))\n",
    "    train_val_test_masks[np.arange(idx_masks.size), idx_masks] = 1\n",
    "    train_val_test_masks = np.array(train_val_test_masks, dtype=bool)\n",
    "    \n",
    "    return train_val_test_masks\n",
    "\n",
    "def nodes_table(modal, modal_dict):\n",
    "    node_ids = list(modal_dict.keys())\n",
    "    nodes = pd.DataFrame({'node_id': list(node_ids)})\n",
    "    train_val_test_masks = get_train_val_test_masks(node_ids)\n",
    "    nodes[['train_mask', 'val_mask', 'test_mask']] = train_val_test_masks\n",
    "    \n",
    "    tqdm.pandas(desc=f'formatting {modal} node embeddings')\n",
    "    nodes['feat'] = nodes['node_id'].progress_apply(lambda x: ', '.join([str(y) for y in modal_dict[x].tolist()]))\n",
    "\n",
    "    return nodes\n",
    "\n",
    "nodes_table_modals = pd.DataFrame()\n",
    "for modal in modal_dicts:\n",
    "    nodes_table_modals = pd.concat([nodes_table_modals, nodes_table(modal, modal_dicts[modal])])\n",
    "\n",
    "nodes_table_modals = nodes_table_modals.drop_duplicates(subset='node_id')"
   ]
  },
  {
   "cell_type": "code",
   "execution_count": 6,
   "metadata": {},
   "outputs": [
    {
     "data": {
      "text/html": [
       "<div>\n",
       "<style scoped>\n",
       "    .dataframe tbody tr th:only-of-type {\n",
       "        vertical-align: middle;\n",
       "    }\n",
       "\n",
       "    .dataframe tbody tr th {\n",
       "        vertical-align: top;\n",
       "    }\n",
       "\n",
       "    .dataframe thead th {\n",
       "        text-align: right;\n",
       "    }\n",
       "</style>\n",
       "<table border=\"1\" class=\"dataframe\">\n",
       "  <thead>\n",
       "    <tr style=\"text-align: right;\">\n",
       "      <th></th>\n",
       "      <th>node_id</th>\n",
       "      <th>train_mask</th>\n",
       "      <th>val_mask</th>\n",
       "      <th>test_mask</th>\n",
       "      <th>feat</th>\n",
       "    </tr>\n",
       "  </thead>\n",
       "  <tbody>\n",
       "    <tr>\n",
       "      <th>0</th>\n",
       "      <td>e8ca9e20156cff1b5166093249a1a808</td>\n",
       "      <td>True</td>\n",
       "      <td>False</td>\n",
       "      <td>False</td>\n",
       "      <td>-0.019534708932042122, -0.008678311482071877, ...</td>\n",
       "    </tr>\n",
       "    <tr>\n",
       "      <th>1</th>\n",
       "      <td>0b4f1031b484ce309932faab718593e5</td>\n",
       "      <td>True</td>\n",
       "      <td>False</td>\n",
       "      <td>False</td>\n",
       "      <td>-0.020777437835931778, 0.007536700926721096, -...</td>\n",
       "    </tr>\n",
       "    <tr>\n",
       "      <th>2</th>\n",
       "      <td>54ea244b01d4fe7bcfb8910e1b16e2da</td>\n",
       "      <td>True</td>\n",
       "      <td>False</td>\n",
       "      <td>False</td>\n",
       "      <td>-0.012318197637796402, 0.002343656960874796, 0...</td>\n",
       "    </tr>\n",
       "    <tr>\n",
       "      <th>3</th>\n",
       "      <td>3fde20991fe86c0b28b70c050c2c7d5b</td>\n",
       "      <td>True</td>\n",
       "      <td>False</td>\n",
       "      <td>False</td>\n",
       "      <td>0.03275497257709503, 0.01234776247292757, -0.0...</td>\n",
       "    </tr>\n",
       "    <tr>\n",
       "      <th>4</th>\n",
       "      <td>d14b527f68e2b30ced4d2ddc9d18ff83</td>\n",
       "      <td>False</td>\n",
       "      <td>True</td>\n",
       "      <td>False</td>\n",
       "      <td>-0.027265874668955803, -0.010033353231847286, ...</td>\n",
       "    </tr>\n",
       "  </tbody>\n",
       "</table>\n",
       "</div>"
      ],
      "text/plain": [
       "                            node_id  train_mask  val_mask  test_mask  \\\n",
       "0  e8ca9e20156cff1b5166093249a1a808        True     False      False   \n",
       "1  0b4f1031b484ce309932faab718593e5        True     False      False   \n",
       "2  54ea244b01d4fe7bcfb8910e1b16e2da        True     False      False   \n",
       "3  3fde20991fe86c0b28b70c050c2c7d5b        True     False      False   \n",
       "4  d14b527f68e2b30ced4d2ddc9d18ff83       False      True      False   \n",
       "\n",
       "                                                feat  \n",
       "0  -0.019534708932042122, -0.008678311482071877, ...  \n",
       "1  -0.020777437835931778, 0.007536700926721096, -...  \n",
       "2  -0.012318197637796402, 0.002343656960874796, 0...  \n",
       "3  0.03275497257709503, 0.01234776247292757, -0.0...  \n",
       "4  -0.027265874668955803, -0.010033353231847286, ...  "
      ]
     },
     "execution_count": 6,
     "metadata": {},
     "output_type": "execute_result"
    }
   ],
   "source": [
    "nodes_table_modals.head()"
   ]
  },
  {
   "cell_type": "code",
   "execution_count": 7,
   "metadata": {},
   "outputs": [
    {
     "data": {
      "text/html": [
       "<div>\n",
       "<style scoped>\n",
       "    .dataframe tbody tr th:only-of-type {\n",
       "        vertical-align: middle;\n",
       "    }\n",
       "\n",
       "    .dataframe tbody tr th {\n",
       "        vertical-align: top;\n",
       "    }\n",
       "\n",
       "    .dataframe thead th {\n",
       "        text-align: right;\n",
       "    }\n",
       "</style>\n",
       "<table border=\"1\" class=\"dataframe\">\n",
       "  <thead>\n",
       "    <tr style=\"text-align: right;\">\n",
       "      <th></th>\n",
       "      <th>src_id</th>\n",
       "      <th>dst_id</th>\n",
       "    </tr>\n",
       "  </thead>\n",
       "  <tbody>\n",
       "    <tr>\n",
       "      <th>0</th>\n",
       "      <td>f2d2571c7b9a1e124b188f84222be032</td>\n",
       "      <td>851112d8c835d58c497101d9886a1348</td>\n",
       "    </tr>\n",
       "    <tr>\n",
       "      <th>1</th>\n",
       "      <td>f2d2571c7b9a1e124b188f84222be032</td>\n",
       "      <td>b10a8c0bede9eb4ea771b04db3149f28</td>\n",
       "    </tr>\n",
       "    <tr>\n",
       "      <th>2</th>\n",
       "      <td>f2d2571c7b9a1e124b188f84222be032</td>\n",
       "      <td>6160972776d990112e5df1ceb938816c</td>\n",
       "    </tr>\n",
       "    <tr>\n",
       "      <th>3</th>\n",
       "      <td>f2d2571c7b9a1e124b188f84222be032</td>\n",
       "      <td>b0fa4a8e9d7f6c1142af3533143a5052</td>\n",
       "    </tr>\n",
       "    <tr>\n",
       "      <th>4</th>\n",
       "      <td>f2d2571c7b9a1e124b188f84222be032</td>\n",
       "      <td>4a212f77b521bc754e6681feb46f1bd9</td>\n",
       "    </tr>\n",
       "  </tbody>\n",
       "</table>\n",
       "</div>"
      ],
      "text/plain": [
       "                             src_id                            dst_id\n",
       "0  f2d2571c7b9a1e124b188f84222be032  851112d8c835d58c497101d9886a1348\n",
       "1  f2d2571c7b9a1e124b188f84222be032  b10a8c0bede9eb4ea771b04db3149f28\n",
       "2  f2d2571c7b9a1e124b188f84222be032  6160972776d990112e5df1ceb938816c\n",
       "3  f2d2571c7b9a1e124b188f84222be032  b0fa4a8e9d7f6c1142af3533143a5052\n",
       "4  f2d2571c7b9a1e124b188f84222be032  4a212f77b521bc754e6681feb46f1bd9"
      ]
     },
     "execution_count": 7,
     "metadata": {},
     "output_type": "execute_result"
    }
   ],
   "source": [
    "def edges_table(node_links, src_col, dest_col):\n",
    "    edges = node_links[[src_col, dest_col]]\n",
    "    dest_is_list = (edges.applymap(type) == list)[dest_col].iloc[0]\n",
    "    if dest_is_list == True:\n",
    "        edges = edges.explode(dest_col)\\\n",
    "                     .dropna(subset=dest_col)\\\n",
    "                     .rename(columns={src_col: 'src_id', dest_col: 'dst_id'})\\\n",
    "                     .reset_index(drop=True)\n",
    "    \n",
    "    return edges\n",
    "\n",
    "edges = edges_table(node_links, 'image_hash', 'keyword_hash')\n",
    "edges.head()"
   ]
  },
  {
   "cell_type": "code",
   "execution_count": 36,
   "metadata": {},
   "outputs": [],
   "source": [
    "# Get cosine similarity of image vectors and tag vectors\n",
    "from sklearn import metrics\n",
    "\n",
    "def get_cosine_sim(vecs, all_vecs, vec_idxs):\n",
    "    '''\n",
    "    Given a batch of vectors bxd and a matrix of vectors mxd for comparison, \n",
    "    give the cosine similarities between the batch vecs and every vector in all_vecs, which\n",
    "    is calculated by dot(vecs, all_vecs) / (norm(vecs)*norm(all_vecs)) for vec2s in all_vecs\n",
    "\n",
    "    Returns bxm-sized array of cosine similarities, where idxs corresponding to input vecs is set to 0\n",
    "    '''\n",
    "    cosine_sims = metrics.pairwise.cosine_similarity(vecs, all_vecs)\n",
    "    cosine_sims[np.arange(vec_idxs.size), vec_idxs] = 0\n",
    "\n",
    "    return cosine_sims\n",
    "\n",
    "def get_modal_embeds(modal, modal_dicts):\n",
    "    '''\n",
    "    Inputs:\n",
    "        - modal (str): modality key to access modality's embeddings from modal_dicts\n",
    "        - modal_dicts (dict): dictionary that is structured as follows:\n",
    "            modal_dict = {modal: {modality_hash_1: [hash_1_embedding],\n",
    "                                  modality_hash_2: [hash_2_embedding],\n",
    "                                  ...}}\n",
    "\n",
    "    Outputs:\n",
    "    For a given modality (image or keyword), return: \n",
    "        - modal_embeds (np array): all embeddings corresponding for the given modality\n",
    "        - hash_ids (np array): np array where ith entry is the hash_id of the ith row in modal_embeds\n",
    "    \n",
    "\n",
    "    '''\n",
    "    modal_dict = modal_dicts[modal]\n",
    "    embed_dim = len(modal_dict[list(modal_dict.keys())[0]])\n",
    "    modal_embeds = np.empty((len(modal_dict.keys()), embed_dim))\n",
    "    hash_ids = np.array(['']*len(modal_dict.keys()), dtype=object)\n",
    "\n",
    "    for i, key in enumerate(modal_dict.keys()):\n",
    "        modal_embeds[i] = modal_dict[key]\n",
    "        hash_ids[i] = key\n",
    "\n",
    "    return modal_embeds, hash_ids\n",
    "\n",
    "def get_new_edges(modal_embeds, hash_ids, sim_threshold, batch_size=500):\n",
    "    new_edges = pd.DataFrame(columns=['src_id', 'dst_id'])\n",
    "    sim_stats = {'avg': [], 'min': [], 'max': []}\n",
    "\n",
    "    # Iterate from 1 to len(modal_embeds) + 1 b/c 0th index is reserved for placeholder\n",
    "    for i in tqdm(range(0, len(modal_embeds), batch_size), desc='getting new similarity-based edges'):\n",
    "        edges_to_add = pd.DataFrame()\n",
    "        end = min(i+batch_size, len(modal_embeds))\n",
    "\n",
    "        embeds_batch = modal_embeds[i:end]\n",
    "        cosine_sims_matrix = get_cosine_sim(embeds_batch, modal_embeds, np.array(range(i,end)))\n",
    "        \n",
    "        image_matches = []\n",
    "        for cosine_sims in cosine_sims_matrix:\n",
    "            hash_ids_relevant = hash_ids[(cosine_sims>sim_threshold)]\n",
    "            image_matches.append(hash_ids_relevant.tolist())\n",
    "        \n",
    "        edges_to_add['src_id'] = hash_ids[i:end]\n",
    "        edges_to_add['dst_id'] = image_matches\n",
    "        \n",
    "        new_edges = pd.concat([new_edges, edges_to_add])\n",
    "    \n",
    "    new_edges = new_edges.explode('dst_id').dropna().drop_duplicates().reset_index(drop=True)\n",
    "\n",
    "    return new_edges\n",
    "\n"
   ]
  },
  {
   "cell_type": "code",
   "execution_count": 44,
   "metadata": {},
   "outputs": [
    {
     "name": "stderr",
     "output_type": "stream",
     "text": [
      "getting new similarity-based edges: 100%|██████████| 166/166 [01:22<00:00,  2.02it/s]\n"
     ]
    },
    {
     "name": "stdout",
     "output_type": "stream",
     "text": [
      "New edges added at threshold 0.95: 46770056\n"
     ]
    },
    {
     "name": "stderr",
     "output_type": "stream",
     "text": [
      "getting new similarity-based edges: 100%|██████████| 166/166 [01:22<00:00,  2.01it/s]\n"
     ]
    },
    {
     "name": "stdout",
     "output_type": "stream",
     "text": [
      "New edges added at threshold 0.96: 14804198\n"
     ]
    },
    {
     "name": "stderr",
     "output_type": "stream",
     "text": [
      "getting new similarity-based edges: 100%|██████████| 166/166 [01:25<00:00,  1.95it/s]\n"
     ]
    },
    {
     "name": "stdout",
     "output_type": "stream",
     "text": [
      "New edges added at threshold 0.97: 2528134\n"
     ]
    },
    {
     "name": "stderr",
     "output_type": "stream",
     "text": [
      "getting new similarity-based edges: 100%|██████████| 166/166 [01:30<00:00,  1.84it/s]\n"
     ]
    },
    {
     "name": "stdout",
     "output_type": "stream",
     "text": [
      "New edges added at threshold 0.98: 104238\n"
     ]
    },
    {
     "name": "stderr",
     "output_type": "stream",
     "text": [
      "getting new similarity-based edges: 100%|██████████| 166/166 [01:27<00:00,  1.89it/s]"
     ]
    },
    {
     "name": "stdout",
     "output_type": "stream",
     "text": [
      "New edges added at threshold 0.99: 876\n"
     ]
    },
    {
     "name": "stderr",
     "output_type": "stream",
     "text": [
      "\n"
     ]
    },
    {
     "data": {
      "text/plain": [
       "Text(0, 0.5, 'new_edges_counts')"
      ]
     },
     "execution_count": 44,
     "metadata": {},
     "output_type": "execute_result"
    },
    {
     "data": {
      "image/png": "[encoded data removed]",
      "text/plain": [
       "<Figure size 640x480 with 1 Axes>"
      ]
     },
     "metadata": {},
     "output_type": "display_data"
    }
   ],
   "source": [
    "thresholds = [0.95, 0.96, 0.97, 0.98, 0.99]\n",
    "new_edges_counts = []\n",
    "modal_embeds, hash_ids = get_modal_embeds('images', modal_dicts)\n",
    "\n",
    "for threshold in thresholds:\n",
    "    new_edges = get_new_edges(modal_embeds, hash_ids, sim_threshold=threshold)\n",
    "    new_edges_counts.append(len(new_edges))\n",
    "    print(f'New edges added at threshold {threshold}:', len(new_edges))\n",
    "\n",
    "\n",
    "plt.plot(thresholds, new_edges_counts)\n",
    "plt.xlabel('threshold')\n",
    "plt.ylabel('new_edges_counts')\n"
   ]
  },
  {
   "cell_type": "code",
   "execution_count": 9,
   "metadata": {},
   "outputs": [],
   "source": [
    "# Store graph csv files\n",
    "\n",
    "if not os.path.exists('zillow_graph_csv'):\n",
    "    os.mkdir('zillow_graph_csv')\n",
    "\n",
    "edges.to_csv('zillow_graph_csv/zillow_edges.csv', index=False)\n",
    "nodes_table_modals.to_csv('zillow_graph_csv/zillow_nodes.csv', index=False)\n",
    "\n",
    "g_metadata = {\n",
    "    'dataset_name': 'zillow_graph',\n",
    "    'edge_data': [{'file_name': 'zillow_edges.csv'}],\n",
    "    'node_data': [{'file_name': 'zillow_nodes.csv'}]\n",
    "}\n",
    "\n",
    "with open('zillow_graph_csv/meta.yaml', 'w') as file:\n",
    "    yaml.dump(g_metadata, file)"
   ]
  },
  {
   "cell_type": "code",
   "execution_count": 10,
   "metadata": {},
   "outputs": [
    {
     "name": "stdout",
     "output_type": "stream",
     "text": [
      "Done saving data into cached files.\n"
     ]
    },
    {
     "data": {
      "text/plain": [
       "Dataset(\"zillow_graph\", num_graphs=1, save_path=./zillow_graph_csv/zillow_graph)"
      ]
     },
     "execution_count": 10,
     "metadata": {},
     "output_type": "execute_result"
    }
   ],
   "source": [
    "zillow_graph_dataset = dgl.data.CSVDataset('./zillow_graph_csv')\n",
    "zillow_graph_dataset"
   ]
  },
  {
   "cell_type": "code",
   "execution_count": 11,
   "metadata": {},
   "outputs": [
    {
     "data": {
      "text/plain": [
       "Graph(num_nodes=84270, num_edges=226807,\n",
       "      ndata_schemes={}\n",
       "      edata_schemes={})"
      ]
     },
     "execution_count": 11,
     "metadata": {},
     "output_type": "execute_result"
    }
   ],
   "source": [
    "zillow_graph_dataset[0]"
   ]
  },
  {
   "cell_type": "code",
   "execution_count": 12,
   "metadata": {},
   "outputs": [
    {
     "ename": "KeyboardInterrupt",
     "evalue": "",
     "output_type": "error",
     "traceback": [
      "\u001b[0;31m---------------------------------------------------------------------------\u001b[0m",
      "\u001b[0;31mKeyboardInterrupt\u001b[0m                         Traceback (most recent call last)",
      "\u001b[1;32m/scratch/alc9635/NYU-Zillow-Capstone-2022-Team-A/graph/zillow_graph_generation.ipynb Cell 10\u001b[0m in \u001b[0;36m<cell line: 9>\u001b[0;34m()\u001b[0m\n\u001b[1;32m      <a href='vscode-notebook-cell://ssh-remote%2Bgreenecomputecontainer/scratch/alc9635/NYU-Zillow-Capstone-2022-Team-A/graph/zillow_graph_generation.ipynb#X14sdnNjb2RlLXJlbW90ZQ%3D%3D?line=6'>7</a>\u001b[0m G \u001b[39m=\u001b[39m dgl\u001b[39m.\u001b[39mto_networkx(g)\n\u001b[1;32m      <a href='vscode-notebook-cell://ssh-remote%2Bgreenecomputecontainer/scratch/alc9635/NYU-Zillow-Capstone-2022-Team-A/graph/zillow_graph_generation.ipynb#X14sdnNjb2RlLXJlbW90ZQ%3D%3D?line=7'>8</a>\u001b[0m plt\u001b[39m.\u001b[39mfigure(figsize\u001b[39m=\u001b[39m[\u001b[39m15\u001b[39m,\u001b[39m7\u001b[39m])\n\u001b[0;32m----> <a href='vscode-notebook-cell://ssh-remote%2Bgreenecomputecontainer/scratch/alc9635/NYU-Zillow-Capstone-2022-Team-A/graph/zillow_graph_generation.ipynb#X14sdnNjb2RlLXJlbW90ZQ%3D%3D?line=8'>9</a>\u001b[0m nx\u001b[39m.\u001b[39;49mdraw(G, \u001b[39m*\u001b[39;49m\u001b[39m*\u001b[39;49moptions)\n",
      "File \u001b[0;32m/ext3/conda/zillow_MMKG/lib/python3.8/site-packages/networkx/drawing/nx_pylab.py:121\u001b[0m, in \u001b[0;36mdraw\u001b[0;34m(G, pos, ax, **kwds)\u001b[0m\n\u001b[1;32m    118\u001b[0m \u001b[39mif\u001b[39;00m \u001b[39m\"\u001b[39m\u001b[39mwith_labels\u001b[39m\u001b[39m\"\u001b[39m \u001b[39mnot\u001b[39;00m \u001b[39min\u001b[39;00m kwds:\n\u001b[1;32m    119\u001b[0m     kwds[\u001b[39m\"\u001b[39m\u001b[39mwith_labels\u001b[39m\u001b[39m\"\u001b[39m] \u001b[39m=\u001b[39m \u001b[39m\"\u001b[39m\u001b[39mlabels\u001b[39m\u001b[39m\"\u001b[39m \u001b[39min\u001b[39;00m kwds\n\u001b[0;32m--> 121\u001b[0m draw_networkx(G, pos\u001b[39m=\u001b[39;49mpos, ax\u001b[39m=\u001b[39;49max, \u001b[39m*\u001b[39;49m\u001b[39m*\u001b[39;49mkwds)\n\u001b[1;32m    122\u001b[0m ax\u001b[39m.\u001b[39mset_axis_off()\n\u001b[1;32m    123\u001b[0m plt\u001b[39m.\u001b[39mdraw_if_interactive()\n",
      "File \u001b[0;32m/ext3/conda/zillow_MMKG/lib/python3.8/site-packages/networkx/drawing/nx_pylab.py:331\u001b[0m, in \u001b[0;36mdraw_networkx\u001b[0;34m(G, pos, arrows, with_labels, **kwds)\u001b[0m\n\u001b[1;32m    328\u001b[0m label_kwds \u001b[39m=\u001b[39m {k: v \u001b[39mfor\u001b[39;00m k, v \u001b[39min\u001b[39;00m kwds\u001b[39m.\u001b[39mitems() \u001b[39mif\u001b[39;00m k \u001b[39min\u001b[39;00m valid_label_kwds}\n\u001b[1;32m    330\u001b[0m \u001b[39mif\u001b[39;00m pos \u001b[39mis\u001b[39;00m \u001b[39mNone\u001b[39;00m:\n\u001b[0;32m--> 331\u001b[0m     pos \u001b[39m=\u001b[39m nx\u001b[39m.\u001b[39;49mdrawing\u001b[39m.\u001b[39;49mspring_layout(G)  \u001b[39m# default to spring layout\u001b[39;00m\n\u001b[1;32m    333\u001b[0m draw_networkx_nodes(G, pos, \u001b[39m*\u001b[39m\u001b[39m*\u001b[39mnode_kwds)\n\u001b[1;32m    334\u001b[0m draw_networkx_edges(G, pos, arrows\u001b[39m=\u001b[39marrows, \u001b[39m*\u001b[39m\u001b[39m*\u001b[39medge_kwds)\n",
      "File \u001b[0;32m/ext3/conda/zillow_MMKG/lib/python3.8/site-packages/networkx/utils/decorators.py:795\u001b[0m, in \u001b[0;36margmap.__call__.<locals>.func\u001b[0;34m(_argmap__wrapper, *args, **kwargs)\u001b[0m\n\u001b[1;32m    794\u001b[0m \u001b[39mdef\u001b[39;00m \u001b[39mfunc\u001b[39m(\u001b[39m*\u001b[39margs, __wrapper\u001b[39m=\u001b[39m\u001b[39mNone\u001b[39;00m, \u001b[39m*\u001b[39m\u001b[39m*\u001b[39mkwargs):\n\u001b[0;32m--> 795\u001b[0m     \u001b[39mreturn\u001b[39;00m argmap\u001b[39m.\u001b[39;49m_lazy_compile(__wrapper)(\u001b[39m*\u001b[39;49margs, \u001b[39m*\u001b[39;49m\u001b[39m*\u001b[39;49mkwargs)\n",
      "File \u001b[0;32m<class 'networkx.utils.decorators.argmap'> compilation 4:4\u001b[0m, in \u001b[0;36margmap_spring_layout_1\u001b[0;34m(G, k, pos, fixed, iterations, threshold, weight, scale, center, dim, seed)\u001b[0m\n\u001b[1;32m      2\u001b[0m \u001b[39mfrom\u001b[39;00m \u001b[39mos\u001b[39;00m\u001b[39m.\u001b[39;00m\u001b[39mpath\u001b[39;00m \u001b[39mimport\u001b[39;00m splitext\n\u001b[1;32m      3\u001b[0m \u001b[39mfrom\u001b[39;00m \u001b[39mcontextlib\u001b[39;00m \u001b[39mimport\u001b[39;00m contextmanager\n\u001b[0;32m----> 4\u001b[0m \u001b[39mfrom\u001b[39;00m \u001b[39mpathlib\u001b[39;00m \u001b[39mimport\u001b[39;00m Path\n\u001b[1;32m      5\u001b[0m \u001b[39mimport\u001b[39;00m \u001b[39mwarnings\u001b[39;00m\n\u001b[1;32m      7\u001b[0m \u001b[39mimport\u001b[39;00m \u001b[39mnetworkx\u001b[39;00m \u001b[39mas\u001b[39;00m \u001b[39mnx\u001b[39;00m\n",
      "File \u001b[0;32m/ext3/conda/zillow_MMKG/lib/python3.8/site-packages/networkx/drawing/layout.py:481\u001b[0m, in \u001b[0;36mspring_layout\u001b[0;34m(G, k, pos, fixed, iterations, threshold, weight, scale, center, dim, seed)\u001b[0m\n\u001b[1;32m    479\u001b[0m         nnodes, _ \u001b[39m=\u001b[39m A\u001b[39m.\u001b[39mshape\n\u001b[1;32m    480\u001b[0m         k \u001b[39m=\u001b[39m dom_size \u001b[39m/\u001b[39m np\u001b[39m.\u001b[39msqrt(nnodes)\n\u001b[0;32m--> 481\u001b[0m     pos \u001b[39m=\u001b[39m _sparse_fruchterman_reingold(\n\u001b[1;32m    482\u001b[0m         A, k, pos_arr, fixed, iterations, threshold, dim, seed\n\u001b[1;32m    483\u001b[0m     )\n\u001b[1;32m    484\u001b[0m \u001b[39mexcept\u001b[39;00m \u001b[39mValueError\u001b[39;00m:\n\u001b[1;32m    485\u001b[0m     A \u001b[39m=\u001b[39m nx\u001b[39m.\u001b[39mto_numpy_array(G, weight\u001b[39m=\u001b[39mweight)\n",
      "File \u001b[0;32m/ext3/conda/zillow_MMKG/lib/python3.8/site-packages/networkx/utils/decorators.py:795\u001b[0m, in \u001b[0;36margmap.__call__.<locals>.func\u001b[0;34m(_argmap__wrapper, *args, **kwargs)\u001b[0m\n\u001b[1;32m    794\u001b[0m \u001b[39mdef\u001b[39;00m \u001b[39mfunc\u001b[39m(\u001b[39m*\u001b[39margs, __wrapper\u001b[39m=\u001b[39m\u001b[39mNone\u001b[39;00m, \u001b[39m*\u001b[39m\u001b[39m*\u001b[39mkwargs):\n\u001b[0;32m--> 795\u001b[0m     \u001b[39mreturn\u001b[39;00m argmap\u001b[39m.\u001b[39;49m_lazy_compile(__wrapper)(\u001b[39m*\u001b[39;49margs, \u001b[39m*\u001b[39;49m\u001b[39m*\u001b[39;49mkwargs)\n",
      "File \u001b[0;32m<class 'networkx.utils.decorators.argmap'> compilation 8:4\u001b[0m, in \u001b[0;36margmap__sparse_fruchterman_reingold_5\u001b[0;34m(A, k, pos, fixed, iterations, threshold, dim, seed)\u001b[0m\n\u001b[1;32m      2\u001b[0m \u001b[39mfrom\u001b[39;00m \u001b[39mos\u001b[39;00m\u001b[39m.\u001b[39;00m\u001b[39mpath\u001b[39;00m \u001b[39mimport\u001b[39;00m splitext\n\u001b[1;32m      3\u001b[0m \u001b[39mfrom\u001b[39;00m \u001b[39mcontextlib\u001b[39;00m \u001b[39mimport\u001b[39;00m contextmanager\n\u001b[0;32m----> 4\u001b[0m \u001b[39mfrom\u001b[39;00m \u001b[39mpathlib\u001b[39;00m \u001b[39mimport\u001b[39;00m Path\n\u001b[1;32m      5\u001b[0m \u001b[39mimport\u001b[39;00m \u001b[39mwarnings\u001b[39;00m\n\u001b[1;32m      7\u001b[0m \u001b[39mimport\u001b[39;00m \u001b[39mnetworkx\u001b[39;00m \u001b[39mas\u001b[39;00m \u001b[39mnx\u001b[39;00m\n",
      "File \u001b[0;32m/ext3/conda/zillow_MMKG/lib/python3.8/site-packages/networkx/drawing/layout.py:620\u001b[0m, in \u001b[0;36m_sparse_fruchterman_reingold\u001b[0;34m(A, k, pos, fixed, iterations, threshold, dim, seed)\u001b[0m\n\u001b[1;32m    618\u001b[0m distance \u001b[39m=\u001b[39m np\u001b[39m.\u001b[39msqrt((delta \u001b[39m*\u001b[39m\u001b[39m*\u001b[39m \u001b[39m2\u001b[39m)\u001b[39m.\u001b[39msum(axis\u001b[39m=\u001b[39m\u001b[39m0\u001b[39m))\n\u001b[1;32m    619\u001b[0m \u001b[39m# enforce minimum distance of 0.01\u001b[39;00m\n\u001b[0;32m--> 620\u001b[0m distance \u001b[39m=\u001b[39m np\u001b[39m.\u001b[39;49mwhere(distance \u001b[39m<\u001b[39;49m \u001b[39m0.01\u001b[39;49m, \u001b[39m0.01\u001b[39;49m, distance)\n\u001b[1;32m    621\u001b[0m \u001b[39m# the adjacency matrix row\u001b[39;00m\n\u001b[1;32m    622\u001b[0m Ai \u001b[39m=\u001b[39m np\u001b[39m.\u001b[39masarray(A\u001b[39m.\u001b[39mgetrowview(i)\u001b[39m.\u001b[39mtoarray())\n",
      "File \u001b[0;32m<__array_function__ internals>:180\u001b[0m, in \u001b[0;36mwhere\u001b[0;34m(*args, **kwargs)\u001b[0m\n",
      "\u001b[0;31mKeyboardInterrupt\u001b[0m: "
     ]
    },
    {
     "data": {
      "image/png": "[encoded data removed]",
      "text/plain": [
       "<Figure size 1080x504 with 1 Axes>"
      ]
     },
     "metadata": {},
     "output_type": "display_data"
    }
   ],
   "source": [
    "g = zillow_graph_dataset[0]\n",
    "options = {\n",
    "    'node_color': 'blue',\n",
    "    'node_size': 10,\n",
    "    'width': 1,\n",
    "}\n",
    "G = dgl.to_networkx(g)\n",
    "plt.figure(figsize=[15,7])\n",
    "nx.draw(G, **options)"
   ]
  },
  {
   "cell_type": "code",
   "execution_count": null,
   "metadata": {},
   "outputs": [],
   "source": []
  }
 ],
 "metadata": {
  "kernelspec": {
   "display_name": "capstone",
   "language": "python",
   "name": "capstone"
  },
  "language_info": {
   "codemirror_mode": {
    "name": "ipython",
    "version": 3
   },
   "file_extension": ".py",
   "mimetype": "text/x-python",
   "name": "python",
   "nbconvert_exporter": "python",
   "pygments_lexer": "ipython3",
   "version": "3.8.13"
  },
  "orig_nbformat": 4,
  "vscode": {
   "interpreter": {
    "hash": "b8a98180768ec50653acfbae9679ecd2014a1d8366e4dd2cee9bea05835201d8"
   }
  }
 },
 "nbformat": 4,
 "nbformat_minor": 2
}
