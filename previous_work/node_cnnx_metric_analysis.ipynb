{
 "cells": [
  {
   "cell_type": "markdown",
   "metadata": {},
   "source": [
    "## **Setup**"
   ]
  },
  {
   "cell_type": "code",
   "execution_count": 1,
   "metadata": {},
   "outputs": [],
   "source": [
    "import pandas as pd\n",
    "metrics_dir = '../exprmt_metrics/'"
   ]
  },
  {
   "cell_type": "markdown",
   "metadata": {},
   "source": [
    "## **Read in Data**"
   ]
  },
  {
   "cell_type": "code",
   "execution_count": 2,
   "metadata": {},
   "outputs": [],
   "source": [
    "suffix = '.csv'\n",
    "\n",
    "zillow_metrics = {}\n",
    "zillow_metrics['clip_cosine'] = pd.read_csv(metrics_dir + 'clip_metrics_cosine' + suffix)\n",
    "zillow_metrics['clip_scene'] = pd.read_csv(metrics_dir + 'clip_metrics_scene' + suffix)\n",
    "zillow_metrics['sage_cosine'] = pd.read_csv(metrics_dir + 'sage_metrics_cosine' + suffix)\n",
    "zillow_metrics['sage_scene'] = pd.read_csv(metrics_dir + 'sage_metrics_scene' + suffix)"
   ]
  },
  {
   "cell_type": "code",
   "execution_count": 3,
   "metadata": {},
   "outputs": [],
   "source": [
    "suffix = '_zillow_verified.csv'\n",
    "\n",
    "zillow_verified_metrics = {}\n",
    "zillow_verified_metrics['clip_cosine'] = pd.read_csv(metrics_dir + 'clip_metrics_cosine' + suffix)\n",
    "zillow_verified_metrics['clip_scene'] = pd.read_csv(metrics_dir + 'clip_metrics_scene' + suffix)\n",
    "zillow_verified_metrics['sage_cosine'] = pd.read_csv(metrics_dir + 'sage_metrics_cosine' + suffix)\n",
    "zillow_verified_metrics['sage_scene'] = pd.read_csv(metrics_dir + 'sage_metrics_scene' + suffix)"
   ]
  },
  {
   "cell_type": "markdown",
   "metadata": {},
   "source": [
    "## **Compare**"
   ]
  },
  {
   "cell_type": "code",
   "execution_count": 4,
   "metadata": {},
   "outputs": [],
   "source": [
    "def compare_metrics(method_type):\n",
    "    zillow_metrics_data = zillow_metrics[method_type]\n",
    "    zillow_verified_metrics_data = zillow_verified_metrics[method_type]\n",
    "\n",
    "    return zillow_metrics_data.max(), zillow_verified_metrics_data.max()"
   ]
  },
  {
   "cell_type": "code",
   "execution_count": 5,
   "metadata": {},
   "outputs": [],
   "source": [
    "zi, zi_v = compare_metrics('clip_cosine')"
   ]
  },
  {
   "cell_type": "code",
   "execution_count": 6,
   "metadata": {},
   "outputs": [
    {
     "data": {
      "text/plain": [
       "Unnamed: 0                   59\n",
       "threshold                   0.5\n",
       "method                     clip\n",
       "tp                    10.599217\n",
       "fp                 25072.400783\n",
       "fn                    10.599217\n",
       "actual_p              10.599217\n",
       "precision_micro        0.000087\n",
       "precision_macro        0.013221\n",
       "recall_micro           0.000653\n",
       "recall_macro               0.75\n",
       "dtype: object"
      ]
     },
     "execution_count": 6,
     "metadata": {},
     "output_type": "execute_result"
    }
   ],
   "source": [
    "zi"
   ]
  },
  {
   "cell_type": "code",
   "execution_count": 7,
   "metadata": {},
   "outputs": [
    {
     "data": {
      "text/plain": [
       "Unnamed: 0                  59\n",
       "threshold                  0.5\n",
       "method                    clip\n",
       "tp                  369.238095\n",
       "fp                 2385.761905\n",
       "fn                  369.238095\n",
       "actual_p            369.238095\n",
       "precision_micro       0.027395\n",
       "precision_macro       0.585431\n",
       "recall_micro          0.047619\n",
       "recall_macro               1.0\n",
       "dtype: object"
      ]
     },
     "execution_count": 7,
     "metadata": {},
     "output_type": "execute_result"
    }
   ],
   "source": [
    "zi_v"
   ]
  },
  {
   "cell_type": "code",
   "execution_count": null,
   "metadata": {},
   "outputs": [],
   "source": []
  }
 ],
 "metadata": {
  "kernelspec": {
   "display_name": "Python 3.8.13",
   "language": "python",
   "name": "python3"
  },
  "language_info": {
   "codemirror_mode": {
    "name": "ipython",
    "version": 3
   },
   "file_extension": ".py",
   "mimetype": "text/x-python",
   "name": "python",
   "nbconvert_exporter": "python",
   "pygments_lexer": "ipython3",
   "version": "3.8.13"
  },
  "orig_nbformat": 4,
  "vscode": {
   "interpreter": {
    "hash": "b8a98180768ec50653acfbae9679ecd2014a1d8366e4dd2cee9bea05835201d8"
   }
  }
 },
 "nbformat": 4,
 "nbformat_minor": 2
}
