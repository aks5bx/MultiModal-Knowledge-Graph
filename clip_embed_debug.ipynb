{
 "cells": [
  {
   "cell_type": "code",
   "execution_count": 12,
   "metadata": {},
   "outputs": [],
   "source": [
    "import os\n",
    "import torch\n",
    "import numpy as np\n",
    "import matplotlib.pyplot as plt\n",
    "from tqdm import tqdm\n",
    "from PIL import Image\n",
    "import hydra\n",
    "from transformers import CLIPTokenizerFast, CLIPProcessor, CLIPModel\n",
    "import json\n",
    "# from omegaconf import DictConfig, OmegaConf\n",
    "from src.datamodules.mscoco import MSCOCODataset"
   ]
  },
  {
   "cell_type": "code",
   "execution_count": 2,
   "metadata": {},
   "outputs": [],
   "source": [
    "# conf\n",
    "root = \"coco\"\n",
    "partition = \"val2017\"\n",
    "batch_size = 100\n",
    "num_workers = 8\n",
    "\n",
    "vision_model = \"ViT-B/32\"\n",
    "model_id = \"openai/clip-vit-base-patch32\""
   ]
  },
  {
   "cell_type": "code",
   "execution_count": 3,
   "metadata": {},
   "outputs": [],
   "source": [
    "device = \"cuda\" if torch.cuda.is_available() else \"cpu\"\n",
    "\n",
    "tokenizer = CLIPTokenizerFast.from_pretrained(model_id)\n",
    "processor = CLIPProcessor.from_pretrained(model_id)\n",
    "model = CLIPModel.from_pretrained(model_id).to(device)"
   ]
  },
  {
   "cell_type": "code",
   "execution_count": 4,
   "metadata": {},
   "outputs": [
    {
     "name": "stdout",
     "output_type": "stream",
     "text": [
      "loading annotations into memory...\n",
      "Done (t=0.27s)\n",
      "creating index...\n",
      "index created!\n"
     ]
    }
   ],
   "source": [
    "ds = MSCOCODataset(\n",
    "        root=root,\n",
    "        annFile=os.path.join(root, \"annotations\", f\"instances_{partition}.json\")\n",
    "        #transform=preprocess\n",
    "    )\n",
    "\n",
    "ann_items = ds.coco.loadCats(ds.coco.getCatIds())\n",
    "tags = [item['name'] for item in ann_items]\n"
   ]
  },
  {
   "cell_type": "code",
   "execution_count": 6,
   "metadata": {},
   "outputs": [
    {
     "name": "stderr",
     "output_type": "stream",
     "text": [
      "encoding image batches: 100%|██████████| 50/50 [01:41<00:00,  2.02s/it]\n",
      "encoding tags: 100%|██████████| 80/80 [00:01<00:00, 45.83it/s]\n"
     ]
    }
   ],
   "source": [
    "images_tensor = None\n",
    "tags_tensor = None\n",
    "\n",
    "with torch.no_grad():\n",
    "    for i in tqdm(range(0, len(ds.ids), batch_size), desc='encoding image batches'):\n",
    "        batch_ids = ds.ids[i:i+batch_size]\n",
    "        batch_imgs = [Image.open('coco/images/'+ds.coco.loadImgs(id)[0][\"file_name\"]).convert('RGB') for id in batch_ids]\n",
    "        batch = processor(\n",
    "                    text=None,\n",
    "                    images=batch_imgs,\n",
    "                    return_tensors='pt',\n",
    "                    padding=True\n",
    "                )['pixel_values'].to(device)\n",
    "        batch_emb = model.get_image_features(pixel_values=batch)\n",
    "        batch_emb = batch_emb.squeeze(0)\n",
    "        \n",
    "        if images_tensor is None:\n",
    "            images_tensor = batch_emb\n",
    "        else:\n",
    "            images_tensor = torch.cat((images_tensor, batch_emb), dim=0)\n",
    "\n",
    "    for tag in tqdm(tags, desc='encoding tags'):\n",
    "        inputs = tokenizer(tag, return_tensors=\"pt\")\n",
    "        tag_emb = model.get_text_features(**inputs)\n",
    "\n",
    "        if tags_tensor is None:\n",
    "            tags_tensor = tag_emb\n",
    "        else:\n",
    "            tags_tensor = torch.cat((tags_tensor, tag_emb), dim=0)\n",
    "        "
   ]
  },
  {
   "cell_type": "code",
   "execution_count": 20,
   "metadata": {},
   "outputs": [
    {
     "name": "stdout",
     "output_type": "stream",
     "text": [
      "torch.Size([5000, 512])\n",
      "torch.Size([80, 512])\n",
      "tensor([-0.0724, -0.0059, -0.3013,  0.0826,  0.2546, -0.2976,  0.2935,  0.0293,\n",
      "        -0.0527,  0.0108])\n",
      "tensor([ 0.1695,  0.0864,  0.1535,  0.0774,  0.0044, -0.3187, -0.3133, -1.1808,\n",
      "        -0.2216, -0.0016])\n"
     ]
    }
   ],
   "source": [
    "print(images_tensor.shape)\n",
    "print(tags_tensor.shape)\n",
    "print(images_tensor[0][:10])\n",
    "print(tags_tensor[0][:10])"
   ]
  },
  {
   "cell_type": "code",
   "execution_count": 10,
   "metadata": {},
   "outputs": [
    {
     "data": {
      "text/plain": [
       "{'img_embed_row': 0,\n",
       " 'tag_ids': [64, 1, 67, 72, 78, 82, 84, 85, 86, 62],\n",
       " 'tag_embed_rows': [63, 0, 66, 71, 77, 81, 83, 84, 85, 61],\n",
       " 'tag_names': ['microwave',\n",
       "  'tv',\n",
       "  'vase',\n",
       "  'chair',\n",
       "  'potted plant',\n",
       "  'clock',\n",
       "  'dining table',\n",
       "  'book',\n",
       "  'person',\n",
       "  'refrigerator']}"
      ]
     },
     "execution_count": 10,
     "metadata": {},
     "output_type": "execute_result"
    }
   ],
   "source": [
    "ds.get_img_text_table()\n",
    "test_key = list(ds.img_text_data.keys())[0]\n",
    "ds.img_text_data[test_key]"
   ]
  },
  {
   "cell_type": "markdown",
   "metadata": {},
   "source": [
    "## Save image / tag embeddings, as well as relational JSON table"
   ]
  },
  {
   "cell_type": "code",
   "execution_count": 19,
   "metadata": {},
   "outputs": [],
   "source": [
    "# Save everything\n",
    "torch.save(images_tensor, 'coco_image_embeddings.pt')\n",
    "torch.save(tags_tensor, 'coco_tag_embeddings.pt')\n",
    "\n",
    "with open(\"img_text_data.json\", \"w\") as outfile:\n",
    "    json.dump(ds.img_text_data, outfile)"
   ]
  },
  {
   "cell_type": "code",
   "execution_count": 18,
   "metadata": {},
   "outputs": [
    {
     "name": "stdout",
     "output_type": "stream",
     "text": [
      "[64, 1, 67, 72, 78, 82, 84, 85, 86, 62]\n",
      "64\n"
     ]
    }
   ],
   "source": [
    "# Make sure datatypes for img_text_data are intact\n",
    "with open(\"img_text_data.json\", \"r\") as img_text_json:\n",
    "    img_text_data = json.load(img_text_json)\n",
    "\n",
    "test_key = list(img_text_data.keys())[0]\n",
    "test_img = img_text_data[test_key]\n",
    "print(test_img['tag_ids'])\n",
    "print(test_img['tag_ids'][0])"
   ]
  },
  {
   "cell_type": "code",
   "execution_count": 23,
   "metadata": {},
   "outputs": [
    {
     "name": "stdout",
     "output_type": "stream",
     "text": [
      "torch.Size([5000, 512])\n",
      "torch.Size([80, 512])\n",
      "tensor([-0.0724, -0.0059, -0.3013,  0.0826,  0.2546, -0.2976,  0.2935,  0.0293,\n",
      "        -0.0527,  0.0108])\n",
      "tensor([ 0.1695,  0.0864,  0.1535,  0.0774,  0.0044, -0.3187, -0.3133, -1.1808,\n",
      "        -0.2216, -0.0016])\n"
     ]
    }
   ],
   "source": [
    "# Check to ensure no data loss between saving and reloading image / text embeddings\n",
    "images_tensor_reloaded = torch.load('coco_image_embeddings.pt', map_location=device)\n",
    "tags_tensor_reloaded = torch.load('coco_tag_embeddings.pt', map_location=device)\n",
    "\n",
    "print(images_tensor_reloaded.shape)\n",
    "print(tags_tensor_reloaded.shape)\n",
    "\n",
    "print(images_tensor_reloaded[0][:10])\n",
    "print(tags_tensor_reloaded[0][:10])"
   ]
  },
  {
   "cell_type": "code",
   "execution_count": null,
   "metadata": {},
   "outputs": [],
   "source": []
  }
 ],
 "metadata": {
  "kernelspec": {
   "display_name": "capstone",
   "language": "python",
   "name": "capstone"
  },
  "language_info": {
   "codemirror_mode": {
    "name": "ipython",
    "version": 3
   },
   "file_extension": ".py",
   "mimetype": "text/x-python",
   "name": "python",
   "nbconvert_exporter": "python",
   "pygments_lexer": "ipython3",
   "version": "3.8.13"
  },
  "orig_nbformat": 4
 },
 "nbformat": 4,
 "nbformat_minor": 2
}
