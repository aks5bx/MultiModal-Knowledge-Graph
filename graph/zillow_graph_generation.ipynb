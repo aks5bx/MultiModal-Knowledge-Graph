{
 "cells": [
  {
   "cell_type": "code",
   "execution_count": 1,
   "metadata": {},
   "outputs": [
    {
     "name": "stderr",
     "output_type": "stream",
     "text": [
      "/ext3/conda/zillow_MMKG/lib/python3.8/site-packages/tqdm/auto.py:22: TqdmWarning: IProgress not found. Please update jupyter and ipywidgets. See https://ipywidgets.readthedocs.io/en/stable/user_install.html\n",
      "  from .autonotebook import tqdm as notebook_tqdm\n"
     ]
    }
   ],
   "source": [
    "import os\n",
    "import random\n",
    "import math\n",
    "import json\n",
    "import yaml\n",
    "import joblib\n",
    "from ast import literal_eval\n",
    "\n",
    "import torch\n",
    "import pydantic\n",
    "import networkx as nx\n",
    "import numpy as np\n",
    "import matplotlib.pyplot as plt\n",
    "import pandas as pd\n",
    "from tqdm import tqdm\n",
    "import dgl"
   ]
  },
  {
   "cell_type": "code",
   "execution_count": 2,
   "metadata": {},
   "outputs": [
    {
     "name": "stderr",
     "output_type": "stream",
     "text": [
      "converting list to dict: 100%|██████████| 1542/1542 [00:00<00:00, 1646961.23it/s]\n",
      "converting list to dict: 100%|██████████| 18/18 [00:00<00:00, 385191.18it/s]\n"
     ]
    }
   ],
   "source": [
    "image_embed_dict = joblib.load('../zillow_data/image_embed.joblib')\n",
    "keyword_embed_dict = {}\n",
    "scene_embed_dict = {}\n",
    "\n",
    "keyword_embed_dictlist = joblib.load('../zillow_data/keyword_embed.joblib')\n",
    "for dict in tqdm(keyword_embed_dictlist, desc='converting list to dict'):\n",
    "    dict_key = list(dict.keys())[0]\n",
    "    keyword_embed_dict[dict_key] = dict[dict_key]\n",
    "\n",
    "scene_embed_dictlist = joblib.load('../zillow_data/scene_embed.joblib')\n",
    "for dict in tqdm(scene_embed_dictlist, desc='converting list to dict'):\n",
    "    dict_key = list(dict.keys())[0]\n",
    "    scene_embed_dict[dict_key] = dict[dict_key]\n",
    "\n",
    "modal_dicts = {\n",
    "    'images': image_embed_dict,\n",
    "    'keywords': keyword_embed_dict,\n",
    "    'scenes': scene_embed_dict\n",
    "}"
   ]
  },
  {
   "cell_type": "code",
   "execution_count": 3,
   "metadata": {},
   "outputs": [
    {
     "name": "stdout",
     "output_type": "stream",
     "text": [
      "Unique images count: 82720\n",
      "Unique keywords count: 1542\n",
      "Unique scenes count: 18\n"
     ]
    }
   ],
   "source": [
    "for modal in modal_dicts:\n",
    "    print(f'Unique {modal} count: {len(list(modal_dicts[modal].keys()))}')"
   ]
  },
  {
   "cell_type": "code",
   "execution_count": 4,
   "metadata": {},
   "outputs": [
    {
     "name": "stdout",
     "output_type": "stream",
     "text": [
      "Total rows: 130065\n",
      "Pct of images with at least one keyword: 0.2462076653980702\n"
     ]
    },
    {
     "data": {
      "text/html": [
       "<div>\n",
       "<style scoped>\n",
       "    .dataframe tbody tr th:only-of-type {\n",
       "        vertical-align: middle;\n",
       "    }\n",
       "\n",
       "    .dataframe tbody tr th {\n",
       "        vertical-align: top;\n",
       "    }\n",
       "\n",
       "    .dataframe thead th {\n",
       "        text-align: right;\n",
       "    }\n",
       "</style>\n",
       "<table border=\"1\" class=\"dataframe\">\n",
       "  <thead>\n",
       "    <tr style=\"text-align: right;\">\n",
       "      <th></th>\n",
       "      <th>scene_hash</th>\n",
       "      <th>keyword_hash</th>\n",
       "      <th>image_hash</th>\n",
       "      <th>propertyIdhash</th>\n",
       "    </tr>\n",
       "  </thead>\n",
       "  <tbody>\n",
       "    <tr>\n",
       "      <th>0</th>\n",
       "      <td>67e69903823c5a541b29be07e784b7e6</td>\n",
       "      <td>[]</td>\n",
       "      <td>8f1c8d0b5b7cc98231cdea9f923d928e</td>\n",
       "      <td>a3d2de7675556553a5f08e4c88d2c228</td>\n",
       "    </tr>\n",
       "    <tr>\n",
       "      <th>1</th>\n",
       "      <td>60825cdcaad5cba560a6f63c895e1f3b</td>\n",
       "      <td>[851112d8c835d58c497101d9886a1348, b10a8c0bede...</td>\n",
       "      <td>f2d2571c7b9a1e124b188f84222be032</td>\n",
       "      <td>6b693c1082a8f8b747d0db60d179b7b2</td>\n",
       "    </tr>\n",
       "    <tr>\n",
       "      <th>2</th>\n",
       "      <td>624109635107c411520779cf9c82ad65</td>\n",
       "      <td>[]</td>\n",
       "      <td>3feadc281c74873a6e55a4ab83ebd623</td>\n",
       "      <td>c871527ccd30371d69d21faa47008f12</td>\n",
       "    </tr>\n",
       "    <tr>\n",
       "      <th>3</th>\n",
       "      <td>624109635107c411520779cf9c82ad65</td>\n",
       "      <td>[]</td>\n",
       "      <td>71906fef662e966b21afa3d53b92decd</td>\n",
       "      <td>c871527ccd30371d69d21faa47008f12</td>\n",
       "    </tr>\n",
       "    <tr>\n",
       "      <th>4</th>\n",
       "      <td>624109635107c411520779cf9c82ad65</td>\n",
       "      <td>[]</td>\n",
       "      <td>163c91537b81f3ad637d9ceb771e2e1d</td>\n",
       "      <td>c871527ccd30371d69d21faa47008f12</td>\n",
       "    </tr>\n",
       "  </tbody>\n",
       "</table>\n",
       "</div>"
      ],
      "text/plain": [
       "                         scene_hash  \\\n",
       "0  67e69903823c5a541b29be07e784b7e6   \n",
       "1  60825cdcaad5cba560a6f63c895e1f3b   \n",
       "2  624109635107c411520779cf9c82ad65   \n",
       "3  624109635107c411520779cf9c82ad65   \n",
       "4  624109635107c411520779cf9c82ad65   \n",
       "\n",
       "                                        keyword_hash  \\\n",
       "0                                                 []   \n",
       "1  [851112d8c835d58c497101d9886a1348, b10a8c0bede...   \n",
       "2                                                 []   \n",
       "3                                                 []   \n",
       "4                                                 []   \n",
       "\n",
       "                         image_hash                    propertyIdhash  \n",
       "0  8f1c8d0b5b7cc98231cdea9f923d928e  a3d2de7675556553a5f08e4c88d2c228  \n",
       "1  f2d2571c7b9a1e124b188f84222be032  6b693c1082a8f8b747d0db60d179b7b2  \n",
       "2  3feadc281c74873a6e55a4ab83ebd623  c871527ccd30371d69d21faa47008f12  \n",
       "3  71906fef662e966b21afa3d53b92decd  c871527ccd30371d69d21faa47008f12  \n",
       "4  163c91537b81f3ad637d9ceb771e2e1d  c871527ccd30371d69d21faa47008f12  "
      ]
     },
     "execution_count": 4,
     "metadata": {},
     "output_type": "execute_result"
    }
   ],
   "source": [
    "node_links = pd.read_csv('../zillow_data/NYU_photoboard_file.csv')\n",
    "\n",
    "# convert string object of image_keyword_hash column back to a list of keyword hashes\n",
    "node_links['image_keyword_hash'] = node_links['image_keyword_hash'].apply(lambda x: literal_eval(x))\n",
    "node_links = node_links.rename(columns={'url_hash': 'image_hash', 'image_keyword_hash': 'keyword_hash'})\n",
    "\n",
    "print('Total rows:', len(node_links))\n",
    "\n",
    "node_links_keywords_only = node_links[node_links['keyword_hash'].apply(lambda x: x!=[])]\n",
    "print('Pct of images with at least one keyword:', len(node_links_keywords_only) / len(node_links))\n",
    "node_links.head()\n"
   ]
  },
  {
   "cell_type": "code",
   "execution_count": 8,
   "metadata": {},
   "outputs": [
    {
     "name": "stderr",
     "output_type": "stream",
     "text": [
      "applying train masks: 100%|██████████| 82720/82720 [01:10<00:00, 1178.67it/s]\n",
      "applying val masks: 100%|██████████| 82720/82720 [00:21<00:00, 3900.00it/s]\n",
      "applying test masks: 100%|██████████| 82720/82720 [00:20<00:00, 3948.99it/s]\n",
      "formatting images node embeddings: 100%|██████████| 82720/82720 [00:26<00:00, 3148.37it/s]\n",
      "applying train masks: 100%|██████████| 1542/1542 [00:00<00:00, 99457.42it/s]\n",
      "applying val masks: 100%|██████████| 1542/1542 [00:00<00:00, 260161.58it/s]\n",
      "applying test masks: 100%|██████████| 1542/1542 [00:00<00:00, 262282.20it/s]\n",
      "formatting keywords node embeddings: 100%|██████████| 1542/1542 [00:00<00:00, 3138.89it/s]\n",
      "applying train masks: 100%|██████████| 18/18 [00:00<00:00, 77195.78it/s]\n",
      "applying val masks: 100%|██████████| 18/18 [00:00<00:00, 78807.38it/s]\n",
      "applying test masks: 100%|██████████| 18/18 [00:00<00:00, 77993.26it/s]\n",
      "formatting scenes node embeddings: 100%|██████████| 18/18 [00:00<00:00, 2935.25it/s]\n"
     ]
    }
   ],
   "source": [
    "def train_val_test_ids(node_ids):\n",
    "    node_ids_copy = node_ids.copy()\n",
    "    random.shuffle(node_ids_copy)\n",
    "    n = len(node_ids_copy)\n",
    "    train_ct, val_ct = [math.floor(n*0.7), math.ceil(n*0.15)]\n",
    "    return [node_ids_copy[0:train_ct], node_ids_copy[train_ct:train_ct+val_ct], node_ids_copy[train_ct+val_ct:]]\n",
    "\n",
    "def split_mask(node_id, split_ids):\n",
    "    return True if node_id in split_ids else False\n",
    "\n",
    "def nodes_table(modal, modal_dict):\n",
    "    node_ids = list(modal_dict.keys())\n",
    "    nodes = pd.DataFrame({'node_id': list(node_ids)})\n",
    "    train_ids, val_ids, test_ids = train_val_test_ids(node_ids)\n",
    "\n",
    "    tqdm.pandas(desc='applying train masks')\n",
    "    nodes['train_mask'] = nodes['node_id'].progress_apply(lambda x: split_mask(x, train_ids))\n",
    "    tqdm.pandas(desc='applying val masks')\n",
    "    nodes['val_mask'] = nodes['node_id'].progress_apply(lambda x: split_mask(x, val_ids))\n",
    "    tqdm.pandas(desc='applying test masks')\n",
    "    nodes['test_mask'] = nodes['node_id'].progress_apply(lambda x: split_mask(x, test_ids))\n",
    "    \n",
    "    tqdm.pandas(desc=f'formatting {modal} node embeddings')\n",
    "    nodes['feat'] = nodes['node_id'].progress_apply(lambda x: ', '.join([str(y) for y in modal_dict[x].tolist()]))\n",
    "\n",
    "    return nodes\n",
    "\n",
    "nodes_table_modals = pd.DataFrame()\n",
    "for modal in modal_dicts:\n",
    "    nodes_table_modals = pd.concat([nodes_table_modals, nodes_table(modal, modal_dicts[modal])])\n",
    "\n",
    "nodes_table_modals = nodes_table_modals['node_id'].drop_duplicates()"
   ]
  },
  {
   "cell_type": "code",
   "execution_count": 7,
   "metadata": {},
   "outputs": [
    {
     "name": "stderr",
     "output_type": "stream",
     "text": [
      "parsing data into edges: 100%|██████████| 130065/130065 [03:36<00:00, 601.48it/s]\n"
     ]
    },
    {
     "data": {
      "text/html": [
       "<div>\n",
       "<style scoped>\n",
       "    .dataframe tbody tr th:only-of-type {\n",
       "        vertical-align: middle;\n",
       "    }\n",
       "\n",
       "    .dataframe tbody tr th {\n",
       "        vertical-align: top;\n",
       "    }\n",
       "\n",
       "    .dataframe thead th {\n",
       "        text-align: right;\n",
       "    }\n",
       "</style>\n",
       "<table border=\"1\" class=\"dataframe\">\n",
       "  <thead>\n",
       "    <tr style=\"text-align: right;\">\n",
       "      <th></th>\n",
       "      <th>src_id</th>\n",
       "      <th>dst_id</th>\n",
       "    </tr>\n",
       "  </thead>\n",
       "  <tbody>\n",
       "    <tr>\n",
       "      <th>0</th>\n",
       "      <td>8f1c8d0b5b7cc98231cdea9f923d928e</td>\n",
       "      <td>67e69903823c5a541b29be07e784b7e6</td>\n",
       "    </tr>\n",
       "    <tr>\n",
       "      <th>0</th>\n",
       "      <td>f2d2571c7b9a1e124b188f84222be032</td>\n",
       "      <td>60825cdcaad5cba560a6f63c895e1f3b</td>\n",
       "    </tr>\n",
       "    <tr>\n",
       "      <th>1</th>\n",
       "      <td>f2d2571c7b9a1e124b188f84222be032</td>\n",
       "      <td>851112d8c835d58c497101d9886a1348</td>\n",
       "    </tr>\n",
       "    <tr>\n",
       "      <th>2</th>\n",
       "      <td>f2d2571c7b9a1e124b188f84222be032</td>\n",
       "      <td>b10a8c0bede9eb4ea771b04db3149f28</td>\n",
       "    </tr>\n",
       "    <tr>\n",
       "      <th>3</th>\n",
       "      <td>f2d2571c7b9a1e124b188f84222be032</td>\n",
       "      <td>6160972776d990112e5df1ceb938816c</td>\n",
       "    </tr>\n",
       "  </tbody>\n",
       "</table>\n",
       "</div>"
      ],
      "text/plain": [
       "                             src_id                            dst_id\n",
       "0  8f1c8d0b5b7cc98231cdea9f923d928e  67e69903823c5a541b29be07e784b7e6\n",
       "0  f2d2571c7b9a1e124b188f84222be032  60825cdcaad5cba560a6f63c895e1f3b\n",
       "1  f2d2571c7b9a1e124b188f84222be032  851112d8c835d58c497101d9886a1348\n",
       "2  f2d2571c7b9a1e124b188f84222be032  b10a8c0bede9eb4ea771b04db3149f28\n",
       "3  f2d2571c7b9a1e124b188f84222be032  6160972776d990112e5df1ceb938816c"
      ]
     },
     "execution_count": 7,
     "metadata": {},
     "output_type": "execute_result"
    }
   ],
   "source": [
    "'''\n",
    "Notes about the node_links dataframe:\n",
    "    - ~130,000 total roows\n",
    "    - scene_hash is always populated\n",
    "    - keywords_hash is a list of keyword hashes, usually an empty list (at least one entry for ~25% of images)\n",
    "'''\n",
    "\n",
    "def edges_table(node_links):\n",
    "    edges = pd.DataFrame(columns=['src_id', 'dst_id'])\n",
    "    for i in tqdm(range(len(node_links)), desc='parsing data into edges'):\n",
    "        row = node_links.iloc[i,:]\n",
    "        edges_subset = {'src_id': [], 'dst_id': []}\n",
    "        edges_subset['src_id'].append(row['image_hash'])\n",
    "        edges_subset['dst_id'].append(row['scene_hash'])\n",
    "        for keyword in row['keyword_hash']:\n",
    "            edges_subset['src_id'].append(row['image_hash'])\n",
    "            edges_subset['dst_id'].append(keyword)\n",
    "        edges = pd.concat([edges, pd.DataFrame(edges_subset)])\n",
    "\n",
    "    return edges\n",
    "\n",
    "edges = edges_table(node_links)\n",
    "edges.head()"
   ]
  },
  {
   "cell_type": "code",
   "execution_count": 9,
   "metadata": {},
   "outputs": [],
   "source": [
    "# Store graph csv files\n",
    "\n",
    "if not os.path.exists('zillow_graph_csv'):\n",
    "    os.mkdir('zillow_graph_csv')\n",
    "\n",
    "edges.to_csv('zillow_graph_csv/zillow_edges.csv', index=False)\n",
    "nodes_table_modals.to_csv('zillow_graph_csv/zillow_nodes.csv', index=False)\n",
    "\n",
    "g_metadata = {\n",
    "    'dataset_name': 'zillow_graph',\n",
    "    'edge_data': [{'file_name': 'zillow_edges.csv'}],\n",
    "    'node_data': [{'file_name': 'zillow_nodes.csv'}]\n",
    "}\n",
    "\n",
    "with open('zillow_graph_csv/meta.yaml', 'w') as file:\n",
    "    yaml.dump(g_metadata, file)"
   ]
  },
  {
   "cell_type": "code",
   "execution_count": 10,
   "metadata": {},
   "outputs": [
    {
     "name": "stdout",
     "output_type": "stream",
     "text": [
      "Done saving data into cached files.\n"
     ]
    },
    {
     "data": {
      "text/plain": [
       "Dataset(\"zillow_graph\", num_graphs=1, save_path=./zillow_graph_csv/zillow_graph)"
      ]
     },
     "execution_count": 10,
     "metadata": {},
     "output_type": "execute_result"
    }
   ],
   "source": [
    "zillow_graph_dataset = dgl.data.CSVDataset('./zillow_graph_csv')\n",
    "zillow_graph_dataset"
   ]
  },
  {
   "cell_type": "code",
   "execution_count": 11,
   "metadata": {},
   "outputs": [
    {
     "data": {
      "text/plain": [
       "Graph(num_nodes=84270, num_edges=226807,\n",
       "      ndata_schemes={}\n",
       "      edata_schemes={})"
      ]
     },
     "execution_count": 11,
     "metadata": {},
     "output_type": "execute_result"
    }
   ],
   "source": [
    "zillow_graph_dataset[0]"
   ]
  },
  {
   "cell_type": "code",
   "execution_count": 12,
   "metadata": {},
   "outputs": [
    {
     "ename": "KeyboardInterrupt",
     "evalue": "",
     "output_type": "error",
     "traceback": [
      "\u001b[0;31m---------------------------------------------------------------------------\u001b[0m",
      "\u001b[0;31mKeyboardInterrupt\u001b[0m                         Traceback (most recent call last)",
      "\u001b[1;32m/scratch/alc9635/NYU-Zillow-Capstone-2022-Team-A/graph/zillow_graph_generation.ipynb Cell 10\u001b[0m in \u001b[0;36m<cell line: 9>\u001b[0;34m()\u001b[0m\n\u001b[1;32m      <a href='vscode-notebook-cell://ssh-remote%2Bgreenecomputecontainer/scratch/alc9635/NYU-Zillow-Capstone-2022-Team-A/graph/zillow_graph_generation.ipynb#X14sdnNjb2RlLXJlbW90ZQ%3D%3D?line=6'>7</a>\u001b[0m G \u001b[39m=\u001b[39m dgl\u001b[39m.\u001b[39mto_networkx(g)\n\u001b[1;32m      <a href='vscode-notebook-cell://ssh-remote%2Bgreenecomputecontainer/scratch/alc9635/NYU-Zillow-Capstone-2022-Team-A/graph/zillow_graph_generation.ipynb#X14sdnNjb2RlLXJlbW90ZQ%3D%3D?line=7'>8</a>\u001b[0m plt\u001b[39m.\u001b[39mfigure(figsize\u001b[39m=\u001b[39m[\u001b[39m15\u001b[39m,\u001b[39m7\u001b[39m])\n\u001b[0;32m----> <a href='vscode-notebook-cell://ssh-remote%2Bgreenecomputecontainer/scratch/alc9635/NYU-Zillow-Capstone-2022-Team-A/graph/zillow_graph_generation.ipynb#X14sdnNjb2RlLXJlbW90ZQ%3D%3D?line=8'>9</a>\u001b[0m nx\u001b[39m.\u001b[39;49mdraw(G, \u001b[39m*\u001b[39;49m\u001b[39m*\u001b[39;49moptions)\n",
      "File \u001b[0;32m/ext3/conda/zillow_MMKG/lib/python3.8/site-packages/networkx/drawing/nx_pylab.py:121\u001b[0m, in \u001b[0;36mdraw\u001b[0;34m(G, pos, ax, **kwds)\u001b[0m\n\u001b[1;32m    118\u001b[0m \u001b[39mif\u001b[39;00m \u001b[39m\"\u001b[39m\u001b[39mwith_labels\u001b[39m\u001b[39m\"\u001b[39m \u001b[39mnot\u001b[39;00m \u001b[39min\u001b[39;00m kwds:\n\u001b[1;32m    119\u001b[0m     kwds[\u001b[39m\"\u001b[39m\u001b[39mwith_labels\u001b[39m\u001b[39m\"\u001b[39m] \u001b[39m=\u001b[39m \u001b[39m\"\u001b[39m\u001b[39mlabels\u001b[39m\u001b[39m\"\u001b[39m \u001b[39min\u001b[39;00m kwds\n\u001b[0;32m--> 121\u001b[0m draw_networkx(G, pos\u001b[39m=\u001b[39;49mpos, ax\u001b[39m=\u001b[39;49max, \u001b[39m*\u001b[39;49m\u001b[39m*\u001b[39;49mkwds)\n\u001b[1;32m    122\u001b[0m ax\u001b[39m.\u001b[39mset_axis_off()\n\u001b[1;32m    123\u001b[0m plt\u001b[39m.\u001b[39mdraw_if_interactive()\n",
      "File \u001b[0;32m/ext3/conda/zillow_MMKG/lib/python3.8/site-packages/networkx/drawing/nx_pylab.py:331\u001b[0m, in \u001b[0;36mdraw_networkx\u001b[0;34m(G, pos, arrows, with_labels, **kwds)\u001b[0m\n\u001b[1;32m    328\u001b[0m label_kwds \u001b[39m=\u001b[39m {k: v \u001b[39mfor\u001b[39;00m k, v \u001b[39min\u001b[39;00m kwds\u001b[39m.\u001b[39mitems() \u001b[39mif\u001b[39;00m k \u001b[39min\u001b[39;00m valid_label_kwds}\n\u001b[1;32m    330\u001b[0m \u001b[39mif\u001b[39;00m pos \u001b[39mis\u001b[39;00m \u001b[39mNone\u001b[39;00m:\n\u001b[0;32m--> 331\u001b[0m     pos \u001b[39m=\u001b[39m nx\u001b[39m.\u001b[39;49mdrawing\u001b[39m.\u001b[39;49mspring_layout(G)  \u001b[39m# default to spring layout\u001b[39;00m\n\u001b[1;32m    333\u001b[0m draw_networkx_nodes(G, pos, \u001b[39m*\u001b[39m\u001b[39m*\u001b[39mnode_kwds)\n\u001b[1;32m    334\u001b[0m draw_networkx_edges(G, pos, arrows\u001b[39m=\u001b[39marrows, \u001b[39m*\u001b[39m\u001b[39m*\u001b[39medge_kwds)\n",
      "File \u001b[0;32m/ext3/conda/zillow_MMKG/lib/python3.8/site-packages/networkx/utils/decorators.py:795\u001b[0m, in \u001b[0;36margmap.__call__.<locals>.func\u001b[0;34m(_argmap__wrapper, *args, **kwargs)\u001b[0m\n\u001b[1;32m    794\u001b[0m \u001b[39mdef\u001b[39;00m \u001b[39mfunc\u001b[39m(\u001b[39m*\u001b[39margs, __wrapper\u001b[39m=\u001b[39m\u001b[39mNone\u001b[39;00m, \u001b[39m*\u001b[39m\u001b[39m*\u001b[39mkwargs):\n\u001b[0;32m--> 795\u001b[0m     \u001b[39mreturn\u001b[39;00m argmap\u001b[39m.\u001b[39;49m_lazy_compile(__wrapper)(\u001b[39m*\u001b[39;49margs, \u001b[39m*\u001b[39;49m\u001b[39m*\u001b[39;49mkwargs)\n",
      "File \u001b[0;32m<class 'networkx.utils.decorators.argmap'> compilation 4:4\u001b[0m, in \u001b[0;36margmap_spring_layout_1\u001b[0;34m(G, k, pos, fixed, iterations, threshold, weight, scale, center, dim, seed)\u001b[0m\n\u001b[1;32m      2\u001b[0m \u001b[39mfrom\u001b[39;00m \u001b[39mos\u001b[39;00m\u001b[39m.\u001b[39;00m\u001b[39mpath\u001b[39;00m \u001b[39mimport\u001b[39;00m splitext\n\u001b[1;32m      3\u001b[0m \u001b[39mfrom\u001b[39;00m \u001b[39mcontextlib\u001b[39;00m \u001b[39mimport\u001b[39;00m contextmanager\n\u001b[0;32m----> 4\u001b[0m \u001b[39mfrom\u001b[39;00m \u001b[39mpathlib\u001b[39;00m \u001b[39mimport\u001b[39;00m Path\n\u001b[1;32m      5\u001b[0m \u001b[39mimport\u001b[39;00m \u001b[39mwarnings\u001b[39;00m\n\u001b[1;32m      7\u001b[0m \u001b[39mimport\u001b[39;00m \u001b[39mnetworkx\u001b[39;00m \u001b[39mas\u001b[39;00m \u001b[39mnx\u001b[39;00m\n",
      "File \u001b[0;32m/ext3/conda/zillow_MMKG/lib/python3.8/site-packages/networkx/drawing/layout.py:481\u001b[0m, in \u001b[0;36mspring_layout\u001b[0;34m(G, k, pos, fixed, iterations, threshold, weight, scale, center, dim, seed)\u001b[0m\n\u001b[1;32m    479\u001b[0m         nnodes, _ \u001b[39m=\u001b[39m A\u001b[39m.\u001b[39mshape\n\u001b[1;32m    480\u001b[0m         k \u001b[39m=\u001b[39m dom_size \u001b[39m/\u001b[39m np\u001b[39m.\u001b[39msqrt(nnodes)\n\u001b[0;32m--> 481\u001b[0m     pos \u001b[39m=\u001b[39m _sparse_fruchterman_reingold(\n\u001b[1;32m    482\u001b[0m         A, k, pos_arr, fixed, iterations, threshold, dim, seed\n\u001b[1;32m    483\u001b[0m     )\n\u001b[1;32m    484\u001b[0m \u001b[39mexcept\u001b[39;00m \u001b[39mValueError\u001b[39;00m:\n\u001b[1;32m    485\u001b[0m     A \u001b[39m=\u001b[39m nx\u001b[39m.\u001b[39mto_numpy_array(G, weight\u001b[39m=\u001b[39mweight)\n",
      "File \u001b[0;32m/ext3/conda/zillow_MMKG/lib/python3.8/site-packages/networkx/utils/decorators.py:795\u001b[0m, in \u001b[0;36margmap.__call__.<locals>.func\u001b[0;34m(_argmap__wrapper, *args, **kwargs)\u001b[0m\n\u001b[1;32m    794\u001b[0m \u001b[39mdef\u001b[39;00m \u001b[39mfunc\u001b[39m(\u001b[39m*\u001b[39margs, __wrapper\u001b[39m=\u001b[39m\u001b[39mNone\u001b[39;00m, \u001b[39m*\u001b[39m\u001b[39m*\u001b[39mkwargs):\n\u001b[0;32m--> 795\u001b[0m     \u001b[39mreturn\u001b[39;00m argmap\u001b[39m.\u001b[39;49m_lazy_compile(__wrapper)(\u001b[39m*\u001b[39;49margs, \u001b[39m*\u001b[39;49m\u001b[39m*\u001b[39;49mkwargs)\n",
      "File \u001b[0;32m<class 'networkx.utils.decorators.argmap'> compilation 8:4\u001b[0m, in \u001b[0;36margmap__sparse_fruchterman_reingold_5\u001b[0;34m(A, k, pos, fixed, iterations, threshold, dim, seed)\u001b[0m\n\u001b[1;32m      2\u001b[0m \u001b[39mfrom\u001b[39;00m \u001b[39mos\u001b[39;00m\u001b[39m.\u001b[39;00m\u001b[39mpath\u001b[39;00m \u001b[39mimport\u001b[39;00m splitext\n\u001b[1;32m      3\u001b[0m \u001b[39mfrom\u001b[39;00m \u001b[39mcontextlib\u001b[39;00m \u001b[39mimport\u001b[39;00m contextmanager\n\u001b[0;32m----> 4\u001b[0m \u001b[39mfrom\u001b[39;00m \u001b[39mpathlib\u001b[39;00m \u001b[39mimport\u001b[39;00m Path\n\u001b[1;32m      5\u001b[0m \u001b[39mimport\u001b[39;00m \u001b[39mwarnings\u001b[39;00m\n\u001b[1;32m      7\u001b[0m \u001b[39mimport\u001b[39;00m \u001b[39mnetworkx\u001b[39;00m \u001b[39mas\u001b[39;00m \u001b[39mnx\u001b[39;00m\n",
      "File \u001b[0;32m/ext3/conda/zillow_MMKG/lib/python3.8/site-packages/networkx/drawing/layout.py:620\u001b[0m, in \u001b[0;36m_sparse_fruchterman_reingold\u001b[0;34m(A, k, pos, fixed, iterations, threshold, dim, seed)\u001b[0m\n\u001b[1;32m    618\u001b[0m distance \u001b[39m=\u001b[39m np\u001b[39m.\u001b[39msqrt((delta \u001b[39m*\u001b[39m\u001b[39m*\u001b[39m \u001b[39m2\u001b[39m)\u001b[39m.\u001b[39msum(axis\u001b[39m=\u001b[39m\u001b[39m0\u001b[39m))\n\u001b[1;32m    619\u001b[0m \u001b[39m# enforce minimum distance of 0.01\u001b[39;00m\n\u001b[0;32m--> 620\u001b[0m distance \u001b[39m=\u001b[39m np\u001b[39m.\u001b[39;49mwhere(distance \u001b[39m<\u001b[39;49m \u001b[39m0.01\u001b[39;49m, \u001b[39m0.01\u001b[39;49m, distance)\n\u001b[1;32m    621\u001b[0m \u001b[39m# the adjacency matrix row\u001b[39;00m\n\u001b[1;32m    622\u001b[0m Ai \u001b[39m=\u001b[39m np\u001b[39m.\u001b[39masarray(A\u001b[39m.\u001b[39mgetrowview(i)\u001b[39m.\u001b[39mtoarray())\n",
      "File \u001b[0;32m<__array_function__ internals>:180\u001b[0m, in \u001b[0;36mwhere\u001b[0;34m(*args, **kwargs)\u001b[0m\n",
      "\u001b[0;31mKeyboardInterrupt\u001b[0m: "
     ]
    },
    {
     "data": {
      "image/png": "[encoded data removed]",
      "text/plain": [
       "<Figure size 1080x504 with 1 Axes>"
      ]
     },
     "metadata": {},
     "output_type": "display_data"
    }
   ],
   "source": [
    "g = zillow_graph_dataset[0]\n",
    "options = {\n",
    "    'node_color': 'blue',\n",
    "    'node_size': 10,\n",
    "    'width': 1,\n",
    "}\n",
    "G = dgl.to_networkx(g)\n",
    "plt.figure(figsize=[15,7])\n",
    "nx.draw(G, **options)"
   ]
  },
  {
   "cell_type": "code",
   "execution_count": null,
   "metadata": {},
   "outputs": [],
   "source": []
  }
 ],
 "metadata": {
  "kernelspec": {
   "display_name": "Python 3.8.13",
   "language": "python",
   "name": "python3"
  },
  "language_info": {
   "codemirror_mode": {
    "name": "ipython",
    "version": 3
   },
   "file_extension": ".py",
   "mimetype": "text/x-python",
   "name": "python",
   "nbconvert_exporter": "python",
   "pygments_lexer": "ipython3",
   "version": "3.8.13"
  },
  "orig_nbformat": 4,
  "vscode": {
   "interpreter": {
    "hash": "b8a98180768ec50653acfbae9679ecd2014a1d8366e4dd2cee9bea05835201d8"
   }
  }
 },
 "nbformat": 4,
 "nbformat_minor": 2
}
