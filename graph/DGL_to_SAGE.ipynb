{
 "cells": [
  {
   "cell_type": "code",
   "execution_count": 2,
   "metadata": {},
   "outputs": [],
   "source": [
    "import warnings\n",
    "warnings.filterwarnings('ignore')\n",
    "\n",
    "import dgl \n",
    "from dgl.nn.pytorch.conv import SAGEConv\n",
    "import numpy as np \n",
    "import json \n",
    "import torch\n",
    "\n",
    "import graph_training as g_train"
   ]
  },
  {
   "cell_type": "code",
   "execution_count": 3,
   "metadata": {},
   "outputs": [
    {
     "name": "stdout",
     "output_type": "stream",
     "text": [
      "Done loading data from cached files.\n"
     ]
    }
   ],
   "source": [
    "####################################\n",
    "## Sample with Correct Formatting ##\n",
    "####################################\n",
    "\n",
    "dataset = dgl.data.CSVDataset('./graph_csv')\n",
    "g = dataset[0]\n",
    "\n",
    "embedding_length = g.ndata['feat'].size()[1]\n",
    "\n",
    "conv = SAGEConv(embedding_length, embedding_length, 'mean')\n",
    "res = conv(g, g.ndata['feat'])"
   ]
  },
  {
   "cell_type": "code",
   "execution_count": 5,
   "metadata": {},
   "outputs": [
    {
     "name": "stdout",
     "output_type": "stream",
     "text": [
      "Training...\n",
      "Epoch 00000 | Loss 0.6281 | Distance Reduced 0.0000 %\n",
      "Epoch 00025 | Loss 0.1243 | Distance Reduced 0.7290 %\n",
      "Epoch 00050 | Loss 0.0757 | Distance Reduced 0.8279 %\n",
      "Epoch 00075 | Loss 0.0580 | Distance Reduced 0.8689 %\n",
      "Epoch 00100 | Loss 0.0523 | Distance Reduced 0.8835 %\n",
      "Epoch 00125 | Loss 0.0507 | Distance Reduced 0.8872 %\n",
      "Epoch 00150 | Loss 0.0504 | Distance Reduced 0.8885 %\n",
      "Epoch 00175 | Loss 0.0503 | Distance Reduced 0.8886 %\n",
      "Epoch 00200 | Loss 0.0499 | Distance Reduced 0.8890 %\n",
      "Epoch 00225 | Loss 0.0498 | Distance Reduced 0.8889 %\n",
      "Epoch 00250 | Loss 0.0498 | Distance Reduced 0.8889 %\n",
      "Epoch 00275 | Loss 0.0500 | Distance Reduced 0.8889 %\n",
      "Epoch 00300 | Loss 0.0498 | Distance Reduced 0.8890 %\n",
      "Epoch 00325 | Loss 0.0499 | Distance Reduced 0.8891 %\n",
      "Epoch 00350 | Loss 0.0498 | Distance Reduced 0.8890 %\n",
      "Epoch 00375 | Loss 0.0498 | Distance Reduced 0.8891 %\n",
      "Epoch 00400 | Loss 0.0499 | Distance Reduced 0.8891 %\n",
      "Epoch 00425 | Loss 0.0497 | Distance Reduced 0.8891 %\n",
      "Epoch 00450 | Loss 0.0497 | Distance Reduced 0.8894 %\n",
      "Epoch 00475 | Loss 0.0498 | Distance Reduced 0.8894 %\n",
      "Testing...\n",
      "Testing Complete\n"
     ]
    }
   ],
   "source": [
    "##################################\n",
    "## Train -> Evaluation Pipeline ##\n",
    "##################################\n",
    "\n",
    "new_node_embeddings = g_train.run(g, 'pool')"
   ]
  },
  {
   "cell_type": "code",
   "execution_count": 9,
   "metadata": {},
   "outputs": [],
   "source": [
    "######################################\n",
    "## Update Predicted Node Embeddings ##\n",
    "######################################\n",
    "\n",
    "## Adding feature (not overwriting)\n",
    "\n",
    "g.ndata['feat_pred'] = new_node_embeddings\n",
    "dgl.data.utils.save_graphs('graph_csv/coco_val_graph/coco_val_graph.bin', [g])"
   ]
  }
 ],
 "metadata": {
  "kernelspec": {
   "display_name": "Python 3.8.13",
   "language": "python",
   "name": "python3"
  },
  "language_info": {
   "codemirror_mode": {
    "name": "ipython",
    "version": 3
   },
   "file_extension": ".py",
   "mimetype": "text/x-python",
   "name": "python",
   "nbconvert_exporter": "python",
   "pygments_lexer": "ipython3",
   "version": "3.8.13"
  },
  "orig_nbformat": 4,
  "vscode": {
   "interpreter": {
    "hash": "b8a98180768ec50653acfbae9679ecd2014a1d8366e4dd2cee9bea05835201d8"
   }
  }
 },
 "nbformat": 4,
 "nbformat_minor": 2
}
