{
 "cells": [
  {
   "cell_type": "markdown",
   "metadata": {},
   "source": [
    "### Notebook Setup"
   ]
  },
  {
   "cell_type": "code",
   "execution_count": 171,
   "metadata": {},
   "outputs": [],
   "source": [
    "user_net_id = 'aks9136'\n",
    "\n",
    "import warnings\n",
    "warnings.filterwarnings('ignore')\n",
    "\n",
    "import dgl \n",
    "from dgl.nn.pytorch.conv import SAGEConv\n",
    "import numpy as np \n",
    "import json \n",
    "import torch\n",
    "from tqdm import tqdm \n",
    "\n",
    "import sys\n",
    "sys.path.append('/scratch/' + user_net_id + '/NYU-Zillow-Capstone-2022-Team-A')\n",
    "import src.datamodules.SAGE as g_train"
   ]
  },
  {
   "cell_type": "markdown",
   "metadata": {},
   "source": [
    "### Part 1: Node Embedding Prediction"
   ]
  },
  {
   "cell_type": "code",
   "execution_count": 2,
   "metadata": {},
   "outputs": [
    {
     "name": "stdout",
     "output_type": "stream",
     "text": [
      "Done loading data from cached files.\n"
     ]
    }
   ],
   "source": [
    "####################################\n",
    "## Sample with Correct Formatting ##\n",
    "####################################\n",
    "\n",
    "dataset = dgl.data.CSVDataset('./graph_csv')\n",
    "g = dataset[0]\n",
    "\n",
    "embedding_length = g.ndata['feat'].size()[1]\n",
    "\n",
    "conv = SAGEConv(embedding_length, embedding_length, 'mean')\n",
    "res = conv(g, g.ndata['feat'])"
   ]
  },
  {
   "cell_type": "code",
   "execution_count": 3,
   "metadata": {},
   "outputs": [
    {
     "name": "stdout",
     "output_type": "stream",
     "text": [
      "Training...\n",
      "Epoch 00000 | Loss 0.6846 | Distance Reduced 0.0000 %\n",
      "Epoch 00025 | Loss 0.0418 | Distance Reduced 0.7027 %\n",
      "Epoch 00050 | Loss 0.0247 | Distance Reduced 0.7657 %\n",
      "Epoch 00075 | Loss 0.0218 | Distance Reduced 0.7795 %\n",
      "Epoch 00100 | Loss 0.0208 | Distance Reduced 0.7846 %\n",
      "Epoch 00125 | Loss 0.0202 | Distance Reduced 0.7874 %\n",
      "Epoch 00150 | Loss 0.0199 | Distance Reduced 0.7890 %\n",
      "Epoch 00175 | Loss 0.0198 | Distance Reduced 0.7899 %\n",
      "Epoch 00200 | Loss 0.0197 | Distance Reduced 0.7906 %\n",
      "Epoch 00225 | Loss 0.0196 | Distance Reduced 0.7910 %\n",
      "Epoch 00250 | Loss 0.0195 | Distance Reduced 0.7913 %\n",
      "Epoch 00275 | Loss 0.0195 | Distance Reduced 0.7915 %\n",
      "Epoch 00300 | Loss 0.0195 | Distance Reduced 0.7917 %\n",
      "Epoch 00325 | Loss 0.0194 | Distance Reduced 0.7919 %\n",
      "Epoch 00350 | Loss 0.0194 | Distance Reduced 0.7920 %\n",
      "Epoch 00375 | Loss 0.0194 | Distance Reduced 0.7921 %\n",
      "Epoch 00400 | Loss 0.0194 | Distance Reduced 0.7922 %\n",
      "Epoch 00425 | Loss 0.0194 | Distance Reduced 0.7923 %\n",
      "Epoch 00450 | Loss 0.0194 | Distance Reduced 0.7923 %\n",
      "Epoch 00475 | Loss 0.0194 | Distance Reduced 0.7922 %\n",
      "Testing...\n",
      "Testing Complete\n"
     ]
    }
   ],
   "source": [
    "##################################\n",
    "## Train -> Evaluation Pipeline ##\n",
    "##################################\n",
    "\n",
    "new_node_embeddings = g_train.run(g, 'pool')"
   ]
  },
  {
   "cell_type": "code",
   "execution_count": 9,
   "metadata": {},
   "outputs": [],
   "source": [
    "######################################\n",
    "## Update Predicted Node Embeddings ##\n",
    "######################################\n",
    "\n",
    "## Adding feature (not overwriting)\n",
    "\n",
    "g.ndata['feat_pred'] = new_node_embeddings\n",
    "dgl.data.utils.save_graphs('graph_csv/coco_val_graph/coco_val_graph.bin', [g])"
   ]
  },
  {
   "cell_type": "markdown",
   "metadata": {},
   "source": [
    "### Part 2: Link Prediction"
   ]
  },
  {
   "cell_type": "code",
   "execution_count": 6,
   "metadata": {},
   "outputs": [],
   "source": [
    "import scipy.sparse as sp"
   ]
  },
  {
   "cell_type": "code",
   "execution_count": 208,
   "metadata": {},
   "outputs": [],
   "source": [
    "######################\n",
    "## Data Preperation ##\n",
    "######################\n",
    "\n",
    "test_frac = 0.1\n",
    "\n",
    "## Positive Edges \n",
    "\n",
    "# Split edge set for training and testing\n",
    "u, v = g.edges()\n",
    "\n",
    "eids = np.arange(g.number_of_edges())\n",
    "eids = np.random.permutation(eids)\n",
    "test_size = int(len(eids) * test_frac)\n",
    "train_size = g.number_of_edges() - test_size\n",
    "test_pos_u, test_pos_v = u[eids[:test_size]], v[eids[:test_size]]\n",
    "train_pos_u, train_pos_v = u[eids[test_size:]], v[eids[test_size:]]"
   ]
  },
  {
   "cell_type": "code",
   "execution_count": 220,
   "metadata": {},
   "outputs": [
    {
     "name": "stderr",
     "output_type": "stream",
     "text": [
      "100%|██████████| 5000/5000 [00:00<00:00, 35365.72it/s]\n"
     ]
    }
   ],
   "source": [
    "## Negative Edges\n",
    "\n",
    "# Find all negative edges and split them for training and testing\n",
    "tag_mask = list(([1] * 80) + ([0] * 5000))\n",
    "tag_loc = torch.ByteTensor(tag_mask)\n",
    "\n",
    "shortened_adj_matrix = g.adjacency_matrix().clone().to_dense()\n",
    "shortened_adj_matrix = torch.transpose(torch.transpose(shortened_adj_matrix,0,1)[tag_loc], 0,1)\n",
    "\n",
    "for i in tqdm(range(shortened_adj_matrix.size()[1], shortened_adj_matrix.size()[0])):\n",
    "    t = shortened_adj_matrix[i]\n",
    "    new_vs = (t == 1.0).nonzero(as_tuple=False)\n",
    "    \n",
    "    try:\n",
    "        neg_v_tensor = torch.cat((neg_v_tensor, new_vs))  \n",
    "    except:\n",
    "        neg_v_tensor = new_vs\n",
    "\n",
    "\n",
    "    new_us = [i] * new_vs.size(dim=0)\n",
    "\n",
    "    try:\n",
    "        neg_u_tensor = torch.cat((neg_u_tensor, torch.Tensor(new_us)))  \n",
    "    except:\n",
    "        neg_u_tensor = torch.Tensor(new_us)\n",
    "\n",
    "neg_v_tensor = neg_v_tensor.squeeze()\n",
    "\n",
    "import random\n",
    "negative_indices = list(range(0, len(neg_v_tensor)))\n",
    "random.shuffle(negative_indices)\n",
    "\n",
    "train_indices = negative_indices[test_size:]\n",
    "test_indices = negative_indices[:test_size]\n",
    "\n",
    "test_neg_u = neg_u_tensor[test_indices]\n",
    "test_neg_v = neg_v_tensor[test_indices]\n",
    "\n",
    "train_neg_u = neg_u_tensor[train_indices]\n",
    "train_neg_v = neg_v_tensor[train_indices]\n"
   ]
  },
  {
   "cell_type": "code",
   "execution_count": null,
   "metadata": {},
   "outputs": [],
   "source": [
    "###########################\n",
    "## Create Training Graph ##\n",
    "###########################\n",
    "\n",
    "train_g = dgl.remove_edges(g, eids[:test_size])\n",
    "\n",
    "\n"
   ]
  }
 ],
 "metadata": {
  "kernelspec": {
   "display_name": "Python 3.8.13",
   "language": "python",
   "name": "python3"
  },
  "language_info": {
   "codemirror_mode": {
    "name": "ipython",
    "version": 3
   },
   "file_extension": ".py",
   "mimetype": "text/x-python",
   "name": "python",
   "nbconvert_exporter": "python",
   "pygments_lexer": "ipython3",
   "version": "3.8.13"
  },
  "orig_nbformat": 4,
  "vscode": {
   "interpreter": {
    "hash": "b8a98180768ec50653acfbae9679ecd2014a1d8366e4dd2cee9bea05835201d8"
   }
  }
 },
 "nbformat": 4,
 "nbformat_minor": 2
}
